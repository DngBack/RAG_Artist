{
 "cells": [
  {
   "cell_type": "code",
   "execution_count": 7,
   "metadata": {},
   "outputs": [],
   "source": [
    "# Set up Azure OpenAPI key \n",
    "from llama_index.llms.azure_openai import AzureOpenAI\n",
    "from llama_index.embeddings.azure_openai import AzureOpenAIEmbedding\n",
    "from llama_index.core import VectorStoreIndex, SimpleDirectoryReader\n",
    "import logging\n",
    "import sys\n",
    "\n",
    "logging.basicConfig(\n",
    "    stream=sys.stdout, level=logging.INFO\n",
    ")  # logging.DEBUG for more verbose output\n",
    "logging.getLogger().addHandler(logging.StreamHandler(stream=sys.stdout))"
   ]
  },
  {
   "cell_type": "code",
   "execution_count": 8,
   "metadata": {},
   "outputs": [],
   "source": [
    "api_key = \"0140412acf0e4f69a00b0c63c454a2e8\"\n",
    "azure_endpoint = \"https://thangtd.openai.azure.com/\"\n",
    "api_version = \"2023-03-15-preview\"\n",
    "llm = AzureOpenAI(\n",
    "    model=\"GPT35\",\n",
    "    deployment_name=\"gpt\",\n",
    "    api_key=api_key,\n",
    "    azure_endpoint=azure_endpoint,\n",
    "    api_version=api_version,\n",
    ")# You need to deploy your own embedding model as well as your own chat completion model\n",
    "embed_model = AzureOpenAIEmbedding(\n",
    "    model=\"text-embedding-ada-002\",\n",
    "    deployment_name=\"ADA002\",\n",
    "    api_key=api_key,\n",
    "    azure_endpoint=azure_endpoint,\n",
    "    api_version=api_version,\n",
    ")"
   ]
  },
  {
   "cell_type": "code",
   "execution_count": 9,
   "metadata": {},
   "outputs": [],
   "source": [
    "from llama_index.core import Settings\n",
    "\n",
    "Settings.llm = llm\n",
    "Settings.embed_model = embed_model"
   ]
  },
  {
   "cell_type": "code",
   "execution_count": 15,
   "metadata": {},
   "outputs": [],
   "source": [
    "from llama_index.core.evaluation import DatasetGenerator, QueryResponseDataset\n",
    "from llama_index.llms.openai import OpenAI\n",
    "from llama_index.embeddings.openai import OpenAIEmbedding\n",
    "from llama_index.readers.file import FlatReader, HTMLTagReader\n",
    "from llama_index.core.node_parser import HTMLNodeParser, SentenceSplitter\n",
    "from llama_index.core.ingestion import IngestionPipeline\n",
    "from llama_index.core import set_global_handler\n",
    "from llama_index.core import SimpleDirectoryReader\n",
    "from llama_index.core.node_parser import SemanticSplitterNodeParser\n",
    "\n",
    "from pathlib import Path\n",
    "\n",
    "reader = SimpleDirectoryReader(input_dir=\"data_v2/cleaned_data\")\n",
    "\n",
    "docs = reader.load_data()"
   ]
  },
  {
   "cell_type": "code",
   "execution_count": 16,
   "metadata": {},
   "outputs": [
    {
     "name": "stdout",
     "output_type": "stream",
     "text": [
      "6\n"
     ]
    }
   ],
   "source": [
    "print(len(docs))"
   ]
  },
  {
   "cell_type": "code",
   "execution_count": 18,
   "metadata": {},
   "outputs": [
    {
     "name": "stdout",
     "output_type": "stream",
     "text": [
      "INFO:httpx:HTTP Request: POST https://thangtd.openai.azure.com//openai/deployments/ADA002/embeddings?api-version=2023-03-15-preview \"HTTP/1.1 200 OK\"\n",
      "HTTP Request: POST https://thangtd.openai.azure.com//openai/deployments/ADA002/embeddings?api-version=2023-03-15-preview \"HTTP/1.1 200 OK\"\n",
      "HTTP Request: POST https://thangtd.openai.azure.com//openai/deployments/ADA002/embeddings?api-version=2023-03-15-preview \"HTTP/1.1 200 OK\"\n",
      "INFO:httpx:HTTP Request: POST https://thangtd.openai.azure.com//openai/deployments/ADA002/embeddings?api-version=2023-03-15-preview \"HTTP/1.1 200 OK\"\n",
      "HTTP Request: POST https://thangtd.openai.azure.com//openai/deployments/ADA002/embeddings?api-version=2023-03-15-preview \"HTTP/1.1 200 OK\"\n",
      "HTTP Request: POST https://thangtd.openai.azure.com//openai/deployments/ADA002/embeddings?api-version=2023-03-15-preview \"HTTP/1.1 200 OK\"\n",
      "INFO:httpx:HTTP Request: POST https://thangtd.openai.azure.com//openai/deployments/ADA002/embeddings?api-version=2023-03-15-preview \"HTTP/1.1 200 OK\"\n",
      "HTTP Request: POST https://thangtd.openai.azure.com//openai/deployments/ADA002/embeddings?api-version=2023-03-15-preview \"HTTP/1.1 200 OK\"\n",
      "HTTP Request: POST https://thangtd.openai.azure.com//openai/deployments/ADA002/embeddings?api-version=2023-03-15-preview \"HTTP/1.1 200 OK\"\n",
      "INFO:httpx:HTTP Request: POST https://thangtd.openai.azure.com//openai/deployments/ADA002/embeddings?api-version=2023-03-15-preview \"HTTP/1.1 200 OK\"\n",
      "HTTP Request: POST https://thangtd.openai.azure.com//openai/deployments/ADA002/embeddings?api-version=2023-03-15-preview \"HTTP/1.1 200 OK\"\n",
      "HTTP Request: POST https://thangtd.openai.azure.com//openai/deployments/ADA002/embeddings?api-version=2023-03-15-preview \"HTTP/1.1 200 OK\"\n",
      "INFO:httpx:HTTP Request: POST https://thangtd.openai.azure.com//openai/deployments/ADA002/embeddings?api-version=2023-03-15-preview \"HTTP/1.1 200 OK\"\n",
      "HTTP Request: POST https://thangtd.openai.azure.com//openai/deployments/ADA002/embeddings?api-version=2023-03-15-preview \"HTTP/1.1 200 OK\"\n",
      "HTTP Request: POST https://thangtd.openai.azure.com//openai/deployments/ADA002/embeddings?api-version=2023-03-15-preview \"HTTP/1.1 200 OK\"\n",
      "INFO:httpx:HTTP Request: POST https://thangtd.openai.azure.com//openai/deployments/ADA002/embeddings?api-version=2023-03-15-preview \"HTTP/1.1 200 OK\"\n",
      "HTTP Request: POST https://thangtd.openai.azure.com//openai/deployments/ADA002/embeddings?api-version=2023-03-15-preview \"HTTP/1.1 200 OK\"\n",
      "HTTP Request: POST https://thangtd.openai.azure.com//openai/deployments/ADA002/embeddings?api-version=2023-03-15-preview \"HTTP/1.1 200 OK\"\n",
      "INFO:httpx:HTTP Request: POST https://thangtd.openai.azure.com//openai/deployments/ADA002/embeddings?api-version=2023-03-15-preview \"HTTP/1.1 200 OK\"\n",
      "HTTP Request: POST https://thangtd.openai.azure.com//openai/deployments/ADA002/embeddings?api-version=2023-03-15-preview \"HTTP/1.1 200 OK\"\n",
      "HTTP Request: POST https://thangtd.openai.azure.com//openai/deployments/ADA002/embeddings?api-version=2023-03-15-preview \"HTTP/1.1 200 OK\"\n",
      "INFO:httpx:HTTP Request: POST https://thangtd.openai.azure.com//openai/deployments/ADA002/embeddings?api-version=2023-03-15-preview \"HTTP/1.1 200 OK\"\n",
      "HTTP Request: POST https://thangtd.openai.azure.com//openai/deployments/ADA002/embeddings?api-version=2023-03-15-preview \"HTTP/1.1 200 OK\"\n",
      "HTTP Request: POST https://thangtd.openai.azure.com//openai/deployments/ADA002/embeddings?api-version=2023-03-15-preview \"HTTP/1.1 200 OK\"\n",
      "INFO:httpx:HTTP Request: POST https://thangtd.openai.azure.com//openai/deployments/ADA002/embeddings?api-version=2023-03-15-preview \"HTTP/1.1 200 OK\"\n",
      "HTTP Request: POST https://thangtd.openai.azure.com//openai/deployments/ADA002/embeddings?api-version=2023-03-15-preview \"HTTP/1.1 200 OK\"\n",
      "HTTP Request: POST https://thangtd.openai.azure.com//openai/deployments/ADA002/embeddings?api-version=2023-03-15-preview \"HTTP/1.1 200 OK\"\n",
      "INFO:httpx:HTTP Request: POST https://thangtd.openai.azure.com//openai/deployments/ADA002/embeddings?api-version=2023-03-15-preview \"HTTP/1.1 200 OK\"\n",
      "HTTP Request: POST https://thangtd.openai.azure.com//openai/deployments/ADA002/embeddings?api-version=2023-03-15-preview \"HTTP/1.1 200 OK\"\n",
      "HTTP Request: POST https://thangtd.openai.azure.com//openai/deployments/ADA002/embeddings?api-version=2023-03-15-preview \"HTTP/1.1 200 OK\"\n",
      "INFO:httpx:HTTP Request: POST https://thangtd.openai.azure.com//openai/deployments/ADA002/embeddings?api-version=2023-03-15-preview \"HTTP/1.1 200 OK\"\n",
      "HTTP Request: POST https://thangtd.openai.azure.com//openai/deployments/ADA002/embeddings?api-version=2023-03-15-preview \"HTTP/1.1 200 OK\"\n",
      "HTTP Request: POST https://thangtd.openai.azure.com//openai/deployments/ADA002/embeddings?api-version=2023-03-15-preview \"HTTP/1.1 200 OK\"\n",
      "INFO:httpx:HTTP Request: POST https://thangtd.openai.azure.com//openai/deployments/ADA002/embeddings?api-version=2023-03-15-preview \"HTTP/1.1 200 OK\"\n",
      "HTTP Request: POST https://thangtd.openai.azure.com//openai/deployments/ADA002/embeddings?api-version=2023-03-15-preview \"HTTP/1.1 200 OK\"\n",
      "HTTP Request: POST https://thangtd.openai.azure.com//openai/deployments/ADA002/embeddings?api-version=2023-03-15-preview \"HTTP/1.1 200 OK\"\n",
      "INFO:httpx:HTTP Request: POST https://thangtd.openai.azure.com//openai/deployments/ADA002/embeddings?api-version=2023-03-15-preview \"HTTP/1.1 200 OK\"\n",
      "HTTP Request: POST https://thangtd.openai.azure.com//openai/deployments/ADA002/embeddings?api-version=2023-03-15-preview \"HTTP/1.1 200 OK\"\n",
      "HTTP Request: POST https://thangtd.openai.azure.com//openai/deployments/ADA002/embeddings?api-version=2023-03-15-preview \"HTTP/1.1 200 OK\"\n",
      "INFO:httpx:HTTP Request: POST https://thangtd.openai.azure.com//openai/deployments/ADA002/embeddings?api-version=2023-03-15-preview \"HTTP/1.1 200 OK\"\n",
      "HTTP Request: POST https://thangtd.openai.azure.com//openai/deployments/ADA002/embeddings?api-version=2023-03-15-preview \"HTTP/1.1 200 OK\"\n",
      "HTTP Request: POST https://thangtd.openai.azure.com//openai/deployments/ADA002/embeddings?api-version=2023-03-15-preview \"HTTP/1.1 200 OK\"\n",
      "INFO:httpx:HTTP Request: POST https://thangtd.openai.azure.com//openai/deployments/ADA002/embeddings?api-version=2023-03-15-preview \"HTTP/1.1 200 OK\"\n",
      "HTTP Request: POST https://thangtd.openai.azure.com//openai/deployments/ADA002/embeddings?api-version=2023-03-15-preview \"HTTP/1.1 200 OK\"\n",
      "HTTP Request: POST https://thangtd.openai.azure.com//openai/deployments/ADA002/embeddings?api-version=2023-03-15-preview \"HTTP/1.1 200 OK\"\n",
      "INFO:httpx:HTTP Request: POST https://thangtd.openai.azure.com//openai/deployments/ADA002/embeddings?api-version=2023-03-15-preview \"HTTP/1.1 200 OK\"\n",
      "HTTP Request: POST https://thangtd.openai.azure.com//openai/deployments/ADA002/embeddings?api-version=2023-03-15-preview \"HTTP/1.1 200 OK\"\n",
      "HTTP Request: POST https://thangtd.openai.azure.com//openai/deployments/ADA002/embeddings?api-version=2023-03-15-preview \"HTTP/1.1 200 OK\"\n",
      "INFO:httpx:HTTP Request: POST https://thangtd.openai.azure.com//openai/deployments/ADA002/embeddings?api-version=2023-03-15-preview \"HTTP/1.1 200 OK\"\n",
      "HTTP Request: POST https://thangtd.openai.azure.com//openai/deployments/ADA002/embeddings?api-version=2023-03-15-preview \"HTTP/1.1 200 OK\"\n",
      "HTTP Request: POST https://thangtd.openai.azure.com//openai/deployments/ADA002/embeddings?api-version=2023-03-15-preview \"HTTP/1.1 200 OK\"\n",
      "INFO:httpx:HTTP Request: POST https://thangtd.openai.azure.com//openai/deployments/ADA002/embeddings?api-version=2023-03-15-preview \"HTTP/1.1 200 OK\"\n",
      "HTTP Request: POST https://thangtd.openai.azure.com//openai/deployments/ADA002/embeddings?api-version=2023-03-15-preview \"HTTP/1.1 200 OK\"\n",
      "HTTP Request: POST https://thangtd.openai.azure.com//openai/deployments/ADA002/embeddings?api-version=2023-03-15-preview \"HTTP/1.1 200 OK\"\n",
      "INFO:httpx:HTTP Request: POST https://thangtd.openai.azure.com//openai/deployments/ADA002/embeddings?api-version=2023-03-15-preview \"HTTP/1.1 200 OK\"\n",
      "HTTP Request: POST https://thangtd.openai.azure.com//openai/deployments/ADA002/embeddings?api-version=2023-03-15-preview \"HTTP/1.1 200 OK\"\n",
      "HTTP Request: POST https://thangtd.openai.azure.com//openai/deployments/ADA002/embeddings?api-version=2023-03-15-preview \"HTTP/1.1 200 OK\"\n",
      "INFO:httpx:HTTP Request: POST https://thangtd.openai.azure.com//openai/deployments/ADA002/embeddings?api-version=2023-03-15-preview \"HTTP/1.1 200 OK\"\n",
      "HTTP Request: POST https://thangtd.openai.azure.com//openai/deployments/ADA002/embeddings?api-version=2023-03-15-preview \"HTTP/1.1 200 OK\"\n",
      "HTTP Request: POST https://thangtd.openai.azure.com//openai/deployments/ADA002/embeddings?api-version=2023-03-15-preview \"HTTP/1.1 200 OK\"\n",
      "INFO:httpx:HTTP Request: POST https://thangtd.openai.azure.com//openai/deployments/ADA002/embeddings?api-version=2023-03-15-preview \"HTTP/1.1 200 OK\"\n",
      "HTTP Request: POST https://thangtd.openai.azure.com//openai/deployments/ADA002/embeddings?api-version=2023-03-15-preview \"HTTP/1.1 200 OK\"\n",
      "HTTP Request: POST https://thangtd.openai.azure.com//openai/deployments/ADA002/embeddings?api-version=2023-03-15-preview \"HTTP/1.1 200 OK\"\n"
     ]
    }
   ],
   "source": [
    "from llama_index.core.node_parser import HTMLNodeParser, SentenceSplitter\n",
    "from llama_index.core.ingestion import IngestionPipeline\n",
    "from llama_index.core import set_global_handler\n",
    "\n",
    "from llama_index.core.node_parser import SemanticSplitterNodeParser\n",
    "\n",
    "\n",
    "pipeline = IngestionPipeline(\n",
    "    transformations=[\n",
    "        HTMLNodeParser.from_defaults(),\n",
    "        SemanticSplitterNodeParser(\n",
    "            buffer_size=1, breakpoint_percentile_threshold=95, embed_model=embed_model\n",
    "        ),\n",
    "        embed_model,\n",
    "    ],\n",
    ")\n",
    "nodes = pipeline.run(documents=docs)"
   ]
  },
  {
   "cell_type": "code",
   "execution_count": 19,
   "metadata": {},
   "outputs": [
    {
     "name": "stdout",
     "output_type": "stream",
     "text": [
      "19\n"
     ]
    }
   ],
   "source": [
    "print(len(nodes))"
   ]
  },
  {
   "cell_type": "code",
   "execution_count": 20,
   "metadata": {},
   "outputs": [],
   "source": [
    "# Indexing \n",
    "index = VectorStoreIndex(nodes)"
   ]
  },
  {
   "cell_type": "code",
   "execution_count": 21,
   "metadata": {},
   "outputs": [],
   "source": [
    "# Store database\n",
    "from llama_index.core import StorageContext, load_index_from_storage\n",
    "\n",
    "index.storage_context.persist(persist_dir=\"database/\")"
   ]
  },
  {
   "cell_type": "code",
   "execution_count": 22,
   "metadata": {},
   "outputs": [],
   "source": [
    "# load database \n",
    "# from llama_index.core import StorageContext, load_index_from_storage\n",
    "\n",
    "# # rebuild storage context\n",
    "# storage_context = StorageContext.from_defaults(persist_dir=\"<persist_dir>\")\n",
    "\n",
    "# # load index\n",
    "# index = load_index_from_storage(storage_context)\n"
   ]
  },
  {
   "cell_type": "code",
   "execution_count": null,
   "metadata": {},
   "outputs": [],
   "source": []
  }
 ],
 "metadata": {
  "kernelspec": {
   "display_name": "artistAssistant",
   "language": "python",
   "name": "python3"
  },
  "language_info": {
   "codemirror_mode": {
    "name": "ipython",
    "version": 3
   },
   "file_extension": ".py",
   "mimetype": "text/x-python",
   "name": "python",
   "nbconvert_exporter": "python",
   "pygments_lexer": "ipython3",
   "version": "3.12.2"
  }
 },
 "nbformat": 4,
 "nbformat_minor": 2
}
