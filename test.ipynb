{
 "cells": [
  {
   "cell_type": "code",
   "execution_count": 1,
   "metadata": {},
   "outputs": [],
   "source": [
    "from llama_index.llms.azure_openai import AzureOpenAI\n",
    "from llama_index.embeddings.azure_openai import AzureOpenAIEmbedding\n",
    "from llama_index.core import VectorStoreIndex, SimpleDirectoryReader\n",
    "import logging\n",
    "import sys\n",
    "\n",
    "logging.basicConfig(\n",
    "    stream=sys.stdout, level=logging.INFO\n",
    ")  # logging.DEBUG for more verbose output\n",
    "logging.getLogger().addHandler(logging.StreamHandler(stream=sys.stdout))"
   ]
  },
  {
   "cell_type": "code",
   "execution_count": 2,
   "metadata": {},
   "outputs": [],
   "source": [
    "api_key = \"0140412acf0e4f69a00b0c63c454a2e8\"\n",
    "azure_endpoint = \"https://thangtd.openai.azure.com/\"\n",
    "api_version = \"2023-03-15-preview\"\n",
    "llm = AzureOpenAI(\n",
    "    model=\"GPT35\",\n",
    "    deployment_name=\"gpt\",\n",
    "    api_key=api_key,\n",
    "    azure_endpoint=azure_endpoint,\n",
    "    api_version=api_version,\n",
    ")# You need to deploy your own embedding model as well as your own chat completion model\n",
    "embed_model = AzureOpenAIEmbedding(\n",
    "    model=\"text-embedding-ada-002\",\n",
    "    deployment_name=\"ADA002\",\n",
    "    api_key=api_key,\n",
    "    azure_endpoint=azure_endpoint,\n",
    "    api_version=api_version,\n",
    ")"
   ]
  },
  {
   "cell_type": "code",
   "execution_count": 3,
   "metadata": {},
   "outputs": [],
   "source": [
    "from llama_index.core import Settings\n",
    "\n",
    "Settings.llm = llm\n",
    "Settings.embed_model = embed_model"
   ]
  },
  {
   "cell_type": "code",
   "execution_count": 7,
   "metadata": {},
   "outputs": [],
   "source": [
    "from llama_index.core.evaluation import DatasetGenerator, QueryResponseDataset\n",
    "from llama_index.llms.openai import OpenAI\n",
    "from llama_index.embeddings.openai import OpenAIEmbedding\n",
    "from llama_index.readers.file import FlatReader, HTMLTagReader\n",
    "from llama_index.core.node_parser import HTMLNodeParser, SentenceSplitter\n",
    "from llama_index.core.ingestion import IngestionPipeline\n",
    "from llama_index.core import set_global_handler\n",
    "from llama_index.core import SimpleDirectoryReader\n",
    "from llama_index.core.node_parser import SemanticSplitterNodeParser\n",
    "\n",
    "from pathlib import Path\n",
    "\n",
    "reader = SimpleDirectoryReader(\"test_data/\")\n",
    "\n",
    "docs = reader.load_data()"
   ]
  },
  {
   "cell_type": "code",
   "execution_count": 8,
   "metadata": {},
   "outputs": [
    {
     "name": "stdout",
     "output_type": "stream",
     "text": [
      "1\n"
     ]
    }
   ],
   "source": [
    "print(len(docs))"
   ]
  },
  {
   "cell_type": "code",
   "execution_count": 10,
   "metadata": {},
   "outputs": [
    {
     "data": {
      "text/plain": [
       "[Document(id_='e521ded0-aeb0-460f-9f18-2a9105f034bb', embedding=None, metadata={'file_path': '/home/dngback/Desktop/artist_assistant/test_data/13400_page_1.html', 'file_name': '/home/dngback/Desktop/artist_assistant/test_data/13400_page_1.html', 'file_type': 'text/html', 'file_size': 2626, 'creation_date': '2024-03-06', 'last_modified_date': '2024-03-05'}, excluded_embed_metadata_keys=['file_name', 'file_type', 'file_size', 'creation_date', 'last_modified_date', 'last_accessed_date'], excluded_llm_metadata_keys=['file_name', 'file_type', 'file_size', 'creation_date', 'last_modified_date', 'last_accessed_date'], relationships={}, text='<div>\\n  <h1 class=\"c-ttl-article__txt\">結婚12年目「倖田來未」が明かす“夫と息子”との私生活\\u3000「親子でプロレスにハマってます」</h1>\\n  <p>\\n    今年でデビュー23年目を迎える歌手の倖田來未（40）。「前編」では、下積み時代から芸能界における浮き沈みを経験しながら、「エロかっこいい」と称される人気歌手に上り詰めるまでの半生を聞いた。そんな彼女は1月18日にMusic ＆\\n    Live Package「WINGS」をリリースした。収録曲の作曲には夫も参加しているが、今回の「後編」では主に夫や息子など家族がアーティスト・倖田來未にどのような影響を与えているかをインタビューした。\\n  </p>\\n  <p>\\n    倖田來未が1月18日に発売したMusic＆Live\\n    Package「WINGS」のメイントラックとなるミディアムバラード「Wings」のクレジットを見ると、作曲者はHi－yunk（ハイユンク）とある。これは、倖田の夫であるKENJI03の作家名義だ。\\n  </p>\\n  <p>\\n    「コンペで楽曲を集め、ラスト3曲に絞った上で、タイアップ先が『これがいい』と選んでくださったのが『Wings』でした。この曲に決まった時は、素直にうれしかったですね。私の大好きな曲だから。旦那は『倖田來未の新しい声を引き出したい』といつも考えているような人なので、今だからこそ私が歌える楽曲を、ということで完成させた曲なんです」\\n  </p>\\n  <p>\\u3000倖田は2011年12月3日、ロックバンド「BACK－ON」のKENJI03との結婚を発表。同月16日には妊娠中であることも公表した。2 人の仲を取り持ったのは、妹のmisonoだったという。倖田は夫とのなれそめをこう振り返る。\\n  </p>\\n  <p>\\n    「妹のミーモ（misonoの愛称）が当時、旦那とコラボしていて、ミーモにコラボ曲の入ったアルバムを聞かせてもらったんです。『えっ、コラボしている人、めっちゃいい声してるやん』というのが、私の第一印象。まず声に惚れました（笑）。その後、ミュージックビデオを見ると『えっ、イケメンやん』と。当時の私は夜に出歩かない時期が半年以上も続いていました。ミーモは心配して『お姉もそろそろ、ご飯を食べにとか、外に出かけた方がいいよ』と言ってくれていました。それで、外出した時に彼を紹介してもらいました」\\n  </p>\\n</div>', start_char_idx=None, end_char_idx=None, text_template='{metadata_str}\\n\\n{content}', metadata_template='{key}: {value}', metadata_seperator='\\n')]"
      ]
     },
     "execution_count": 10,
     "metadata": {},
     "output_type": "execute_result"
    }
   ],
   "source": [
    "docs"
   ]
  },
  {
   "cell_type": "code",
   "execution_count": null,
   "metadata": {},
   "outputs": [],
   "source": []
  }
 ],
 "metadata": {
  "kernelspec": {
   "display_name": "artistAssistant",
   "language": "python",
   "name": "python3"
  },
  "language_info": {
   "codemirror_mode": {
    "name": "ipython",
    "version": 3
   },
   "file_extension": ".py",
   "mimetype": "text/x-python",
   "name": "python",
   "nbconvert_exporter": "python",
   "pygments_lexer": "ipython3",
   "version": "3.12.2"
  }
 },
 "nbformat": 4,
 "nbformat_minor": 2
}
