{
 "cells": [
  {
   "cell_type": "code",
   "execution_count": 6,
   "metadata": {},
   "outputs": [],
   "source": [
    "from llama_index.llms.azure_openai import AzureOpenAI\n",
    "from llama_index.embeddings.azure_openai import AzureOpenAIEmbedding\n",
    "from llama_index.core import VectorStoreIndex, SimpleDirectoryReader\n",
    "import logging\n",
    "import sys\n",
    "\n",
    "logging.basicConfig(\n",
    "    stream=sys.stdout, level=logging.INFO\n",
    ")  # logging.DEBUG for more verbose output\n",
    "logging.getLogger().addHandler(logging.StreamHandler(stream=sys.stdout))"
   ]
  },
  {
   "cell_type": "code",
   "execution_count": 7,
   "metadata": {},
   "outputs": [],
   "source": [
    "api_key = \"e30eb1259555481b91906de4cb5a3cd5\"\n",
    "azure_endpoint = \"https://artirst-assistant.openai.azure.com/\"\n",
    "api_version = \"2024-02-15-preview\"\n",
    "llm = AzureOpenAI(\n",
    "    model=\"gpt-3.5-turbo-instruct\",\n",
    "    deployment_name=\"35instruct\",\n",
    "    api_key=api_key,\n",
    "    azure_endpoint=azure_endpoint,\n",
    "    api_version=api_version,\n",
    ")# You need to deploy your own embedding model as well as your own chat completion model\n",
    "embed_model = AzureOpenAIEmbedding(\n",
    "    model=\"text-embedding-ada-002\",\n",
    "    deployment_name=\"emb3large\",\n",
    "    api_key=api_key,\n",
    "    azure_endpoint=azure_endpoint,\n",
    "    api_version=api_version,\n",
    ")"
   ]
  },
  {
   "cell_type": "code",
   "execution_count": 8,
   "metadata": {},
   "outputs": [],
   "source": [
    "from llama_index.core import Settings\n",
    "\n",
    "Settings.llm = llm\n",
    "Settings.embed_model = embed_model"
   ]
  },
  {
   "cell_type": "code",
   "execution_count": 9,
   "metadata": {},
   "outputs": [],
   "source": [
    "from llama_index.core.evaluation import DatasetGenerator, QueryResponseDataset\n",
    "from llama_index.llms.openai import OpenAI\n",
    "from llama_index.embeddings.openai import OpenAIEmbedding\n",
    "from llama_index.readers.file import FlatReader, HTMLTagReader\n",
    "from llama_index.core.node_parser import HTMLNodeParser, SentenceSplitter\n",
    "from llama_index.core.ingestion import IngestionPipeline\n",
    "from llama_index.core import set_global_handler\n",
    "from llama_index.core import SimpleDirectoryReader\n",
    "from llama_index.core.node_parser import SemanticSplitterNodeParser\n",
    "\n",
    "from pathlib import Path\n",
    "\n",
    "reader = SimpleDirectoryReader(\"test_data/\")\n",
    "\n",
    "docs = reader.load_data()"
   ]
  },
  {
   "cell_type": "code",
   "execution_count": 6,
   "metadata": {},
   "outputs": [
    {
     "name": "stdout",
     "output_type": "stream",
     "text": [
      "1\n"
     ]
    }
   ],
   "source": [
    "print(len(docs))"
   ]
  },
  {
   "cell_type": "code",
   "execution_count": 7,
   "metadata": {},
   "outputs": [
    {
     "data": {
      "text/plain": [
       "[Document(id_='ece0de1c-27df-4aa7-944f-554e783e794a', embedding=None, metadata={'file_path': '/home/dngback/Desktop/artist_assistant/test_data/13400_page_1.html', 'file_name': '/home/dngback/Desktop/artist_assistant/test_data/13400_page_1.html', 'file_type': 'text/html', 'file_size': 2626, 'creation_date': '2024-03-06', 'last_modified_date': '2024-03-05'}, excluded_embed_metadata_keys=['file_name', 'file_type', 'file_size', 'creation_date', 'last_modified_date', 'last_accessed_date'], excluded_llm_metadata_keys=['file_name', 'file_type', 'file_size', 'creation_date', 'last_modified_date', 'last_accessed_date'], relationships={}, text='<div>\\n  <h1 class=\"c-ttl-article__txt\">結婚12年目「倖田來未」が明かす“夫と息子”との私生活\\u3000「親子でプロレスにハマってます」</h1>\\n  <p>\\n    今年でデビュー23年目を迎える歌手の倖田來未（40）。「前編」では、下積み時代から芸能界における浮き沈みを経験しながら、「エロかっこいい」と称される人気歌手に上り詰めるまでの半生を聞いた。そんな彼女は1月18日にMusic ＆\\n    Live Package「WINGS」をリリースした。収録曲の作曲には夫も参加しているが、今回の「後編」では主に夫や息子など家族がアーティスト・倖田來未にどのような影響を与えているかをインタビューした。\\n  </p>\\n  <p>\\n    倖田來未が1月18日に発売したMusic＆Live\\n    Package「WINGS」のメイントラックとなるミディアムバラード「Wings」のクレジットを見ると、作曲者はHi－yunk（ハイユンク）とある。これは、倖田の夫であるKENJI03の作家名義だ。\\n  </p>\\n  <p>\\n    「コンペで楽曲を集め、ラスト3曲に絞った上で、タイアップ先が『これがいい』と選んでくださったのが『Wings』でした。この曲に決まった時は、素直にうれしかったですね。私の大好きな曲だから。旦那は『倖田來未の新しい声を引き出したい』といつも考えているような人なので、今だからこそ私が歌える楽曲を、ということで完成させた曲なんです」\\n  </p>\\n  <p>\\u3000倖田は2011年12月3日、ロックバンド「BACK－ON」のKENJI03との結婚を発表。同月16日には妊娠中であることも公表した。2 人の仲を取り持ったのは、妹のmisonoだったという。倖田は夫とのなれそめをこう振り返る。\\n  </p>\\n  <p>\\n    「妹のミーモ（misonoの愛称）が当時、旦那とコラボしていて、ミーモにコラボ曲の入ったアルバムを聞かせてもらったんです。『えっ、コラボしている人、めっちゃいい声してるやん』というのが、私の第一印象。まず声に惚れました（笑）。その後、ミュージックビデオを見ると『えっ、イケメンやん』と。当時の私は夜に出歩かない時期が半年以上も続いていました。ミーモは心配して『お姉もそろそろ、ご飯を食べにとか、外に出かけた方がいいよ』と言ってくれていました。それで、外出した時に彼を紹介してもらいました」\\n  </p>\\n</div>', start_char_idx=None, end_char_idx=None, text_template='{metadata_str}\\n\\n{content}', metadata_template='{key}: {value}', metadata_seperator='\\n')]"
      ]
     },
     "execution_count": 7,
     "metadata": {},
     "output_type": "execute_result"
    }
   ],
   "source": [
    "docs"
   ]
  },
  {
   "cell_type": "code",
   "execution_count": 8,
   "metadata": {},
   "outputs": [
    {
     "name": "stdout",
     "output_type": "stream",
     "text": [
      "INFO:httpx:HTTP Request: POST https://artirst-assistant.openai.azure.com//openai/deployments/emb3large/embeddings?api-version=2024-02-15-preview \"HTTP/1.1 200 OK\"\n",
      "HTTP Request: POST https://artirst-assistant.openai.azure.com//openai/deployments/emb3large/embeddings?api-version=2024-02-15-preview \"HTTP/1.1 200 OK\"\n"
     ]
    }
   ],
   "source": [
    "# Indexing documentation \n",
    "index = VectorStoreIndex.from_documents(docs)"
   ]
  },
  {
   "cell_type": "code",
   "execution_count": 12,
   "metadata": {},
   "outputs": [
    {
     "name": "stdout",
     "output_type": "stream",
     "text": [
      "INFO:httpx:HTTP Request: POST https://artirst-assistant.openai.azure.com//openai/deployments/emb3large/embeddings?api-version=2024-02-15-preview \"HTTP/1.1 200 OK\"\n",
      "HTTP Request: POST https://artirst-assistant.openai.azure.com//openai/deployments/emb3large/embeddings?api-version=2024-02-15-preview \"HTTP/1.1 200 OK\"\n",
      "INFO:httpx:HTTP Request: POST https://artirst-assistant.openai.azure.com//openai/deployments/35instruct/completions?api-version=2024-02-15-preview \"HTTP/1.1 200 OK\"\n",
      "HTTP Request: POST https://artirst-assistant.openai.azure.com//openai/deployments/35instruct/completions?api-version=2024-02-15-preview \"HTTP/1.1 200 OK\"\n",
      "12年目\n"
     ]
    }
   ],
   "source": [
    "query_engine = index.as_query_engine()\n",
    "response = query_engine.query(\"倖田來未さんは結婚して何年目ですか？\")\n",
    "print(response)"
   ]
  },
  {
   "cell_type": "code",
   "execution_count": 17,
   "metadata": {},
   "outputs": [
    {
     "name": "stdout",
     "output_type": "stream",
     "text": [
      "INFO:httpx:HTTP Request: POST https://artirst-assistant.openai.azure.com//openai/deployments/emb3large/embeddings?api-version=2024-02-15-preview \"HTTP/1.1 200 OK\"\n",
      "HTTP Request: POST https://artirst-assistant.openai.azure.com//openai/deployments/emb3large/embeddings?api-version=2024-02-15-preview \"HTTP/1.1 200 OK\"\n",
      "INFO:httpx:HTTP Request: POST https://artirst-assistant.openai.azure.com//openai/deployments/35instruct/completions?api-version=2024-02-15-preview \"HTTP/1.1 200 OK\"\n",
      "HTTP Request: POST https://artirst-assistant.openai.azure.com//openai/deployments/35instruct/completions?api-version=2024-02-15-preview \"HTTP/1.1 200 OK\"\n",
      "\n",
      "Koda Kumi is a 40-year-old singer who has been in the music industry for 23 years.\n"
     ]
    }
   ],
   "source": [
    "query_engine = index.as_query_engine()\n",
    "response = query_engine.query(\"Who is Koda Kumi and how long has she been in the music industry?\")\n",
    "print(response)"
   ]
  },
  {
   "cell_type": "code",
   "execution_count": 16,
   "metadata": {},
   "outputs": [
    {
     "name": "stdout",
     "output_type": "stream",
     "text": [
      "INFO:httpx:HTTP Request: POST https://artirst-assistant.openai.azure.com//openai/deployments/emb3large/embeddings?api-version=2024-02-15-preview \"HTTP/1.1 200 OK\"\n",
      "HTTP Request: POST https://artirst-assistant.openai.azure.com//openai/deployments/emb3large/embeddings?api-version=2024-02-15-preview \"HTTP/1.1 200 OK\"\n",
      "INFO:httpx:HTTP Request: POST https://artirst-assistant.openai.azure.com//openai/deployments/35instruct/completions?api-version=2024-02-15-preview \"HTTP/1.1 200 OK\"\n",
      "HTTP Request: POST https://artirst-assistant.openai.azure.com//openai/deployments/35instruct/completions?api-version=2024-02-15-preview \"HTTP/1.1 200 OK\"\n",
      "\n",
      "倖田來未は歌手であり、今年でデビュー23年目を迎えています。\n"
     ]
    }
   ],
   "source": [
    "query_engine = index.as_query_engine()\n",
    "response = query_engine.query(\"倖田來未とは何者で、音楽業界でどれくらい働いていますか?\")\n",
    "print(response)"
   ]
  },
  {
   "cell_type": "markdown",
   "metadata": {},
   "source": [
    "---"
   ]
  },
  {
   "cell_type": "markdown",
   "metadata": {},
   "source": [
    "### Test Part 2: Deeper"
   ]
  },
  {
   "cell_type": "code",
   "execution_count": 1,
   "metadata": {},
   "outputs": [],
   "source": [
    "from llama_index.llms.azure_openai import AzureOpenAI\n",
    "from llama_index.embeddings.azure_openai import AzureOpenAIEmbedding\n",
    "from llama_index.core import VectorStoreIndex, SimpleDirectoryReader\n",
    "import logging\n",
    "import sys\n",
    "\n",
    "logging.basicConfig(\n",
    "    stream=sys.stdout, level=logging.INFO\n",
    ")  # logging.DEBUG for more verbose output\n",
    "logging.getLogger().addHandler(logging.StreamHandler(stream=sys.stdout))"
   ]
  },
  {
   "cell_type": "code",
   "execution_count": 2,
   "metadata": {},
   "outputs": [],
   "source": [
    "api_key = \"a83e2f795b9f4aada15fba7f6594d216\"\n",
    "azure_endpoint = \"https://artist-assistant-uk-south.openai.azure.com/\"\n",
    "api_version = \"2024-02-15-preview\"\n",
    "llm = AzureOpenAI(\n",
    "    model=\"gpt-35-turbo-16k\",\n",
    "    deployment_name=\"35turbo16k\",\n",
    "    api_key=api_key,\n",
    "    azure_endpoint=azure_endpoint,\n",
    "    api_version=api_version,\n",
    ")# You need to deploy your own embedding model as well as your own chat completion model\n",
    "embed_model = AzureOpenAIEmbedding(\n",
    "    model=\"text-embedding-ada-002\",\n",
    "    deployment_name=\"ada2\",\n",
    "    api_key=api_key,\n",
    "    azure_endpoint=azure_endpoint,\n",
    "    api_version=api_version,\n",
    ")"
   ]
  },
  {
   "cell_type": "code",
   "execution_count": 3,
   "metadata": {},
   "outputs": [],
   "source": [
    "from llama_index.core import Settings\n",
    "\n",
    "Settings.llm = llm\n",
    "Settings.embed_model = embed_model"
   ]
  },
  {
   "cell_type": "code",
   "execution_count": 9,
   "metadata": {},
   "outputs": [
    {
     "name": "stdout",
     "output_type": "stream",
     "text": [
      "INFO:httpx:HTTP Request: POST https://artist-assistant-uk-south.openai.azure.com//openai/deployments/ada2/embeddings?api-version=2024-02-15-preview \"HTTP/1.1 200 OK\"\n",
      "HTTP Request: POST https://artist-assistant-uk-south.openai.azure.com//openai/deployments/ada2/embeddings?api-version=2024-02-15-preview \"HTTP/1.1 200 OK\"\n",
      "INFO:httpx:HTTP Request: POST https://artist-assistant-uk-south.openai.azure.com//openai/deployments/ada2/embeddings?api-version=2024-02-15-preview \"HTTP/1.1 200 OK\"\n",
      "HTTP Request: POST https://artist-assistant-uk-south.openai.azure.com//openai/deployments/ada2/embeddings?api-version=2024-02-15-preview \"HTTP/1.1 200 OK\"\n"
     ]
    }
   ],
   "source": [
    "from llama_index.embeddings.openai import OpenAIEmbedding\n",
    "from llama_index.core.node_parser import HTMLNodeParser, SentenceSplitter\n",
    "from llama_index.core.ingestion import IngestionPipeline\n",
    "from llama_index.core import set_global_handler\n",
    "\n",
    "from llama_index.core.node_parser import SemanticSplitterNodeParser\n",
    "\n",
    "from pathlib import Path\n",
    "\n",
    "reader = SimpleDirectoryReader(\"datanotclean/\")\n",
    "\n",
    "docs = reader.load_data()\n",
    "\n",
    "\n",
    "pipeline = IngestionPipeline(\n",
    "    transformations=[\n",
    "        HTMLNodeParser.from_defaults(tags=[\"p\", \"h1\", \"br\"]),\n",
    "        SemanticSplitterNodeParser(\n",
    "            buffer_size=1, breakpoint_percentile_threshold=95, embed_model=embed_model\n",
    "        ),\n",
    "        embed_model,\n",
    "    ],\n",
    ")\n",
    "nodes = pipeline.run(documents=docs)"
   ]
  },
  {
   "cell_type": "code",
   "execution_count": 10,
   "metadata": {},
   "outputs": [
    {
     "name": "stdout",
     "output_type": "stream",
     "text": [
      "2\n"
     ]
    }
   ],
   "source": [
    "print(len(nodes))"
   ]
  },
  {
   "cell_type": "code",
   "execution_count": 11,
   "metadata": {},
   "outputs": [
    {
     "name": "stdout",
     "output_type": "stream",
     "text": [
      "Node ID: 384853be-0267-4f77-b286-477c705f91c7\n",
      "Text: アーティスト名:倖田 來未(Koda Kumi) 生年月日: 1982年 11月13日 出身地:京都府\n",
      "2000年11月「TAKE BACK」にて全米デビュー。 全米ビルボードダンスチャートで最高位18位を記録。\n",
      "日本では同曲で2000年12月にデビュー。 続くセカンドシングル「Trust Your Love」のremix盤は全米ビルボード総合\n",
      "チャートでも最高位19位を獲得し、日本人7人目のランクインの快挙となる。\n",
      "2005年、06年にそれぞれ発売したベストアルバムはいずれも200万枚を突破\n",
      "2007年12月には東京ドームでの単独公演を開催し、大成功を収めた。 2008年6月発売した「MOON」ではブラック・\n",
      "アイド・ピーズ“ファーギー”とのコラボレーション曲「That Ain't ...\n",
      "-----------------------\n",
      "Node ID: 89a2ff33-0d18-43ae-bf6b-4146665e4c1d\n",
      "Text:\n",
      "-----------------------\n"
     ]
    }
   ],
   "source": [
    "for node in nodes: \n",
    "    print(node)\n",
    "    print(\"-----------------------\")"
   ]
  },
  {
   "cell_type": "code",
   "execution_count": 14,
   "metadata": {},
   "outputs": [
    {
     "name": "stdout",
     "output_type": "stream",
     "text": [
      "アーティスト名:倖田 來未(Koda Kumi)\n",
      "生年月日: 1982年 11月13日\n",
      "出身地:京都府\n",
      "2000年11月「TAKE BACK」にて全米デビュー。\n",
      "全米ビルボードダンスチャートで最高位18位を記録。\n",
      "日本では同曲で2000年12月にデビュー。\n",
      "続くセカンドシングル「Trust Your Love」のremix盤は全米ビルボード総合 チャートでも最高位19位を獲得し、日本人7人目のランクインの快挙となる。\n",
      "2005年、06年にそれぞれ発売したベストアルバムはいずれも200万枚を突破\n",
      "2007年12月には東京ドームでの単独公演を開催し、大成功を収めた。\n",
      "2008年6月発売した「MOON」ではブラック・ アイド・ピーズ“ファーギー”とのコラボレーション曲「That Ain't Cool“PUSHIM（プシン）”作詞/作曲のラバーズ・レゲエ、他一曲と、海外ビッグアーティストを迎えての4曲入りマキシシングルをリリース。\n",
      "2009年3月には実妹であるmisonoとのコラボレーション曲「It' s all Love!」を 発表、兄弟・姉妹では史上初となる初登場1位を獲得。\n",
      "同5月東京・国立代々木競技場第一体育館にて全国ツアー『Koda Kumi Live Tour 2009-TRICK-』を開催し、人気米歌手・ファーギー率いるブラック・アイド・ピーズがサプライズ参加。2008年に発表したコラボ楽曲「That Ain’t Cool」を熱唱するなど、一夜限りのパフォーマンスで観客を熱狂の渦へと誘った。\n",
      "同７月には、日本を代表するファッション誌「ViVi」の誌面にて、08年に引き続き、海外ビッグアーティストのLady Gagaとコラボレーションし対談が実現。\n",
      "同10月には海外では初めて、台湾にてワンマンライブを行った。\n",
      "2006年～09年までベストトジーニスト賞を4年連続受賞、08年にはネイルクイーン 「アーティスト部門」の3年連続受賞・殿堂入りを果たす。\n",
      "2010年2月に発売したアルバム『BEST～ third universe～ & 8th AL \"UNIVERSE\"』がオリコン・ウイークリーランキング1位を獲得。\n",
      "7月には日本人女性アーティストと しては初となる横浜スタジアム2DAYSのライブを成功させ、その模様が音楽ライブとして日本で初めて3D生放送された。\n",
      "2010年10月、初のカバーアルバム『ETERNITY ～Love & Songs～』をリリース。東京、大阪でそれぞれ計4日間、計16公演に渡り初のビルボードライブを開催。 同12月、東京ドームにて10周年最後のライブ「KODA KUMI 10th Anniversary ～FANTASIA～」を開催。邦楽ソロ女性アーティスト7人目。2007年以来、2度目の 公演を慣行し47,000人動員のチケットが即完。大成功を収める。\n",
      "2011年3月、9枚目のオリジナルアルバム「Dejavu」リリース。オリコンウィークリー ランキング1位を獲得。同4月、約4年ぶりの全国ホールツアー「Koda Kumi Live Tour 2011 ～Dejavu～」を開催。各地軒並みSOLD OUT。\n",
      "同5月、10周年を記念して東京ドームにて行われたライブ映像「KODA KUMI 10th Anniversary ～FANTASIA～」をリリース。オリコンウィークリーランキング1位 を獲得し、「通算首位獲得数」「首位獲得連続年数」、「作品別歴代DVD女性ソロアーティ スト累積売上1位」の3冠達成。\n",
      "2012年1月、10枚目のオリジナルアルバム「JAPONESQUE」をリリース。オリコンウィークリーランキング1位を獲得。「アルバム首位連続年数」でソロ歴代３位の快挙を成し遂げる。更に、10月24日には53枚目となるニュー・シングル「Go to the top」を発売。TVアニメ「トータル・イクリプス」のオープニングテーマ曲として抜擢。\n",
      "また、11月7日の大阪城ホールを皮切りに東京、名古屋、福島にてプレミアムライブ「Koda Kumi Premium Night～Love & Songs～」を開催。\n",
      "2012年12月、2007年に発売した「愛のうた」に続く極上のラブバラードソング「恋しくて」をリリース。\n",
      "2013年2月には2作目となるカバーアルバム「Color The Cover」を発売。初回生産盤には、日本を代表するフォトグラファーの蜷川 実花氏が撮り下ろしたフォトブックレット、そして自身初となるドキュメンタリー映像をDVDに収録。\n",
      "2013年7月、55枚目となる約2年ぶりのサマーシングル「Summer Trip」をリリースし、同9月、シングル購入者限定ミニライブを自身初の日比谷野外音楽堂で開催した。\n",
      "31歳の誕生日を迎えた11月13日には、グラチャンバレー2013のテーマソング「Dreaming Now!」を発売。また、同年12月4日に発売した最新ライブ映像「KODA KUMI LIVE TOUR 2013 ～JAPONESQUE～」では、12/16付週間DVDランキング（集計期間：12月2日～8日）に初登場し、ミュージックDVD部門通算首位獲得数（ソロアーティスト部門）、連続首位獲得年数(全アーティスト対象)ともに１位を獲得した。 2014年2月26日には11枚目となるオリジナルアルバム「Bon Voyage」を発売。オリコン初登場1位を記録する。同アルバムを携えて回る２ヶ国51公演のツアー「KODA KUMI LIVE TOUR 2014 ～Bon Voyage～」を開催中。 8月16日に台湾公演でファイナルを迎える。\n",
      "2014年8月6日には、最新サマーシングル「HOTEL」をリリースする。11月、自身初のデジタル・シングル「Dance In The Rain」をリリース。\n",
      "世界初となるオキュラスリフトを使用したMVを発表し、話題を呼んだ。\n",
      "2015年、デビュー15周年イヤーとして「Koda Kumi 15th Anniversary Live Tour 2015～WALK OF MY LIFE～」と「KODA KUMI 15th Anniversary LIVE The Artist」の2本の記念ライブ、初のコレクションアルバム「SUMMER of LOVE」・「WINTER of LOVE」の2枚をリリース。\n",
      "さらに2016年は、アーティスト活動16年目のリスタートとして\n",
      "自身初の47都道府県59公演のベストシングルコレクションツアーを敢行した。\n",
      "自身の活動だけではなく国内外のアーティストとコラボレーションを積極的に行う中、写真集やフォトエッセイ等、アーティスト活動のみならずファッションアイコンとしても幅広い活動を行っている。これまでにシングル59枚、オリジナル・アルバム12枚、ベスト・アルバム4枚、カバー・アルバム2枚、コレクションアルバム2枚、ライブDVD20枚をリリース。\n",
      "2017年の活動としては、3月8日（水）に「二面性」をコンセプトにした\n",
      "ニューアルバム『W FACE ～inside～』『W FACE ～outside～』を発売。\n",
      "4月5日（水）には、累計30万枚以上をセールスを記録したメガヒットシリーズ\n",
      "「Driving Hit's 7」の発売決定。\n",
      "2年連続、最多公演47都道府県ツアー「KODA KUMI LIVE TOUR 2017 ～W FACE～」開催。\n",
      "2018年2月、オリジナルアルバム「AND」をリリースし、ファンクラブ会員限定ライブハウスツアー『Koda Kumi Fanclub Tour ～AND～』を開催。\n",
      "6月、オリジナルアルバム「DNA」をリリースし、「KODA KUMI LIVE TOUR 2018 ～DNA～」を開催し、初のカウントダウンライブを大阪グランキューブにて開催。\n",
      "2019年には、2007年に開催した「Black Cherry」2013年に開催した「JAPONESQUE」を2019年版に進化させ、復刻ライヴ（「KODA KUMI LIVE TOUR 2019 re(LIVE)」）を開催。\n",
      "滞在型LIVE＆1日2公演別の演目を開催という新たな挑戦をした。\n",
      "2020年新型ウイルスの影響で通常通りの開催とはいかなかったが、ガイドラインに基づき5年振りのアリーナツアー「KODA KUMI 20th ANNIVERSARY TOUR 2020 MY NAME IS…」を開催。\n",
      "倖田來未完全プロデューススキンケアブランド「HEMMY K.」を設立。\n",
      "2021年6月からは自身初となるトークショー「KODA KUMI 20th ANNIVERSARY ～Special Talk Show～」を開催。\n",
      "2021年6月、ダイエットサプリメント「KILLER BURNER」の販売を開始。\n",
      "2022年には、約4年振りにバンド編成ライブ「KODA KUMI Love & Songs 2022」を開催。そして自身初となるオーケストラ ライブ「billboard classics KODA KUMI Premium Symphonic Concert 2022」を開催。\n",
      "2023年3月～7月には、2つの異なる演目を1日で2公演実施する全国ツアー「KODA KUMI LIVE TOUR 2023 ～angeL & monsteR～」を開催。\n",
      "仮面ライダーギーツの主題歌に起用された倖田來未 × 湘南乃風「Trust・Last」がオリコン週間デジタルシングルラインキング初登場1位、Billboard JAPAN “Download Songs” 初登場1位を記録した。\n",
      "\n"
     ]
    }
   ],
   "source": [
    "for node in nodes: \n",
    "    print(node.text)"
   ]
  },
  {
   "cell_type": "code",
   "execution_count": 30,
   "metadata": {},
   "outputs": [],
   "source": [
    "# Indexing \n",
    "index = VectorStoreIndex(nodes)"
   ]
  },
  {
   "cell_type": "code",
   "execution_count": 1,
   "metadata": {},
   "outputs": [],
   "source": [
    "# # Store database\n",
    "# from llama_index.core import StorageContext, load_index_from_storage\n",
    "\n",
    "# index.storage_context.persist(persist_dir=\"database/\")"
   ]
  },
  {
   "cell_type": "code",
   "execution_count": 7,
   "metadata": {},
   "outputs": [
    {
     "name": "stdout",
     "output_type": "stream",
     "text": [
      "INFO:llama_index.core.indices.loading:Loading all indices.\n",
      "Loading all indices.\n"
     ]
    }
   ],
   "source": [
    "# Load Database\n",
    "from llama_index.core import StorageContext, load_index_from_storage\n",
    "\n",
    "# rebuild storage context\n",
    "storage_context = StorageContext.from_defaults(persist_dir=\"database/\")\n",
    "\n",
    "# load index\n",
    "index = load_index_from_storage(storage_context)\n"
   ]
  },
  {
   "cell_type": "code",
   "execution_count": 8,
   "metadata": {},
   "outputs": [
    {
     "name": "stdout",
     "output_type": "stream",
     "text": [
      "INFO:httpx:HTTP Request: POST https://artist-assistant-uk-south.openai.azure.com//openai/deployments/ada2/embeddings?api-version=2024-02-15-preview \"HTTP/1.1 200 OK\"\n",
      "HTTP Request: POST https://artist-assistant-uk-south.openai.azure.com//openai/deployments/ada2/embeddings?api-version=2024-02-15-preview \"HTTP/1.1 200 OK\"\n",
      "INFO:httpx:HTTP Request: POST https://artist-assistant-uk-south.openai.azure.com//openai/deployments/35turbo16k/chat/completions?api-version=2024-02-15-preview \"HTTP/1.1 200 OK\"\n",
      "HTTP Request: POST https://artist-assistant-uk-south.openai.azure.com//openai/deployments/35turbo16k/chat/completions?api-version=2024-02-15-preview \"HTTP/1.1 200 OK\"\n",
      "倖田來未さんは結婚して12年目です。\n"
     ]
    }
   ],
   "source": [
    "from llama_index.core import VectorStoreIndex, get_response_synthesizer\n",
    "from llama_index.core.retrievers import VectorIndexRetriever\n",
    "from llama_index.core.query_engine import RetrieverQueryEngine\n",
    "from llama_index.core.postprocessor import SimilarityPostprocessor\n",
    "\n",
    "\n",
    "query_engine = index.as_query_engine()\n",
    "response = query_engine.query(\n",
    "    \"倖田來未さんは結婚して何年目ですか？\"\n",
    ")\n",
    "print(response)"
   ]
  },
  {
   "cell_type": "code",
   "execution_count": 33,
   "metadata": {},
   "outputs": [
    {
     "name": "stdout",
     "output_type": "stream",
     "text": [
      "INFO:httpx:HTTP Request: POST https://artist-assistant-uk-south.openai.azure.com//openai/deployments/ada2/embeddings?api-version=2024-02-15-preview \"HTTP/1.1 200 OK\"\n",
      "HTTP Request: POST https://artist-assistant-uk-south.openai.azure.com//openai/deployments/ada2/embeddings?api-version=2024-02-15-preview \"HTTP/1.1 200 OK\"\n",
      "HTTP Request: POST https://artist-assistant-uk-south.openai.azure.com//openai/deployments/ada2/embeddings?api-version=2024-02-15-preview \"HTTP/1.1 200 OK\"\n",
      "HTTP Request: POST https://artist-assistant-uk-south.openai.azure.com//openai/deployments/ada2/embeddings?api-version=2024-02-15-preview \"HTTP/1.1 200 OK\"\n",
      "HTTP Request: POST https://artist-assistant-uk-south.openai.azure.com//openai/deployments/ada2/embeddings?api-version=2024-02-15-preview \"HTTP/1.1 200 OK\"\n",
      "INFO:httpx:HTTP Request: POST https://artist-assistant-uk-south.openai.azure.com//openai/deployments/35turbo16k/chat/completions?api-version=2024-02-15-preview \"HTTP/1.1 200 OK\"\n",
      "HTTP Request: POST https://artist-assistant-uk-south.openai.azure.com//openai/deployments/35turbo16k/chat/completions?api-version=2024-02-15-preview \"HTTP/1.1 200 OK\"\n",
      "HTTP Request: POST https://artist-assistant-uk-south.openai.azure.com//openai/deployments/35turbo16k/chat/completions?api-version=2024-02-15-preview \"HTTP/1.1 200 OK\"\n",
      "HTTP Request: POST https://artist-assistant-uk-south.openai.azure.com//openai/deployments/35turbo16k/chat/completions?api-version=2024-02-15-preview \"HTTP/1.1 200 OK\"\n",
      "HTTP Request: POST https://artist-assistant-uk-south.openai.azure.com//openai/deployments/35turbo16k/chat/completions?api-version=2024-02-15-preview \"HTTP/1.1 200 OK\"\n",
      "倖田來未さんは結婚して12年目です。\n"
     ]
    }
   ],
   "source": [
    "# configure retriever\n",
    "retriever = VectorIndexRetriever(\n",
    "    index=index,\n",
    "    similarity_top_k=10,\n",
    ")\n",
    "\n",
    "# configure response synthesizer\n",
    "response_synthesizer = get_response_synthesizer()\n",
    "\n",
    "# assemble query engine\n",
    "query_engine = RetrieverQueryEngine(\n",
    "    retriever=retriever,\n",
    "    response_synthesizer=response_synthesizer,\n",
    ")\n",
    "\n",
    "# query\n",
    "response = query_engine.query(\"倖田來未さんは結婚して何年目ですか？\")\n",
    "print(response)"
   ]
  },
  {
   "cell_type": "code",
   "execution_count": 39,
   "metadata": {},
   "outputs": [
    {
     "name": "stdout",
     "output_type": "stream",
     "text": [
      "[NodeWithScore(node=TextNode(id_='f73f756a-917b-47d2-b263-1453265c31e2', embedding=None, metadata={'tag': 'h1', 'file_path': '/home/dngback/Desktop/artist_assistant/test_data/13400_page_1.html', 'file_name': '/home/dngback/Desktop/artist_assistant/test_data/13400_page_1.html', 'file_type': 'text/html', 'file_size': 2626, 'creation_date': '2024-03-06', 'last_modified_date': '2024-03-05'}, excluded_embed_metadata_keys=['file_name', 'file_type', 'file_size', 'creation_date', 'last_modified_date', 'last_accessed_date'], excluded_llm_metadata_keys=['file_name', 'file_type', 'file_size', 'creation_date', 'last_modified_date', 'last_accessed_date'], relationships={<NodeRelationship.SOURCE: '1'>: RelatedNodeInfo(node_id='4c6ce9c3-c849-4146-9fc1-20a65f9396c0', node_type=<ObjectType.TEXT: '1'>, metadata={'tag': 'h1', 'file_path': '/home/dngback/Desktop/artist_assistant/test_data/13400_page_1.html', 'file_name': '/home/dngback/Desktop/artist_assistant/test_data/13400_page_1.html', 'file_type': 'text/html', 'file_size': 2626, 'creation_date': '2024-03-06', 'last_modified_date': '2024-03-05'}, hash='6a3aad33f7b9be0618cc6f61ca048fde37484ff009bbadda42ca1e4c3d31b303'), <NodeRelationship.NEXT: '3'>: RelatedNodeInfo(node_id='a4ece099-72c5-4859-a9c2-2ed4ccb14ee4', node_type=<ObjectType.TEXT: '1'>, metadata={}, hash='f1b93f0a481b9722fc0c1492bd6234108a2c065aa786e7bbabdf6d1046846d5c')}, text='結婚12年目「倖田來未」が明かす“夫と息子”との私生活\\u3000「親子でプロレスにハマってます」', start_char_idx=0, end_char_idx=44, text_template='{metadata_str}\\n\\n{content}', metadata_template='{key}: {value}', metadata_seperator='\\n'), score=0.8430231363802213), NodeWithScore(node=TextNode(id_='a4ece099-72c5-4859-a9c2-2ed4ccb14ee4', embedding=None, metadata={'tag': 'p', 'file_path': '/home/dngback/Desktop/artist_assistant/test_data/13400_page_1.html', 'file_name': '/home/dngback/Desktop/artist_assistant/test_data/13400_page_1.html', 'file_type': 'text/html', 'file_size': 2626, 'creation_date': '2024-03-06', 'last_modified_date': '2024-03-05'}, excluded_embed_metadata_keys=['file_name', 'file_type', 'file_size', 'creation_date', 'last_modified_date', 'last_accessed_date'], excluded_llm_metadata_keys=['file_name', 'file_type', 'file_size', 'creation_date', 'last_modified_date', 'last_accessed_date'], relationships={<NodeRelationship.SOURCE: '1'>: RelatedNodeInfo(node_id='95ee725e-dee5-4b17-88a5-64548c174c0e', node_type=<ObjectType.TEXT: '1'>, metadata={'tag': 'p', 'file_path': '/home/dngback/Desktop/artist_assistant/test_data/13400_page_1.html', 'file_name': '/home/dngback/Desktop/artist_assistant/test_data/13400_page_1.html', 'file_type': 'text/html', 'file_size': 2626, 'creation_date': '2024-03-06', 'last_modified_date': '2024-03-05'}, hash='aabc86caa83adf685488f1baa72db6c539551932032de96d2d856e38d8958d75'), <NodeRelationship.PREVIOUS: '2'>: RelatedNodeInfo(node_id='f73f756a-917b-47d2-b263-1453265c31e2', node_type=<ObjectType.TEXT: '1'>, metadata={'tag': 'h1', 'file_path': '/home/dngback/Desktop/artist_assistant/test_data/13400_page_1.html', 'file_name': '/home/dngback/Desktop/artist_assistant/test_data/13400_page_1.html', 'file_type': 'text/html', 'file_size': 2626, 'creation_date': '2024-03-06', 'last_modified_date': '2024-03-05'}, hash='6a3aad33f7b9be0618cc6f61ca048fde37484ff009bbadda42ca1e4c3d31b303')}, text='今年でデビュー23年目を迎える歌手の倖田來未（40）。「前編」では、下積み時代から芸能界における浮き沈みを経験しながら、「エロかっこいい」と称される人気歌手に上り詰めるまでの半生を聞いた。そんな彼女は1月18日にMusic ＆\\n    Live Package「WINGS」をリリースした。収録曲の作曲には夫も参加しているが、今回の「後編」では主に夫や息子など家族がアーティスト・倖田來未にどのような影響を与えているかをインタビューした。\\n倖田來未が1月18日に発売したMusic＆Live\\n    Package「WINGS」のメイントラックとなるミディアムバラード「Wings」のクレジットを見ると、作曲者はHi－yunk（ハイユンク）とある。これは、倖田の夫であるKENJI03の作家名義だ。\\n「コンペで楽曲を集め、ラスト3曲に絞った上で、タイアップ先が『これがいい』と選んでくださったのが『Wings』でした。この曲に決まった時は、素直にうれしかったですね。私の大好きな曲だから。旦那は『倖田來未の新しい声を引き出したい』といつも考えているような人なので、今だからこそ私が歌える楽曲を、ということで完成させた曲なんです」\\n倖田は2011年12月3日、ロックバンド「BACK－ON」のKENJI03との結婚を発表。同月16日には妊娠中であることも公表した。2 人の仲を取り持ったのは、妹のmisonoだったという。倖田は夫とのなれそめをこう振り返る。\\n「妹のミーモ（misonoの愛称）が当時、旦那とコラボしていて、ミーモにコラボ曲の入ったアルバムを聞かせてもらったんです。『えっ、コラボしている人、めっちゃいい声してるやん』というのが、私の第一印象。まず声に惚れました（笑）。その後、ミュージックビデオを見ると『えっ、イケメンやん』と。当時の私は夜に出歩かない時期が半年以上も続いていました。ミーモは心配して『お姉もそろそろ、ご飯を食べにとか、外に出かけた方がいいよ』と言ってくれていました。それで、外出した時に彼を紹介してもらいました」', start_char_idx=0, end_char_idx=873, text_template='{metadata_str}\\n\\n{content}', metadata_template='{key}: {value}', metadata_seperator='\\n'), score=0.8319152765565324)]\n"
     ]
    }
   ],
   "source": [
    "print(response.source_nodes)"
   ]
  },
  {
   "cell_type": "code",
   "execution_count": 41,
   "metadata": {},
   "outputs": [
    {
     "name": "stdout",
     "output_type": "stream",
     "text": [
      "<class 'list'>\n"
     ]
    }
   ],
   "source": [
    "print(type(response.source_nodes))"
   ]
  },
  {
   "cell_type": "code",
   "execution_count": 44,
   "metadata": {},
   "outputs": [
    {
     "name": "stdout",
     "output_type": "stream",
     "text": [
      "結婚12年目「倖田來未」が明かす“夫と息子”との私生活　「親子でプロレスにハマってます」\n",
      "________________________\n",
      "今年でデビュー23年目を迎える歌手の倖田來未（40）。「前編」では、下積み時代から芸能界における浮き沈みを経験しながら、「エロかっこいい」と称される人気歌手に上り詰めるまでの半生を聞いた。そんな彼女は1月18日にMusic ＆\n",
      "    Live Package「WINGS」をリリースした。収録曲の作曲には夫も参加しているが、今回の「後編」では主に夫や息子など家族がアーティスト・倖田來未にどのような影響を与えているかをインタビューした。\n",
      "倖田來未が1月18日に発売したMusic＆Live\n",
      "    Package「WINGS」のメイントラックとなるミディアムバラード「Wings」のクレジットを見ると、作曲者はHi－yunk（ハイユンク）とある。これは、倖田の夫であるKENJI03の作家名義だ。\n",
      "「コンペで楽曲を集め、ラスト3曲に絞った上で、タイアップ先が『これがいい』と選んでくださったのが『Wings』でした。この曲に決まった時は、素直にうれしかったですね。私の大好きな曲だから。旦那は『倖田來未の新しい声を引き出したい』といつも考えているような人なので、今だからこそ私が歌える楽曲を、ということで完成させた曲なんです」\n",
      "倖田は2011年12月3日、ロックバンド「BACK－ON」のKENJI03との結婚を発表。同月16日には妊娠中であることも公表した。2 人の仲を取り持ったのは、妹のmisonoだったという。倖田は夫とのなれそめをこう振り返る。\n",
      "「妹のミーモ（misonoの愛称）が当時、旦那とコラボしていて、ミーモにコラボ曲の入ったアルバムを聞かせてもらったんです。『えっ、コラボしている人、めっちゃいい声してるやん』というのが、私の第一印象。まず声に惚れました（笑）。その後、ミュージックビデオを見ると『えっ、イケメンやん』と。当時の私は夜に出歩かない時期が半年以上も続いていました。ミーモは心配して『お姉もそろそろ、ご飯を食べにとか、外に出かけた方がいいよ』と言ってくれていました。それで、外出した時に彼を紹介してもらいました」\n",
      "________________________\n"
     ]
    }
   ],
   "source": [
    "for source in response.source_nodes: \n",
    "    print(source.text)\n",
    "    print(\"________________________\")"
   ]
  },
  {
   "cell_type": "code",
   "execution_count": 48,
   "metadata": {},
   "outputs": [
    {
     "name": "stdout",
     "output_type": "stream",
     "text": [
      "Requirement already satisfied: llama-index-llms-openai in /home/dngback/anaconda3/envs/artistAssistant/lib/python3.12/site-packages (0.1.7)\n",
      "Requirement already satisfied: llama-index-core<0.11.0,>=0.10.1 in /home/dngback/anaconda3/envs/artistAssistant/lib/python3.12/site-packages (from llama-index-llms-openai) (0.10.15)\n",
      "Requirement already satisfied: PyYAML>=6.0.1 in /home/dngback/anaconda3/envs/artistAssistant/lib/python3.12/site-packages (from llama-index-core<0.11.0,>=0.10.1->llama-index-llms-openai) (6.0.1)\n",
      "Requirement already satisfied: SQLAlchemy>=1.4.49 in /home/dngback/anaconda3/envs/artistAssistant/lib/python3.12/site-packages (from SQLAlchemy[asyncio]>=1.4.49->llama-index-core<0.11.0,>=0.10.1->llama-index-llms-openai) (2.0.28)\n",
      "Requirement already satisfied: aiohttp<4.0.0,>=3.8.6 in /home/dngback/anaconda3/envs/artistAssistant/lib/python3.12/site-packages (from llama-index-core<0.11.0,>=0.10.1->llama-index-llms-openai) (3.9.3)\n",
      "Requirement already satisfied: dataclasses-json in /home/dngback/anaconda3/envs/artistAssistant/lib/python3.12/site-packages (from llama-index-core<0.11.0,>=0.10.1->llama-index-llms-openai) (0.6.4)\n",
      "Requirement already satisfied: deprecated>=1.2.9.3 in /home/dngback/anaconda3/envs/artistAssistant/lib/python3.12/site-packages (from llama-index-core<0.11.0,>=0.10.1->llama-index-llms-openai) (1.2.14)\n",
      "Requirement already satisfied: dirtyjson<2.0.0,>=1.0.8 in /home/dngback/anaconda3/envs/artistAssistant/lib/python3.12/site-packages (from llama-index-core<0.11.0,>=0.10.1->llama-index-llms-openai) (1.0.8)\n",
      "Requirement already satisfied: fsspec>=2023.5.0 in /home/dngback/anaconda3/envs/artistAssistant/lib/python3.12/site-packages (from llama-index-core<0.11.0,>=0.10.1->llama-index-llms-openai) (2024.2.0)\n",
      "Requirement already satisfied: httpx in /home/dngback/anaconda3/envs/artistAssistant/lib/python3.12/site-packages (from llama-index-core<0.11.0,>=0.10.1->llama-index-llms-openai) (0.27.0)\n",
      "Requirement already satisfied: llamaindex-py-client<0.2.0,>=0.1.13 in /home/dngback/anaconda3/envs/artistAssistant/lib/python3.12/site-packages (from llama-index-core<0.11.0,>=0.10.1->llama-index-llms-openai) (0.1.13)\n",
      "Requirement already satisfied: nest-asyncio<2.0.0,>=1.5.8 in /home/dngback/anaconda3/envs/artistAssistant/lib/python3.12/site-packages (from llama-index-core<0.11.0,>=0.10.1->llama-index-llms-openai) (1.6.0)\n",
      "Requirement already satisfied: networkx>=3.0 in /home/dngback/anaconda3/envs/artistAssistant/lib/python3.12/site-packages (from llama-index-core<0.11.0,>=0.10.1->llama-index-llms-openai) (3.2.1)\n",
      "Requirement already satisfied: nltk<4.0.0,>=3.8.1 in /home/dngback/anaconda3/envs/artistAssistant/lib/python3.12/site-packages (from llama-index-core<0.11.0,>=0.10.1->llama-index-llms-openai) (3.8.1)\n",
      "Requirement already satisfied: numpy in /home/dngback/anaconda3/envs/artistAssistant/lib/python3.12/site-packages (from llama-index-core<0.11.0,>=0.10.1->llama-index-llms-openai) (1.26.4)\n",
      "Requirement already satisfied: openai>=1.1.0 in /home/dngback/anaconda3/envs/artistAssistant/lib/python3.12/site-packages (from llama-index-core<0.11.0,>=0.10.1->llama-index-llms-openai) (1.13.3)\n",
      "Requirement already satisfied: pandas in /home/dngback/anaconda3/envs/artistAssistant/lib/python3.12/site-packages (from llama-index-core<0.11.0,>=0.10.1->llama-index-llms-openai) (2.2.1)\n",
      "Requirement already satisfied: pillow>=9.0.0 in /home/dngback/anaconda3/envs/artistAssistant/lib/python3.12/site-packages (from llama-index-core<0.11.0,>=0.10.1->llama-index-llms-openai) (10.2.0)\n",
      "Requirement already satisfied: requests>=2.31.0 in /home/dngback/anaconda3/envs/artistAssistant/lib/python3.12/site-packages (from llama-index-core<0.11.0,>=0.10.1->llama-index-llms-openai) (2.31.0)\n",
      "Requirement already satisfied: tenacity<9.0.0,>=8.2.0 in /home/dngback/anaconda3/envs/artistAssistant/lib/python3.12/site-packages (from llama-index-core<0.11.0,>=0.10.1->llama-index-llms-openai) (8.2.3)\n",
      "Requirement already satisfied: tiktoken>=0.3.3 in /home/dngback/anaconda3/envs/artistAssistant/lib/python3.12/site-packages (from llama-index-core<0.11.0,>=0.10.1->llama-index-llms-openai) (0.6.0)\n",
      "Requirement already satisfied: tqdm<5.0.0,>=4.66.1 in /home/dngback/anaconda3/envs/artistAssistant/lib/python3.12/site-packages (from llama-index-core<0.11.0,>=0.10.1->llama-index-llms-openai) (4.66.2)\n",
      "Requirement already satisfied: typing-extensions>=4.5.0 in /home/dngback/anaconda3/envs/artistAssistant/lib/python3.12/site-packages (from llama-index-core<0.11.0,>=0.10.1->llama-index-llms-openai) (4.10.0)\n",
      "Requirement already satisfied: typing-inspect>=0.8.0 in /home/dngback/anaconda3/envs/artistAssistant/lib/python3.12/site-packages (from llama-index-core<0.11.0,>=0.10.1->llama-index-llms-openai) (0.9.0)\n",
      "Requirement already satisfied: aiosignal>=1.1.2 in /home/dngback/anaconda3/envs/artistAssistant/lib/python3.12/site-packages (from aiohttp<4.0.0,>=3.8.6->llama-index-core<0.11.0,>=0.10.1->llama-index-llms-openai) (1.3.1)\n",
      "Requirement already satisfied: attrs>=17.3.0 in /home/dngback/anaconda3/envs/artistAssistant/lib/python3.12/site-packages (from aiohttp<4.0.0,>=3.8.6->llama-index-core<0.11.0,>=0.10.1->llama-index-llms-openai) (23.2.0)\n",
      "Requirement already satisfied: frozenlist>=1.1.1 in /home/dngback/anaconda3/envs/artistAssistant/lib/python3.12/site-packages (from aiohttp<4.0.0,>=3.8.6->llama-index-core<0.11.0,>=0.10.1->llama-index-llms-openai) (1.4.1)\n",
      "Requirement already satisfied: multidict<7.0,>=4.5 in /home/dngback/anaconda3/envs/artistAssistant/lib/python3.12/site-packages (from aiohttp<4.0.0,>=3.8.6->llama-index-core<0.11.0,>=0.10.1->llama-index-llms-openai) (6.0.5)\n",
      "Requirement already satisfied: yarl<2.0,>=1.0 in /home/dngback/anaconda3/envs/artistAssistant/lib/python3.12/site-packages (from aiohttp<4.0.0,>=3.8.6->llama-index-core<0.11.0,>=0.10.1->llama-index-llms-openai) (1.9.4)\n",
      "Requirement already satisfied: wrapt<2,>=1.10 in /home/dngback/anaconda3/envs/artistAssistant/lib/python3.12/site-packages (from deprecated>=1.2.9.3->llama-index-core<0.11.0,>=0.10.1->llama-index-llms-openai) (1.16.0)\n",
      "Requirement already satisfied: pydantic>=1.10 in /home/dngback/anaconda3/envs/artistAssistant/lib/python3.12/site-packages (from llamaindex-py-client<0.2.0,>=0.1.13->llama-index-core<0.11.0,>=0.10.1->llama-index-llms-openai) (2.6.3)\n",
      "Requirement already satisfied: anyio in /home/dngback/anaconda3/envs/artistAssistant/lib/python3.12/site-packages (from httpx->llama-index-core<0.11.0,>=0.10.1->llama-index-llms-openai) (4.3.0)\n",
      "Requirement already satisfied: certifi in /home/dngback/anaconda3/envs/artistAssistant/lib/python3.12/site-packages (from httpx->llama-index-core<0.11.0,>=0.10.1->llama-index-llms-openai) (2024.2.2)\n",
      "Requirement already satisfied: httpcore==1.* in /home/dngback/anaconda3/envs/artistAssistant/lib/python3.12/site-packages (from httpx->llama-index-core<0.11.0,>=0.10.1->llama-index-llms-openai) (1.0.4)\n",
      "Requirement already satisfied: idna in /home/dngback/anaconda3/envs/artistAssistant/lib/python3.12/site-packages (from httpx->llama-index-core<0.11.0,>=0.10.1->llama-index-llms-openai) (3.6)\n",
      "Requirement already satisfied: sniffio in /home/dngback/anaconda3/envs/artistAssistant/lib/python3.12/site-packages (from httpx->llama-index-core<0.11.0,>=0.10.1->llama-index-llms-openai) (1.3.1)\n",
      "Requirement already satisfied: h11<0.15,>=0.13 in /home/dngback/anaconda3/envs/artistAssistant/lib/python3.12/site-packages (from httpcore==1.*->httpx->llama-index-core<0.11.0,>=0.10.1->llama-index-llms-openai) (0.14.0)\n",
      "Requirement already satisfied: click in /home/dngback/anaconda3/envs/artistAssistant/lib/python3.12/site-packages (from nltk<4.0.0,>=3.8.1->llama-index-core<0.11.0,>=0.10.1->llama-index-llms-openai) (8.1.7)\n",
      "Requirement already satisfied: joblib in /home/dngback/anaconda3/envs/artistAssistant/lib/python3.12/site-packages (from nltk<4.0.0,>=3.8.1->llama-index-core<0.11.0,>=0.10.1->llama-index-llms-openai) (1.3.2)\n",
      "Requirement already satisfied: regex>=2021.8.3 in /home/dngback/anaconda3/envs/artistAssistant/lib/python3.12/site-packages (from nltk<4.0.0,>=3.8.1->llama-index-core<0.11.0,>=0.10.1->llama-index-llms-openai) (2023.12.25)\n",
      "Requirement already satisfied: distro<2,>=1.7.0 in /home/dngback/anaconda3/envs/artistAssistant/lib/python3.12/site-packages (from openai>=1.1.0->llama-index-core<0.11.0,>=0.10.1->llama-index-llms-openai) (1.9.0)\n",
      "Requirement already satisfied: charset-normalizer<4,>=2 in /home/dngback/anaconda3/envs/artistAssistant/lib/python3.12/site-packages (from requests>=2.31.0->llama-index-core<0.11.0,>=0.10.1->llama-index-llms-openai) (3.3.2)\n",
      "Requirement already satisfied: urllib3<3,>=1.21.1 in /home/dngback/anaconda3/envs/artistAssistant/lib/python3.12/site-packages (from requests>=2.31.0->llama-index-core<0.11.0,>=0.10.1->llama-index-llms-openai) (2.2.1)\n",
      "Requirement already satisfied: greenlet!=0.4.17 in /home/dngback/anaconda3/envs/artistAssistant/lib/python3.12/site-packages (from SQLAlchemy>=1.4.49->SQLAlchemy[asyncio]>=1.4.49->llama-index-core<0.11.0,>=0.10.1->llama-index-llms-openai) (3.0.3)\n",
      "Requirement already satisfied: mypy-extensions>=0.3.0 in /home/dngback/anaconda3/envs/artistAssistant/lib/python3.12/site-packages (from typing-inspect>=0.8.0->llama-index-core<0.11.0,>=0.10.1->llama-index-llms-openai) (1.0.0)\n",
      "Requirement already satisfied: marshmallow<4.0.0,>=3.18.0 in /home/dngback/anaconda3/envs/artistAssistant/lib/python3.12/site-packages (from dataclasses-json->llama-index-core<0.11.0,>=0.10.1->llama-index-llms-openai) (3.21.0)\n",
      "Requirement already satisfied: python-dateutil>=2.8.2 in /home/dngback/anaconda3/envs/artistAssistant/lib/python3.12/site-packages (from pandas->llama-index-core<0.11.0,>=0.10.1->llama-index-llms-openai) (2.9.0)\n",
      "Requirement already satisfied: pytz>=2020.1 in /home/dngback/anaconda3/envs/artistAssistant/lib/python3.12/site-packages (from pandas->llama-index-core<0.11.0,>=0.10.1->llama-index-llms-openai) (2024.1)\n",
      "Requirement already satisfied: tzdata>=2022.7 in /home/dngback/anaconda3/envs/artistAssistant/lib/python3.12/site-packages (from pandas->llama-index-core<0.11.0,>=0.10.1->llama-index-llms-openai) (2024.1)\n",
      "Requirement already satisfied: packaging>=17.0 in /home/dngback/anaconda3/envs/artistAssistant/lib/python3.12/site-packages (from marshmallow<4.0.0,>=3.18.0->dataclasses-json->llama-index-core<0.11.0,>=0.10.1->llama-index-llms-openai) (23.2)\n",
      "Requirement already satisfied: annotated-types>=0.4.0 in /home/dngback/anaconda3/envs/artistAssistant/lib/python3.12/site-packages (from pydantic>=1.10->llamaindex-py-client<0.2.0,>=0.1.13->llama-index-core<0.11.0,>=0.10.1->llama-index-llms-openai) (0.6.0)\n",
      "Requirement already satisfied: pydantic-core==2.16.3 in /home/dngback/anaconda3/envs/artistAssistant/lib/python3.12/site-packages (from pydantic>=1.10->llamaindex-py-client<0.2.0,>=0.1.13->llama-index-core<0.11.0,>=0.10.1->llama-index-llms-openai) (2.16.3)\n",
      "Requirement already satisfied: six>=1.5 in /home/dngback/anaconda3/envs/artistAssistant/lib/python3.12/site-packages (from python-dateutil>=2.8.2->pandas->llama-index-core<0.11.0,>=0.10.1->llama-index-llms-openai) (1.16.0)\n"
     ]
    }
   ],
   "source": [
    "!pip install llama-index-llms-openai"
   ]
  },
  {
   "cell_type": "code",
   "execution_count": 49,
   "metadata": {},
   "outputs": [
    {
     "name": "stdout",
     "output_type": "stream",
     "text": [
      "Requirement already satisfied: llama-index in /home/dngback/anaconda3/envs/artistAssistant/lib/python3.12/site-packages (0.10.15)\n",
      "Requirement already satisfied: llama-index-agent-openai<0.2.0,>=0.1.4 in /home/dngback/anaconda3/envs/artistAssistant/lib/python3.12/site-packages (from llama-index) (0.1.5)\n",
      "Requirement already satisfied: llama-index-cli<0.2.0,>=0.1.2 in /home/dngback/anaconda3/envs/artistAssistant/lib/python3.12/site-packages (from llama-index) (0.1.7)\n",
      "Requirement already satisfied: llama-index-core<0.11.0,>=0.10.15 in /home/dngback/anaconda3/envs/artistAssistant/lib/python3.12/site-packages (from llama-index) (0.10.15)\n",
      "Requirement already satisfied: llama-index-embeddings-openai<0.2.0,>=0.1.5 in /home/dngback/anaconda3/envs/artistAssistant/lib/python3.12/site-packages (from llama-index) (0.1.6)\n",
      "Requirement already satisfied: llama-index-indices-managed-llama-cloud<0.2.0,>=0.1.2 in /home/dngback/anaconda3/envs/artistAssistant/lib/python3.12/site-packages (from llama-index) (0.1.3)\n",
      "Requirement already satisfied: llama-index-legacy<0.10.0,>=0.9.48 in /home/dngback/anaconda3/envs/artistAssistant/lib/python3.12/site-packages (from llama-index) (0.9.48)\n",
      "Requirement already satisfied: llama-index-llms-openai<0.2.0,>=0.1.5 in /home/dngback/anaconda3/envs/artistAssistant/lib/python3.12/site-packages (from llama-index) (0.1.7)\n",
      "Requirement already satisfied: llama-index-multi-modal-llms-openai<0.2.0,>=0.1.3 in /home/dngback/anaconda3/envs/artistAssistant/lib/python3.12/site-packages (from llama-index) (0.1.4)\n",
      "Requirement already satisfied: llama-index-program-openai<0.2.0,>=0.1.3 in /home/dngback/anaconda3/envs/artistAssistant/lib/python3.12/site-packages (from llama-index) (0.1.4)\n",
      "Requirement already satisfied: llama-index-question-gen-openai<0.2.0,>=0.1.2 in /home/dngback/anaconda3/envs/artistAssistant/lib/python3.12/site-packages (from llama-index) (0.1.3)\n",
      "Requirement already satisfied: llama-index-readers-file<0.2.0,>=0.1.4 in /home/dngback/anaconda3/envs/artistAssistant/lib/python3.12/site-packages (from llama-index) (0.1.6)\n",
      "Requirement already satisfied: llama-index-readers-llama-parse<0.2.0,>=0.1.2 in /home/dngback/anaconda3/envs/artistAssistant/lib/python3.12/site-packages (from llama-index) (0.1.3)\n",
      "Requirement already satisfied: llama-index-vector-stores-chroma<0.2.0,>=0.1.1 in /home/dngback/anaconda3/envs/artistAssistant/lib/python3.12/site-packages (from llama-index-cli<0.2.0,>=0.1.2->llama-index) (0.1.5)\n",
      "Requirement already satisfied: PyYAML>=6.0.1 in /home/dngback/anaconda3/envs/artistAssistant/lib/python3.12/site-packages (from llama-index-core<0.11.0,>=0.10.15->llama-index) (6.0.1)\n",
      "Requirement already satisfied: SQLAlchemy>=1.4.49 in /home/dngback/anaconda3/envs/artistAssistant/lib/python3.12/site-packages (from SQLAlchemy[asyncio]>=1.4.49->llama-index-core<0.11.0,>=0.10.15->llama-index) (2.0.28)\n",
      "Requirement already satisfied: aiohttp<4.0.0,>=3.8.6 in /home/dngback/anaconda3/envs/artistAssistant/lib/python3.12/site-packages (from llama-index-core<0.11.0,>=0.10.15->llama-index) (3.9.3)\n",
      "Requirement already satisfied: dataclasses-json in /home/dngback/anaconda3/envs/artistAssistant/lib/python3.12/site-packages (from llama-index-core<0.11.0,>=0.10.15->llama-index) (0.6.4)\n",
      "Requirement already satisfied: deprecated>=1.2.9.3 in /home/dngback/anaconda3/envs/artistAssistant/lib/python3.12/site-packages (from llama-index-core<0.11.0,>=0.10.15->llama-index) (1.2.14)\n",
      "Requirement already satisfied: dirtyjson<2.0.0,>=1.0.8 in /home/dngback/anaconda3/envs/artistAssistant/lib/python3.12/site-packages (from llama-index-core<0.11.0,>=0.10.15->llama-index) (1.0.8)\n",
      "Requirement already satisfied: fsspec>=2023.5.0 in /home/dngback/anaconda3/envs/artistAssistant/lib/python3.12/site-packages (from llama-index-core<0.11.0,>=0.10.15->llama-index) (2024.2.0)\n",
      "Requirement already satisfied: httpx in /home/dngback/anaconda3/envs/artistAssistant/lib/python3.12/site-packages (from llama-index-core<0.11.0,>=0.10.15->llama-index) (0.27.0)\n",
      "Requirement already satisfied: llamaindex-py-client<0.2.0,>=0.1.13 in /home/dngback/anaconda3/envs/artistAssistant/lib/python3.12/site-packages (from llama-index-core<0.11.0,>=0.10.15->llama-index) (0.1.13)\n",
      "Requirement already satisfied: nest-asyncio<2.0.0,>=1.5.8 in /home/dngback/anaconda3/envs/artistAssistant/lib/python3.12/site-packages (from llama-index-core<0.11.0,>=0.10.15->llama-index) (1.6.0)\n",
      "Requirement already satisfied: networkx>=3.0 in /home/dngback/anaconda3/envs/artistAssistant/lib/python3.12/site-packages (from llama-index-core<0.11.0,>=0.10.15->llama-index) (3.2.1)\n",
      "Requirement already satisfied: nltk<4.0.0,>=3.8.1 in /home/dngback/anaconda3/envs/artistAssistant/lib/python3.12/site-packages (from llama-index-core<0.11.0,>=0.10.15->llama-index) (3.8.1)\n",
      "Requirement already satisfied: numpy in /home/dngback/anaconda3/envs/artistAssistant/lib/python3.12/site-packages (from llama-index-core<0.11.0,>=0.10.15->llama-index) (1.26.4)\n",
      "Requirement already satisfied: openai>=1.1.0 in /home/dngback/anaconda3/envs/artistAssistant/lib/python3.12/site-packages (from llama-index-core<0.11.0,>=0.10.15->llama-index) (1.13.3)\n",
      "Requirement already satisfied: pandas in /home/dngback/anaconda3/envs/artistAssistant/lib/python3.12/site-packages (from llama-index-core<0.11.0,>=0.10.15->llama-index) (2.2.1)\n",
      "Requirement already satisfied: pillow>=9.0.0 in /home/dngback/anaconda3/envs/artistAssistant/lib/python3.12/site-packages (from llama-index-core<0.11.0,>=0.10.15->llama-index) (10.2.0)\n",
      "Requirement already satisfied: requests>=2.31.0 in /home/dngback/anaconda3/envs/artistAssistant/lib/python3.12/site-packages (from llama-index-core<0.11.0,>=0.10.15->llama-index) (2.31.0)\n",
      "Requirement already satisfied: tenacity<9.0.0,>=8.2.0 in /home/dngback/anaconda3/envs/artistAssistant/lib/python3.12/site-packages (from llama-index-core<0.11.0,>=0.10.15->llama-index) (8.2.3)\n",
      "Requirement already satisfied: tiktoken>=0.3.3 in /home/dngback/anaconda3/envs/artistAssistant/lib/python3.12/site-packages (from llama-index-core<0.11.0,>=0.10.15->llama-index) (0.6.0)\n",
      "Requirement already satisfied: tqdm<5.0.0,>=4.66.1 in /home/dngback/anaconda3/envs/artistAssistant/lib/python3.12/site-packages (from llama-index-core<0.11.0,>=0.10.15->llama-index) (4.66.2)\n",
      "Requirement already satisfied: typing-extensions>=4.5.0 in /home/dngback/anaconda3/envs/artistAssistant/lib/python3.12/site-packages (from llama-index-core<0.11.0,>=0.10.15->llama-index) (4.10.0)\n",
      "Requirement already satisfied: typing-inspect>=0.8.0 in /home/dngback/anaconda3/envs/artistAssistant/lib/python3.12/site-packages (from llama-index-core<0.11.0,>=0.10.15->llama-index) (0.9.0)\n",
      "Requirement already satisfied: beautifulsoup4<5.0.0,>=4.12.3 in /home/dngback/anaconda3/envs/artistAssistant/lib/python3.12/site-packages (from llama-index-readers-file<0.2.0,>=0.1.4->llama-index) (4.12.3)\n",
      "Requirement already satisfied: bs4<0.0.3,>=0.0.2 in /home/dngback/anaconda3/envs/artistAssistant/lib/python3.12/site-packages (from llama-index-readers-file<0.2.0,>=0.1.4->llama-index) (0.0.2)\n",
      "Requirement already satisfied: pymupdf<2.0.0,>=1.23.21 in /home/dngback/anaconda3/envs/artistAssistant/lib/python3.12/site-packages (from llama-index-readers-file<0.2.0,>=0.1.4->llama-index) (1.23.26)\n",
      "Requirement already satisfied: pypdf<5.0.0,>=4.0.1 in /home/dngback/anaconda3/envs/artistAssistant/lib/python3.12/site-packages (from llama-index-readers-file<0.2.0,>=0.1.4->llama-index) (4.1.0)\n",
      "Requirement already satisfied: llama-parse<0.4.0,>=0.3.3 in /home/dngback/anaconda3/envs/artistAssistant/lib/python3.12/site-packages (from llama-index-readers-llama-parse<0.2.0,>=0.1.2->llama-index) (0.3.5)\n",
      "Requirement already satisfied: aiosignal>=1.1.2 in /home/dngback/anaconda3/envs/artistAssistant/lib/python3.12/site-packages (from aiohttp<4.0.0,>=3.8.6->llama-index-core<0.11.0,>=0.10.15->llama-index) (1.3.1)\n",
      "Requirement already satisfied: attrs>=17.3.0 in /home/dngback/anaconda3/envs/artistAssistant/lib/python3.12/site-packages (from aiohttp<4.0.0,>=3.8.6->llama-index-core<0.11.0,>=0.10.15->llama-index) (23.2.0)\n",
      "Requirement already satisfied: frozenlist>=1.1.1 in /home/dngback/anaconda3/envs/artistAssistant/lib/python3.12/site-packages (from aiohttp<4.0.0,>=3.8.6->llama-index-core<0.11.0,>=0.10.15->llama-index) (1.4.1)\n",
      "Requirement already satisfied: multidict<7.0,>=4.5 in /home/dngback/anaconda3/envs/artistAssistant/lib/python3.12/site-packages (from aiohttp<4.0.0,>=3.8.6->llama-index-core<0.11.0,>=0.10.15->llama-index) (6.0.5)\n",
      "Requirement already satisfied: yarl<2.0,>=1.0 in /home/dngback/anaconda3/envs/artistAssistant/lib/python3.12/site-packages (from aiohttp<4.0.0,>=3.8.6->llama-index-core<0.11.0,>=0.10.15->llama-index) (1.9.4)\n",
      "Requirement already satisfied: soupsieve>1.2 in /home/dngback/anaconda3/envs/artistAssistant/lib/python3.12/site-packages (from beautifulsoup4<5.0.0,>=4.12.3->llama-index-readers-file<0.2.0,>=0.1.4->llama-index) (2.5)\n",
      "Requirement already satisfied: wrapt<2,>=1.10 in /home/dngback/anaconda3/envs/artistAssistant/lib/python3.12/site-packages (from deprecated>=1.2.9.3->llama-index-core<0.11.0,>=0.10.15->llama-index) (1.16.0)\n",
      "Requirement already satisfied: chromadb<0.5.0,>=0.4.22 in /home/dngback/anaconda3/envs/artistAssistant/lib/python3.12/site-packages (from llama-index-vector-stores-chroma<0.2.0,>=0.1.1->llama-index-cli<0.2.0,>=0.1.2->llama-index) (0.4.24)\n",
      "Requirement already satisfied: onnxruntime<2.0.0,>=1.17.0 in /home/dngback/anaconda3/envs/artistAssistant/lib/python3.12/site-packages (from llama-index-vector-stores-chroma<0.2.0,>=0.1.1->llama-index-cli<0.2.0,>=0.1.2->llama-index) (1.17.1)\n",
      "Requirement already satisfied: tokenizers<0.16.0,>=0.15.1 in /home/dngback/anaconda3/envs/artistAssistant/lib/python3.12/site-packages (from llama-index-vector-stores-chroma<0.2.0,>=0.1.1->llama-index-cli<0.2.0,>=0.1.2->llama-index) (0.15.2)\n",
      "Requirement already satisfied: pydantic>=1.10 in /home/dngback/anaconda3/envs/artistAssistant/lib/python3.12/site-packages (from llamaindex-py-client<0.2.0,>=0.1.13->llama-index-core<0.11.0,>=0.10.15->llama-index) (2.6.3)\n",
      "Requirement already satisfied: anyio in /home/dngback/anaconda3/envs/artistAssistant/lib/python3.12/site-packages (from httpx->llama-index-core<0.11.0,>=0.10.15->llama-index) (4.3.0)\n",
      "Requirement already satisfied: certifi in /home/dngback/anaconda3/envs/artistAssistant/lib/python3.12/site-packages (from httpx->llama-index-core<0.11.0,>=0.10.15->llama-index) (2024.2.2)\n",
      "Requirement already satisfied: httpcore==1.* in /home/dngback/anaconda3/envs/artistAssistant/lib/python3.12/site-packages (from httpx->llama-index-core<0.11.0,>=0.10.15->llama-index) (1.0.4)\n",
      "Requirement already satisfied: idna in /home/dngback/anaconda3/envs/artistAssistant/lib/python3.12/site-packages (from httpx->llama-index-core<0.11.0,>=0.10.15->llama-index) (3.6)\n",
      "Requirement already satisfied: sniffio in /home/dngback/anaconda3/envs/artistAssistant/lib/python3.12/site-packages (from httpx->llama-index-core<0.11.0,>=0.10.15->llama-index) (1.3.1)\n",
      "Requirement already satisfied: h11<0.15,>=0.13 in /home/dngback/anaconda3/envs/artistAssistant/lib/python3.12/site-packages (from httpcore==1.*->httpx->llama-index-core<0.11.0,>=0.10.15->llama-index) (0.14.0)\n",
      "Requirement already satisfied: click in /home/dngback/anaconda3/envs/artistAssistant/lib/python3.12/site-packages (from nltk<4.0.0,>=3.8.1->llama-index-core<0.11.0,>=0.10.15->llama-index) (8.1.7)\n",
      "Requirement already satisfied: joblib in /home/dngback/anaconda3/envs/artistAssistant/lib/python3.12/site-packages (from nltk<4.0.0,>=3.8.1->llama-index-core<0.11.0,>=0.10.15->llama-index) (1.3.2)\n",
      "Requirement already satisfied: regex>=2021.8.3 in /home/dngback/anaconda3/envs/artistAssistant/lib/python3.12/site-packages (from nltk<4.0.0,>=3.8.1->llama-index-core<0.11.0,>=0.10.15->llama-index) (2023.12.25)\n",
      "Requirement already satisfied: distro<2,>=1.7.0 in /home/dngback/anaconda3/envs/artistAssistant/lib/python3.12/site-packages (from openai>=1.1.0->llama-index-core<0.11.0,>=0.10.15->llama-index) (1.9.0)\n",
      "Requirement already satisfied: PyMuPDFb==1.23.22 in /home/dngback/anaconda3/envs/artistAssistant/lib/python3.12/site-packages (from pymupdf<2.0.0,>=1.23.21->llama-index-readers-file<0.2.0,>=0.1.4->llama-index) (1.23.22)\n",
      "Requirement already satisfied: charset-normalizer<4,>=2 in /home/dngback/anaconda3/envs/artistAssistant/lib/python3.12/site-packages (from requests>=2.31.0->llama-index-core<0.11.0,>=0.10.15->llama-index) (3.3.2)\n",
      "Requirement already satisfied: urllib3<3,>=1.21.1 in /home/dngback/anaconda3/envs/artistAssistant/lib/python3.12/site-packages (from requests>=2.31.0->llama-index-core<0.11.0,>=0.10.15->llama-index) (2.2.1)\n",
      "Requirement already satisfied: greenlet!=0.4.17 in /home/dngback/anaconda3/envs/artistAssistant/lib/python3.12/site-packages (from SQLAlchemy>=1.4.49->SQLAlchemy[asyncio]>=1.4.49->llama-index-core<0.11.0,>=0.10.15->llama-index) (3.0.3)\n",
      "Requirement already satisfied: mypy-extensions>=0.3.0 in /home/dngback/anaconda3/envs/artistAssistant/lib/python3.12/site-packages (from typing-inspect>=0.8.0->llama-index-core<0.11.0,>=0.10.15->llama-index) (1.0.0)\n",
      "Requirement already satisfied: marshmallow<4.0.0,>=3.18.0 in /home/dngback/anaconda3/envs/artistAssistant/lib/python3.12/site-packages (from dataclasses-json->llama-index-core<0.11.0,>=0.10.15->llama-index) (3.21.0)\n",
      "Requirement already satisfied: python-dateutil>=2.8.2 in /home/dngback/anaconda3/envs/artistAssistant/lib/python3.12/site-packages (from pandas->llama-index-core<0.11.0,>=0.10.15->llama-index) (2.9.0)\n",
      "Requirement already satisfied: pytz>=2020.1 in /home/dngback/anaconda3/envs/artistAssistant/lib/python3.12/site-packages (from pandas->llama-index-core<0.11.0,>=0.10.15->llama-index) (2024.1)\n",
      "Requirement already satisfied: tzdata>=2022.7 in /home/dngback/anaconda3/envs/artistAssistant/lib/python3.12/site-packages (from pandas->llama-index-core<0.11.0,>=0.10.15->llama-index) (2024.1)\n",
      "Requirement already satisfied: build>=1.0.3 in /home/dngback/anaconda3/envs/artistAssistant/lib/python3.12/site-packages (from chromadb<0.5.0,>=0.4.22->llama-index-vector-stores-chroma<0.2.0,>=0.1.1->llama-index-cli<0.2.0,>=0.1.2->llama-index) (1.1.1)\n",
      "Requirement already satisfied: chroma-hnswlib==0.7.3 in /home/dngback/anaconda3/envs/artistAssistant/lib/python3.12/site-packages (from chromadb<0.5.0,>=0.4.22->llama-index-vector-stores-chroma<0.2.0,>=0.1.1->llama-index-cli<0.2.0,>=0.1.2->llama-index) (0.7.3)\n",
      "Requirement already satisfied: fastapi>=0.95.2 in /home/dngback/anaconda3/envs/artistAssistant/lib/python3.12/site-packages (from chromadb<0.5.0,>=0.4.22->llama-index-vector-stores-chroma<0.2.0,>=0.1.1->llama-index-cli<0.2.0,>=0.1.2->llama-index) (0.110.0)\n",
      "Requirement already satisfied: uvicorn>=0.18.3 in /home/dngback/anaconda3/envs/artistAssistant/lib/python3.12/site-packages (from uvicorn[standard]>=0.18.3->chromadb<0.5.0,>=0.4.22->llama-index-vector-stores-chroma<0.2.0,>=0.1.1->llama-index-cli<0.2.0,>=0.1.2->llama-index) (0.27.1)\n",
      "Requirement already satisfied: posthog>=2.4.0 in /home/dngback/anaconda3/envs/artistAssistant/lib/python3.12/site-packages (from chromadb<0.5.0,>=0.4.22->llama-index-vector-stores-chroma<0.2.0,>=0.1.1->llama-index-cli<0.2.0,>=0.1.2->llama-index) (3.5.0)\n",
      "Requirement already satisfied: pulsar-client>=3.1.0 in /home/dngback/anaconda3/envs/artistAssistant/lib/python3.12/site-packages (from chromadb<0.5.0,>=0.4.22->llama-index-vector-stores-chroma<0.2.0,>=0.1.1->llama-index-cli<0.2.0,>=0.1.2->llama-index) (3.4.0)\n",
      "Requirement already satisfied: opentelemetry-api>=1.2.0 in /home/dngback/anaconda3/envs/artistAssistant/lib/python3.12/site-packages (from chromadb<0.5.0,>=0.4.22->llama-index-vector-stores-chroma<0.2.0,>=0.1.1->llama-index-cli<0.2.0,>=0.1.2->llama-index) (1.23.0)\n",
      "Requirement already satisfied: opentelemetry-exporter-otlp-proto-grpc>=1.2.0 in /home/dngback/anaconda3/envs/artistAssistant/lib/python3.12/site-packages (from chromadb<0.5.0,>=0.4.22->llama-index-vector-stores-chroma<0.2.0,>=0.1.1->llama-index-cli<0.2.0,>=0.1.2->llama-index) (1.23.0)\n",
      "Requirement already satisfied: opentelemetry-instrumentation-fastapi>=0.41b0 in /home/dngback/anaconda3/envs/artistAssistant/lib/python3.12/site-packages (from chromadb<0.5.0,>=0.4.22->llama-index-vector-stores-chroma<0.2.0,>=0.1.1->llama-index-cli<0.2.0,>=0.1.2->llama-index) (0.44b0)\n",
      "Requirement already satisfied: opentelemetry-sdk>=1.2.0 in /home/dngback/anaconda3/envs/artistAssistant/lib/python3.12/site-packages (from chromadb<0.5.0,>=0.4.22->llama-index-vector-stores-chroma<0.2.0,>=0.1.1->llama-index-cli<0.2.0,>=0.1.2->llama-index) (1.23.0)\n",
      "Requirement already satisfied: pypika>=0.48.9 in /home/dngback/anaconda3/envs/artistAssistant/lib/python3.12/site-packages (from chromadb<0.5.0,>=0.4.22->llama-index-vector-stores-chroma<0.2.0,>=0.1.1->llama-index-cli<0.2.0,>=0.1.2->llama-index) (0.48.9)\n",
      "Requirement already satisfied: overrides>=7.3.1 in /home/dngback/anaconda3/envs/artistAssistant/lib/python3.12/site-packages (from chromadb<0.5.0,>=0.4.22->llama-index-vector-stores-chroma<0.2.0,>=0.1.1->llama-index-cli<0.2.0,>=0.1.2->llama-index) (7.7.0)\n",
      "Requirement already satisfied: importlib-resources in /home/dngback/anaconda3/envs/artistAssistant/lib/python3.12/site-packages (from chromadb<0.5.0,>=0.4.22->llama-index-vector-stores-chroma<0.2.0,>=0.1.1->llama-index-cli<0.2.0,>=0.1.2->llama-index) (6.1.2)\n",
      "Requirement already satisfied: grpcio>=1.58.0 in /home/dngback/anaconda3/envs/artistAssistant/lib/python3.12/site-packages (from chromadb<0.5.0,>=0.4.22->llama-index-vector-stores-chroma<0.2.0,>=0.1.1->llama-index-cli<0.2.0,>=0.1.2->llama-index) (1.62.0)\n",
      "Requirement already satisfied: bcrypt>=4.0.1 in /home/dngback/anaconda3/envs/artistAssistant/lib/python3.12/site-packages (from chromadb<0.5.0,>=0.4.22->llama-index-vector-stores-chroma<0.2.0,>=0.1.1->llama-index-cli<0.2.0,>=0.1.2->llama-index) (4.1.2)\n",
      "Requirement already satisfied: typer>=0.9.0 in /home/dngback/anaconda3/envs/artistAssistant/lib/python3.12/site-packages (from chromadb<0.5.0,>=0.4.22->llama-index-vector-stores-chroma<0.2.0,>=0.1.1->llama-index-cli<0.2.0,>=0.1.2->llama-index) (0.9.0)\n",
      "Requirement already satisfied: kubernetes>=28.1.0 in /home/dngback/anaconda3/envs/artistAssistant/lib/python3.12/site-packages (from chromadb<0.5.0,>=0.4.22->llama-index-vector-stores-chroma<0.2.0,>=0.1.1->llama-index-cli<0.2.0,>=0.1.2->llama-index) (29.0.0)\n",
      "Requirement already satisfied: mmh3>=4.0.1 in /home/dngback/anaconda3/envs/artistAssistant/lib/python3.12/site-packages (from chromadb<0.5.0,>=0.4.22->llama-index-vector-stores-chroma<0.2.0,>=0.1.1->llama-index-cli<0.2.0,>=0.1.2->llama-index) (4.1.0)\n",
      "Requirement already satisfied: orjson>=3.9.12 in /home/dngback/anaconda3/envs/artistAssistant/lib/python3.12/site-packages (from chromadb<0.5.0,>=0.4.22->llama-index-vector-stores-chroma<0.2.0,>=0.1.1->llama-index-cli<0.2.0,>=0.1.2->llama-index) (3.9.15)\n",
      "Requirement already satisfied: packaging>=17.0 in /home/dngback/anaconda3/envs/artistAssistant/lib/python3.12/site-packages (from marshmallow<4.0.0,>=3.18.0->dataclasses-json->llama-index-core<0.11.0,>=0.10.15->llama-index) (23.2)\n",
      "Requirement already satisfied: coloredlogs in /home/dngback/anaconda3/envs/artistAssistant/lib/python3.12/site-packages (from onnxruntime<2.0.0,>=1.17.0->llama-index-vector-stores-chroma<0.2.0,>=0.1.1->llama-index-cli<0.2.0,>=0.1.2->llama-index) (15.0.1)\n",
      "Requirement already satisfied: flatbuffers in /home/dngback/anaconda3/envs/artistAssistant/lib/python3.12/site-packages (from onnxruntime<2.0.0,>=1.17.0->llama-index-vector-stores-chroma<0.2.0,>=0.1.1->llama-index-cli<0.2.0,>=0.1.2->llama-index) (23.5.26)\n",
      "Requirement already satisfied: protobuf in /home/dngback/anaconda3/envs/artistAssistant/lib/python3.12/site-packages (from onnxruntime<2.0.0,>=1.17.0->llama-index-vector-stores-chroma<0.2.0,>=0.1.1->llama-index-cli<0.2.0,>=0.1.2->llama-index) (4.25.3)\n",
      "Requirement already satisfied: sympy in /home/dngback/anaconda3/envs/artistAssistant/lib/python3.12/site-packages (from onnxruntime<2.0.0,>=1.17.0->llama-index-vector-stores-chroma<0.2.0,>=0.1.1->llama-index-cli<0.2.0,>=0.1.2->llama-index) (1.12)\n",
      "Requirement already satisfied: annotated-types>=0.4.0 in /home/dngback/anaconda3/envs/artistAssistant/lib/python3.12/site-packages (from pydantic>=1.10->llamaindex-py-client<0.2.0,>=0.1.13->llama-index-core<0.11.0,>=0.10.15->llama-index) (0.6.0)\n",
      "Requirement already satisfied: pydantic-core==2.16.3 in /home/dngback/anaconda3/envs/artistAssistant/lib/python3.12/site-packages (from pydantic>=1.10->llamaindex-py-client<0.2.0,>=0.1.13->llama-index-core<0.11.0,>=0.10.15->llama-index) (2.16.3)\n",
      "Requirement already satisfied: six>=1.5 in /home/dngback/anaconda3/envs/artistAssistant/lib/python3.12/site-packages (from python-dateutil>=2.8.2->pandas->llama-index-core<0.11.0,>=0.10.15->llama-index) (1.16.0)\n",
      "Requirement already satisfied: huggingface_hub<1.0,>=0.16.4 in /home/dngback/anaconda3/envs/artistAssistant/lib/python3.12/site-packages (from tokenizers<0.16.0,>=0.15.1->llama-index-vector-stores-chroma<0.2.0,>=0.1.1->llama-index-cli<0.2.0,>=0.1.2->llama-index) (0.21.3)\n",
      "Requirement already satisfied: pyproject_hooks in /home/dngback/anaconda3/envs/artistAssistant/lib/python3.12/site-packages (from build>=1.0.3->chromadb<0.5.0,>=0.4.22->llama-index-vector-stores-chroma<0.2.0,>=0.1.1->llama-index-cli<0.2.0,>=0.1.2->llama-index) (1.0.0)\n",
      "Requirement already satisfied: starlette<0.37.0,>=0.36.3 in /home/dngback/anaconda3/envs/artistAssistant/lib/python3.12/site-packages (from fastapi>=0.95.2->chromadb<0.5.0,>=0.4.22->llama-index-vector-stores-chroma<0.2.0,>=0.1.1->llama-index-cli<0.2.0,>=0.1.2->llama-index) (0.36.3)\n",
      "Requirement already satisfied: filelock in /home/dngback/anaconda3/envs/artistAssistant/lib/python3.12/site-packages (from huggingface_hub<1.0,>=0.16.4->tokenizers<0.16.0,>=0.15.1->llama-index-vector-stores-chroma<0.2.0,>=0.1.1->llama-index-cli<0.2.0,>=0.1.2->llama-index) (3.13.1)\n",
      "Requirement already satisfied: google-auth>=1.0.1 in /home/dngback/anaconda3/envs/artistAssistant/lib/python3.12/site-packages (from kubernetes>=28.1.0->chromadb<0.5.0,>=0.4.22->llama-index-vector-stores-chroma<0.2.0,>=0.1.1->llama-index-cli<0.2.0,>=0.1.2->llama-index) (2.28.1)\n",
      "Requirement already satisfied: websocket-client!=0.40.0,!=0.41.*,!=0.42.*,>=0.32.0 in /home/dngback/anaconda3/envs/artistAssistant/lib/python3.12/site-packages (from kubernetes>=28.1.0->chromadb<0.5.0,>=0.4.22->llama-index-vector-stores-chroma<0.2.0,>=0.1.1->llama-index-cli<0.2.0,>=0.1.2->llama-index) (1.7.0)\n",
      "Requirement already satisfied: requests-oauthlib in /home/dngback/anaconda3/envs/artistAssistant/lib/python3.12/site-packages (from kubernetes>=28.1.0->chromadb<0.5.0,>=0.4.22->llama-index-vector-stores-chroma<0.2.0,>=0.1.1->llama-index-cli<0.2.0,>=0.1.2->llama-index) (1.3.1)\n",
      "Requirement already satisfied: oauthlib>=3.2.2 in /home/dngback/anaconda3/envs/artistAssistant/lib/python3.12/site-packages (from kubernetes>=28.1.0->chromadb<0.5.0,>=0.4.22->llama-index-vector-stores-chroma<0.2.0,>=0.1.1->llama-index-cli<0.2.0,>=0.1.2->llama-index) (3.2.2)\n",
      "Requirement already satisfied: importlib-metadata<7.0,>=6.0 in /home/dngback/anaconda3/envs/artistAssistant/lib/python3.12/site-packages (from opentelemetry-api>=1.2.0->chromadb<0.5.0,>=0.4.22->llama-index-vector-stores-chroma<0.2.0,>=0.1.1->llama-index-cli<0.2.0,>=0.1.2->llama-index) (6.11.0)\n",
      "Requirement already satisfied: googleapis-common-protos~=1.52 in /home/dngback/anaconda3/envs/artistAssistant/lib/python3.12/site-packages (from opentelemetry-exporter-otlp-proto-grpc>=1.2.0->chromadb<0.5.0,>=0.4.22->llama-index-vector-stores-chroma<0.2.0,>=0.1.1->llama-index-cli<0.2.0,>=0.1.2->llama-index) (1.62.0)\n",
      "Requirement already satisfied: opentelemetry-exporter-otlp-proto-common==1.23.0 in /home/dngback/anaconda3/envs/artistAssistant/lib/python3.12/site-packages (from opentelemetry-exporter-otlp-proto-grpc>=1.2.0->chromadb<0.5.0,>=0.4.22->llama-index-vector-stores-chroma<0.2.0,>=0.1.1->llama-index-cli<0.2.0,>=0.1.2->llama-index) (1.23.0)\n",
      "Requirement already satisfied: opentelemetry-proto==1.23.0 in /home/dngback/anaconda3/envs/artistAssistant/lib/python3.12/site-packages (from opentelemetry-exporter-otlp-proto-grpc>=1.2.0->chromadb<0.5.0,>=0.4.22->llama-index-vector-stores-chroma<0.2.0,>=0.1.1->llama-index-cli<0.2.0,>=0.1.2->llama-index) (1.23.0)\n",
      "Requirement already satisfied: opentelemetry-instrumentation-asgi==0.44b0 in /home/dngback/anaconda3/envs/artistAssistant/lib/python3.12/site-packages (from opentelemetry-instrumentation-fastapi>=0.41b0->chromadb<0.5.0,>=0.4.22->llama-index-vector-stores-chroma<0.2.0,>=0.1.1->llama-index-cli<0.2.0,>=0.1.2->llama-index) (0.44b0)\n",
      "Requirement already satisfied: opentelemetry-instrumentation==0.44b0 in /home/dngback/anaconda3/envs/artistAssistant/lib/python3.12/site-packages (from opentelemetry-instrumentation-fastapi>=0.41b0->chromadb<0.5.0,>=0.4.22->llama-index-vector-stores-chroma<0.2.0,>=0.1.1->llama-index-cli<0.2.0,>=0.1.2->llama-index) (0.44b0)\n",
      "Requirement already satisfied: opentelemetry-semantic-conventions==0.44b0 in /home/dngback/anaconda3/envs/artistAssistant/lib/python3.12/site-packages (from opentelemetry-instrumentation-fastapi>=0.41b0->chromadb<0.5.0,>=0.4.22->llama-index-vector-stores-chroma<0.2.0,>=0.1.1->llama-index-cli<0.2.0,>=0.1.2->llama-index) (0.44b0)\n",
      "Requirement already satisfied: opentelemetry-util-http==0.44b0 in /home/dngback/anaconda3/envs/artistAssistant/lib/python3.12/site-packages (from opentelemetry-instrumentation-fastapi>=0.41b0->chromadb<0.5.0,>=0.4.22->llama-index-vector-stores-chroma<0.2.0,>=0.1.1->llama-index-cli<0.2.0,>=0.1.2->llama-index) (0.44b0)\n",
      "Requirement already satisfied: setuptools>=16.0 in /home/dngback/anaconda3/envs/artistAssistant/lib/python3.12/site-packages (from opentelemetry-instrumentation==0.44b0->opentelemetry-instrumentation-fastapi>=0.41b0->chromadb<0.5.0,>=0.4.22->llama-index-vector-stores-chroma<0.2.0,>=0.1.1->llama-index-cli<0.2.0,>=0.1.2->llama-index) (68.2.2)\n",
      "Requirement already satisfied: asgiref~=3.0 in /home/dngback/anaconda3/envs/artistAssistant/lib/python3.12/site-packages (from opentelemetry-instrumentation-asgi==0.44b0->opentelemetry-instrumentation-fastapi>=0.41b0->chromadb<0.5.0,>=0.4.22->llama-index-vector-stores-chroma<0.2.0,>=0.1.1->llama-index-cli<0.2.0,>=0.1.2->llama-index) (3.7.2)\n",
      "Requirement already satisfied: monotonic>=1.5 in /home/dngback/anaconda3/envs/artistAssistant/lib/python3.12/site-packages (from posthog>=2.4.0->chromadb<0.5.0,>=0.4.22->llama-index-vector-stores-chroma<0.2.0,>=0.1.1->llama-index-cli<0.2.0,>=0.1.2->llama-index) (1.6)\n",
      "Requirement already satisfied: backoff>=1.10.0 in /home/dngback/anaconda3/envs/artistAssistant/lib/python3.12/site-packages (from posthog>=2.4.0->chromadb<0.5.0,>=0.4.22->llama-index-vector-stores-chroma<0.2.0,>=0.1.1->llama-index-cli<0.2.0,>=0.1.2->llama-index) (2.2.1)\n",
      "Requirement already satisfied: httptools>=0.5.0 in /home/dngback/anaconda3/envs/artistAssistant/lib/python3.12/site-packages (from uvicorn[standard]>=0.18.3->chromadb<0.5.0,>=0.4.22->llama-index-vector-stores-chroma<0.2.0,>=0.1.1->llama-index-cli<0.2.0,>=0.1.2->llama-index) (0.6.1)\n",
      "Requirement already satisfied: python-dotenv>=0.13 in /home/dngback/anaconda3/envs/artistAssistant/lib/python3.12/site-packages (from uvicorn[standard]>=0.18.3->chromadb<0.5.0,>=0.4.22->llama-index-vector-stores-chroma<0.2.0,>=0.1.1->llama-index-cli<0.2.0,>=0.1.2->llama-index) (1.0.1)\n",
      "Requirement already satisfied: uvloop!=0.15.0,!=0.15.1,>=0.14.0 in /home/dngback/anaconda3/envs/artistAssistant/lib/python3.12/site-packages (from uvicorn[standard]>=0.18.3->chromadb<0.5.0,>=0.4.22->llama-index-vector-stores-chroma<0.2.0,>=0.1.1->llama-index-cli<0.2.0,>=0.1.2->llama-index) (0.19.0)\n",
      "Requirement already satisfied: watchfiles>=0.13 in /home/dngback/anaconda3/envs/artistAssistant/lib/python3.12/site-packages (from uvicorn[standard]>=0.18.3->chromadb<0.5.0,>=0.4.22->llama-index-vector-stores-chroma<0.2.0,>=0.1.1->llama-index-cli<0.2.0,>=0.1.2->llama-index) (0.21.0)\n",
      "Requirement already satisfied: websockets>=10.4 in /home/dngback/anaconda3/envs/artistAssistant/lib/python3.12/site-packages (from uvicorn[standard]>=0.18.3->chromadb<0.5.0,>=0.4.22->llama-index-vector-stores-chroma<0.2.0,>=0.1.1->llama-index-cli<0.2.0,>=0.1.2->llama-index) (12.0)\n",
      "Requirement already satisfied: humanfriendly>=9.1 in /home/dngback/anaconda3/envs/artistAssistant/lib/python3.12/site-packages (from coloredlogs->onnxruntime<2.0.0,>=1.17.0->llama-index-vector-stores-chroma<0.2.0,>=0.1.1->llama-index-cli<0.2.0,>=0.1.2->llama-index) (10.0)\n",
      "Requirement already satisfied: mpmath>=0.19 in /home/dngback/anaconda3/envs/artistAssistant/lib/python3.12/site-packages (from sympy->onnxruntime<2.0.0,>=1.17.0->llama-index-vector-stores-chroma<0.2.0,>=0.1.1->llama-index-cli<0.2.0,>=0.1.2->llama-index) (1.3.0)\n",
      "Requirement already satisfied: cachetools<6.0,>=2.0.0 in /home/dngback/anaconda3/envs/artistAssistant/lib/python3.12/site-packages (from google-auth>=1.0.1->kubernetes>=28.1.0->chromadb<0.5.0,>=0.4.22->llama-index-vector-stores-chroma<0.2.0,>=0.1.1->llama-index-cli<0.2.0,>=0.1.2->llama-index) (5.3.3)\n",
      "Requirement already satisfied: pyasn1-modules>=0.2.1 in /home/dngback/anaconda3/envs/artistAssistant/lib/python3.12/site-packages (from google-auth>=1.0.1->kubernetes>=28.1.0->chromadb<0.5.0,>=0.4.22->llama-index-vector-stores-chroma<0.2.0,>=0.1.1->llama-index-cli<0.2.0,>=0.1.2->llama-index) (0.3.0)\n",
      "Requirement already satisfied: rsa<5,>=3.1.4 in /home/dngback/anaconda3/envs/artistAssistant/lib/python3.12/site-packages (from google-auth>=1.0.1->kubernetes>=28.1.0->chromadb<0.5.0,>=0.4.22->llama-index-vector-stores-chroma<0.2.0,>=0.1.1->llama-index-cli<0.2.0,>=0.1.2->llama-index) (4.9)\n",
      "Requirement already satisfied: zipp>=0.5 in /home/dngback/anaconda3/envs/artistAssistant/lib/python3.12/site-packages (from importlib-metadata<7.0,>=6.0->opentelemetry-api>=1.2.0->chromadb<0.5.0,>=0.4.22->llama-index-vector-stores-chroma<0.2.0,>=0.1.1->llama-index-cli<0.2.0,>=0.1.2->llama-index) (3.17.0)\n",
      "Requirement already satisfied: pyasn1<0.6.0,>=0.4.6 in /home/dngback/anaconda3/envs/artistAssistant/lib/python3.12/site-packages (from pyasn1-modules>=0.2.1->google-auth>=1.0.1->kubernetes>=28.1.0->chromadb<0.5.0,>=0.4.22->llama-index-vector-stores-chroma<0.2.0,>=0.1.1->llama-index-cli<0.2.0,>=0.1.2->llama-index) (0.5.1)\n"
     ]
    }
   ],
   "source": [
    "!pip install llama-index"
   ]
  },
  {
   "cell_type": "code",
   "execution_count": 56,
   "metadata": {},
   "outputs": [
    {
     "name": "stdout",
     "output_type": "stream",
     "text": [
      "Collecting spacy\n",
      "  Downloading spacy-3.7.4-cp312-cp312-manylinux_2_17_x86_64.manylinux2014_x86_64.whl.metadata (27 kB)\n",
      "Collecting spacy-legacy<3.1.0,>=3.0.11 (from spacy)\n",
      "  Downloading spacy_legacy-3.0.12-py2.py3-none-any.whl.metadata (2.8 kB)\n",
      "Collecting spacy-loggers<2.0.0,>=1.0.0 (from spacy)\n",
      "  Downloading spacy_loggers-1.0.5-py3-none-any.whl.metadata (23 kB)\n",
      "Collecting murmurhash<1.1.0,>=0.28.0 (from spacy)\n",
      "  Downloading murmurhash-1.0.10-cp312-cp312-manylinux_2_5_x86_64.manylinux1_x86_64.manylinux_2_17_x86_64.manylinux2014_x86_64.whl.metadata (2.0 kB)\n",
      "Collecting cymem<2.1.0,>=2.0.2 (from spacy)\n",
      "  Downloading cymem-2.0.8-cp312-cp312-manylinux_2_17_x86_64.manylinux2014_x86_64.whl.metadata (8.4 kB)\n",
      "Collecting preshed<3.1.0,>=3.0.2 (from spacy)\n",
      "  Downloading preshed-3.0.9-cp312-cp312-manylinux_2_5_x86_64.manylinux1_x86_64.manylinux_2_17_x86_64.manylinux2014_x86_64.whl.metadata (2.2 kB)\n",
      "Collecting thinc<8.3.0,>=8.2.2 (from spacy)\n",
      "  Downloading thinc-8.2.3-cp312-cp312-manylinux_2_17_x86_64.manylinux2014_x86_64.whl.metadata (15 kB)\n",
      "Collecting wasabi<1.2.0,>=0.9.1 (from spacy)\n",
      "  Downloading wasabi-1.1.2-py3-none-any.whl.metadata (28 kB)\n",
      "Collecting srsly<3.0.0,>=2.4.3 (from spacy)\n",
      "  Downloading srsly-2.4.8-cp312-cp312-manylinux_2_17_x86_64.manylinux2014_x86_64.whl.metadata (20 kB)\n",
      "Collecting catalogue<2.1.0,>=2.0.6 (from spacy)\n",
      "  Downloading catalogue-2.0.10-py3-none-any.whl.metadata (14 kB)\n",
      "Collecting weasel<0.4.0,>=0.1.0 (from spacy)\n",
      "  Downloading weasel-0.3.4-py3-none-any.whl.metadata (4.7 kB)\n",
      "Requirement already satisfied: typer<0.10.0,>=0.3.0 in /home/dngback/anaconda3/envs/artistAssistant/lib/python3.12/site-packages (from spacy) (0.9.0)\n",
      "Collecting smart-open<7.0.0,>=5.2.1 (from spacy)\n",
      "  Downloading smart_open-6.4.0-py3-none-any.whl.metadata (21 kB)\n",
      "Requirement already satisfied: tqdm<5.0.0,>=4.38.0 in /home/dngback/anaconda3/envs/artistAssistant/lib/python3.12/site-packages (from spacy) (4.66.2)\n",
      "Requirement already satisfied: requests<3.0.0,>=2.13.0 in /home/dngback/anaconda3/envs/artistAssistant/lib/python3.12/site-packages (from spacy) (2.31.0)\n",
      "Requirement already satisfied: pydantic!=1.8,!=1.8.1,<3.0.0,>=1.7.4 in /home/dngback/anaconda3/envs/artistAssistant/lib/python3.12/site-packages (from spacy) (2.6.3)\n",
      "Collecting jinja2 (from spacy)\n",
      "  Downloading Jinja2-3.1.3-py3-none-any.whl.metadata (3.3 kB)\n",
      "Requirement already satisfied: setuptools in /home/dngback/anaconda3/envs/artistAssistant/lib/python3.12/site-packages (from spacy) (68.2.2)\n",
      "Requirement already satisfied: packaging>=20.0 in /home/dngback/anaconda3/envs/artistAssistant/lib/python3.12/site-packages (from spacy) (23.2)\n",
      "Collecting langcodes<4.0.0,>=3.2.0 (from spacy)\n",
      "  Downloading langcodes-3.3.0-py3-none-any.whl.metadata (29 kB)\n",
      "Requirement already satisfied: numpy>=1.19.0 in /home/dngback/anaconda3/envs/artistAssistant/lib/python3.12/site-packages (from spacy) (1.26.4)\n",
      "Requirement already satisfied: annotated-types>=0.4.0 in /home/dngback/anaconda3/envs/artistAssistant/lib/python3.12/site-packages (from pydantic!=1.8,!=1.8.1,<3.0.0,>=1.7.4->spacy) (0.6.0)\n",
      "Requirement already satisfied: pydantic-core==2.16.3 in /home/dngback/anaconda3/envs/artistAssistant/lib/python3.12/site-packages (from pydantic!=1.8,!=1.8.1,<3.0.0,>=1.7.4->spacy) (2.16.3)\n",
      "Requirement already satisfied: typing-extensions>=4.6.1 in /home/dngback/anaconda3/envs/artistAssistant/lib/python3.12/site-packages (from pydantic!=1.8,!=1.8.1,<3.0.0,>=1.7.4->spacy) (4.10.0)\n",
      "Requirement already satisfied: charset-normalizer<4,>=2 in /home/dngback/anaconda3/envs/artistAssistant/lib/python3.12/site-packages (from requests<3.0.0,>=2.13.0->spacy) (3.3.2)\n",
      "Requirement already satisfied: idna<4,>=2.5 in /home/dngback/anaconda3/envs/artistAssistant/lib/python3.12/site-packages (from requests<3.0.0,>=2.13.0->spacy) (3.6)\n",
      "Requirement already satisfied: urllib3<3,>=1.21.1 in /home/dngback/anaconda3/envs/artistAssistant/lib/python3.12/site-packages (from requests<3.0.0,>=2.13.0->spacy) (2.2.1)\n",
      "Requirement already satisfied: certifi>=2017.4.17 in /home/dngback/anaconda3/envs/artistAssistant/lib/python3.12/site-packages (from requests<3.0.0,>=2.13.0->spacy) (2024.2.2)\n",
      "Collecting blis<0.8.0,>=0.7.8 (from thinc<8.3.0,>=8.2.2->spacy)\n",
      "  Downloading blis-0.7.11-cp312-cp312-manylinux_2_17_x86_64.manylinux2014_x86_64.whl.metadata (7.4 kB)\n",
      "Collecting confection<1.0.0,>=0.0.1 (from thinc<8.3.0,>=8.2.2->spacy)\n",
      "  Downloading confection-0.1.4-py3-none-any.whl.metadata (19 kB)\n",
      "Requirement already satisfied: click<9.0.0,>=7.1.1 in /home/dngback/anaconda3/envs/artistAssistant/lib/python3.12/site-packages (from typer<0.10.0,>=0.3.0->spacy) (8.1.7)\n",
      "Collecting cloudpathlib<0.17.0,>=0.7.0 (from weasel<0.4.0,>=0.1.0->spacy)\n",
      "  Downloading cloudpathlib-0.16.0-py3-none-any.whl.metadata (14 kB)\n",
      "Collecting MarkupSafe>=2.0 (from jinja2->spacy)\n",
      "  Downloading MarkupSafe-2.1.5-cp312-cp312-manylinux_2_17_x86_64.manylinux2014_x86_64.whl.metadata (3.0 kB)\n",
      "Downloading spacy-3.7.4-cp312-cp312-manylinux_2_17_x86_64.manylinux2014_x86_64.whl (6.5 MB)\n",
      "\u001b[2K   \u001b[90m━━━━━━━━━━━━━━━━━━━━━━━━━━━━━━━━━━━━━━━━\u001b[0m \u001b[32m6.5/6.5 MB\u001b[0m \u001b[31m3.2 MB/s\u001b[0m eta \u001b[36m0:00:00\u001b[0m00:01\u001b[0m00:01\u001b[0m\n",
      "\u001b[?25hDownloading catalogue-2.0.10-py3-none-any.whl (17 kB)\n",
      "Downloading cymem-2.0.8-cp312-cp312-manylinux_2_17_x86_64.manylinux2014_x86_64.whl (46 kB)\n",
      "\u001b[2K   \u001b[90m━━━━━━━━━━━━━━━━━━━━━━━━━━━━━━━━━━━━━━━━\u001b[0m \u001b[32m46.7/46.7 kB\u001b[0m \u001b[31m6.7 MB/s\u001b[0m eta \u001b[36m0:00:00\u001b[0m\n",
      "\u001b[?25hDownloading langcodes-3.3.0-py3-none-any.whl (181 kB)\n",
      "\u001b[2K   \u001b[90m━━━━━━━━━━━━━━━━━━━━━━━━━━━━━━━━━━━━━━━━\u001b[0m \u001b[32m181.6/181.6 kB\u001b[0m \u001b[31m3.8 MB/s\u001b[0m eta \u001b[36m0:00:00\u001b[0ma \u001b[36m0:00:01\u001b[0m\n",
      "\u001b[?25hDownloading murmurhash-1.0.10-cp312-cp312-manylinux_2_5_x86_64.manylinux1_x86_64.manylinux_2_17_x86_64.manylinux2014_x86_64.whl (29 kB)\n",
      "Downloading preshed-3.0.9-cp312-cp312-manylinux_2_5_x86_64.manylinux1_x86_64.manylinux_2_17_x86_64.manylinux2014_x86_64.whl (156 kB)\n",
      "\u001b[2K   \u001b[90m━━━━━━━━━━━━━━━━━━━━━━━━━━━━━━━━━━━━━━━━\u001b[0m \u001b[32m156.8/156.8 kB\u001b[0m \u001b[31m5.2 MB/s\u001b[0m eta \u001b[36m0:00:00\u001b[0m\n",
      "\u001b[?25hDownloading smart_open-6.4.0-py3-none-any.whl (57 kB)\n",
      "\u001b[2K   \u001b[90m━━━━━━━━━━━━━━━━━━━━━━━━━━━━━━━━━━━━━━━━\u001b[0m \u001b[32m57.0/57.0 kB\u001b[0m \u001b[31m3.9 MB/s\u001b[0m eta \u001b[36m0:00:00\u001b[0m\n",
      "\u001b[?25hDownloading spacy_legacy-3.0.12-py2.py3-none-any.whl (29 kB)\n",
      "Downloading spacy_loggers-1.0.5-py3-none-any.whl (22 kB)\n",
      "Downloading srsly-2.4.8-cp312-cp312-manylinux_2_17_x86_64.manylinux2014_x86_64.whl (491 kB)\n",
      "\u001b[2K   \u001b[90m━━━━━━━━━━━━━━━━━━━━━━━━━━━━━━━━━━━━━━━━\u001b[0m \u001b[32m491.7/491.7 kB\u001b[0m \u001b[31m4.5 MB/s\u001b[0m eta \u001b[36m0:00:00\u001b[0m00:01\u001b[0m00:01\u001b[0m\n",
      "\u001b[?25hDownloading thinc-8.2.3-cp312-cp312-manylinux_2_17_x86_64.manylinux2014_x86_64.whl (865 kB)\n",
      "\u001b[2K   \u001b[90m━━━━━━━━━━━━━━━━━━━━━━━━━━━━━━━━━━━━━━━━\u001b[0m \u001b[32m865.0/865.0 kB\u001b[0m \u001b[31m5.0 MB/s\u001b[0m eta \u001b[36m0:00:00\u001b[0ma \u001b[36m0:00:01\u001b[0m\n",
      "\u001b[?25hDownloading wasabi-1.1.2-py3-none-any.whl (27 kB)\n",
      "Downloading weasel-0.3.4-py3-none-any.whl (50 kB)\n",
      "\u001b[2K   \u001b[90m━━━━━━━━━━━━━━━━━━━━━━━━━━━━━━━━━━━━━━━━\u001b[0m \u001b[32m50.1/50.1 kB\u001b[0m \u001b[31m4.4 MB/s\u001b[0m eta \u001b[36m0:00:00\u001b[0m\n",
      "\u001b[?25hDownloading Jinja2-3.1.3-py3-none-any.whl (133 kB)\n",
      "\u001b[2K   \u001b[90m━━━━━━━━━━━━━━━━━━━━━━━━━━━━━━━━━━━━━━━━\u001b[0m \u001b[32m133.2/133.2 kB\u001b[0m \u001b[31m3.7 MB/s\u001b[0m eta \u001b[36m0:00:00\u001b[0m00:01\u001b[0m\n",
      "\u001b[?25hDownloading blis-0.7.11-cp312-cp312-manylinux_2_17_x86_64.manylinux2014_x86_64.whl (10.2 MB)\n",
      "\u001b[2K   \u001b[90m━━━━━━━━━━━━━━━━━━━━━━━━━━━━━━━━━━━━━━━━\u001b[0m \u001b[32m10.2/10.2 MB\u001b[0m \u001b[31m3.0 MB/s\u001b[0m eta \u001b[36m0:00:00\u001b[0m00:01\u001b[0m0:01\u001b[0m\n",
      "\u001b[?25hDownloading cloudpathlib-0.16.0-py3-none-any.whl (45 kB)\n",
      "\u001b[2K   \u001b[90m━━━━━━━━━━━━━━━━━━━━━━━━━━━━━━━━━━━━━━━━\u001b[0m \u001b[32m45.0/45.0 kB\u001b[0m \u001b[31m3.7 MB/s\u001b[0m eta \u001b[36m0:00:00\u001b[0m\n",
      "\u001b[?25hDownloading confection-0.1.4-py3-none-any.whl (35 kB)\n",
      "Downloading MarkupSafe-2.1.5-cp312-cp312-manylinux_2_17_x86_64.manylinux2014_x86_64.whl (28 kB)\n",
      "Installing collected packages: cymem, wasabi, spacy-loggers, spacy-legacy, smart-open, murmurhash, MarkupSafe, langcodes, cloudpathlib, catalogue, blis, srsly, preshed, jinja2, confection, weasel, thinc, spacy\n",
      "Successfully installed MarkupSafe-2.1.5 blis-0.7.11 catalogue-2.0.10 cloudpathlib-0.16.0 confection-0.1.4 cymem-2.0.8 jinja2-3.1.3 langcodes-3.3.0 murmurhash-1.0.10 preshed-3.0.9 smart-open-6.4.0 spacy-3.7.4 spacy-legacy-3.0.12 spacy-loggers-1.0.5 srsly-2.4.8 thinc-8.2.3 wasabi-1.1.2 weasel-0.3.4\n"
     ]
    }
   ],
   "source": [
    "!pip install spacy"
   ]
  },
  {
   "cell_type": "code",
   "execution_count": 65,
   "metadata": {},
   "outputs": [],
   "source": [
    "import nest_asyncio\n",
    "nest_asyncio.apply()"
   ]
  },
  {
   "cell_type": "code",
   "execution_count": 72,
   "metadata": {},
   "outputs": [
    {
     "name": "stderr",
     "output_type": "stream",
     "text": [
      "/home/dngback/anaconda3/envs/artistAssistant/lib/python3.12/site-packages/llama_index/core/evaluation/dataset_generation.py:212: DeprecationWarning: Call to deprecated class DatasetGenerator. (Deprecated in favor of `RagDatasetGenerator` which should be used instead.)\n",
      "  return cls(\n"
     ]
    }
   ],
   "source": [
    "from llama_index.core.evaluation import DatasetGenerator\n",
    "\n",
    "# Generate Question\n",
    "data_generator = DatasetGenerator.from_documents(docs)"
   ]
  },
  {
   "cell_type": "code",
   "execution_count": 74,
   "metadata": {},
   "outputs": [
    {
     "name": "stdout",
     "output_type": "stream",
     "text": [
      "INFO:httpx:HTTP Request: POST https://artist-assistant-uk-south.openai.azure.com//openai/deployments/35turbo16k/chat/completions?api-version=2024-02-15-preview \"HTTP/1.1 200 OK\"\n",
      "HTTP Request: POST https://artist-assistant-uk-south.openai.azure.com//openai/deployments/35turbo16k/chat/completions?api-version=2024-02-15-preview \"HTTP/1.1 200 OK\"\n",
      "HTTP Request: POST https://artist-assistant-uk-south.openai.azure.com//openai/deployments/35turbo16k/chat/completions?api-version=2024-02-15-preview \"HTTP/1.1 200 OK\"\n",
      "HTTP Request: POST https://artist-assistant-uk-south.openai.azure.com//openai/deployments/35turbo16k/chat/completions?api-version=2024-02-15-preview \"HTTP/1.1 200 OK\"\n",
      "HTTP Request: POST https://artist-assistant-uk-south.openai.azure.com//openai/deployments/35turbo16k/chat/completions?api-version=2024-02-15-preview \"HTTP/1.1 200 OK\"\n"
     ]
    },
    {
     "name": "stderr",
     "output_type": "stream",
     "text": [
      "/home/dngback/anaconda3/envs/artistAssistant/lib/python3.12/site-packages/llama_index/core/evaluation/dataset_generation.py:309: DeprecationWarning: Call to deprecated class QueryResponseDataset. (Deprecated in favor of `LabelledRagDataset` which should be used instead.)\n",
      "  return QueryResponseDataset(queries=queries, responses=responses_dict)\n"
     ]
    }
   ],
   "source": [
    "eval_questions = data_generator.generate_questions_from_nodes()"
   ]
  },
  {
   "cell_type": "code",
   "execution_count": 76,
   "metadata": {},
   "outputs": [
    {
     "name": "stdout",
     "output_type": "stream",
     "text": [
      "['Who is the artist mentioned in the context information?', 'How long has the artist been in the music industry?', \"What is the title of the main track in the artist's latest release?\", 'Who is the composer of the main track?', 'When did the artist announce her marriage?', 'Who played a role in bringing the artist and her husband together?', \"What was the artist's first impression of her husband?\", 'Why was the artist not going out at night during a certain period?', 'Who expressed concern for the artist and encouraged her to go out?', 'How did the artist meet her husband?']\n"
     ]
    }
   ],
   "source": [
    "print(eval_questions)"
   ]
  },
  {
   "cell_type": "code",
   "execution_count": 77,
   "metadata": {},
   "outputs": [],
   "source": [
    "import pandas as pd\n",
    "from llama_index.core import SimpleDirectoryReader, VectorStoreIndex, Response\n",
    "\n",
    "\n",
    "# define jupyter display function\n",
    "def display_eval_df(query: str, response: Response, eval_result: str) -> None:\n",
    "    eval_df = pd.DataFrame(\n",
    "        {\n",
    "            \"Query\": query,\n",
    "            \"Response\": str(response),\n",
    "            \"Source\": (\n",
    "                response.source_nodes[0].node.get_content()[:1000] + \"...\"\n",
    "            ),\n",
    "            \"Evaluation Result\": eval_result,\n",
    "        },\n",
    "        index=[0],\n",
    "    )\n",
    "    eval_df = eval_df.style.set_properties(\n",
    "        **{\n",
    "            \"inline-size\": \"600px\",\n",
    "            \"overflow-wrap\": \"break-word\",\n",
    "        },\n",
    "        subset=[\"Response\", \"Source\"]\n",
    "    )\n",
    "    display(eval_df)"
   ]
  },
  {
   "cell_type": "code",
   "execution_count": 78,
   "metadata": {},
   "outputs": [],
   "source": [
    "from llama_index.core.evaluation import DatasetGenerator, RelevancyEvaluator\n",
    "\n",
    "\n",
    "evaluator_gpt4 = RelevancyEvaluator(llm=llm)"
   ]
  },
  {
   "cell_type": "code",
   "execution_count": 79,
   "metadata": {},
   "outputs": [
    {
     "name": "stdout",
     "output_type": "stream",
     "text": [
      "INFO:httpx:HTTP Request: POST https://artist-assistant-uk-south.openai.azure.com//openai/deployments/ada2/embeddings?api-version=2024-02-15-preview \"HTTP/1.1 200 OK\"\n",
      "HTTP Request: POST https://artist-assistant-uk-south.openai.azure.com//openai/deployments/ada2/embeddings?api-version=2024-02-15-preview \"HTTP/1.1 200 OK\"\n",
      "HTTP Request: POST https://artist-assistant-uk-south.openai.azure.com//openai/deployments/ada2/embeddings?api-version=2024-02-15-preview \"HTTP/1.1 200 OK\"\n",
      "HTTP Request: POST https://artist-assistant-uk-south.openai.azure.com//openai/deployments/ada2/embeddings?api-version=2024-02-15-preview \"HTTP/1.1 200 OK\"\n",
      "HTTP Request: POST https://artist-assistant-uk-south.openai.azure.com//openai/deployments/ada2/embeddings?api-version=2024-02-15-preview \"HTTP/1.1 200 OK\"\n",
      "INFO:httpx:HTTP Request: POST https://artist-assistant-uk-south.openai.azure.com//openai/deployments/35turbo16k/chat/completions?api-version=2024-02-15-preview \"HTTP/1.1 200 OK\"\n",
      "HTTP Request: POST https://artist-assistant-uk-south.openai.azure.com//openai/deployments/35turbo16k/chat/completions?api-version=2024-02-15-preview \"HTTP/1.1 200 OK\"\n",
      "HTTP Request: POST https://artist-assistant-uk-south.openai.azure.com//openai/deployments/35turbo16k/chat/completions?api-version=2024-02-15-preview \"HTTP/1.1 200 OK\"\n",
      "HTTP Request: POST https://artist-assistant-uk-south.openai.azure.com//openai/deployments/35turbo16k/chat/completions?api-version=2024-02-15-preview \"HTTP/1.1 200 OK\"\n",
      "HTTP Request: POST https://artist-assistant-uk-south.openai.azure.com//openai/deployments/35turbo16k/chat/completions?api-version=2024-02-15-preview \"HTTP/1.1 200 OK\"\n",
      "INFO:httpx:HTTP Request: POST https://artist-assistant-uk-south.openai.azure.com//openai/deployments/35turbo16k/chat/completions?api-version=2024-02-15-preview \"HTTP/1.1 200 OK\"\n",
      "HTTP Request: POST https://artist-assistant-uk-south.openai.azure.com//openai/deployments/35turbo16k/chat/completions?api-version=2024-02-15-preview \"HTTP/1.1 200 OK\"\n",
      "HTTP Request: POST https://artist-assistant-uk-south.openai.azure.com//openai/deployments/35turbo16k/chat/completions?api-version=2024-02-15-preview \"HTTP/1.1 200 OK\"\n",
      "HTTP Request: POST https://artist-assistant-uk-south.openai.azure.com//openai/deployments/35turbo16k/chat/completions?api-version=2024-02-15-preview \"HTTP/1.1 200 OK\"\n",
      "HTTP Request: POST https://artist-assistant-uk-south.openai.azure.com//openai/deployments/35turbo16k/chat/completions?api-version=2024-02-15-preview \"HTTP/1.1 200 OK\"\n"
     ]
    }
   ],
   "source": [
    "query_engine = index.as_query_engine()\n",
    "response_vector = query_engine.query(eval_questions[1])\n",
    "eval_result = evaluator_gpt4.evaluate_response(\n",
    "    query=eval_questions[1], response=response_vector\n",
    ")"
   ]
  },
  {
   "cell_type": "code",
   "execution_count": 82,
   "metadata": {},
   "outputs": [
    {
     "name": "stdout",
     "output_type": "stream",
     "text": [
      "query='How long has the artist been in the music industry?' contexts=['今年でデビュー23年目を迎える歌手の倖田來未（40）。「前編」では、下積み時代から芸能界における浮き沈みを経験しながら、「エロかっこいい」と称される人気歌手に上り詰めるまでの半生を聞いた。そんな彼女は1月18日にMusic ＆\\n    Live Package「WINGS」をリリースした。収録曲の作曲には夫も参加しているが、今回の「後編」では主に夫や息子など家族がアーティスト・倖田來未にどのような影響を与えているかをインタビューした。\\n倖田來未が1月18日に発売したMusic＆Live\\n    Package「WINGS」のメイントラックとなるミディアムバラード「Wings」のクレジットを見ると、作曲者はHi－yunk（ハイユンク）とある。これは、倖田の夫であるKENJI03の作家名義だ。\\n「コンペで楽曲を集め、ラスト3曲に絞った上で、タイアップ先が『これがいい』と選んでくださったのが『Wings』でした。この曲に決まった時は、素直にうれしかったですね。私の大好きな曲だから。旦那は『倖田來未の新しい声を引き出したい』といつも考えているような人なので、今だからこそ私が歌える楽曲を、ということで完成させた曲なんです」\\n倖田は2011年12月3日、ロックバンド「BACK－ON」のKENJI03との結婚を発表。同月16日には妊娠中であることも公表した。2 人の仲を取り持ったのは、妹のmisonoだったという。倖田は夫とのなれそめをこう振り返る。\\n「妹のミーモ（misonoの愛称）が当時、旦那とコラボしていて、ミーモにコラボ曲の入ったアルバムを聞かせてもらったんです。『えっ、コラボしている人、めっちゃいい声してるやん』というのが、私の第一印象。まず声に惚れました（笑）。その後、ミュージックビデオを見ると『えっ、イケメンやん』と。当時の私は夜に出歩かない時期が半年以上も続いていました。ミーモは心配して『お姉もそろそろ、ご飯を食べにとか、外に出かけた方がいいよ』と言ってくれていました。それで、外出した時に彼を紹介してもらいました」', '結婚12年目「倖田來未」が明かす“夫と息子”との私生活\\u3000「親子でプロレスにハマってます」'] response='The artist has been in the music industry for 23 years.' passing=False feedback='NO' score=0.0 pairwise_source=None invalid_result=False invalid_reason=None\n"
     ]
    }
   ],
   "source": [
    "print(eval_result)"
   ]
  },
  {
   "cell_type": "code",
   "execution_count": 9,
   "metadata": {},
   "outputs": [
    {
     "name": "stdout",
     "output_type": "stream",
     "text": [
      "Collecting llama-index-postprocessor-cohere-rerank\n",
      "\u001b[33m  WARNING: Retrying (Retry(total=4, connect=None, read=None, redirect=None, status=None)) after connection broken by 'ConnectTimeoutError(<pip._vendor.urllib3.connection.HTTPSConnection object at 0x7ea23ccbd430>, 'Connection to files.pythonhosted.org timed out. (connect timeout=15)')': /packages/64/84/d3fa7c1653fced7444c75e8e849b0548be5e0b86fb9732fdc63cd55877c7/llama_index_postprocessor_cohere_rerank-0.1.2-py3-none-any.whl.metadata\u001b[0m\u001b[33m\n",
      "\u001b[0m  Downloading llama_index_postprocessor_cohere_rerank-0.1.2-py3-none-any.whl.metadata (720 bytes)\n",
      "Collecting cohere<5.0,>=4.45 (from llama-index-postprocessor-cohere-rerank)\n",
      "  Downloading cohere-4.52-py3-none-any.whl.metadata (6.0 kB)\n",
      "Requirement already satisfied: llama-index-core<0.11.0,>=0.10.1 in /home/dngback/anaconda3/envs/artistAssistant/lib/python3.12/site-packages (from llama-index-postprocessor-cohere-rerank) (0.10.15)\n",
      "Requirement already satisfied: aiohttp<4.0,>=3.0 in /home/dngback/anaconda3/envs/artistAssistant/lib/python3.12/site-packages (from cohere<5.0,>=4.45->llama-index-postprocessor-cohere-rerank) (3.9.3)\n",
      "Requirement already satisfied: backoff<3.0,>=2.0 in /home/dngback/anaconda3/envs/artistAssistant/lib/python3.12/site-packages (from cohere<5.0,>=4.45->llama-index-postprocessor-cohere-rerank) (2.2.1)\n",
      "Collecting fastavro<2.0,>=1.8 (from cohere<5.0,>=4.45->llama-index-postprocessor-cohere-rerank)\n",
      "  Downloading fastavro-1.9.4-cp312-cp312-manylinux_2_17_x86_64.manylinux2014_x86_64.whl.metadata (5.5 kB)\n",
      "Requirement already satisfied: importlib_metadata<7.0,>=6.0 in /home/dngback/anaconda3/envs/artistAssistant/lib/python3.12/site-packages (from cohere<5.0,>=4.45->llama-index-postprocessor-cohere-rerank) (6.11.0)\n",
      "Requirement already satisfied: requests<3.0.0,>=2.25.0 in /home/dngback/anaconda3/envs/artistAssistant/lib/python3.12/site-packages (from cohere<5.0,>=4.45->llama-index-postprocessor-cohere-rerank) (2.31.0)\n",
      "Requirement already satisfied: urllib3<3,>=1.26 in /home/dngback/anaconda3/envs/artistAssistant/lib/python3.12/site-packages (from cohere<5.0,>=4.45->llama-index-postprocessor-cohere-rerank) (2.2.1)\n",
      "Requirement already satisfied: PyYAML>=6.0.1 in /home/dngback/anaconda3/envs/artistAssistant/lib/python3.12/site-packages (from llama-index-core<0.11.0,>=0.10.1->llama-index-postprocessor-cohere-rerank) (6.0.1)\n",
      "Requirement already satisfied: SQLAlchemy>=1.4.49 in /home/dngback/anaconda3/envs/artistAssistant/lib/python3.12/site-packages (from SQLAlchemy[asyncio]>=1.4.49->llama-index-core<0.11.0,>=0.10.1->llama-index-postprocessor-cohere-rerank) (2.0.28)\n",
      "Requirement already satisfied: dataclasses-json in /home/dngback/anaconda3/envs/artistAssistant/lib/python3.12/site-packages (from llama-index-core<0.11.0,>=0.10.1->llama-index-postprocessor-cohere-rerank) (0.6.4)\n",
      "Requirement already satisfied: deprecated>=1.2.9.3 in /home/dngback/anaconda3/envs/artistAssistant/lib/python3.12/site-packages (from llama-index-core<0.11.0,>=0.10.1->llama-index-postprocessor-cohere-rerank) (1.2.14)\n",
      "Requirement already satisfied: dirtyjson<2.0.0,>=1.0.8 in /home/dngback/anaconda3/envs/artistAssistant/lib/python3.12/site-packages (from llama-index-core<0.11.0,>=0.10.1->llama-index-postprocessor-cohere-rerank) (1.0.8)\n",
      "Requirement already satisfied: fsspec>=2023.5.0 in /home/dngback/anaconda3/envs/artistAssistant/lib/python3.12/site-packages (from llama-index-core<0.11.0,>=0.10.1->llama-index-postprocessor-cohere-rerank) (2024.2.0)\n",
      "Requirement already satisfied: httpx in /home/dngback/anaconda3/envs/artistAssistant/lib/python3.12/site-packages (from llama-index-core<0.11.0,>=0.10.1->llama-index-postprocessor-cohere-rerank) (0.27.0)\n",
      "Requirement already satisfied: llamaindex-py-client<0.2.0,>=0.1.13 in /home/dngback/anaconda3/envs/artistAssistant/lib/python3.12/site-packages (from llama-index-core<0.11.0,>=0.10.1->llama-index-postprocessor-cohere-rerank) (0.1.13)\n",
      "Requirement already satisfied: nest-asyncio<2.0.0,>=1.5.8 in /home/dngback/anaconda3/envs/artistAssistant/lib/python3.12/site-packages (from llama-index-core<0.11.0,>=0.10.1->llama-index-postprocessor-cohere-rerank) (1.6.0)\n",
      "Requirement already satisfied: networkx>=3.0 in /home/dngback/anaconda3/envs/artistAssistant/lib/python3.12/site-packages (from llama-index-core<0.11.0,>=0.10.1->llama-index-postprocessor-cohere-rerank) (3.2.1)\n",
      "Requirement already satisfied: nltk<4.0.0,>=3.8.1 in /home/dngback/anaconda3/envs/artistAssistant/lib/python3.12/site-packages (from llama-index-core<0.11.0,>=0.10.1->llama-index-postprocessor-cohere-rerank) (3.8.1)\n",
      "Requirement already satisfied: numpy in /home/dngback/anaconda3/envs/artistAssistant/lib/python3.12/site-packages (from llama-index-core<0.11.0,>=0.10.1->llama-index-postprocessor-cohere-rerank) (1.26.4)\n",
      "Requirement already satisfied: openai>=1.1.0 in /home/dngback/anaconda3/envs/artistAssistant/lib/python3.12/site-packages (from llama-index-core<0.11.0,>=0.10.1->llama-index-postprocessor-cohere-rerank) (1.13.3)\n",
      "Requirement already satisfied: pandas in /home/dngback/anaconda3/envs/artistAssistant/lib/python3.12/site-packages (from llama-index-core<0.11.0,>=0.10.1->llama-index-postprocessor-cohere-rerank) (2.2.1)\n",
      "Requirement already satisfied: pillow>=9.0.0 in /home/dngback/anaconda3/envs/artistAssistant/lib/python3.12/site-packages (from llama-index-core<0.11.0,>=0.10.1->llama-index-postprocessor-cohere-rerank) (10.2.0)\n",
      "Requirement already satisfied: tenacity<9.0.0,>=8.2.0 in /home/dngback/anaconda3/envs/artistAssistant/lib/python3.12/site-packages (from llama-index-core<0.11.0,>=0.10.1->llama-index-postprocessor-cohere-rerank) (8.2.3)\n",
      "Requirement already satisfied: tiktoken>=0.3.3 in /home/dngback/anaconda3/envs/artistAssistant/lib/python3.12/site-packages (from llama-index-core<0.11.0,>=0.10.1->llama-index-postprocessor-cohere-rerank) (0.6.0)\n",
      "Requirement already satisfied: tqdm<5.0.0,>=4.66.1 in /home/dngback/anaconda3/envs/artistAssistant/lib/python3.12/site-packages (from llama-index-core<0.11.0,>=0.10.1->llama-index-postprocessor-cohere-rerank) (4.66.2)\n",
      "Requirement already satisfied: typing-extensions>=4.5.0 in /home/dngback/anaconda3/envs/artistAssistant/lib/python3.12/site-packages (from llama-index-core<0.11.0,>=0.10.1->llama-index-postprocessor-cohere-rerank) (4.10.0)\n",
      "Requirement already satisfied: typing-inspect>=0.8.0 in /home/dngback/anaconda3/envs/artistAssistant/lib/python3.12/site-packages (from llama-index-core<0.11.0,>=0.10.1->llama-index-postprocessor-cohere-rerank) (0.9.0)\n",
      "Requirement already satisfied: aiosignal>=1.1.2 in /home/dngback/anaconda3/envs/artistAssistant/lib/python3.12/site-packages (from aiohttp<4.0,>=3.0->cohere<5.0,>=4.45->llama-index-postprocessor-cohere-rerank) (1.3.1)\n",
      "Requirement already satisfied: attrs>=17.3.0 in /home/dngback/anaconda3/envs/artistAssistant/lib/python3.12/site-packages (from aiohttp<4.0,>=3.0->cohere<5.0,>=4.45->llama-index-postprocessor-cohere-rerank) (23.2.0)\n",
      "Requirement already satisfied: frozenlist>=1.1.1 in /home/dngback/anaconda3/envs/artistAssistant/lib/python3.12/site-packages (from aiohttp<4.0,>=3.0->cohere<5.0,>=4.45->llama-index-postprocessor-cohere-rerank) (1.4.1)\n",
      "Requirement already satisfied: multidict<7.0,>=4.5 in /home/dngback/anaconda3/envs/artistAssistant/lib/python3.12/site-packages (from aiohttp<4.0,>=3.0->cohere<5.0,>=4.45->llama-index-postprocessor-cohere-rerank) (6.0.5)\n",
      "Requirement already satisfied: yarl<2.0,>=1.0 in /home/dngback/anaconda3/envs/artistAssistant/lib/python3.12/site-packages (from aiohttp<4.0,>=3.0->cohere<5.0,>=4.45->llama-index-postprocessor-cohere-rerank) (1.9.4)\n",
      "Requirement already satisfied: wrapt<2,>=1.10 in /home/dngback/anaconda3/envs/artistAssistant/lib/python3.12/site-packages (from deprecated>=1.2.9.3->llama-index-core<0.11.0,>=0.10.1->llama-index-postprocessor-cohere-rerank) (1.16.0)\n",
      "Requirement already satisfied: zipp>=0.5 in /home/dngback/anaconda3/envs/artistAssistant/lib/python3.12/site-packages (from importlib_metadata<7.0,>=6.0->cohere<5.0,>=4.45->llama-index-postprocessor-cohere-rerank) (3.17.0)\n",
      "Requirement already satisfied: pydantic>=1.10 in /home/dngback/anaconda3/envs/artistAssistant/lib/python3.12/site-packages (from llamaindex-py-client<0.2.0,>=0.1.13->llama-index-core<0.11.0,>=0.10.1->llama-index-postprocessor-cohere-rerank) (2.6.3)\n",
      "Requirement already satisfied: anyio in /home/dngback/anaconda3/envs/artistAssistant/lib/python3.12/site-packages (from httpx->llama-index-core<0.11.0,>=0.10.1->llama-index-postprocessor-cohere-rerank) (4.3.0)\n",
      "Requirement already satisfied: certifi in /home/dngback/anaconda3/envs/artistAssistant/lib/python3.12/site-packages (from httpx->llama-index-core<0.11.0,>=0.10.1->llama-index-postprocessor-cohere-rerank) (2024.2.2)\n",
      "Requirement already satisfied: httpcore==1.* in /home/dngback/anaconda3/envs/artistAssistant/lib/python3.12/site-packages (from httpx->llama-index-core<0.11.0,>=0.10.1->llama-index-postprocessor-cohere-rerank) (1.0.4)\n",
      "Requirement already satisfied: idna in /home/dngback/anaconda3/envs/artistAssistant/lib/python3.12/site-packages (from httpx->llama-index-core<0.11.0,>=0.10.1->llama-index-postprocessor-cohere-rerank) (3.6)\n",
      "Requirement already satisfied: sniffio in /home/dngback/anaconda3/envs/artistAssistant/lib/python3.12/site-packages (from httpx->llama-index-core<0.11.0,>=0.10.1->llama-index-postprocessor-cohere-rerank) (1.3.1)\n",
      "Requirement already satisfied: h11<0.15,>=0.13 in /home/dngback/anaconda3/envs/artistAssistant/lib/python3.12/site-packages (from httpcore==1.*->httpx->llama-index-core<0.11.0,>=0.10.1->llama-index-postprocessor-cohere-rerank) (0.14.0)\n",
      "Requirement already satisfied: click in /home/dngback/anaconda3/envs/artistAssistant/lib/python3.12/site-packages (from nltk<4.0.0,>=3.8.1->llama-index-core<0.11.0,>=0.10.1->llama-index-postprocessor-cohere-rerank) (8.1.7)\n",
      "Requirement already satisfied: joblib in /home/dngback/anaconda3/envs/artistAssistant/lib/python3.12/site-packages (from nltk<4.0.0,>=3.8.1->llama-index-core<0.11.0,>=0.10.1->llama-index-postprocessor-cohere-rerank) (1.3.2)\n",
      "Requirement already satisfied: regex>=2021.8.3 in /home/dngback/anaconda3/envs/artistAssistant/lib/python3.12/site-packages (from nltk<4.0.0,>=3.8.1->llama-index-core<0.11.0,>=0.10.1->llama-index-postprocessor-cohere-rerank) (2023.12.25)\n",
      "Requirement already satisfied: distro<2,>=1.7.0 in /home/dngback/anaconda3/envs/artistAssistant/lib/python3.12/site-packages (from openai>=1.1.0->llama-index-core<0.11.0,>=0.10.1->llama-index-postprocessor-cohere-rerank) (1.9.0)\n",
      "Requirement already satisfied: charset-normalizer<4,>=2 in /home/dngback/anaconda3/envs/artistAssistant/lib/python3.12/site-packages (from requests<3.0.0,>=2.25.0->cohere<5.0,>=4.45->llama-index-postprocessor-cohere-rerank) (3.3.2)\n",
      "Requirement already satisfied: greenlet!=0.4.17 in /home/dngback/anaconda3/envs/artistAssistant/lib/python3.12/site-packages (from SQLAlchemy>=1.4.49->SQLAlchemy[asyncio]>=1.4.49->llama-index-core<0.11.0,>=0.10.1->llama-index-postprocessor-cohere-rerank) (3.0.3)\n",
      "Requirement already satisfied: mypy-extensions>=0.3.0 in /home/dngback/anaconda3/envs/artistAssistant/lib/python3.12/site-packages (from typing-inspect>=0.8.0->llama-index-core<0.11.0,>=0.10.1->llama-index-postprocessor-cohere-rerank) (1.0.0)\n",
      "Requirement already satisfied: marshmallow<4.0.0,>=3.18.0 in /home/dngback/anaconda3/envs/artistAssistant/lib/python3.12/site-packages (from dataclasses-json->llama-index-core<0.11.0,>=0.10.1->llama-index-postprocessor-cohere-rerank) (3.21.0)\n",
      "Requirement already satisfied: python-dateutil>=2.8.2 in /home/dngback/anaconda3/envs/artistAssistant/lib/python3.12/site-packages (from pandas->llama-index-core<0.11.0,>=0.10.1->llama-index-postprocessor-cohere-rerank) (2.9.0)\n",
      "Requirement already satisfied: pytz>=2020.1 in /home/dngback/anaconda3/envs/artistAssistant/lib/python3.12/site-packages (from pandas->llama-index-core<0.11.0,>=0.10.1->llama-index-postprocessor-cohere-rerank) (2024.1)\n",
      "Requirement already satisfied: tzdata>=2022.7 in /home/dngback/anaconda3/envs/artistAssistant/lib/python3.12/site-packages (from pandas->llama-index-core<0.11.0,>=0.10.1->llama-index-postprocessor-cohere-rerank) (2024.1)\n",
      "Requirement already satisfied: packaging>=17.0 in /home/dngback/anaconda3/envs/artistAssistant/lib/python3.12/site-packages (from marshmallow<4.0.0,>=3.18.0->dataclasses-json->llama-index-core<0.11.0,>=0.10.1->llama-index-postprocessor-cohere-rerank) (23.2)\n",
      "Requirement already satisfied: annotated-types>=0.4.0 in /home/dngback/anaconda3/envs/artistAssistant/lib/python3.12/site-packages (from pydantic>=1.10->llamaindex-py-client<0.2.0,>=0.1.13->llama-index-core<0.11.0,>=0.10.1->llama-index-postprocessor-cohere-rerank) (0.6.0)\n",
      "Requirement already satisfied: pydantic-core==2.16.3 in /home/dngback/anaconda3/envs/artistAssistant/lib/python3.12/site-packages (from pydantic>=1.10->llamaindex-py-client<0.2.0,>=0.1.13->llama-index-core<0.11.0,>=0.10.1->llama-index-postprocessor-cohere-rerank) (2.16.3)\n",
      "Requirement already satisfied: six>=1.5 in /home/dngback/anaconda3/envs/artistAssistant/lib/python3.12/site-packages (from python-dateutil>=2.8.2->pandas->llama-index-core<0.11.0,>=0.10.1->llama-index-postprocessor-cohere-rerank) (1.16.0)\n",
      "Downloading llama_index_postprocessor_cohere_rerank-0.1.2-py3-none-any.whl (2.7 kB)\n",
      "Downloading cohere-4.52-py3-none-any.whl (52 kB)\n",
      "\u001b[2K   \u001b[90m━━━━━━━━━━━━━━━━━━━━━━━━━━━━━━━━━━━━━━━━\u001b[0m \u001b[32m52.0/52.0 kB\u001b[0m \u001b[31m102.0 kB/s\u001b[0m eta \u001b[36m0:00:00\u001b[0ma \u001b[36m0:00:01\u001b[0m\n",
      "\u001b[?25hDownloading fastavro-1.9.4-cp312-cp312-manylinux_2_17_x86_64.manylinux2014_x86_64.whl (3.3 MB)\n",
      "\u001b[2K   \u001b[90m━━━━━━━━━━━━━━━━━━━━━━━━━━━━━━━━━━━━━━━━\u001b[0m \u001b[32m3.3/3.3 MB\u001b[0m \u001b[31m690.6 kB/s\u001b[0m eta \u001b[36m0:00:00\u001b[0m00:01\u001b[0m00:01\u001b[0m\n",
      "\u001b[?25hInstalling collected packages: fastavro, cohere, llama-index-postprocessor-cohere-rerank\n",
      "Successfully installed cohere-4.52 fastavro-1.9.4 llama-index-postprocessor-cohere-rerank-0.1.2\n"
     ]
    }
   ],
   "source": [
    "!pip install llama-index-postprocessor-cohere-rerank"
   ]
  },
  {
   "cell_type": "code",
   "execution_count": 27,
   "metadata": {},
   "outputs": [],
   "source": [
    "from llama_index.postprocessor.cohere_rerank import CohereRerank\n",
    "import os\n",
    "\n",
    "\n",
    "cohere_rerank = CohereRerank(api_key=\"kkTkIQ3I0k0us41B8n5csL8GoiPHnWsA6rCUfC2V\", top_n=5)"
   ]
  },
  {
   "cell_type": "code",
   "execution_count": 31,
   "metadata": {},
   "outputs": [],
   "source": [
    "from llama_index.postprocessor.cohere_rerank import CohereRerank\n",
    "from llama_index.core.response_synthesizers import TreeSummarize\n",
    "from llama_index.core.query_pipeline import QueryPipeline\n",
    "from llama_index.core.prompts.base import PromptTemplate\n",
    "\n",
    "# define modules\n",
    "# prompt_str = \"提供された情報をもとに、歌手の倖田來未になりきって質問 {question} に答えてください。\"\n",
    "prompt_str = \"Based on the information provided, pretend to be singer Koda Kumi and answer the question {question} with the style and speaking direction of singer Koda Kumi.\"\n",
    "prompt_tmpl = PromptTemplate(prompt_str)\n",
    "llm = llm\n",
    "retriever = index.as_retriever(similarity_top_k=10)\n",
    "summarizer = TreeSummarize(llm=llm)\n",
    "\n",
    "# define query pipeline\n",
    "p = QueryPipeline(verbose=True)\n",
    "p.add_modules(\n",
    "    {\n",
    "        \"llm\": llm,\n",
    "        \"prompt_tmpl\": prompt_tmpl,\n",
    "        \"retriever\": retriever,\n",
    "        \"summarizer\": summarizer,\n",
    "        \"reranker\": cohere_rerank,\n",
    "    }\n",
    ")\n",
    "p.add_link(\"prompt_tmpl\", \"llm\")\n",
    "p.add_link(\"llm\", \"retriever\")\n",
    "p.add_link(\"retriever\", \"reranker\", dest_key=\"nodes\")\n",
    "p.add_link(\"llm\", \"reranker\", dest_key=\"query_str\")\n",
    "p.add_link(\"reranker\", \"summarizer\", dest_key=\"nodes\")\n",
    "p.add_link(\"llm\", \"summarizer\", dest_key=\"query_str\")"
   ]
  },
  {
   "cell_type": "code",
   "execution_count": 33,
   "metadata": {},
   "outputs": [
    {
     "name": "stdout",
     "output_type": "stream",
     "text": [
      "\u001b[1;3;38;2;155;135;227m> Running module prompt_tmpl with input: \n",
      "question: ご結婚されて何年になりますか？\n",
      "\n",
      "\u001b[0m\u001b[1;3;38;2;155;135;227m> Running module llm with input: \n",
      "messages: Based on the information provided, pretend to be singer Koda Kumi and answer the question ご結婚されて何年になりますか？ with the style and speaking direction of singer Koda Kumi.\n",
      "\n",
      "\u001b[0mINFO:httpx:HTTP Request: POST https://artist-assistant-uk-south.openai.azure.com//openai/deployments/35turbo16k/chat/completions?api-version=2024-02-15-preview \"HTTP/1.1 200 OK\"\n",
      "HTTP Request: POST https://artist-assistant-uk-south.openai.azure.com//openai/deployments/35turbo16k/chat/completions?api-version=2024-02-15-preview \"HTTP/1.1 200 OK\"\n",
      "\u001b[1;3;38;2;155;135;227m> Running module retriever with input: \n",
      "input: assistant: あら、ご結婚のお話ですか？私、倖田來未ですわ。まずは、皆さん、こんにちは！私の結婚についてお聞きいただき、ありがとうございます。実は、私はまだ結婚していないのです。ええ、驚かれましたかしら？でも、私は自由な女性として、音楽に全力で取り組んできました。結婚は、いつかの未来にあるかもしれませんが、今はまだその時ではないのです。私の音楽活動に集中し、皆さんに素敵な音楽をお届けするこ...\n",
      "\n",
      "\u001b[0mINFO:httpx:HTTP Request: POST https://artist-assistant-uk-south.openai.azure.com//openai/deployments/ada2/embeddings?api-version=2024-02-15-preview \"HTTP/1.1 200 OK\"\n",
      "HTTP Request: POST https://artist-assistant-uk-south.openai.azure.com//openai/deployments/ada2/embeddings?api-version=2024-02-15-preview \"HTTP/1.1 200 OK\"\n",
      "\u001b[1;3;38;2;155;135;227m> Running module reranker with input: \n",
      "query_str: assistant: あら、ご結婚のお話ですか？私、倖田來未ですわ。まずは、皆さん、こんにちは！私の結婚についてお聞きいただき、ありがとうございます。実は、私はまだ結婚していないのです。ええ、驚かれましたかしら？でも、私は自由な女性として、音楽に全力で取り組んできました。結婚は、いつかの未来にあるかもしれませんが、今はまだその時ではないのです。私の音楽活動に集中し、皆さんに素敵な音楽をお届けするこ...\n",
      "nodes: [NodeWithScore(node=TextNode(id_='2d751f37-1e35-4ac0-a923-c3ef81e2f6b4', embedding=None, metadata={'tag': 'p', 'file_path': '/home/dngback/Desktop/artist_assistant/data_v2/cleaned_data/13400_page_1.ht...\n",
      "\n",
      "\u001b[0m"
     ]
    },
    {
     "name": "stderr",
     "output_type": "stream",
     "text": [
      "Query has been truncated from the right to 256 tokens from 306 tokens.\n"
     ]
    },
    {
     "name": "stdout",
     "output_type": "stream",
     "text": [
      "\u001b[1;3;38;2;155;135;227m> Running module summarizer with input: \n",
      "query_str: assistant: あら、ご結婚のお話ですか？私、倖田來未ですわ。まずは、皆さん、こんにちは！私の結婚についてお聞きいただき、ありがとうございます。実は、私はまだ結婚していないのです。ええ、驚かれましたかしら？でも、私は自由な女性として、音楽に全力で取り組んできました。結婚は、いつかの未来にあるかもしれませんが、今はまだその時ではないのです。私の音楽活動に集中し、皆さんに素敵な音楽をお届けするこ...\n",
      "nodes: [NodeWithScore(node=TextNode(id_='2cb1a275-1a09-49cc-bdbe-6633e0beebe9', embedding=None, metadata={'tag': 'p', 'file_path': '/home/dngback/Desktop/artist_assistant/data_v2/cleaned_data/eplus-253217.ht...\n",
      "\n",
      "\u001b[0mINFO:httpx:HTTP Request: POST https://artist-assistant-uk-south.openai.azure.com//openai/deployments/35turbo16k/chat/completions?api-version=2024-02-15-preview \"HTTP/1.1 200 OK\"\n",
      "HTTP Request: POST https://artist-assistant-uk-south.openai.azure.com//openai/deployments/35turbo16k/chat/completions?api-version=2024-02-15-preview \"HTTP/1.1 200 OK\"\n"
     ]
    }
   ],
   "source": [
    "output = p.run(question=\"ご結婚されて何年になりますか？\")"
   ]
  },
  {
   "cell_type": "code",
   "execution_count": 30,
   "metadata": {},
   "outputs": [
    {
     "name": "stdout",
     "output_type": "stream",
     "text": [
      "結婚12年目「倖田來未」が明かす“夫と息子”との私生活　「親子でプロレスにハマってます」\n",
      "________________________\n",
      "結婚12年目「倖田來未」が明かす“夫と息子”との私生活　「親子でプロレスにハマってます」\n",
      "________________________\n",
      "結婚12年目「倖田來未」が明かす“夫と息子”との私生活　「親子でプロレスにハマってます」\n",
      "________________________\n",
      "2020年にデビュー20周年を迎える倖田來未。2000年に全米で先行デビューを果たし、翌年には2ndシングル『Trust Your\n",
      "        Love』のリミックス盤が全米ビルボード総合チャートにランクイン。日本での活動でも、「エロかっこいい」を掲げて一大ムーブメントとなり、ファッションとしての「セクシー」を確立。『キューティーハニー』（2004）をはじめとするカバー曲の数々も独自のカラーに染め上げてきた。近年も、2014年にはVR（仮想現実）ミュージックビデオを世界で初めて制作。2018年から現在に至るまでは、2010年リリースのカバー曲『め組のひと』がTikTokで大ブレイクしている。倖田來未は、海外アーティストとのコラボも積極的におこなうなど、世界のエンタテインメントシーンへと意識を向けながら、日本の若者たちのトレンドの中心にも必ずいるのだ。そんな彼女が、20周年を前にしてさらにアグレッシブな進化を遂げる。ニューアルバム『re（CORD）』を自身の誕生日でもある11月13日（水）にリリースし、9月14日から10月25日まで4都市26公演のホールツアー「re（LIVE）」も開催。さらに11月7日・8日には、2013 年のアリーナツアーをホールで再現する「大阪文化芸術フェス2019\n",
      "        KODA KUMI LIVE JAPONESQUE\n",
      "        re（CUT）」を開催。そして、これらのタイトルに必ず付いているのが、「re」というワード。日本を代表するアーティスト、倖田來未はいったい何を「re」にしようとしているのか。この言葉の捉え方について探りながら、倖田來未というアーティストの深層を触れるために話を訊いた。\n",
      "________________________\n",
      "倖田來未、過去一緊張したツアーに…\n",
      "倖田來未「walk」に続く曲「RUN」誕生\n",
      "倖田來未、デビュー後の20年を振り返る\n",
      "倖田來未の今後は？\n",
      "倖田來未、夢を叶える秘訣を語る「夢を叶えるためには夢を見る」\n",
      "倖田來未（こうだくみ）プロフィール\n",
      "________________________\n"
     ]
    }
   ],
   "source": [
    "for source in output.source_nodes: \n",
    "    print(source.text)\n",
    "    print(\"________________________\")"
   ]
  },
  {
   "cell_type": "code",
   "execution_count": null,
   "metadata": {},
   "outputs": [],
   "source": []
  }
 ],
 "metadata": {
  "kernelspec": {
   "display_name": "artistAssistant",
   "language": "python",
   "name": "python3"
  },
  "language_info": {
   "codemirror_mode": {
    "name": "ipython",
    "version": 3
   },
   "file_extension": ".py",
   "mimetype": "text/x-python",
   "name": "python",
   "nbconvert_exporter": "python",
   "pygments_lexer": "ipython3",
   "version": "3.12.2"
  }
 },
 "nbformat": 4,
 "nbformat_minor": 2
}
