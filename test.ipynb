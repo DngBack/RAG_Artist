{
 "cells": [
  {
   "cell_type": "code",
   "execution_count": 6,
   "metadata": {},
   "outputs": [],
   "source": [
    "from llama_index.llms.azure_openai import AzureOpenAI\n",
    "from llama_index.embeddings.azure_openai import AzureOpenAIEmbedding\n",
    "from llama_index.core import VectorStoreIndex, SimpleDirectoryReader\n",
    "import logging\n",
    "import sys\n",
    "\n",
    "logging.basicConfig(\n",
    "    stream=sys.stdout, level=logging.INFO\n",
    ")  # logging.DEBUG for more verbose output\n",
    "logging.getLogger().addHandler(logging.StreamHandler(stream=sys.stdout))"
   ]
  },
  {
   "cell_type": "code",
   "execution_count": 7,
   "metadata": {},
   "outputs": [],
   "source": [
    "api_key = \"e30eb1259555481b91906de4cb5a3cd5\"\n",
    "azure_endpoint = \"https://artirst-assistant.openai.azure.com/\"\n",
    "api_version = \"2024-02-15-preview\"\n",
    "llm = AzureOpenAI(\n",
    "    model=\"gpt-3.5-turbo-instruct\",\n",
    "    deployment_name=\"35instruct\",\n",
    "    api_key=api_key,\n",
    "    azure_endpoint=azure_endpoint,\n",
    "    api_version=api_version,\n",
    ")# You need to deploy your own embedding model as well as your own chat completion model\n",
    "embed_model = AzureOpenAIEmbedding(\n",
    "    model=\"text-embedding-ada-002\",\n",
    "    deployment_name=\"emb3large\",\n",
    "    api_key=api_key,\n",
    "    azure_endpoint=azure_endpoint,\n",
    "    api_version=api_version,\n",
    ")"
   ]
  },
  {
   "cell_type": "code",
   "execution_count": 8,
   "metadata": {},
   "outputs": [],
   "source": [
    "from llama_index.core import Settings\n",
    "\n",
    "Settings.llm = llm\n",
    "Settings.embed_model = embed_model"
   ]
  },
  {
   "cell_type": "code",
   "execution_count": 9,
   "metadata": {},
   "outputs": [],
   "source": [
    "from llama_index.core.evaluation import DatasetGenerator, QueryResponseDataset\n",
    "from llama_index.llms.openai import OpenAI\n",
    "from llama_index.embeddings.openai import OpenAIEmbedding\n",
    "from llama_index.readers.file import FlatReader, HTMLTagReader\n",
    "from llama_index.core.node_parser import HTMLNodeParser, SentenceSplitter\n",
    "from llama_index.core.ingestion import IngestionPipeline\n",
    "from llama_index.core import set_global_handler\n",
    "from llama_index.core import SimpleDirectoryReader\n",
    "from llama_index.core.node_parser import SemanticSplitterNodeParser\n",
    "\n",
    "from pathlib import Path\n",
    "\n",
    "reader = SimpleDirectoryReader(\"test_data/\")\n",
    "\n",
    "docs = reader.load_data()"
   ]
  },
  {
   "cell_type": "code",
   "execution_count": 6,
   "metadata": {},
   "outputs": [
    {
     "name": "stdout",
     "output_type": "stream",
     "text": [
      "1\n"
     ]
    }
   ],
   "source": [
    "print(len(docs))"
   ]
  },
  {
   "cell_type": "code",
   "execution_count": 7,
   "metadata": {},
   "outputs": [
    {
     "data": {
      "text/plain": [
       "[Document(id_='ece0de1c-27df-4aa7-944f-554e783e794a', embedding=None, metadata={'file_path': '/home/dngback/Desktop/artist_assistant/test_data/13400_page_1.html', 'file_name': '/home/dngback/Desktop/artist_assistant/test_data/13400_page_1.html', 'file_type': 'text/html', 'file_size': 2626, 'creation_date': '2024-03-06', 'last_modified_date': '2024-03-05'}, excluded_embed_metadata_keys=['file_name', 'file_type', 'file_size', 'creation_date', 'last_modified_date', 'last_accessed_date'], excluded_llm_metadata_keys=['file_name', 'file_type', 'file_size', 'creation_date', 'last_modified_date', 'last_accessed_date'], relationships={}, text='<div>\\n  <h1 class=\"c-ttl-article__txt\">結婚12年目「倖田來未」が明かす“夫と息子”との私生活\\u3000「親子でプロレスにハマってます」</h1>\\n  <p>\\n    今年でデビュー23年目を迎える歌手の倖田來未（40）。「前編」では、下積み時代から芸能界における浮き沈みを経験しながら、「エロかっこいい」と称される人気歌手に上り詰めるまでの半生を聞いた。そんな彼女は1月18日にMusic ＆\\n    Live Package「WINGS」をリリースした。収録曲の作曲には夫も参加しているが、今回の「後編」では主に夫や息子など家族がアーティスト・倖田來未にどのような影響を与えているかをインタビューした。\\n  </p>\\n  <p>\\n    倖田來未が1月18日に発売したMusic＆Live\\n    Package「WINGS」のメイントラックとなるミディアムバラード「Wings」のクレジットを見ると、作曲者はHi－yunk（ハイユンク）とある。これは、倖田の夫であるKENJI03の作家名義だ。\\n  </p>\\n  <p>\\n    「コンペで楽曲を集め、ラスト3曲に絞った上で、タイアップ先が『これがいい』と選んでくださったのが『Wings』でした。この曲に決まった時は、素直にうれしかったですね。私の大好きな曲だから。旦那は『倖田來未の新しい声を引き出したい』といつも考えているような人なので、今だからこそ私が歌える楽曲を、ということで完成させた曲なんです」\\n  </p>\\n  <p>\\u3000倖田は2011年12月3日、ロックバンド「BACK－ON」のKENJI03との結婚を発表。同月16日には妊娠中であることも公表した。2 人の仲を取り持ったのは、妹のmisonoだったという。倖田は夫とのなれそめをこう振り返る。\\n  </p>\\n  <p>\\n    「妹のミーモ（misonoの愛称）が当時、旦那とコラボしていて、ミーモにコラボ曲の入ったアルバムを聞かせてもらったんです。『えっ、コラボしている人、めっちゃいい声してるやん』というのが、私の第一印象。まず声に惚れました（笑）。その後、ミュージックビデオを見ると『えっ、イケメンやん』と。当時の私は夜に出歩かない時期が半年以上も続いていました。ミーモは心配して『お姉もそろそろ、ご飯を食べにとか、外に出かけた方がいいよ』と言ってくれていました。それで、外出した時に彼を紹介してもらいました」\\n  </p>\\n</div>', start_char_idx=None, end_char_idx=None, text_template='{metadata_str}\\n\\n{content}', metadata_template='{key}: {value}', metadata_seperator='\\n')]"
      ]
     },
     "execution_count": 7,
     "metadata": {},
     "output_type": "execute_result"
    }
   ],
   "source": [
    "docs"
   ]
  },
  {
   "cell_type": "code",
   "execution_count": 8,
   "metadata": {},
   "outputs": [
    {
     "name": "stdout",
     "output_type": "stream",
     "text": [
      "INFO:httpx:HTTP Request: POST https://artirst-assistant.openai.azure.com//openai/deployments/emb3large/embeddings?api-version=2024-02-15-preview \"HTTP/1.1 200 OK\"\n",
      "HTTP Request: POST https://artirst-assistant.openai.azure.com//openai/deployments/emb3large/embeddings?api-version=2024-02-15-preview \"HTTP/1.1 200 OK\"\n"
     ]
    }
   ],
   "source": [
    "# Indexing documentation \n",
    "index = VectorStoreIndex.from_documents(docs)"
   ]
  },
  {
   "cell_type": "code",
   "execution_count": 12,
   "metadata": {},
   "outputs": [
    {
     "name": "stdout",
     "output_type": "stream",
     "text": [
      "INFO:httpx:HTTP Request: POST https://artirst-assistant.openai.azure.com//openai/deployments/emb3large/embeddings?api-version=2024-02-15-preview \"HTTP/1.1 200 OK\"\n",
      "HTTP Request: POST https://artirst-assistant.openai.azure.com//openai/deployments/emb3large/embeddings?api-version=2024-02-15-preview \"HTTP/1.1 200 OK\"\n",
      "INFO:httpx:HTTP Request: POST https://artirst-assistant.openai.azure.com//openai/deployments/35instruct/completions?api-version=2024-02-15-preview \"HTTP/1.1 200 OK\"\n",
      "HTTP Request: POST https://artirst-assistant.openai.azure.com//openai/deployments/35instruct/completions?api-version=2024-02-15-preview \"HTTP/1.1 200 OK\"\n",
      "12年目\n"
     ]
    }
   ],
   "source": [
    "query_engine = index.as_query_engine()\n",
    "response = query_engine.query(\"倖田來未さんは結婚して何年目ですか？\")\n",
    "print(response)"
   ]
  },
  {
   "cell_type": "code",
   "execution_count": 17,
   "metadata": {},
   "outputs": [
    {
     "name": "stdout",
     "output_type": "stream",
     "text": [
      "INFO:httpx:HTTP Request: POST https://artirst-assistant.openai.azure.com//openai/deployments/emb3large/embeddings?api-version=2024-02-15-preview \"HTTP/1.1 200 OK\"\n",
      "HTTP Request: POST https://artirst-assistant.openai.azure.com//openai/deployments/emb3large/embeddings?api-version=2024-02-15-preview \"HTTP/1.1 200 OK\"\n",
      "INFO:httpx:HTTP Request: POST https://artirst-assistant.openai.azure.com//openai/deployments/35instruct/completions?api-version=2024-02-15-preview \"HTTP/1.1 200 OK\"\n",
      "HTTP Request: POST https://artirst-assistant.openai.azure.com//openai/deployments/35instruct/completions?api-version=2024-02-15-preview \"HTTP/1.1 200 OK\"\n",
      "\n",
      "Koda Kumi is a 40-year-old singer who has been in the music industry for 23 years.\n"
     ]
    }
   ],
   "source": [
    "query_engine = index.as_query_engine()\n",
    "response = query_engine.query(\"Who is Koda Kumi and how long has she been in the music industry?\")\n",
    "print(response)"
   ]
  },
  {
   "cell_type": "code",
   "execution_count": 16,
   "metadata": {},
   "outputs": [
    {
     "name": "stdout",
     "output_type": "stream",
     "text": [
      "INFO:httpx:HTTP Request: POST https://artirst-assistant.openai.azure.com//openai/deployments/emb3large/embeddings?api-version=2024-02-15-preview \"HTTP/1.1 200 OK\"\n",
      "HTTP Request: POST https://artirst-assistant.openai.azure.com//openai/deployments/emb3large/embeddings?api-version=2024-02-15-preview \"HTTP/1.1 200 OK\"\n",
      "INFO:httpx:HTTP Request: POST https://artirst-assistant.openai.azure.com//openai/deployments/35instruct/completions?api-version=2024-02-15-preview \"HTTP/1.1 200 OK\"\n",
      "HTTP Request: POST https://artirst-assistant.openai.azure.com//openai/deployments/35instruct/completions?api-version=2024-02-15-preview \"HTTP/1.1 200 OK\"\n",
      "\n",
      "倖田來未は歌手であり、今年でデビュー23年目を迎えています。\n"
     ]
    }
   ],
   "source": [
    "query_engine = index.as_query_engine()\n",
    "response = query_engine.query(\"倖田來未とは何者で、音楽業界でどれくらい働いていますか?\")\n",
    "print(response)"
   ]
  },
  {
   "cell_type": "markdown",
   "metadata": {},
   "source": [
    "---"
   ]
  },
  {
   "cell_type": "markdown",
   "metadata": {},
   "source": [
    "### Test Part 2: Deeper"
   ]
  },
  {
   "cell_type": "code",
   "execution_count": 1,
   "metadata": {},
   "outputs": [],
   "source": [
    "from llama_index.llms.azure_openai import AzureOpenAI\n",
    "from llama_index.embeddings.azure_openai import AzureOpenAIEmbedding\n",
    "from llama_index.core import VectorStoreIndex, SimpleDirectoryReader\n",
    "import logging\n",
    "import sys\n",
    "\n",
    "logging.basicConfig(\n",
    "    stream=sys.stdout, level=logging.INFO\n",
    ")  # logging.DEBUG for more verbose output\n",
    "logging.getLogger().addHandler(logging.StreamHandler(stream=sys.stdout))"
   ]
  },
  {
   "cell_type": "code",
   "execution_count": 2,
   "metadata": {},
   "outputs": [],
   "source": [
    "api_key = \"a83e2f795b9f4aada15fba7f6594d216\"\n",
    "azure_endpoint = \"https://artist-assistant-uk-south.openai.azure.com/\"\n",
    "api_version = \"2024-02-15-preview\"\n",
    "llm = AzureOpenAI(\n",
    "    model=\"gpt-35-turbo-16k\",\n",
    "    deployment_name=\"35turbo16k\",\n",
    "    api_key=api_key,\n",
    "    azure_endpoint=azure_endpoint,\n",
    "    api_version=api_version,\n",
    ")# You need to deploy your own embedding model as well as your own chat completion model\n",
    "embed_model = AzureOpenAIEmbedding(\n",
    "    model=\"text-embedding-ada-002\",\n",
    "    deployment_name=\"ada2\",\n",
    "    api_key=api_key,\n",
    "    azure_endpoint=azure_endpoint,\n",
    "    api_version=api_version,\n",
    ")"
   ]
  },
  {
   "cell_type": "code",
   "execution_count": 3,
   "metadata": {},
   "outputs": [],
   "source": [
    "from llama_index.core import Settings\n",
    "\n",
    "Settings.llm = llm\n",
    "Settings.embed_model = embed_model"
   ]
  },
  {
   "cell_type": "code",
   "execution_count": 5,
   "metadata": {},
   "outputs": [
    {
     "name": "stdout",
     "output_type": "stream",
     "text": [
      "INFO:httpx:HTTP Request: POST https://artist-assistant-uk-south.openai.azure.com//openai/deployments/ada2/embeddings?api-version=2024-02-15-preview \"HTTP/1.1 200 OK\"\n",
      "HTTP Request: POST https://artist-assistant-uk-south.openai.azure.com//openai/deployments/ada2/embeddings?api-version=2024-02-15-preview \"HTTP/1.1 200 OK\"\n",
      "INFO:httpx:HTTP Request: POST https://artist-assistant-uk-south.openai.azure.com//openai/deployments/ada2/embeddings?api-version=2024-02-15-preview \"HTTP/1.1 200 OK\"\n",
      "HTTP Request: POST https://artist-assistant-uk-south.openai.azure.com//openai/deployments/ada2/embeddings?api-version=2024-02-15-preview \"HTTP/1.1 200 OK\"\n",
      "INFO:httpx:HTTP Request: POST https://artist-assistant-uk-south.openai.azure.com//openai/deployments/ada2/embeddings?api-version=2024-02-15-preview \"HTTP/1.1 200 OK\"\n",
      "HTTP Request: POST https://artist-assistant-uk-south.openai.azure.com//openai/deployments/ada2/embeddings?api-version=2024-02-15-preview \"HTTP/1.1 200 OK\"\n",
      "INFO:httpx:HTTP Request: POST https://artist-assistant-uk-south.openai.azure.com//openai/deployments/ada2/embeddings?api-version=2024-02-15-preview \"HTTP/1.1 200 OK\"\n",
      "HTTP Request: POST https://artist-assistant-uk-south.openai.azure.com//openai/deployments/ada2/embeddings?api-version=2024-02-15-preview \"HTTP/1.1 200 OK\"\n"
     ]
    }
   ],
   "source": [
    "from llama_index.embeddings.openai import OpenAIEmbedding\n",
    "from llama_index.core.node_parser import HTMLNodeParser, SentenceSplitter\n",
    "from llama_index.core.ingestion import IngestionPipeline\n",
    "from llama_index.core import set_global_handler\n",
    "\n",
    "from llama_index.core.node_parser import SemanticSplitterNodeParser\n",
    "\n",
    "from pathlib import Path\n",
    "\n",
    "reader = SimpleDirectoryReader(\"datanotclean/\")\n",
    "\n",
    "docs = reader.load_data()\n",
    "\n",
    "\n",
    "pipeline = IngestionPipeline(\n",
    "    transformations=[\n",
    "        HTMLNodeParser.from_defaults(tags=[\"p\", \"h1\", \"br\"]),\n",
    "        SemanticSplitterNodeParser(\n",
    "            buffer_size=1, breakpoint_percentile_threshold=95, embed_model=embed_model\n",
    "        ),\n",
    "        embed_model,\n",
    "    ],\n",
    ")\n",
    "nodes = pipeline.run(documents=docs)"
   ]
  },
  {
   "cell_type": "code",
   "execution_count": 6,
   "metadata": {},
   "outputs": [
    {
     "name": "stdout",
     "output_type": "stream",
     "text": [
      "4\n"
     ]
    }
   ],
   "source": [
    "print(len(nodes))"
   ]
  },
  {
   "cell_type": "code",
   "execution_count": 7,
   "metadata": {},
   "outputs": [
    {
     "name": "stdout",
     "output_type": "stream",
     "text": [
      "Node ID: da0790e3-95c0-4f04-a97c-896560c2989d\n",
      "Text: 結婚12年目「倖田來未」が明かす“夫と息子”との私生活　「親子でプロレスにハマってます」\n",
      "-----------------------\n",
      "Node ID: 744f5eef-e73e-4883-87e7-62be3a877ed0\n",
      "Text: 今年でデビュー23年目を迎える歌手の倖田來未（40）。「前編」では、下積み時代から芸能界における浮き沈みを経験しながら、「エロか\n",
      "っこいい」と称される人気歌手に上り詰めるまでの半生を聞いた。そんな彼女は1月18日にMusic ＆     Live Package「WIN\n",
      "GS」をリリースした。収録曲の作曲には夫も参加しているが、今回の「後編」では主に夫や息子など家族がアーティスト・倖田來未にどのような影響を与\n",
      "えているかをインタビューした。 倖田來未が1月18日に発売したMusic＆Live     Package「WINGS」のメイントラックとな\n",
      "るミディアムバラード「Wings」のクレジットを見ると、作曲者はHi－yunk（ハイユンク）とある。これは、倖田の夫であるKENJI03の作\n",
      "家名義...\n",
      "-----------------------\n",
      "Node ID: a3ea6ce2-da49-469a-8a67-1d01d29cb8b6\n",
      "Text: アーティスト名:倖田 來未(Koda Kumi) 生年月日: 1982年 11月13日 出身地:京都府\n",
      "2000年11月「TAKE BACK」にて全米デビュー。 全米ビルボードダンスチャートで最高位18位を記録。\n",
      "日本では同曲で2000年12月にデビュー。 続くセカンドシングル「Trust Your Love」のremix盤は全米ビルボード総合\n",
      "チャートでも最高位19位を獲得し、日本人7人目のランクインの快挙となる。\n",
      "2005年、06年にそれぞれ発売したベストアルバムはいずれも200万枚を突破\n",
      "2007年12月には東京ドームでの単独公演を開催し、大成功を収めた。 2008年6月発売した「MOON」ではブラック・\n",
      "アイド・ピーズ“ファーギー”とのコラボレーション曲「That Ain't ...\n",
      "-----------------------\n",
      "Node ID: 11970202-85f3-45da-9653-b6ccdf28327e\n",
      "Text:\n",
      "-----------------------\n"
     ]
    }
   ],
   "source": [
    "for node in nodes: \n",
    "    print(node)\n",
    "    print(\"-----------------------\")"
   ]
  },
  {
   "cell_type": "code",
   "execution_count": 14,
   "metadata": {},
   "outputs": [
    {
     "name": "stdout",
     "output_type": "stream",
     "text": [
      "アーティスト名:倖田 來未(Koda Kumi)\n",
      "生年月日: 1982年 11月13日\n",
      "出身地:京都府\n",
      "2000年11月「TAKE BACK」にて全米デビュー。\n",
      "全米ビルボードダンスチャートで最高位18位を記録。\n",
      "日本では同曲で2000年12月にデビュー。\n",
      "続くセカンドシングル「Trust Your Love」のremix盤は全米ビルボード総合 チャートでも最高位19位を獲得し、日本人7人目のランクインの快挙となる。\n",
      "2005年、06年にそれぞれ発売したベストアルバムはいずれも200万枚を突破\n",
      "2007年12月には東京ドームでの単独公演を開催し、大成功を収めた。\n",
      "2008年6月発売した「MOON」ではブラック・ アイド・ピーズ“ファーギー”とのコラボレーション曲「That Ain't Cool“PUSHIM（プシン）”作詞/作曲のラバーズ・レゲエ、他一曲と、海外ビッグアーティストを迎えての4曲入りマキシシングルをリリース。\n",
      "2009年3月には実妹であるmisonoとのコラボレーション曲「It' s all Love!」を 発表、兄弟・姉妹では史上初となる初登場1位を獲得。\n",
      "同5月東京・国立代々木競技場第一体育館にて全国ツアー『Koda Kumi Live Tour 2009-TRICK-』を開催し、人気米歌手・ファーギー率いるブラック・アイド・ピーズがサプライズ参加。2008年に発表したコラボ楽曲「That Ain’t Cool」を熱唱するなど、一夜限りのパフォーマンスで観客を熱狂の渦へと誘った。\n",
      "同７月には、日本を代表するファッション誌「ViVi」の誌面にて、08年に引き続き、海外ビッグアーティストのLady Gagaとコラボレーションし対談が実現。\n",
      "同10月には海外では初めて、台湾にてワンマンライブを行った。\n",
      "2006年～09年までベストトジーニスト賞を4年連続受賞、08年にはネイルクイーン 「アーティスト部門」の3年連続受賞・殿堂入りを果たす。\n",
      "2010年2月に発売したアルバム『BEST～ third universe～ & 8th AL \"UNIVERSE\"』がオリコン・ウイークリーランキング1位を獲得。\n",
      "7月には日本人女性アーティストと しては初となる横浜スタジアム2DAYSのライブを成功させ、その模様が音楽ライブとして日本で初めて3D生放送された。\n",
      "2010年10月、初のカバーアルバム『ETERNITY ～Love & Songs～』をリリース。東京、大阪でそれぞれ計4日間、計16公演に渡り初のビルボードライブを開催。 同12月、東京ドームにて10周年最後のライブ「KODA KUMI 10th Anniversary ～FANTASIA～」を開催。邦楽ソロ女性アーティスト7人目。2007年以来、2度目の 公演を慣行し47,000人動員のチケットが即完。大成功を収める。\n",
      "2011年3月、9枚目のオリジナルアルバム「Dejavu」リリース。オリコンウィークリー ランキング1位を獲得。同4月、約4年ぶりの全国ホールツアー「Koda Kumi Live Tour 2011 ～Dejavu～」を開催。各地軒並みSOLD OUT。\n",
      "同5月、10周年を記念して東京ドームにて行われたライブ映像「KODA KUMI 10th Anniversary ～FANTASIA～」をリリース。オリコンウィークリーランキング1位 を獲得し、「通算首位獲得数」「首位獲得連続年数」、「作品別歴代DVD女性ソロアーティ スト累積売上1位」の3冠達成。\n",
      "2012年1月、10枚目のオリジナルアルバム「JAPONESQUE」をリリース。オリコンウィークリーランキング1位を獲得。「アルバム首位連続年数」でソロ歴代３位の快挙を成し遂げる。更に、10月24日には53枚目となるニュー・シングル「Go to the top」を発売。TVアニメ「トータル・イクリプス」のオープニングテーマ曲として抜擢。\n",
      "また、11月7日の大阪城ホールを皮切りに東京、名古屋、福島にてプレミアムライブ「Koda Kumi Premium Night～Love & Songs～」を開催。\n",
      "2012年12月、2007年に発売した「愛のうた」に続く極上のラブバラードソング「恋しくて」をリリース。\n",
      "2013年2月には2作目となるカバーアルバム「Color The Cover」を発売。初回生産盤には、日本を代表するフォトグラファーの蜷川 実花氏が撮り下ろしたフォトブックレット、そして自身初となるドキュメンタリー映像をDVDに収録。\n",
      "2013年7月、55枚目となる約2年ぶりのサマーシングル「Summer Trip」をリリースし、同9月、シングル購入者限定ミニライブを自身初の日比谷野外音楽堂で開催した。\n",
      "31歳の誕生日を迎えた11月13日には、グラチャンバレー2013のテーマソング「Dreaming Now!」を発売。また、同年12月4日に発売した最新ライブ映像「KODA KUMI LIVE TOUR 2013 ～JAPONESQUE～」では、12/16付週間DVDランキング（集計期間：12月2日～8日）に初登場し、ミュージックDVD部門通算首位獲得数（ソロアーティスト部門）、連続首位獲得年数(全アーティスト対象)ともに１位を獲得した。 2014年2月26日には11枚目となるオリジナルアルバム「Bon Voyage」を発売。オリコン初登場1位を記録する。同アルバムを携えて回る２ヶ国51公演のツアー「KODA KUMI LIVE TOUR 2014 ～Bon Voyage～」を開催中。 8月16日に台湾公演でファイナルを迎える。\n",
      "2014年8月6日には、最新サマーシングル「HOTEL」をリリースする。11月、自身初のデジタル・シングル「Dance In The Rain」をリリース。\n",
      "世界初となるオキュラスリフトを使用したMVを発表し、話題を呼んだ。\n",
      "2015年、デビュー15周年イヤーとして「Koda Kumi 15th Anniversary Live Tour 2015～WALK OF MY LIFE～」と「KODA KUMI 15th Anniversary LIVE The Artist」の2本の記念ライブ、初のコレクションアルバム「SUMMER of LOVE」・「WINTER of LOVE」の2枚をリリース。\n",
      "さらに2016年は、アーティスト活動16年目のリスタートとして\n",
      "自身初の47都道府県59公演のベストシングルコレクションツアーを敢行した。\n",
      "自身の活動だけではなく国内外のアーティストとコラボレーションを積極的に行う中、写真集やフォトエッセイ等、アーティスト活動のみならずファッションアイコンとしても幅広い活動を行っている。これまでにシングル59枚、オリジナル・アルバム12枚、ベスト・アルバム4枚、カバー・アルバム2枚、コレクションアルバム2枚、ライブDVD20枚をリリース。\n",
      "2017年の活動としては、3月8日（水）に「二面性」をコンセプトにした\n",
      "ニューアルバム『W FACE ～inside～』『W FACE ～outside～』を発売。\n",
      "4月5日（水）には、累計30万枚以上をセールスを記録したメガヒットシリーズ\n",
      "「Driving Hit's 7」の発売決定。\n",
      "2年連続、最多公演47都道府県ツアー「KODA KUMI LIVE TOUR 2017 ～W FACE～」開催。\n",
      "2018年2月、オリジナルアルバム「AND」をリリースし、ファンクラブ会員限定ライブハウスツアー『Koda Kumi Fanclub Tour ～AND～』を開催。\n",
      "6月、オリジナルアルバム「DNA」をリリースし、「KODA KUMI LIVE TOUR 2018 ～DNA～」を開催し、初のカウントダウンライブを大阪グランキューブにて開催。\n",
      "2019年には、2007年に開催した「Black Cherry」2013年に開催した「JAPONESQUE」を2019年版に進化させ、復刻ライヴ（「KODA KUMI LIVE TOUR 2019 re(LIVE)」）を開催。\n",
      "滞在型LIVE＆1日2公演別の演目を開催という新たな挑戦をした。\n",
      "2020年新型ウイルスの影響で通常通りの開催とはいかなかったが、ガイドラインに基づき5年振りのアリーナツアー「KODA KUMI 20th ANNIVERSARY TOUR 2020 MY NAME IS…」を開催。\n",
      "倖田來未完全プロデューススキンケアブランド「HEMMY K.」を設立。\n",
      "2021年6月からは自身初となるトークショー「KODA KUMI 20th ANNIVERSARY ～Special Talk Show～」を開催。\n",
      "2021年6月、ダイエットサプリメント「KILLER BURNER」の販売を開始。\n",
      "2022年には、約4年振りにバンド編成ライブ「KODA KUMI Love & Songs 2022」を開催。そして自身初となるオーケストラ ライブ「billboard classics KODA KUMI Premium Symphonic Concert 2022」を開催。\n",
      "2023年3月～7月には、2つの異なる演目を1日で2公演実施する全国ツアー「KODA KUMI LIVE TOUR 2023 ～angeL & monsteR～」を開催。\n",
      "仮面ライダーギーツの主題歌に起用された倖田來未 × 湘南乃風「Trust・Last」がオリコン週間デジタルシングルラインキング初登場1位、Billboard JAPAN “Download Songs” 初登場1位を記録した。\n",
      "\n"
     ]
    }
   ],
   "source": [
    "for node in nodes: \n",
    "    print(node.text)"
   ]
  },
  {
   "cell_type": "code",
   "execution_count": 8,
   "metadata": {},
   "outputs": [],
   "source": [
    "# Indexing \n",
    "index = VectorStoreIndex(nodes)"
   ]
  },
  {
   "cell_type": "code",
   "execution_count": 9,
   "metadata": {},
   "outputs": [],
   "source": [
    "# Store database\n",
    "from llama_index.core import StorageContext, load_index_from_storage\n",
    "\n",
    "index.storage_context.persist(persist_dir=\"database/\")"
   ]
  },
  {
   "cell_type": "code",
   "execution_count": 12,
   "metadata": {},
   "outputs": [
    {
     "name": "stdout",
     "output_type": "stream",
     "text": [
      "INFO:llama_index.core.indices.loading:Loading all indices.\n",
      "Loading all indices.\n"
     ]
    }
   ],
   "source": [
    "# Load Database\n",
    "# from llama_index.core import StorageContext, load_index_from_storage\n",
    "\n",
    "# # rebuild storage context\n",
    "# storage_context = StorageContext.from_defaults(persist_dir=\"database/\")\n",
    "\n",
    "# # load index\n",
    "# index = load_index_from_storage(storage_context)\n"
   ]
  },
  {
   "cell_type": "code",
   "execution_count": 8,
   "metadata": {},
   "outputs": [
    {
     "name": "stdout",
     "output_type": "stream",
     "text": [
      "INFO:httpx:HTTP Request: POST https://artist-assistant-uk-south.openai.azure.com//openai/deployments/ada2/embeddings?api-version=2024-02-15-preview \"HTTP/1.1 200 OK\"\n",
      "HTTP Request: POST https://artist-assistant-uk-south.openai.azure.com//openai/deployments/ada2/embeddings?api-version=2024-02-15-preview \"HTTP/1.1 200 OK\"\n",
      "INFO:httpx:HTTP Request: POST https://artist-assistant-uk-south.openai.azure.com//openai/deployments/35turbo16k/chat/completions?api-version=2024-02-15-preview \"HTTP/1.1 200 OK\"\n",
      "HTTP Request: POST https://artist-assistant-uk-south.openai.azure.com//openai/deployments/35turbo16k/chat/completions?api-version=2024-02-15-preview \"HTTP/1.1 200 OK\"\n",
      "倖田來未さんは結婚して12年目です。\n"
     ]
    }
   ],
   "source": [
    "from llama_index.core import VectorStoreIndex, get_response_synthesizer\n",
    "from llama_index.core.retrievers import VectorIndexRetriever\n",
    "from llama_index.core.query_engine import RetrieverQueryEngine\n",
    "from llama_index.core.postprocessor import SimilarityPostprocessor\n",
    "\n",
    "\n",
    "query_engine = index.as_query_engine()\n",
    "response = query_engine.query(\n",
    "    \"倖田來未さんは結婚して何年目ですか？\"\n",
    ")\n",
    "print(response)"
   ]
  },
  {
   "cell_type": "code",
   "execution_count": 33,
   "metadata": {},
   "outputs": [
    {
     "name": "stdout",
     "output_type": "stream",
     "text": [
      "INFO:httpx:HTTP Request: POST https://artist-assistant-uk-south.openai.azure.com//openai/deployments/ada2/embeddings?api-version=2024-02-15-preview \"HTTP/1.1 200 OK\"\n",
      "HTTP Request: POST https://artist-assistant-uk-south.openai.azure.com//openai/deployments/ada2/embeddings?api-version=2024-02-15-preview \"HTTP/1.1 200 OK\"\n",
      "HTTP Request: POST https://artist-assistant-uk-south.openai.azure.com//openai/deployments/ada2/embeddings?api-version=2024-02-15-preview \"HTTP/1.1 200 OK\"\n",
      "HTTP Request: POST https://artist-assistant-uk-south.openai.azure.com//openai/deployments/ada2/embeddings?api-version=2024-02-15-preview \"HTTP/1.1 200 OK\"\n",
      "HTTP Request: POST https://artist-assistant-uk-south.openai.azure.com//openai/deployments/ada2/embeddings?api-version=2024-02-15-preview \"HTTP/1.1 200 OK\"\n",
      "INFO:httpx:HTTP Request: POST https://artist-assistant-uk-south.openai.azure.com//openai/deployments/35turbo16k/chat/completions?api-version=2024-02-15-preview \"HTTP/1.1 200 OK\"\n",
      "HTTP Request: POST https://artist-assistant-uk-south.openai.azure.com//openai/deployments/35turbo16k/chat/completions?api-version=2024-02-15-preview \"HTTP/1.1 200 OK\"\n",
      "HTTP Request: POST https://artist-assistant-uk-south.openai.azure.com//openai/deployments/35turbo16k/chat/completions?api-version=2024-02-15-preview \"HTTP/1.1 200 OK\"\n",
      "HTTP Request: POST https://artist-assistant-uk-south.openai.azure.com//openai/deployments/35turbo16k/chat/completions?api-version=2024-02-15-preview \"HTTP/1.1 200 OK\"\n",
      "HTTP Request: POST https://artist-assistant-uk-south.openai.azure.com//openai/deployments/35turbo16k/chat/completions?api-version=2024-02-15-preview \"HTTP/1.1 200 OK\"\n",
      "倖田來未さんは結婚して12年目です。\n"
     ]
    }
   ],
   "source": [
    "# configure retriever\n",
    "retriever = VectorIndexRetriever(\n",
    "    index=index,\n",
    "    similarity_top_k=10,\n",
    ")\n",
    "\n",
    "# configure response synthesizer\n",
    "response_synthesizer = get_response_synthesizer()\n",
    "\n",
    "# assemble query engine\n",
    "query_engine = RetrieverQueryEngine(\n",
    "    retriever=retriever,\n",
    "    response_synthesizer=response_synthesizer,\n",
    ")\n",
    "\n",
    "# query\n",
    "response = query_engine.query(\"倖田來未さんは結婚して何年目ですか？\")\n",
    "print(response)"
   ]
  },
  {
   "cell_type": "code",
   "execution_count": 39,
   "metadata": {},
   "outputs": [
    {
     "name": "stdout",
     "output_type": "stream",
     "text": [
      "[NodeWithScore(node=TextNode(id_='f73f756a-917b-47d2-b263-1453265c31e2', embedding=None, metadata={'tag': 'h1', 'file_path': '/home/dngback/Desktop/artist_assistant/test_data/13400_page_1.html', 'file_name': '/home/dngback/Desktop/artist_assistant/test_data/13400_page_1.html', 'file_type': 'text/html', 'file_size': 2626, 'creation_date': '2024-03-06', 'last_modified_date': '2024-03-05'}, excluded_embed_metadata_keys=['file_name', 'file_type', 'file_size', 'creation_date', 'last_modified_date', 'last_accessed_date'], excluded_llm_metadata_keys=['file_name', 'file_type', 'file_size', 'creation_date', 'last_modified_date', 'last_accessed_date'], relationships={<NodeRelationship.SOURCE: '1'>: RelatedNodeInfo(node_id='4c6ce9c3-c849-4146-9fc1-20a65f9396c0', node_type=<ObjectType.TEXT: '1'>, metadata={'tag': 'h1', 'file_path': '/home/dngback/Desktop/artist_assistant/test_data/13400_page_1.html', 'file_name': '/home/dngback/Desktop/artist_assistant/test_data/13400_page_1.html', 'file_type': 'text/html', 'file_size': 2626, 'creation_date': '2024-03-06', 'last_modified_date': '2024-03-05'}, hash='6a3aad33f7b9be0618cc6f61ca048fde37484ff009bbadda42ca1e4c3d31b303'), <NodeRelationship.NEXT: '3'>: RelatedNodeInfo(node_id='a4ece099-72c5-4859-a9c2-2ed4ccb14ee4', node_type=<ObjectType.TEXT: '1'>, metadata={}, hash='f1b93f0a481b9722fc0c1492bd6234108a2c065aa786e7bbabdf6d1046846d5c')}, text='結婚12年目「倖田來未」が明かす“夫と息子”との私生活\\u3000「親子でプロレスにハマってます」', start_char_idx=0, end_char_idx=44, text_template='{metadata_str}\\n\\n{content}', metadata_template='{key}: {value}', metadata_seperator='\\n'), score=0.8430231363802213), NodeWithScore(node=TextNode(id_='a4ece099-72c5-4859-a9c2-2ed4ccb14ee4', embedding=None, metadata={'tag': 'p', 'file_path': '/home/dngback/Desktop/artist_assistant/test_data/13400_page_1.html', 'file_name': '/home/dngback/Desktop/artist_assistant/test_data/13400_page_1.html', 'file_type': 'text/html', 'file_size': 2626, 'creation_date': '2024-03-06', 'last_modified_date': '2024-03-05'}, excluded_embed_metadata_keys=['file_name', 'file_type', 'file_size', 'creation_date', 'last_modified_date', 'last_accessed_date'], excluded_llm_metadata_keys=['file_name', 'file_type', 'file_size', 'creation_date', 'last_modified_date', 'last_accessed_date'], relationships={<NodeRelationship.SOURCE: '1'>: RelatedNodeInfo(node_id='95ee725e-dee5-4b17-88a5-64548c174c0e', node_type=<ObjectType.TEXT: '1'>, metadata={'tag': 'p', 'file_path': '/home/dngback/Desktop/artist_assistant/test_data/13400_page_1.html', 'file_name': '/home/dngback/Desktop/artist_assistant/test_data/13400_page_1.html', 'file_type': 'text/html', 'file_size': 2626, 'creation_date': '2024-03-06', 'last_modified_date': '2024-03-05'}, hash='aabc86caa83adf685488f1baa72db6c539551932032de96d2d856e38d8958d75'), <NodeRelationship.PREVIOUS: '2'>: RelatedNodeInfo(node_id='f73f756a-917b-47d2-b263-1453265c31e2', node_type=<ObjectType.TEXT: '1'>, metadata={'tag': 'h1', 'file_path': '/home/dngback/Desktop/artist_assistant/test_data/13400_page_1.html', 'file_name': '/home/dngback/Desktop/artist_assistant/test_data/13400_page_1.html', 'file_type': 'text/html', 'file_size': 2626, 'creation_date': '2024-03-06', 'last_modified_date': '2024-03-05'}, hash='6a3aad33f7b9be0618cc6f61ca048fde37484ff009bbadda42ca1e4c3d31b303')}, text='今年でデビュー23年目を迎える歌手の倖田來未（40）。「前編」では、下積み時代から芸能界における浮き沈みを経験しながら、「エロかっこいい」と称される人気歌手に上り詰めるまでの半生を聞いた。そんな彼女は1月18日にMusic ＆\\n    Live Package「WINGS」をリリースした。収録曲の作曲には夫も参加しているが、今回の「後編」では主に夫や息子など家族がアーティスト・倖田來未にどのような影響を与えているかをインタビューした。\\n倖田來未が1月18日に発売したMusic＆Live\\n    Package「WINGS」のメイントラックとなるミディアムバラード「Wings」のクレジットを見ると、作曲者はHi－yunk（ハイユンク）とある。これは、倖田の夫であるKENJI03の作家名義だ。\\n「コンペで楽曲を集め、ラスト3曲に絞った上で、タイアップ先が『これがいい』と選んでくださったのが『Wings』でした。この曲に決まった時は、素直にうれしかったですね。私の大好きな曲だから。旦那は『倖田來未の新しい声を引き出したい』といつも考えているような人なので、今だからこそ私が歌える楽曲を、ということで完成させた曲なんです」\\n倖田は2011年12月3日、ロックバンド「BACK－ON」のKENJI03との結婚を発表。同月16日には妊娠中であることも公表した。2 人の仲を取り持ったのは、妹のmisonoだったという。倖田は夫とのなれそめをこう振り返る。\\n「妹のミーモ（misonoの愛称）が当時、旦那とコラボしていて、ミーモにコラボ曲の入ったアルバムを聞かせてもらったんです。『えっ、コラボしている人、めっちゃいい声してるやん』というのが、私の第一印象。まず声に惚れました（笑）。その後、ミュージックビデオを見ると『えっ、イケメンやん』と。当時の私は夜に出歩かない時期が半年以上も続いていました。ミーモは心配して『お姉もそろそろ、ご飯を食べにとか、外に出かけた方がいいよ』と言ってくれていました。それで、外出した時に彼を紹介してもらいました」', start_char_idx=0, end_char_idx=873, text_template='{metadata_str}\\n\\n{content}', metadata_template='{key}: {value}', metadata_seperator='\\n'), score=0.8319152765565324)]\n"
     ]
    }
   ],
   "source": [
    "print(response.source_nodes)"
   ]
  },
  {
   "cell_type": "code",
   "execution_count": 41,
   "metadata": {},
   "outputs": [
    {
     "name": "stdout",
     "output_type": "stream",
     "text": [
      "<class 'list'>\n"
     ]
    }
   ],
   "source": [
    "print(type(response.source_nodes))"
   ]
  },
  {
   "cell_type": "code",
   "execution_count": 44,
   "metadata": {},
   "outputs": [
    {
     "name": "stdout",
     "output_type": "stream",
     "text": [
      "結婚12年目「倖田來未」が明かす“夫と息子”との私生活　「親子でプロレスにハマってます」\n",
      "________________________\n",
      "今年でデビュー23年目を迎える歌手の倖田來未（40）。「前編」では、下積み時代から芸能界における浮き沈みを経験しながら、「エロかっこいい」と称される人気歌手に上り詰めるまでの半生を聞いた。そんな彼女は1月18日にMusic ＆\n",
      "    Live Package「WINGS」をリリースした。収録曲の作曲には夫も参加しているが、今回の「後編」では主に夫や息子など家族がアーティスト・倖田來未にどのような影響を与えているかをインタビューした。\n",
      "倖田來未が1月18日に発売したMusic＆Live\n",
      "    Package「WINGS」のメイントラックとなるミディアムバラード「Wings」のクレジットを見ると、作曲者はHi－yunk（ハイユンク）とある。これは、倖田の夫であるKENJI03の作家名義だ。\n",
      "「コンペで楽曲を集め、ラスト3曲に絞った上で、タイアップ先が『これがいい』と選んでくださったのが『Wings』でした。この曲に決まった時は、素直にうれしかったですね。私の大好きな曲だから。旦那は『倖田來未の新しい声を引き出したい』といつも考えているような人なので、今だからこそ私が歌える楽曲を、ということで完成させた曲なんです」\n",
      "倖田は2011年12月3日、ロックバンド「BACK－ON」のKENJI03との結婚を発表。同月16日には妊娠中であることも公表した。2 人の仲を取り持ったのは、妹のmisonoだったという。倖田は夫とのなれそめをこう振り返る。\n",
      "「妹のミーモ（misonoの愛称）が当時、旦那とコラボしていて、ミーモにコラボ曲の入ったアルバムを聞かせてもらったんです。『えっ、コラボしている人、めっちゃいい声してるやん』というのが、私の第一印象。まず声に惚れました（笑）。その後、ミュージックビデオを見ると『えっ、イケメンやん』と。当時の私は夜に出歩かない時期が半年以上も続いていました。ミーモは心配して『お姉もそろそろ、ご飯を食べにとか、外に出かけた方がいいよ』と言ってくれていました。それで、外出した時に彼を紹介してもらいました」\n",
      "________________________\n"
     ]
    }
   ],
   "source": [
    "for source in response.source_nodes: \n",
    "    print(source.text)\n",
    "    print(\"________________________\")"
   ]
  },
  {
   "cell_type": "code",
   "execution_count": 65,
   "metadata": {},
   "outputs": [],
   "source": [
    "import nest_asyncio\n",
    "nest_asyncio.apply()"
   ]
  },
  {
   "cell_type": "code",
   "execution_count": 72,
   "metadata": {},
   "outputs": [
    {
     "name": "stderr",
     "output_type": "stream",
     "text": [
      "/home/dngback/anaconda3/envs/artistAssistant/lib/python3.12/site-packages/llama_index/core/evaluation/dataset_generation.py:212: DeprecationWarning: Call to deprecated class DatasetGenerator. (Deprecated in favor of `RagDatasetGenerator` which should be used instead.)\n",
      "  return cls(\n"
     ]
    }
   ],
   "source": [
    "from llama_index.core.evaluation import DatasetGenerator\n",
    "\n",
    "# Generate Question\n",
    "data_generator = DatasetGenerator.from_documents(docs)"
   ]
  },
  {
   "cell_type": "code",
   "execution_count": 74,
   "metadata": {},
   "outputs": [
    {
     "name": "stdout",
     "output_type": "stream",
     "text": [
      "INFO:httpx:HTTP Request: POST https://artist-assistant-uk-south.openai.azure.com//openai/deployments/35turbo16k/chat/completions?api-version=2024-02-15-preview \"HTTP/1.1 200 OK\"\n",
      "HTTP Request: POST https://artist-assistant-uk-south.openai.azure.com//openai/deployments/35turbo16k/chat/completions?api-version=2024-02-15-preview \"HTTP/1.1 200 OK\"\n",
      "HTTP Request: POST https://artist-assistant-uk-south.openai.azure.com//openai/deployments/35turbo16k/chat/completions?api-version=2024-02-15-preview \"HTTP/1.1 200 OK\"\n",
      "HTTP Request: POST https://artist-assistant-uk-south.openai.azure.com//openai/deployments/35turbo16k/chat/completions?api-version=2024-02-15-preview \"HTTP/1.1 200 OK\"\n",
      "HTTP Request: POST https://artist-assistant-uk-south.openai.azure.com//openai/deployments/35turbo16k/chat/completions?api-version=2024-02-15-preview \"HTTP/1.1 200 OK\"\n"
     ]
    },
    {
     "name": "stderr",
     "output_type": "stream",
     "text": [
      "/home/dngback/anaconda3/envs/artistAssistant/lib/python3.12/site-packages/llama_index/core/evaluation/dataset_generation.py:309: DeprecationWarning: Call to deprecated class QueryResponseDataset. (Deprecated in favor of `LabelledRagDataset` which should be used instead.)\n",
      "  return QueryResponseDataset(queries=queries, responses=responses_dict)\n"
     ]
    }
   ],
   "source": [
    "eval_questions = data_generator.generate_questions_from_nodes()"
   ]
  },
  {
   "cell_type": "code",
   "execution_count": 76,
   "metadata": {},
   "outputs": [
    {
     "name": "stdout",
     "output_type": "stream",
     "text": [
      "['Who is the artist mentioned in the context information?', 'How long has the artist been in the music industry?', \"What is the title of the main track in the artist's latest release?\", 'Who is the composer of the main track?', 'When did the artist announce her marriage?', 'Who played a role in bringing the artist and her husband together?', \"What was the artist's first impression of her husband?\", 'Why was the artist not going out at night during a certain period?', 'Who expressed concern for the artist and encouraged her to go out?', 'How did the artist meet her husband?']\n"
     ]
    }
   ],
   "source": [
    "print(eval_questions)"
   ]
  },
  {
   "cell_type": "code",
   "execution_count": 77,
   "metadata": {},
   "outputs": [],
   "source": [
    "import pandas as pd\n",
    "from llama_index.core import SimpleDirectoryReader, VectorStoreIndex, Response\n",
    "\n",
    "\n",
    "# define jupyter display function\n",
    "def display_eval_df(query: str, response: Response, eval_result: str) -> None:\n",
    "    eval_df = pd.DataFrame(\n",
    "        {\n",
    "            \"Query\": query,\n",
    "            \"Response\": str(response),\n",
    "            \"Source\": (\n",
    "                response.source_nodes[0].node.get_content()[:1000] + \"...\"\n",
    "            ),\n",
    "            \"Evaluation Result\": eval_result,\n",
    "        },\n",
    "        index=[0],\n",
    "    )\n",
    "    eval_df = eval_df.style.set_properties(\n",
    "        **{\n",
    "            \"inline-size\": \"600px\",\n",
    "            \"overflow-wrap\": \"break-word\",\n",
    "        },\n",
    "        subset=[\"Response\", \"Source\"]\n",
    "    )\n",
    "    display(eval_df)"
   ]
  },
  {
   "cell_type": "code",
   "execution_count": 78,
   "metadata": {},
   "outputs": [],
   "source": [
    "from llama_index.core.evaluation import DatasetGenerator, RelevancyEvaluator\n",
    "\n",
    "\n",
    "evaluator_gpt4 = RelevancyEvaluator(llm=llm)"
   ]
  },
  {
   "cell_type": "code",
   "execution_count": 79,
   "metadata": {},
   "outputs": [
    {
     "name": "stdout",
     "output_type": "stream",
     "text": [
      "INFO:httpx:HTTP Request: POST https://artist-assistant-uk-south.openai.azure.com//openai/deployments/ada2/embeddings?api-version=2024-02-15-preview \"HTTP/1.1 200 OK\"\n",
      "HTTP Request: POST https://artist-assistant-uk-south.openai.azure.com//openai/deployments/ada2/embeddings?api-version=2024-02-15-preview \"HTTP/1.1 200 OK\"\n",
      "HTTP Request: POST https://artist-assistant-uk-south.openai.azure.com//openai/deployments/ada2/embeddings?api-version=2024-02-15-preview \"HTTP/1.1 200 OK\"\n",
      "HTTP Request: POST https://artist-assistant-uk-south.openai.azure.com//openai/deployments/ada2/embeddings?api-version=2024-02-15-preview \"HTTP/1.1 200 OK\"\n",
      "HTTP Request: POST https://artist-assistant-uk-south.openai.azure.com//openai/deployments/ada2/embeddings?api-version=2024-02-15-preview \"HTTP/1.1 200 OK\"\n",
      "INFO:httpx:HTTP Request: POST https://artist-assistant-uk-south.openai.azure.com//openai/deployments/35turbo16k/chat/completions?api-version=2024-02-15-preview \"HTTP/1.1 200 OK\"\n",
      "HTTP Request: POST https://artist-assistant-uk-south.openai.azure.com//openai/deployments/35turbo16k/chat/completions?api-version=2024-02-15-preview \"HTTP/1.1 200 OK\"\n",
      "HTTP Request: POST https://artist-assistant-uk-south.openai.azure.com//openai/deployments/35turbo16k/chat/completions?api-version=2024-02-15-preview \"HTTP/1.1 200 OK\"\n",
      "HTTP Request: POST https://artist-assistant-uk-south.openai.azure.com//openai/deployments/35turbo16k/chat/completions?api-version=2024-02-15-preview \"HTTP/1.1 200 OK\"\n",
      "HTTP Request: POST https://artist-assistant-uk-south.openai.azure.com//openai/deployments/35turbo16k/chat/completions?api-version=2024-02-15-preview \"HTTP/1.1 200 OK\"\n",
      "INFO:httpx:HTTP Request: POST https://artist-assistant-uk-south.openai.azure.com//openai/deployments/35turbo16k/chat/completions?api-version=2024-02-15-preview \"HTTP/1.1 200 OK\"\n",
      "HTTP Request: POST https://artist-assistant-uk-south.openai.azure.com//openai/deployments/35turbo16k/chat/completions?api-version=2024-02-15-preview \"HTTP/1.1 200 OK\"\n",
      "HTTP Request: POST https://artist-assistant-uk-south.openai.azure.com//openai/deployments/35turbo16k/chat/completions?api-version=2024-02-15-preview \"HTTP/1.1 200 OK\"\n",
      "HTTP Request: POST https://artist-assistant-uk-south.openai.azure.com//openai/deployments/35turbo16k/chat/completions?api-version=2024-02-15-preview \"HTTP/1.1 200 OK\"\n",
      "HTTP Request: POST https://artist-assistant-uk-south.openai.azure.com//openai/deployments/35turbo16k/chat/completions?api-version=2024-02-15-preview \"HTTP/1.1 200 OK\"\n"
     ]
    }
   ],
   "source": [
    "query_engine = index.as_query_engine()\n",
    "response_vector = query_engine.query(eval_questions[1])\n",
    "eval_result = evaluator_gpt4.evaluate_response(\n",
    "    query=eval_questions[1], response=response_vector\n",
    ")"
   ]
  },
  {
   "cell_type": "code",
   "execution_count": 82,
   "metadata": {},
   "outputs": [
    {
     "name": "stdout",
     "output_type": "stream",
     "text": [
      "query='How long has the artist been in the music industry?' contexts=['今年でデビュー23年目を迎える歌手の倖田來未（40）。「前編」では、下積み時代から芸能界における浮き沈みを経験しながら、「エロかっこいい」と称される人気歌手に上り詰めるまでの半生を聞いた。そんな彼女は1月18日にMusic ＆\\n    Live Package「WINGS」をリリースした。収録曲の作曲には夫も参加しているが、今回の「後編」では主に夫や息子など家族がアーティスト・倖田來未にどのような影響を与えているかをインタビューした。\\n倖田來未が1月18日に発売したMusic＆Live\\n    Package「WINGS」のメイントラックとなるミディアムバラード「Wings」のクレジットを見ると、作曲者はHi－yunk（ハイユンク）とある。これは、倖田の夫であるKENJI03の作家名義だ。\\n「コンペで楽曲を集め、ラスト3曲に絞った上で、タイアップ先が『これがいい』と選んでくださったのが『Wings』でした。この曲に決まった時は、素直にうれしかったですね。私の大好きな曲だから。旦那は『倖田來未の新しい声を引き出したい』といつも考えているような人なので、今だからこそ私が歌える楽曲を、ということで完成させた曲なんです」\\n倖田は2011年12月3日、ロックバンド「BACK－ON」のKENJI03との結婚を発表。同月16日には妊娠中であることも公表した。2 人の仲を取り持ったのは、妹のmisonoだったという。倖田は夫とのなれそめをこう振り返る。\\n「妹のミーモ（misonoの愛称）が当時、旦那とコラボしていて、ミーモにコラボ曲の入ったアルバムを聞かせてもらったんです。『えっ、コラボしている人、めっちゃいい声してるやん』というのが、私の第一印象。まず声に惚れました（笑）。その後、ミュージックビデオを見ると『えっ、イケメンやん』と。当時の私は夜に出歩かない時期が半年以上も続いていました。ミーモは心配して『お姉もそろそろ、ご飯を食べにとか、外に出かけた方がいいよ』と言ってくれていました。それで、外出した時に彼を紹介してもらいました」', '結婚12年目「倖田來未」が明かす“夫と息子”との私生活\\u3000「親子でプロレスにハマってます」'] response='The artist has been in the music industry for 23 years.' passing=False feedback='NO' score=0.0 pairwise_source=None invalid_result=False invalid_reason=None\n"
     ]
    }
   ],
   "source": [
    "print(eval_result)"
   ]
  },
  {
   "cell_type": "code",
   "execution_count": 10,
   "metadata": {},
   "outputs": [],
   "source": [
    "from llama_index.postprocessor.cohere_rerank import CohereRerank\n",
    "import os\n",
    "\n",
    "\n",
    "cohere_rerank = CohereRerank(api_key=\"kkTkIQ3I0k0us41B8n5csL8GoiPHnWsA6rCUfC2V\", top_n=5)"
   ]
  },
  {
   "cell_type": "code",
   "execution_count": null,
   "metadata": {},
   "outputs": [],
   "source": [
    "# Llamaindex combine prompt\n",
    "from llama_index.core.query_pipeline import FnComponent\n",
    "\n",
    "\n",
    "def add(styles_prompt: str, profile_prompt: str) -> str:\n",
    "    \"\"\"Adds two numbers.\"\"\"\n",
    "    return styles_prompt + profile_prompt"
   ]
  },
  {
   "cell_type": "code",
   "execution_count": 11,
   "metadata": {},
   "outputs": [],
   "source": [
    "from llama_index.postprocessor.cohere_rerank import CohereRerank\n",
    "from llama_index.core.response_synthesizers import TreeSummarize\n",
    "from llama_index.core.query_pipeline import QueryPipeline\n",
    "from llama_index.core.prompts.base import PromptTemplate\n",
    "\n",
    "# define modules\n",
    "# prompt_str = \"提供された情報をもとに、歌手の倖田來未になりきって質問 {question} に答えてください。\"\n",
    "prompt_style = \"\"\n",
    "prompt_str = \"Based on the information provided , pretend to be singer Koda Kumi and answer the question {question} with the style and speaking direction of singer Koda Kumi.\"\n",
    "prompt_tmpl = PromptTemplate(prompt_str)\n",
    "llm = llm\n",
    "retriever = index.as_retriever(similarity_top_k=10)\n",
    "summarizer = TreeSummarize(llm=llm)\n",
    "\n",
    "# define query pipeline\n",
    "p = QueryPipeline(verbose=True)\n",
    "p.add_modules(\n",
    "    {\n",
    "        \"llm\": llm,\n",
    "        \"prompt_tmpl\": prompt_tmpl,\n",
    "        \"retriever\": retriever,\n",
    "        \"summarizer\": summarizer,\n",
    "        \"reranker\": cohere_rerank,\n",
    "    }\n",
    ")\n",
    "p.add_link(\"prompt_tmpl\", \"llm\")\n",
    "p.add_link(\"llm\", \"retriever\")\n",
    "p.add_link(\"retriever\", \"reranker\", dest_key=\"nodes\")\n",
    "p.add_link(\"llm\", \"reranker\", dest_key=\"query_str\")\n",
    "p.add_link(\"reranker\", \"summarizer\", dest_key=\"nodes\")\n",
    "p.add_link(\"llm\", \"summarizer\", dest_key=\"query_str\")"
   ]
  },
  {
   "cell_type": "code",
   "execution_count": 12,
   "metadata": {},
   "outputs": [
    {
     "name": "stdout",
     "output_type": "stream",
     "text": [
      "\u001b[1;3;38;2;155;135;227m> Running module prompt_tmpl with input: \n",
      "question: ご結婚されて何年になりますか？\n",
      "\n",
      "\u001b[0m\u001b[1;3;38;2;155;135;227m> Running module llm with input: \n",
      "messages: Based on the information provided, pretend to be singer Koda Kumi and answer the question ご結婚されて何年になりますか？ with the style and speaking direction of singer Koda Kumi.\n",
      "\n",
      "\u001b[0mINFO:httpx:HTTP Request: POST https://artist-assistant-uk-south.openai.azure.com//openai/deployments/35turbo16k/chat/completions?api-version=2024-02-15-preview \"HTTP/1.1 200 OK\"\n",
      "HTTP Request: POST https://artist-assistant-uk-south.openai.azure.com//openai/deployments/35turbo16k/chat/completions?api-version=2024-02-15-preview \"HTTP/1.1 200 OK\"\n",
      "\u001b[1;3;38;2;155;135;227m> Running module retriever with input: \n",
      "input: assistant: あら、ご結婚のお話ですか？私、倖田來未はまだ結婚していませんわ。でも、いつかは素敵なパートナーと結ばれる日が来ることを信じています。私の音楽活動に一生懸命取り組んでいるので、結婚はまだ先の話かもしれませんが、いつかは幸せな家庭を築きたいと思っています。ファンの皆さん、私の音楽を応援してくださることが一番の幸せですから、まずは音楽に全力で取り組んでいきます。皆さんも私の新しい曲...\n",
      "\n",
      "\u001b[0mINFO:httpx:HTTP Request: POST https://artist-assistant-uk-south.openai.azure.com//openai/deployments/ada2/embeddings?api-version=2024-02-15-preview \"HTTP/1.1 200 OK\"\n",
      "HTTP Request: POST https://artist-assistant-uk-south.openai.azure.com//openai/deployments/ada2/embeddings?api-version=2024-02-15-preview \"HTTP/1.1 200 OK\"\n",
      "\u001b[1;3;38;2;155;135;227m> Running module reranker with input: \n",
      "query_str: assistant: あら、ご結婚のお話ですか？私、倖田來未はまだ結婚していませんわ。でも、いつかは素敵なパートナーと結ばれる日が来ることを信じています。私の音楽活動に一生懸命取り組んでいるので、結婚はまだ先の話かもしれませんが、いつかは幸せな家庭を築きたいと思っています。ファンの皆さん、私の音楽を応援してくださることが一番の幸せですから、まずは音楽に全力で取り組んでいきます。皆さんも私の新しい曲...\n",
      "nodes: [NodeWithScore(node=TextNode(id_='744f5eef-e73e-4883-87e7-62be3a877ed0', embedding=None, metadata={'tag': 'p', 'file_path': '/home/dngback/Desktop/artist_assistant/datanotclean/13400_page_1.html', 'fi...\n",
      "\n",
      "\u001b[0m\u001b[1;3;38;2;155;135;227m> Running module summarizer with input: \n",
      "query_str: assistant: あら、ご結婚のお話ですか？私、倖田來未はまだ結婚していませんわ。でも、いつかは素敵なパートナーと結ばれる日が来ることを信じています。私の音楽活動に一生懸命取り組んでいるので、結婚はまだ先の話かもしれませんが、いつかは幸せな家庭を築きたいと思っています。ファンの皆さん、私の音楽を応援してくださることが一番の幸せですから、まずは音楽に全力で取り組んでいきます。皆さんも私の新しい曲...\n",
      "nodes: [NodeWithScore(node=TextNode(id_='a3ea6ce2-da49-469a-8a67-1d01d29cb8b6', embedding=None, metadata={'tag': 'p', 'file_path': '/home/dngback/Desktop/artist_assistant/datanotclean/profile.html', 'file_na...\n",
      "\n",
      "\u001b[0mINFO:httpx:HTTP Request: POST https://artist-assistant-uk-south.openai.azure.com//openai/deployments/35turbo16k/chat/completions?api-version=2024-02-15-preview \"HTTP/1.1 200 OK\"\n",
      "HTTP Request: POST https://artist-assistant-uk-south.openai.azure.com//openai/deployments/35turbo16k/chat/completions?api-version=2024-02-15-preview \"HTTP/1.1 200 OK\"\n"
     ]
    }
   ],
   "source": [
    "output = p.run(question=\"ご結婚されて何年になりますか？\")"
   ]
  },
  {
   "cell_type": "code",
   "execution_count": 30,
   "metadata": {},
   "outputs": [
    {
     "name": "stdout",
     "output_type": "stream",
     "text": [
      "結婚12年目「倖田來未」が明かす“夫と息子”との私生活　「親子でプロレスにハマってます」\n",
      "________________________\n",
      "結婚12年目「倖田來未」が明かす“夫と息子”との私生活　「親子でプロレスにハマってます」\n",
      "________________________\n",
      "結婚12年目「倖田來未」が明かす“夫と息子”との私生活　「親子でプロレスにハマってます」\n",
      "________________________\n",
      "2020年にデビュー20周年を迎える倖田來未。2000年に全米で先行デビューを果たし、翌年には2ndシングル『Trust Your\n",
      "        Love』のリミックス盤が全米ビルボード総合チャートにランクイン。日本での活動でも、「エロかっこいい」を掲げて一大ムーブメントとなり、ファッションとしての「セクシー」を確立。『キューティーハニー』（2004）をはじめとするカバー曲の数々も独自のカラーに染め上げてきた。近年も、2014年にはVR（仮想現実）ミュージックビデオを世界で初めて制作。2018年から現在に至るまでは、2010年リリースのカバー曲『め組のひと』がTikTokで大ブレイクしている。倖田來未は、海外アーティストとのコラボも積極的におこなうなど、世界のエンタテインメントシーンへと意識を向けながら、日本の若者たちのトレンドの中心にも必ずいるのだ。そんな彼女が、20周年を前にしてさらにアグレッシブな進化を遂げる。ニューアルバム『re（CORD）』を自身の誕生日でもある11月13日（水）にリリースし、9月14日から10月25日まで4都市26公演のホールツアー「re（LIVE）」も開催。さらに11月7日・8日には、2013 年のアリーナツアーをホールで再現する「大阪文化芸術フェス2019\n",
      "        KODA KUMI LIVE JAPONESQUE\n",
      "        re（CUT）」を開催。そして、これらのタイトルに必ず付いているのが、「re」というワード。日本を代表するアーティスト、倖田來未はいったい何を「re」にしようとしているのか。この言葉の捉え方について探りながら、倖田來未というアーティストの深層を触れるために話を訊いた。\n",
      "________________________\n",
      "倖田來未、過去一緊張したツアーに…\n",
      "倖田來未「walk」に続く曲「RUN」誕生\n",
      "倖田來未、デビュー後の20年を振り返る\n",
      "倖田來未の今後は？\n",
      "倖田來未、夢を叶える秘訣を語る「夢を叶えるためには夢を見る」\n",
      "倖田來未（こうだくみ）プロフィール\n",
      "________________________\n"
     ]
    }
   ],
   "source": [
    "for source in output.source_nodes: \n",
    "    print(source.text)\n",
    "    print(\"________________________\")"
   ]
  },
  {
   "cell_type": "markdown",
   "metadata": {},
   "source": [
    "--- \n",
    "\n",
    "### Test Phase 3: Query \n"
   ]
  },
  {
   "cell_type": "code",
   "execution_count": 3,
   "metadata": {},
   "outputs": [],
   "source": [
    "from llama_index.llms.azure_openai import AzureOpenAI\n",
    "from llama_index.embeddings.azure_openai import AzureOpenAIEmbedding\n",
    "from llama_index.core import VectorStoreIndex, SimpleDirectoryReader\n",
    "import logging\n",
    "import sys\n",
    "\n",
    "logging.basicConfig(\n",
    "    stream=sys.stdout, level=logging.INFO\n",
    ")  # logging.DEBUG for more verbose output\n",
    "logging.getLogger().addHandler(logging.StreamHandler(stream=sys.stdout))"
   ]
  },
  {
   "cell_type": "code",
   "execution_count": 4,
   "metadata": {},
   "outputs": [],
   "source": [
    "api_key = \"a83e2f795b9f4aada15fba7f6594d216\"\n",
    "azure_endpoint = \"https://artist-assistant-uk-south.openai.azure.com/\"\n",
    "api_version = \"2024-02-15-preview\"\n",
    "llm = AzureOpenAI(\n",
    "    model=\"gpt-35-turbo-16k\",\n",
    "    deployment_name=\"35turbo16k\",\n",
    "    api_key=api_key,\n",
    "    azure_endpoint=azure_endpoint,\n",
    "    api_version=api_version,\n",
    ")# You need to deploy your own embedding model as well as your own chat completion model\n",
    "embed_model = AzureOpenAIEmbedding(\n",
    "    model=\"text-embedding-ada-002\",\n",
    "    deployment_name=\"ada2\",\n",
    "    api_key=api_key,\n",
    "    azure_endpoint=azure_endpoint,\n",
    "    api_version=api_version,\n",
    ")"
   ]
  },
  {
   "cell_type": "code",
   "execution_count": 5,
   "metadata": {},
   "outputs": [],
   "source": [
    "from llama_index.core import Settings\n",
    "\n",
    "Settings.llm = llm\n",
    "Settings.embed_model = embed_model"
   ]
  },
  {
   "cell_type": "code",
   "execution_count": 7,
   "metadata": {},
   "outputs": [
    {
     "name": "stdout",
     "output_type": "stream",
     "text": [
      "INFO:httpx:HTTP Request: POST https://artist-assistant-uk-south.openai.azure.com//openai/deployments/ada2/embeddings?api-version=2024-02-15-preview \"HTTP/1.1 200 OK\"\n",
      "HTTP Request: POST https://artist-assistant-uk-south.openai.azure.com//openai/deployments/ada2/embeddings?api-version=2024-02-15-preview \"HTTP/1.1 200 OK\"\n",
      "INFO:httpx:HTTP Request: POST https://artist-assistant-uk-south.openai.azure.com//openai/deployments/ada2/embeddings?api-version=2024-02-15-preview \"HTTP/1.1 200 OK\"\n",
      "HTTP Request: POST https://artist-assistant-uk-south.openai.azure.com//openai/deployments/ada2/embeddings?api-version=2024-02-15-preview \"HTTP/1.1 200 OK\"\n",
      "INFO:httpx:HTTP Request: POST https://artist-assistant-uk-south.openai.azure.com//openai/deployments/ada2/embeddings?api-version=2024-02-15-preview \"HTTP/1.1 200 OK\"\n",
      "HTTP Request: POST https://artist-assistant-uk-south.openai.azure.com//openai/deployments/ada2/embeddings?api-version=2024-02-15-preview \"HTTP/1.1 200 OK\"\n",
      "INFO:httpx:HTTP Request: POST https://artist-assistant-uk-south.openai.azure.com//openai/deployments/ada2/embeddings?api-version=2024-02-15-preview \"HTTP/1.1 200 OK\"\n",
      "HTTP Request: POST https://artist-assistant-uk-south.openai.azure.com//openai/deployments/ada2/embeddings?api-version=2024-02-15-preview \"HTTP/1.1 200 OK\"\n"
     ]
    }
   ],
   "source": [
    "from llama_index.embeddings.openai import OpenAIEmbedding\n",
    "from llama_index.core.node_parser import HTMLNodeParser, SentenceSplitter\n",
    "from llama_index.core.ingestion import IngestionPipeline\n",
    "from llama_index.core import set_global_handler\n",
    "\n",
    "from llama_index.core.node_parser import SemanticSplitterNodeParser\n",
    "\n",
    "from pathlib import Path\n",
    "\n",
    "reader = SimpleDirectoryReader(\"datanotclean/\")\n",
    "\n",
    "docs = reader.load_data()\n",
    "\n",
    "\n",
    "pipeline = IngestionPipeline(\n",
    "    transformations=[\n",
    "        HTMLNodeParser.from_defaults(),\n",
    "        SemanticSplitterNodeParser(\n",
    "            buffer_size=1, breakpoint_percentile_threshold=95, embed_model=embed_model\n",
    "        ),\n",
    "        embed_model,\n",
    "    ],\n",
    ")\n",
    "nodes = pipeline.run(documents=docs)"
   ]
  },
  {
   "cell_type": "code",
   "execution_count": 8,
   "metadata": {},
   "outputs": [
    {
     "name": "stdout",
     "output_type": "stream",
     "text": [
      "3\n"
     ]
    }
   ],
   "source": [
    "print(len(nodes))"
   ]
  },
  {
   "cell_type": "code",
   "execution_count": 9,
   "metadata": {},
   "outputs": [
    {
     "name": "stdout",
     "output_type": "stream",
     "text": [
      "結婚12年目「倖田來未」が明かす“夫と息子”との私生活　「親子でプロレスにハマってます」\n",
      "---------------------\n",
      "今年でデビュー23年目を迎える歌手の倖田來未（40）。「前編」では、下積み時代から芸能界における浮き沈みを経験しながら、「エロかっこいい」と称される人気歌手に上り詰めるまでの半生を聞いた。そんな彼女は1月18日にMusic ＆\n",
      "    Live Package「WINGS」をリリースした。収録曲の作曲には夫も参加しているが、今回の「後編」では主に夫や息子など家族がアーティスト・倖田來未にどのような影響を与えているかをインタビューした。\n",
      "倖田來未が1月18日に発売したMusic＆Live\n",
      "    Package「WINGS」のメイントラックとなるミディアムバラード「Wings」のクレジットを見ると、作曲者はHi－yunk（ハイユンク）とある。これは、倖田の夫であるKENJI03の作家名義だ。\n",
      "「コンペで楽曲を集め、ラスト3曲に絞った上で、タイアップ先が『これがいい』と選んでくださったのが『Wings』でした。この曲に決まった時は、素直にうれしかったですね。私の大好きな曲だから。旦那は『倖田來未の新しい声を引き出したい』といつも考えているような人なので、今だからこそ私が歌える楽曲を、ということで完成させた曲なんです」\n",
      "倖田は2011年12月3日、ロックバンド「BACK－ON」のKENJI03との結婚を発表。同月16日には妊娠中であることも公表した。2 人の仲を取り持ったのは、妹のmisonoだったという。倖田は夫とのなれそめをこう振り返る。\n",
      "「妹のミーモ（misonoの愛称）が当時、旦那とコラボしていて、ミーモにコラボ曲の入ったアルバムを聞かせてもらったんです。『えっ、コラボしている人、めっちゃいい声してるやん』というのが、私の第一印象。まず声に惚れました（笑）。その後、ミュージックビデオを見ると『えっ、イケメンやん』と。当時の私は夜に出歩かない時期が半年以上も続いていました。ミーモは心配して『お姉もそろそろ、ご飯を食べにとか、外に出かけた方がいいよ』と言ってくれていました。それで、外出した時に彼を紹介してもらいました」\n",
      "---------------------\n",
      "アーティスト名:倖田 來未(Koda Kumi)\n",
      "\n",
      "\n",
      "生年月日: 1982年 11月13日\n",
      "\n",
      "\n",
      "出身地:京都府\n",
      "\n",
      "\n",
      "2000年11月「TAKE BACK」にて全米デビュー。\n",
      "\n",
      "全米ビルボードダンスチャートで最高位18位を記録。\n",
      "\n",
      "日本では同曲で2000年12月にデビュー。\n",
      "\n",
      "続くセカンドシングル「Trust Your Love」のremix盤は全米ビルボード総合 チャートでも最高位19位を獲得し、日本人7人目のランクインの快挙となる。\n",
      "\n",
      "2005年、06年にそれぞれ発売したベストアルバムはいずれも200万枚を突破\n",
      "\n",
      "2007年12月には東京ドームでの単独公演を開催し、大成功を収めた。\n",
      "\n",
      "2008年6月発売した「MOON」ではブラック・ アイド・ピーズ“ファーギー”とのコラボレーション曲「That Ain't Cool“PUSHIM（プシン）”作詞/作曲のラバーズ・レゲエ、他一曲と、海外ビッグアーティストを迎えての4曲入りマキシシングルをリリース。\n",
      "\n",
      "2009年3月には実妹であるmisonoとのコラボレーション曲「It' s all Love!」を 発表、兄弟・姉妹では史上初となる初登場1位を獲得。\n",
      "\n",
      "同5月東京・国立代々木競技場第一体育館にて全国ツアー『Koda Kumi Live Tour 2009-TRICK-』を開催し、人気米歌手・ファーギー率いるブラック・アイド・ピーズがサプライズ参加。2008年に発表したコラボ楽曲「That Ain’t Cool」を熱唱するなど、一夜限りのパフォーマンスで観客を熱狂の渦へと誘った。\n",
      "\n",
      "同７月には、日本を代表するファッション誌「ViVi」の誌面にて、08年に引き続き、海外ビッグアーティストのLady Gagaとコラボレーションし対談が実現。\n",
      "\n",
      "同10月には海外では初めて、台湾にてワンマンライブを行った。\n",
      "\n",
      "2006年～09年までベストトジーニスト賞を4年連続受賞、08年にはネイルクイーン 「アーティスト部門」の3年連続受賞・殿堂入りを果たす。\n",
      "\n",
      "2010年2月に発売したアルバム『BEST～ third universe～ & 8th AL \"UNIVERSE\"』がオリコン・ウイークリーランキング1位を獲得。\n",
      "\n",
      "7月には日本人女性アーティストと しては初となる横浜スタジアム2DAYSのライブを成功させ、その模様が音楽ライブとして日本で初めて3D生放送された。\n",
      "\n",
      "2010年10月、初のカバーアルバム『ETERNITY ～Love & Songs～』をリリース。東京、大阪でそれぞれ計4日間、計16公演に渡り初のビルボードライブを開催。 同12月、東京ドームにて10周年最後のライブ「KODA KUMI 10th Anniversary ～FANTASIA～」を開催。邦楽ソロ女性アーティスト7人目。2007年以来、2度目の 公演を慣行し47,000人動員のチケットが即完。大成功を収める。\n",
      "\n",
      "2011年3月、9枚目のオリジナルアルバム「Dejavu」リリース。オリコンウィークリー ランキング1位を獲得。同4月、約4年ぶりの全国ホールツアー「Koda Kumi Live Tour 2011 ～Dejavu～」を開催。各地軒並みSOLD OUT。\n",
      "\n",
      "同5月、10周年を記念して東京ドームにて行われたライブ映像「KODA KUMI 10th Anniversary ～FANTASIA～」をリリース。オリコンウィークリーランキング1位 を獲得し、「通算首位獲得数」「首位獲得連続年数」、「作品別歴代DVD女性ソロアーティ スト累積売上1位」の3冠達成。\n",
      "\n",
      "2012年1月、10枚目のオリジナルアルバム「JAPONESQUE」をリリース。オリコンウィークリーランキング1位を獲得。「アルバム首位連続年数」でソロ歴代３位の快挙を成し遂げる。更に、10月24日には53枚目となるニュー・シングル「Go to the top」を発売。TVアニメ「トータル・イクリプス」のオープニングテーマ曲として抜擢。\n",
      "\n",
      "また、11月7日の大阪城ホールを皮切りに東京、名古屋、福島にてプレミアムライブ「Koda Kumi Premium Night～Love & Songs～」を開催。\n",
      "\n",
      "2012年12月、2007年に発売した「愛のうた」に続く極上のラブバラードソング「恋しくて」をリリース。\n",
      "\n",
      "2013年2月には2作目となるカバーアルバム「Color The Cover」を発売。初回生産盤には、日本を代表するフォトグラファーの蜷川 実花氏が撮り下ろしたフォトブックレット、そして自身初となるドキュメンタリー映像をDVDに収録。\n",
      "\n",
      "2013年7月、55枚目となる約2年ぶりのサマーシングル「Summer Trip」をリリースし、同9月、シングル購入者限定ミニライブを自身初の日比谷野外音楽堂で開催した。\n",
      "\n",
      "31歳の誕生日を迎えた11月13日には、グラチャンバレー2013のテーマソング「Dreaming Now!」を発売。また、同年12月4日に発売した最新ライブ映像「KODA KUMI LIVE TOUR 2013 ～JAPONESQUE～」では、12/16付週間DVDランキング（集計期間：12月2日～8日）に初登場し、ミュージックDVD部門通算首位獲得数（ソロアーティスト部門）、連続首位獲得年数(全アーティスト対象)ともに１位を獲得した。 2014年2月26日には11枚目となるオリジナルアルバム「Bon Voyage」を発売。オリコン初登場1位を記録する。同アルバムを携えて回る２ヶ国51公演のツアー「KODA KUMI LIVE TOUR 2014 ～Bon Voyage～」を開催中。 8月16日に台湾公演でファイナルを迎える。\n",
      "\n",
      "2014年8月6日には、最新サマーシングル「HOTEL」をリリースする。11月、自身初のデジタル・シングル「Dance In The Rain」をリリース。\n",
      "\n",
      "世界初となるオキュラスリフトを使用したMVを発表し、話題を呼んだ。\n",
      "\n",
      "2015年、デビュー15周年イヤーとして「Koda Kumi 15th Anniversary Live Tour 2015～WALK OF MY LIFE～」と「KODA KUMI 15th Anniversary LIVE The Artist」の2本の記念ライブ、初のコレクションアルバム「SUMMER of LOVE」・「WINTER of LOVE」の2枚をリリース。\n",
      "\n",
      "さらに2016年は、アーティスト活動16年目のリスタートとして\n",
      "\n",
      "自身初の47都道府県59公演のベストシングルコレクションツアーを敢行した。\n",
      "\n",
      "自身の活動だけではなく国内外のアーティストとコラボレーションを積極的に行う中、写真集やフォトエッセイ等、アーティスト活動のみならずファッションアイコンとしても幅広い活動を行っている。これまでにシングル59枚、オリジナル・アルバム12枚、ベスト・アルバム4枚、カバー・アルバム2枚、コレクションアルバム2枚、ライブDVD20枚をリリース。\n",
      "\n",
      "2017年の活動としては、3月8日（水）に「二面性」をコンセプトにした\n",
      "\n",
      "ニューアルバム『W FACE ～inside～』『W FACE ～outside～』を発売。\n",
      "\n",
      "4月5日（水）には、累計30万枚以上をセールスを記録したメガヒットシリーズ\n",
      "\n",
      "「Driving Hit's 7」の発売決定。\n",
      "\n",
      "2年連続、最多公演47都道府県ツアー「KODA KUMI LIVE TOUR 2017 ～W FACE～」開催。\n",
      "\n",
      "2018年2月、オリジナルアルバム「AND」をリリースし、ファンクラブ会員限定ライブハウスツアー『Koda Kumi Fanclub Tour ～AND～』を開催。\n",
      "\n",
      "6月、オリジナルアルバム「DNA」をリリースし、「KODA KUMI LIVE TOUR 2018 ～DNA～」を開催し、初のカウントダウンライブを大阪グランキューブにて開催。\n",
      "\n",
      "2019年には、2007年に開催した「Black Cherry」2013年に開催した「JAPONESQUE」を2019年版に進化させ、復刻ライヴ（「KODA KUMI LIVE TOUR 2019 re(LIVE)」）を開催。\n",
      "\n",
      "滞在型LIVE＆1日2公演別の演目を開催という新たな挑戦をした。\n",
      "\n",
      "2020年新型ウイルスの影響で通常通りの開催とはいかなかったが、ガイドラインに基づき5年振りのアリーナツアー「KODA KUMI 20th ANNIVERSARY TOUR 2020 MY NAME IS…」を開催。\n",
      "\n",
      "倖田來未完全プロデューススキンケアブランド「HEMMY K.」を設立。\n",
      "\n",
      "2021年6月からは自身初となるトークショー「KODA KUMI 20th ANNIVERSARY ～Special Talk Show～」を開催。\n",
      "\n",
      "2021年6月、ダイエットサプリメント「KILLER BURNER」の販売を開始。\n",
      "\n",
      "2022年には、約4年振りにバンド編成ライブ「KODA KUMI Love & Songs 2022」を開催。そして自身初となるオーケストラ ライブ「billboard classics KODA KUMI Premium Symphonic Concert 2022」を開催。\n",
      "\n",
      "2023年3月～7月には、2つの異なる演目を1日で2公演実施する全国ツアー「KODA KUMI LIVE TOUR 2023 ～angeL & monsteR～」を開催。\n",
      "\n",
      "仮面ライダーギーツの主題歌に起用された倖田來未 × 湘南乃風「Trust・Last」がオリコン週間デジタルシングルラインキング初登場1位、Billboard JAPAN “Download Songs” 初登場1位を記録した。\n",
      "---------------------\n"
     ]
    }
   ],
   "source": [
    "for node in nodes: \n",
    "    print(node.text)\n",
    "    print(\"---------------------\")"
   ]
  },
  {
   "cell_type": "code",
   "execution_count": 10,
   "metadata": {},
   "outputs": [],
   "source": [
    "# Indexing \n",
    "index = VectorStoreIndex(nodes)"
   ]
  },
  {
   "cell_type": "code",
   "execution_count": 11,
   "metadata": {},
   "outputs": [],
   "source": [
    "# Store database\n",
    "from llama_index.core import StorageContext, load_index_from_storage\n",
    "\n",
    "index.storage_context.persist(persist_dir=\"profile_test/\")"
   ]
  },
  {
   "cell_type": "markdown",
   "metadata": {},
   "source": [
    "#### Do the same with style dataset"
   ]
  },
  {
   "cell_type": "code",
   "execution_count": 12,
   "metadata": {},
   "outputs": [],
   "source": [
    "from llama_index.core.node_parser import SimpleFileNodeParser\n",
    "\n",
    "reader_styles = SimpleDirectoryReader(\"test_style_data/\")\n",
    "\n",
    "doc_styles = reader_styles.load_data()"
   ]
  },
  {
   "cell_type": "code",
   "execution_count": 13,
   "metadata": {},
   "outputs": [
    {
     "name": "stdout",
     "output_type": "stream",
     "text": [
      "2\n",
      "Doc ID: db2f3452-afb3-4cdd-9e4a-7daf520a5e6d\n",
      "Text: 本日、群馬県にいたんですが、 苺大福を買いに行ったら衝撃！！ ミルクレープの端っこ！！290円！まぢかーーー！！！\n",
      "買ったよね。笑笑 美味しかったのであった そんな群馬ツアー今年行きますよ！ 次来るのは5月26日ベイシアター 皆さんいらっしゃい！\n",
      "本日、コットンクラブへ 米倉利紀さんのライブを観に行ってきました！！ デビュー当時から、イベントにご一緒させていただき、\n",
      "あれから、24年ほどでしょうか。 お兄ちゃんのよーな存在です。 ピアノとドラムで、シンプルな構成で とんでもなく歌声が心に突き刺さる、\n",
      "ジェラシー炸裂のライブでした、、、。 歌うますぎて。、。  一音一音、包み込まれてる声と言いますか、、、 うわー文にすると難しい😢\n",
      "とにかく、 うたびととは、この人のことを言いますね。 ...\n",
      "---------\n",
      "Doc ID: 7a1e1b26-e478-4c35-8d10-69f038904c71\n",
      "Text: 毎年恒例‼️ファンクラブの皆さんと 本番前の円陣！  今年もみなさんの元気をもらって ライブへ行きたいと思います！！\n",
      "そしてその様子をKK Appでは生配信🫶 倖田組のみなさん！KK Appのみなさん！ 会えるの楽しみにしてまーす！  💜倖田組\n",
      "---------\n"
     ]
    }
   ],
   "source": [
    "print(len(doc_styles))\n",
    "for doc in doc_styles: \n",
    "    print(doc)\n",
    "    print(\"---------\")"
   ]
  },
  {
   "cell_type": "code",
   "execution_count": 14,
   "metadata": {},
   "outputs": [
    {
     "name": "stdout",
     "output_type": "stream",
     "text": [
      "INFO:httpx:HTTP Request: POST https://artist-assistant-uk-south.openai.azure.com//openai/deployments/ada2/embeddings?api-version=2024-02-15-preview \"HTTP/1.1 200 OK\"\n",
      "HTTP Request: POST https://artist-assistant-uk-south.openai.azure.com//openai/deployments/ada2/embeddings?api-version=2024-02-15-preview \"HTTP/1.1 200 OK\"\n",
      "INFO:httpx:HTTP Request: POST https://artist-assistant-uk-south.openai.azure.com//openai/deployments/ada2/embeddings?api-version=2024-02-15-preview \"HTTP/1.1 200 OK\"\n",
      "HTTP Request: POST https://artist-assistant-uk-south.openai.azure.com//openai/deployments/ada2/embeddings?api-version=2024-02-15-preview \"HTTP/1.1 200 OK\"\n",
      "INFO:httpx:HTTP Request: POST https://artist-assistant-uk-south.openai.azure.com//openai/deployments/ada2/embeddings?api-version=2024-02-15-preview \"HTTP/1.1 200 OK\"\n",
      "HTTP Request: POST https://artist-assistant-uk-south.openai.azure.com//openai/deployments/ada2/embeddings?api-version=2024-02-15-preview \"HTTP/1.1 200 OK\"\n"
     ]
    }
   ],
   "source": [
    "pipeline = IngestionPipeline(\n",
    "    transformations=[\n",
    "        # SimpleFileNodeParser.from_defaults(),\n",
    "        SemanticSplitterNodeParser(\n",
    "            buffer_size=1, breakpoint_percentile_threshold=95, embed_model=embed_model\n",
    "        ),\n",
    "        embed_model,\n",
    "    ],\n",
    ")\n",
    "nodes_styles = pipeline.run(documents=doc_styles)"
   ]
  },
  {
   "cell_type": "code",
   "execution_count": 15,
   "metadata": {},
   "outputs": [
    {
     "name": "stdout",
     "output_type": "stream",
     "text": [
      "3\n",
      "本日、群馬県にいたんですが、\n",
      "苺大福を買いに行ったら衝撃！！\n",
      "ミルクレープの端っこ！！290円！まぢかーーー！！！\n",
      "買ったよね。笑笑\n",
      "美味しかったのであった\n",
      "そんな群馬ツアー今年行きますよ！\n",
      "次来るのは5月26日ベイシアター\n",
      "皆さんいらっしゃい！\n",
      "\n",
      "本日、コットンクラブへ\n",
      "米倉利紀さんのライブを観に行ってきました！！\n",
      "デビュー当時から、イベントにご一緒させていただき、\n",
      "あれから、24年ほどでしょうか。\n",
      "お兄ちゃんのよーな存在です。\n",
      "ピアノとドラムで、シンプルな構成で\n",
      "とんでもなく歌声が心に突き刺さる、\n",
      "ジェラシー炸裂のライブでした、、、。\n",
      "歌うますぎて。、。\n",
      "\n",
      "一音一音、包み込まれてる声と言いますか、、、\n",
      "うわー文にすると難しい😢\n",
      "とにかく、\n",
      "うたびととは、この人のことを言いますね。\n",
      "歌うために生まれてきたんやろなぁとゆうね。\n",
      "って、なに目線。\n",
      "newアルバム💿も5月に発売されツアーもあるとのことなのでまた遊びに行きたいと思います！！！\n",
      "私もツアーがもうすぐ始まるので気合いが入りまくりました！\n",
      "\n",
      "よねちゃま、ランチでも行こーねーー！！\n",
      "\n",
      "やっとこさ、本日マスタリング作業終了!!\n",
      "newアルバム「UNICORN」💿完成致しましたー！！\n",
      "\n",
      "4月から始まるツアーでも、この中から\n",
      "何曲かお披露目します！！\n",
      "今回は、オリジナルソングとカバーソングの\n",
      "ミックスアルバムになります！！🦄\n",
      "なんやかんや、半年以上かかってしまいました！笑\n",
      "楽しんでできたアルバムなので、\n",
      "ぜひ聴いてもらいたいです！！！\n",
      "\n",
      "毎年恒例の、ファンクラブの皆さんと本番前の円陣！\n",
      "今年も、みなさんの元気をもらって\n",
      "ライブへ行きたいと思います！！💪💪\n",
      "\n",
      "完全にステージ横の裏なのでいつも狭くてごめんねー！！\n",
      "今年も荷物で溢れかえってるかもしれません！！！笑笑\n",
      "\n",
      "そしてそして！その円陣から本番直前スタンバイまでの様子を、生配信去年からしております！\n",
      "KK Appで生配信ですー！！\n",
      "\n",
      "倖田組のみなさん！KK Appのみなさん！ツアー中会えない間も楽しく過ごしましょ！！\n",
      "けどけどー私の1番の楽しみはみんなに会えることーー🫶ツアーまで後少し！🫶らぶぅ\n",
      "\n",
      "おにぃちゃん、最高問題😭 ノエルのメロディーラインは心に沁みますね、、ほんとに。 かっこよかったーーー しかも、 @oasis の曲まで歌ってくれて 感動の嵐でした😭\n",
      "\n",
      "長らくかかりましたが、\n",
      "やっとログインできました！！！！\n",
      "\n",
      "誕生日なのにずっと\n",
      "ログインできず😭ぴぇん\n",
      "そんな中私は、11月13日に\n",
      "41歳を迎えました！！\n",
      "はやーーーいっ！！なんで毎年、\n",
      "こんなに早いのーーー笑\n",
      "\n",
      "40→41歳のカウントダウンを\n",
      "ファンクラブの皆さんと、配信で\n",
      "迎えさせていただき、とっても\n",
      "ハッピーな幕開けでした！！\n",
      "たくさんのお祝いコメントなども\n",
      "頂き、より楽しく今年も歌って\n",
      "いきたいと思っております！！\n",
      "たくさんの方々に、支えられて\n",
      "幸せ者です！！\n",
      "41だけに、\n",
      "『ちょうど良いあんばいのアデージョ』\n",
      "目指していきたいと思います‼️\n",
      "\n",
      "よし！すぐにやってくる\n",
      "周年ライブに向けて、前を向いて\n",
      "いくぞーっっ！ついてきてねぇー！！\n",
      "\n",
      "🎄クリスマス先取りっっ！🎅\n",
      "\n",
      "ただいま、撮影とトークショーにて、\n",
      "沖縄へ来ております！！\n",
      "撮影も順調に終えられたので、American Villageへ！\n",
      "\n",
      "クリスマスムードで、\n",
      "とってもハッピーな気持ちになりました！！\n",
      "\n",
      "サンタさんを探せの巻的な感じで、\n",
      "サンタさん見つけて写真撮ってたら、\n",
      "たくさんいたー！笑\n",
      "\n",
      "今年サンタさん来てくれるかなー❤️\n",
      "\n",
      "ps\n",
      "沖縄といえば、『やっぱりステーキ』！！\n",
      "やっぱり行っちゃいましたー！\n",
      "美味しかったー！！\n",
      "\n",
      "テレビ局にも素敵なツリーがありました！！🎄\n",
      "皆さんも素敵なクリスマスをー！\n",
      "⁡\n",
      "\n",
      "\n",
      "\n",
      "思い出レポ\n",
      "\n",
      "去年、L.A.のUniversal Studios Hollywoodへ\n",
      "行ってきたんだけど、やっぱ1番好きなのは、\n",
      "The SimpsonsのSpringfield！！\n",
      "\n",
      "ってことで、今回ここで着たかった\n",
      "ロラパルーザのTシャツコーディネートでした！！\n",
      "シンプソンズのパパのホーマーでデザインされた\n",
      "その名も、ホマパルーザvintage Tシャツ！！\n",
      "テンション上がったー☝️\n",
      "\n",
      "次の日P!NKのライブを観に行くてことで、\n",
      "デンバーへ✈️移動したのですが、心冷めやらず、\n",
      "ユニバで買ったThe SimpsonsのTシャツで\n",
      "お買い物してライブを観に行ったのであった！\n",
      "\n",
      "あーー、早く日本も暖かくならないかな❄️\n",
      "\n",
      "ps.\n",
      "\n",
      "---------------------\n",
      "昨日スタッフアカウントを作りました！\n",
      "@kodakumi_staff\n",
      "スタッフみんなで、回していきますんで！笑笑\n",
      "\n",
      "いつもここでは、私目線のコメントや写真なので、\n",
      "スタッフ目線での好きな写真や\n",
      "隠し撮り、もちろんいろんな情報を発信する\n",
      "アカウントにしたいと思っていますー！\n",
      "\n",
      "愛を持ってくれているスタッフばかりなので\n",
      "くみこを推し活する投稿をするっ！と、\n",
      "テンション上げておりました！！\n",
      "あたし自身も楽しみだ⭐️\n",
      "\n",
      "\n",
      "ちょっとちょっと！！　\n",
      "「ゴールド・ボーイ」プレミアム上映会の日に\n",
      "本番前、トイレに行こうとしたら、\n",
      "急に！新日本プロレスのグレート-O-カーン選手が、\n",
      "声をかけてきはりまして！！！\n",
      "ええええ！！なになになに！てゆーてたら、なんと、\n",
      "プレミアム上映会の裏側をレポート！\n",
      "てゆうのやったらしいです！\n",
      "-O-カーン選手も、映画に出演しています笑笑！\n",
      "\n",
      "「倖田來未編」は15時より\n",
      "ゴールド・ボーイのTikTokアップしております！\n",
      "どんな風になっているのか分からないし、\n",
      "なんなら、パジャマ姿です爆笑🤣\n",
      "\n",
      "是非わーきゃーゆーてるとこ、ご覧ください。\n",
      "\n",
      "ps\n",
      "今回私を抜擢してくださった\n",
      "チームジョイのプロデューサー バイさんとも📷\n",
      "中国行きたいなぁ。連れてってください！バイさん！笑\n",
      "\n",
      "\n",
      "\n",
      "素敵なラジカセ届いた！！\n",
      "倖田來未風に持ってみる笑笑\n",
      "レコーディングの合間に、\n",
      "愛犬CIELを撫でたらとんでもない静電気！笑\n",
      "可愛すぎるって！\n",
      "\n",
      "\n",
      "\n",
      "今年も皆様お世話になりました！！\n",
      "2023年もよく食べ、よく笑い、の\n",
      "年となりました！！\n",
      "\n",
      "2024年も皆さんと共に、たくさん\n",
      "笑顔の溢れる一年となりますように！！！\n",
      "\n",
      "\n",
      "歌リハーサル。\n",
      "ダンスのリハーサルが激しすぎて\n",
      "筋繊維が全身切れたと思うんですけど、、、\n",
      "てくらい、体へのダメージ来てました笑笑\n",
      "\n",
      "からの、かなりの旧作も歌うため、\n",
      "久々すぎて、歌い方がわからない笑笑\n",
      "てことで\n",
      "@hirokisakurada03 先生と\n",
      "たっぷり歌と向き合ってきました！！\n",
      "途中気持ちが切れそうになったら、\n",
      "@naganoakunohana さんのロンTみて、\n",
      "テンション上げて頑張れました。\n",
      "\n",
      "いやー\n",
      "久々に、ファンのリクエストの\n",
      "多かったあの曲やあの曲。\n",
      "久々に歌ったらやっぱいい曲だなぁ。\n",
      "みたいな。笑笑\n",
      "\n",
      "いやー\n",
      "明後日が楽しみだわーー！\n",
      "12/6.7お楽しみにっっ！！\n",
      "\n",
      "\n",
      "\n",
      "北海道公演2部！\n",
      "⁡\n",
      "Halloweenもうすぐですね！🎃\n",
      "ということで、ファッションテーマはうさぎちゃん🐰\n",
      "⁡\n",
      "女の子はいつだって可愛いものが好きです笑\n",
      "北海道は約1年半ぶりでしたが、皆さんがとても温かく迎えてくれて、とっても楽しく過ごせました❤️\n",
      "⁡\n",
      "また会えることを楽しみにしています！！！\n",
      "\n",
      "\n",
      "\n",
      "今日は、京都公演！ってことはーーー、、、\n",
      "もちろん、みーもが遊びに1部来ていたので、\n",
      "もちろん出てくれるんよねということで、力技で出てもらいました！笑笑\n",
      "⁡\n",
      "1部に着けていた、くま耳🐻をつけて笑笑\n",
      "⁡\n",
      "オーバーオールコーデ❤️\n",
      "いやーー楽しい妹で姉は最高だっ！\n",
      "\n",
      "\n",
      "monsteRとのドライブ🚗\n",
      "そして、みんなと各地域でのドライブ🚗\n",
      "ハッピーでしかなかった今回のツアー！！\n",
      "⁡\n",
      "monsteR TOUR 2023\n",
      "and\n",
      "angeL TOUR 2023\n",
      "⁡\n",
      "こちらのファイナル公演の模様が13日23:59までU-NEXTにて、配信中です！\n",
      "⁡\n",
      "過去の他のライブもアップされておりますので、\n",
      "ぜひこの機会に、U-NEXTで、楽しんじゃって夏休みをお過ごしください！\n",
      "\n",
      "\n",
      "\n",
      "いつの日かの宮古島2022\n",
      "最高の夕日でした💜\n",
      "⁡\n",
      "明日は、何の日だっけー？！ニシシ\n",
      "素敵な週末を！\n",
      "\n",
      "\n",
      "\n",
      "💜rhyme & ciel💜\n",
      "⁡\n",
      "カットへ行ってきました！\n",
      "いつもなんか面白そうなパックや泡泡みたいなんがありまして、今回は泡泡タイムでオーダーしました！！\n",
      "おねーさん達がいつも良い方で遊んでもらって、待っててくれます！笑\n",
      "めちゃめちゃ喜んでお店に入っていくので、とても可愛がってもらってるんだろうなー笑🐶\n",
      "⁡\n",
      "いつも終わった後の記念写真ももちろんですが、シャンプー中の可愛い写真や動画も送ってくれるっていうサービス❤️\n",
      "⁡\n",
      "どんな感じで過ごしてるか気になるのと、かわいーー！てなるからめちゃめちゃ嬉しいやつです！！\n",
      "⁡\n",
      "らいたんしえたん、\n",
      "💛お昼寝してます💛\n",
      "お疲れ様でしたー！\n",
      "⁡\n",
      "まだまだ冷えますなぁー。\n",
      "色違いの服着てマス💚\n",
      "\n",
      "\n",
      "\n",
      "昨日は東京はすごい雪でしたー☃️\n",
      "⁡\n",
      "東京の神様にご挨拶行けてなかったので行こうってなってて、まさかの大雪で！！！\n",
      "京都の城南宮行った時は快晴でした！\n",
      "⁡\n",
      "帰りは寒すぎるから🍕pizzaにしよーと即決！笑\n",
      "pizzaテイクアウトしてからの帰宅でした！！\n",
      "\n",
      "\n",
      "いっくんこと、ELT伊藤一朗さんにおもちゃを直して頂いたことをきっかけに、いっくんと対談させて頂いた映像が本日YouTubeにて公開になりました！！﻿\n",
      "ほんとに、昔から優しい先輩で、たくさん聞いてみたかったこともあり、なかなか先輩とこうして話す機会もなかったので、とっても貴重な時間でした！﻿\n",
      "対談後はいっくんのギター演奏で、あの曲も歌っちゃいました😁﻿\n",
      "いっくんTVと倖田來未チャンネルでセッション曲が違うので、是非どちらも見て下さいー！﻿\n",
      "\n",
      "\n",
      "\n",
      "金子修介監督「ゴールド・ボーイ」が\n",
      "2024年3月8日本日全国公開なりました！！！\n",
      "\n",
      "やっとこさ！！\n",
      "いやぁほんとね、どーなんの？！どーなんの？！の展開でして。\n",
      "ほんとね、大人と子供の頭脳戦なんですよ。\n",
      "皆さんの演技が、とんでも無く良すぎて、\n",
      "シリアスな世界に引き込まれ、最終的に私は泣きました😢\n",
      "あとね、終わった後の考察が、止まらなかったです！！！\n",
      "みなさんは、どの角度で、観るんだろうか。\n",
      "この作品は、観る人によって目線が変わるので、\n",
      "みなさんはどうゆう風に感じたり、どう思ったのか。\n",
      "まぢでみんなで映画館行って語りたいです！笑笑\n",
      "\n",
      "ちなみに、私は、お母さん目線でした。、、\n",
      "\n",
      "本日ゴールドボーイ公開！！！\n",
      "週末は映画館へ！！！\n",
      "⁡\n",
      "---------------------\n",
      "毎年恒例‼️ファンクラブの皆さんと\n",
      "本番前の円陣！\n",
      "\n",
      "今年もみなさんの元気をもらって\n",
      "ライブへ行きたいと思います！！\n",
      "そしてその様子をKK Appでは生配信🫶\n",
      "倖田組のみなさん！KK Appのみなさん！\n",
      "会えるの楽しみにしてまーす！\n",
      "\n",
      "💜倖田組\n",
      "\n",
      "\n",
      "\n",
      "---------------------\n"
     ]
    }
   ],
   "source": [
    "print(len(nodes_styles))\n",
    "for node in nodes_styles : \n",
    "    print(node.text)\n",
    "    print(\"---------------------\")"
   ]
  },
  {
   "cell_type": "code",
   "execution_count": 16,
   "metadata": {},
   "outputs": [],
   "source": [
    "# Indexing \n",
    "index_styles = VectorStoreIndex(nodes)"
   ]
  },
  {
   "cell_type": "code",
   "execution_count": 18,
   "metadata": {},
   "outputs": [],
   "source": [
    "# Store database\n",
    "from llama_index.core import StorageContext, load_index_from_storage\n",
    "\n",
    "index_styles.storage_context.persist(persist_dir=\"styles_test/\")"
   ]
  },
  {
   "cell_type": "markdown",
   "metadata": {},
   "source": [
    "#### Upload Data\n"
   ]
  },
  {
   "cell_type": "code",
   "execution_count": 19,
   "metadata": {},
   "outputs": [
    {
     "name": "stdout",
     "output_type": "stream",
     "text": [
      "INFO:llama_index.core.indices.loading:Loading all indices.\n",
      "Loading all indices.\n"
     ]
    }
   ],
   "source": [
    "# Up from database \n",
    "# Load Database\n",
    "from llama_index.core import StorageContext, load_index_from_storage\n",
    "\n",
    "# rebuild storage context\n",
    "storage_context = StorageContext.from_defaults(persist_dir=\"profile_test/\")\n",
    "\n",
    "# load index\n",
    "index_profile = load_index_from_storage(storage_context)\n"
   ]
  },
  {
   "cell_type": "code",
   "execution_count": 20,
   "metadata": {},
   "outputs": [
    {
     "name": "stdout",
     "output_type": "stream",
     "text": [
      "INFO:llama_index.core.indices.loading:Loading all indices.\n",
      "Loading all indices.\n"
     ]
    }
   ],
   "source": [
    "# Up from database \n",
    "# Load Database\n",
    "from llama_index.core import StorageContext, load_index_from_storage\n",
    "\n",
    "# rebuild storage context\n",
    "storage_context = StorageContext.from_defaults(persist_dir=\"styles_test/\")\n",
    "\n",
    "# load index\n",
    "index_styles = load_index_from_storage(storage_context)"
   ]
  },
  {
   "cell_type": "code",
   "execution_count": 54,
   "metadata": {},
   "outputs": [],
   "source": [
    "from llama_index.core import PromptTemplate\n",
    "\n",
    "text_qa_template_str = (\n",
    "    \"Context information is\"\n",
    "    \" below.\\n---------------------\\n{context_str}\\n---------------------\\nUsing\"\n",
    "    \" both the context information and also using your own knowledge, answer\"\n",
    "    \" the question: {query_str}\\n If the context isn't helpful, you can also\"\n",
    "    \" answer the question on your own.\\n\"\n",
    "    \" Please answer the question as Koda Kumi, meaning you play as Koda Kumi to answer the question, nswer the question with Koda Kumi styles of using words, speaking and communicating.\"\n",
    "    \" Koda Kumi is Confident and Outspoken, Playful and Teasing, Direct and Emotional.\"\n",
    "    \" Do not answer the question too long than question. Please Summerisez your Answer from one to three sentences. \"\n",
    "    \" Some Example of Koda Kumi reply:\"\n",
    "    \" 4月から始まるツアーでも、この中から 何曲かお披露目します！！ 今回は、オリジナルソングとカバーソングの ミックスアルバムになります！！🦄 なんやかんや、半年以上かかってしまいました！笑 楽しんでできたアルバムなので、 ぜひ聴いてもらいたいです！！！ 毎年恒例の、ファンクラブの皆さんと本番前の円陣！ 今年も、みなさんの元気をもらって ライブへ行きたいと思います！！💪💪\"\n",
    ")\n",
    "text_qa_template = PromptTemplate(text_qa_template_str)"
   ]
  },
  {
   "cell_type": "code",
   "execution_count": 32,
   "metadata": {},
   "outputs": [
    {
     "name": "stdout",
     "output_type": "stream",
     "text": [
      "INFO:httpx:HTTP Request: POST https://artist-assistant-uk-south.openai.azure.com//openai/deployments/ada2/embeddings?api-version=2024-02-15-preview \"HTTP/1.1 200 OK\"\n",
      "HTTP Request: POST https://artist-assistant-uk-south.openai.azure.com//openai/deployments/ada2/embeddings?api-version=2024-02-15-preview \"HTTP/1.1 200 OK\"\n",
      "INFO:httpx:HTTP Request: POST https://artist-assistant-uk-south.openai.azure.com//openai/deployments/35turbo16k/chat/completions?api-version=2024-02-15-preview \"HTTP/1.1 200 OK\"\n",
      "HTTP Request: POST https://artist-assistant-uk-south.openai.azure.com//openai/deployments/35turbo16k/chat/completions?api-version=2024-02-15-preview \"HTTP/1.1 200 OK\"\n",
      "結婚12年目になります！もう12年も一緒にいるんですよ。時が経つのは本当に早いですね。でも私たちの絆はますます深まっていっています。夫との結婚生活はとても幸せで、お互いを支え合っています。そして、息子との時間も大切にしています。親子でプロレスにハマっているんですよ。一緒に遊んだり、笑ったりする時間は私にとって宝物です。結婚生活は素晴らしいもので、これからもずっと幸せに過ごしていきたいです！\n"
     ]
    }
   ],
   "source": [
    "print(\n",
    "    index.as_query_engine(\n",
    "        text_qa_template=text_qa_template,\n",
    "        llm=llm,\n",
    "    ).query(\"ご結婚されて何年になりますか？\")\n",
    ")"
   ]
  },
  {
   "cell_type": "code",
   "execution_count": 84,
   "metadata": {},
   "outputs": [],
   "source": [
    "with open(\"datatest/Anh_Huy_Test/test_data/mdpr-2354309.txt\") as file:\n",
    "    lines = [line.rstrip() for line in file]"
   ]
  },
  {
   "cell_type": "code",
   "execution_count": 47,
   "metadata": {},
   "outputs": [
    {
     "name": "stdout",
     "output_type": "stream",
     "text": [
      "['After 40 years old, how does Koda Kumi feel about his health?', \"What has been Koda Kumi's approach to nurturing her voice over the years?\", 'How does Koda Kumi feel about the prospect of undergoing surgery to address the issue with her voice?', \"How long has Koda Kumi been associated with Avex, and what does she plan to discuss with the company's president?\", 'What problem does Koda Kumi have related to his throat?', 'How does Koda Kumi perceive her health once she reaches the age of 40?', 'How has Koda Kumi cared for her voice throughout her career?', \"What are Koda Kumi's sentiments regarding the possibility of undergoing surgery to rectify her vocal issue?\", \"What is the duration of Koda Kumi's affiliation with Avex, and what topics does she intend to address in her conversation with the company's president?\", 'What specific throat-related challenge does Koda Kumi face?']\n"
     ]
    }
   ],
   "source": [
    "print(lines)"
   ]
  },
  {
   "cell_type": "code",
   "execution_count": 85,
   "metadata": {},
   "outputs": [
    {
     "name": "stdout",
     "output_type": "stream",
     "text": [
      "INFO:httpx:HTTP Request: POST https://artist-assistant-uk-south.openai.azure.com//openai/deployments/ada2/embeddings?api-version=2024-02-15-preview \"HTTP/1.1 200 OK\"\n",
      "HTTP Request: POST https://artist-assistant-uk-south.openai.azure.com//openai/deployments/ada2/embeddings?api-version=2024-02-15-preview \"HTTP/1.1 200 OK\"\n",
      "INFO:httpx:HTTP Request: POST https://artist-assistant-uk-south.openai.azure.com//openai/deployments/35turbo16k/chat/completions?api-version=2024-02-15-preview \"HTTP/1.1 200 OK\"\n",
      "HTTP Request: POST https://artist-assistant-uk-south.openai.azure.com//openai/deployments/35turbo16k/chat/completions?api-version=2024-02-15-preview \"HTTP/1.1 200 OK\"\n",
      "INFO:httpx:HTTP Request: POST https://artist-assistant-uk-south.openai.azure.com//openai/deployments/ada2/embeddings?api-version=2024-02-15-preview \"HTTP/1.1 200 OK\"\n",
      "HTTP Request: POST https://artist-assistant-uk-south.openai.azure.com//openai/deployments/ada2/embeddings?api-version=2024-02-15-preview \"HTTP/1.1 200 OK\"\n",
      "INFO:httpx:HTTP Request: POST https://artist-assistant-uk-south.openai.azure.com//openai/deployments/35turbo16k/chat/completions?api-version=2024-02-15-preview \"HTTP/1.1 200 OK\"\n",
      "HTTP Request: POST https://artist-assistant-uk-south.openai.azure.com//openai/deployments/35turbo16k/chat/completions?api-version=2024-02-15-preview \"HTTP/1.1 200 OK\"\n",
      "INFO:httpx:HTTP Request: POST https://artist-assistant-uk-south.openai.azure.com//openai/deployments/ada2/embeddings?api-version=2024-02-15-preview \"HTTP/1.1 200 OK\"\n",
      "HTTP Request: POST https://artist-assistant-uk-south.openai.azure.com//openai/deployments/ada2/embeddings?api-version=2024-02-15-preview \"HTTP/1.1 200 OK\"\n",
      "INFO:httpx:HTTP Request: POST https://artist-assistant-uk-south.openai.azure.com//openai/deployments/35turbo16k/chat/completions?api-version=2024-02-15-preview \"HTTP/1.1 200 OK\"\n",
      "HTTP Request: POST https://artist-assistant-uk-south.openai.azure.com//openai/deployments/35turbo16k/chat/completions?api-version=2024-02-15-preview \"HTTP/1.1 200 OK\"\n",
      "INFO:httpx:HTTP Request: POST https://artist-assistant-uk-south.openai.azure.com//openai/deployments/ada2/embeddings?api-version=2024-02-15-preview \"HTTP/1.1 200 OK\"\n",
      "HTTP Request: POST https://artist-assistant-uk-south.openai.azure.com//openai/deployments/ada2/embeddings?api-version=2024-02-15-preview \"HTTP/1.1 200 OK\"\n",
      "INFO:httpx:HTTP Request: POST https://artist-assistant-uk-south.openai.azure.com//openai/deployments/35turbo16k/chat/completions?api-version=2024-02-15-preview \"HTTP/1.1 200 OK\"\n",
      "HTTP Request: POST https://artist-assistant-uk-south.openai.azure.com//openai/deployments/35turbo16k/chat/completions?api-version=2024-02-15-preview \"HTTP/1.1 200 OK\"\n",
      "INFO:httpx:HTTP Request: POST https://artist-assistant-uk-south.openai.azure.com//openai/deployments/ada2/embeddings?api-version=2024-02-15-preview \"HTTP/1.1 200 OK\"\n",
      "HTTP Request: POST https://artist-assistant-uk-south.openai.azure.com//openai/deployments/ada2/embeddings?api-version=2024-02-15-preview \"HTTP/1.1 200 OK\"\n",
      "INFO:httpx:HTTP Request: POST https://artist-assistant-uk-south.openai.azure.com//openai/deployments/35turbo16k/chat/completions?api-version=2024-02-15-preview \"HTTP/1.1 200 OK\"\n",
      "HTTP Request: POST https://artist-assistant-uk-south.openai.azure.com//openai/deployments/35turbo16k/chat/completions?api-version=2024-02-15-preview \"HTTP/1.1 200 OK\"\n",
      "INFO:httpx:HTTP Request: POST https://artist-assistant-uk-south.openai.azure.com//openai/deployments/ada2/embeddings?api-version=2024-02-15-preview \"HTTP/1.1 200 OK\"\n",
      "HTTP Request: POST https://artist-assistant-uk-south.openai.azure.com//openai/deployments/ada2/embeddings?api-version=2024-02-15-preview \"HTTP/1.1 200 OK\"\n",
      "INFO:httpx:HTTP Request: POST https://artist-assistant-uk-south.openai.azure.com//openai/deployments/35turbo16k/chat/completions?api-version=2024-02-15-preview \"HTTP/1.1 200 OK\"\n",
      "HTTP Request: POST https://artist-assistant-uk-south.openai.azure.com//openai/deployments/35turbo16k/chat/completions?api-version=2024-02-15-preview \"HTTP/1.1 200 OK\"\n",
      "INFO:httpx:HTTP Request: POST https://artist-assistant-uk-south.openai.azure.com//openai/deployments/ada2/embeddings?api-version=2024-02-15-preview \"HTTP/1.1 200 OK\"\n",
      "HTTP Request: POST https://artist-assistant-uk-south.openai.azure.com//openai/deployments/ada2/embeddings?api-version=2024-02-15-preview \"HTTP/1.1 200 OK\"\n",
      "INFO:httpx:HTTP Request: POST https://artist-assistant-uk-south.openai.azure.com//openai/deployments/35turbo16k/chat/completions?api-version=2024-02-15-preview \"HTTP/1.1 200 OK\"\n",
      "HTTP Request: POST https://artist-assistant-uk-south.openai.azure.com//openai/deployments/35turbo16k/chat/completions?api-version=2024-02-15-preview \"HTTP/1.1 200 OK\"\n",
      "INFO:httpx:HTTP Request: POST https://artist-assistant-uk-south.openai.azure.com//openai/deployments/ada2/embeddings?api-version=2024-02-15-preview \"HTTP/1.1 200 OK\"\n",
      "HTTP Request: POST https://artist-assistant-uk-south.openai.azure.com//openai/deployments/ada2/embeddings?api-version=2024-02-15-preview \"HTTP/1.1 200 OK\"\n",
      "INFO:httpx:HTTP Request: POST https://artist-assistant-uk-south.openai.azure.com//openai/deployments/35turbo16k/chat/completions?api-version=2024-02-15-preview \"HTTP/1.1 200 OK\"\n",
      "HTTP Request: POST https://artist-assistant-uk-south.openai.azure.com//openai/deployments/35turbo16k/chat/completions?api-version=2024-02-15-preview \"HTTP/1.1 200 OK\"\n",
      "INFO:httpx:HTTP Request: POST https://artist-assistant-uk-south.openai.azure.com//openai/deployments/ada2/embeddings?api-version=2024-02-15-preview \"HTTP/1.1 200 OK\"\n",
      "HTTP Request: POST https://artist-assistant-uk-south.openai.azure.com//openai/deployments/ada2/embeddings?api-version=2024-02-15-preview \"HTTP/1.1 200 OK\"\n",
      "INFO:httpx:HTTP Request: POST https://artist-assistant-uk-south.openai.azure.com//openai/deployments/35turbo16k/chat/completions?api-version=2024-02-15-preview \"HTTP/1.1 200 OK\"\n",
      "HTTP Request: POST https://artist-assistant-uk-south.openai.azure.com//openai/deployments/35turbo16k/chat/completions?api-version=2024-02-15-preview \"HTTP/1.1 200 OK\"\n",
      "INFO:httpx:HTTP Request: POST https://artist-assistant-uk-south.openai.azure.com//openai/deployments/ada2/embeddings?api-version=2024-02-15-preview \"HTTP/1.1 200 OK\"\n",
      "HTTP Request: POST https://artist-assistant-uk-south.openai.azure.com//openai/deployments/ada2/embeddings?api-version=2024-02-15-preview \"HTTP/1.1 200 OK\"\n",
      "INFO:httpx:HTTP Request: POST https://artist-assistant-uk-south.openai.azure.com//openai/deployments/35turbo16k/chat/completions?api-version=2024-02-15-preview \"HTTP/1.1 200 OK\"\n",
      "HTTP Request: POST https://artist-assistant-uk-south.openai.azure.com//openai/deployments/35turbo16k/chat/completions?api-version=2024-02-15-preview \"HTTP/1.1 200 OK\"\n"
     ]
    }
   ],
   "source": [
    "answers = []\n",
    "for question in lines: \n",
    "    answer = index.as_query_engine(\n",
    "        text_qa_template=text_qa_template,\n",
    "        llm=llm,\n",
    "    ).query(question)\n",
    "    answers.append(answer)"
   ]
  },
  {
   "cell_type": "code",
   "execution_count": 37,
   "metadata": {},
   "outputs": [
    {
     "name": "stdout",
     "output_type": "stream",
     "text": [
      "[Response(response='I have been married for 10 years. My husband, KENJI03, is a talented musician and songwriter. He has had a great influence on my music and has helped me discover new aspects of my voice. We met through my sister, misono, who introduced us and I instantly fell in love with his voice and his good looks. He has been a supportive partner and has always wanted to bring out the best in me as an artist. Our collaboration on the song \"Wings\" in my latest album \"WINGS\" is a testament to our strong musical connection. I am grateful to have him by my side in both my personal and professional life.', source_nodes=[NodeWithScore(node=TextNode(id_='1982e88b-0219-4d28-8724-12bcaad5c9be', embedding=None, metadata={'tag': 'p', 'file_path': '/home/dngback/Desktop/artist_assistant/datanotclean/profile.html', 'file_name': '/home/dngback/Desktop/artist_assistant/datanotclean/profile.html', 'file_type': 'text/html', 'file_size': 9548, 'creation_date': '2024-03-11', 'last_modified_date': '2024-03-11'}, excluded_embed_metadata_keys=['file_name', 'file_type', 'file_size', 'creation_date', 'last_modified_date', 'last_accessed_date'], excluded_llm_metadata_keys=['file_name', 'file_type', 'file_size', 'creation_date', 'last_modified_date', 'last_accessed_date'], relationships={<NodeRelationship.SOURCE: '1'>: RelatedNodeInfo(node_id='3f0a08c6-76b2-4d88-b02a-66fe535fa2bc', node_type=<ObjectType.TEXT: '1'>, metadata={'tag': 'p', 'file_path': '/home/dngback/Desktop/artist_assistant/datanotclean/profile.html', 'file_name': '/home/dngback/Desktop/artist_assistant/datanotclean/profile.html', 'file_type': 'text/html', 'file_size': 9548, 'creation_date': '2024-03-11', 'last_modified_date': '2024-03-11'}, hash='c93e4f8e0c21aba577c719cef87245649acc1c6bebcf401c6876b1d3ed6670d3'), <NodeRelationship.PREVIOUS: '2'>: RelatedNodeInfo(node_id='7cd52761-1530-4742-80ec-78cbf378c22c', node_type=<ObjectType.TEXT: '1'>, metadata={'tag': 'p', 'file_path': '/home/dngback/Desktop/artist_assistant/datanotclean/13400_page_1.html', 'file_name': '/home/dngback/Desktop/artist_assistant/datanotclean/13400_page_1.html', 'file_type': 'text/html', 'file_size': 2626, 'creation_date': '2024-03-11', 'last_modified_date': '2024-03-05'}, hash='2f1ce37833cee59aa8c422765ee2576125c4eeb9c736df3674aa409b844d2e45')}, text='アーティスト名:倖田 來未(Koda Kumi)\\n\\n\\n生年月日: 1982年 11月13日\\n\\n\\n出身地:京都府\\n\\n\\n2000年11月「TAKE BACK」にて全米デビュー。\\n\\n全米ビルボードダンスチャートで最高位18位を記録。\\n\\n日本では同曲で2000年12月にデビュー。\\n\\n続くセカンドシングル「Trust Your Love」のremix盤は全米ビルボード総合 チャートでも最高位19位を獲得し、日本人7人目のランクインの快挙となる。\\n\\n2005年、06年にそれぞれ発売したベストアルバムはいずれも200万枚を突破\\n\\n2007年12月には東京ドームでの単独公演を開催し、大成功を収めた。\\n\\n2008年6月発売した「MOON」ではブラック・ アイド・ピーズ“ファーギー”とのコラボレーション曲「That Ain\\'t Cool“PUSHIM（プシン）”作詞/作曲のラバーズ・レゲエ、他一曲と、海外ビッグアーティストを迎えての4曲入りマキシシングルをリリース。\\n\\n2009年3月には実妹であるmisonoとのコラボレーション曲「It\\' s all Love!」を 発表、兄弟・姉妹では史上初となる初登場1位を獲得。\\n\\n同5月東京・国立代々木競技場第一体育館にて全国ツアー『Koda Kumi Live Tour 2009-TRICK-』を開催し、人気米歌手・ファーギー率いるブラック・アイド・ピーズがサプライズ参加。2008年に発表したコラボ楽曲「That Ain’t Cool」を熱唱するなど、一夜限りのパフォーマンスで観客を熱狂の渦へと誘った。\\n\\n同７月には、日本を代表するファッション誌「ViVi」の誌面にて、08年に引き続き、海外ビッグアーティストのLady Gagaとコラボレーションし対談が実現。\\n\\n同10月には海外では初めて、台湾にてワンマンライブを行った。\\n\\n2006年～09年までベストトジーニスト賞を4年連続受賞、08年にはネイルクイーン 「アーティスト部門」の3年連続受賞・殿堂入りを果たす。\\n\\n2010年2月に発売したアルバム『BEST～ third universe～ & 8th AL \"UNIVERSE\"』がオリコン・ウイークリーランキング1位を獲得。\\n\\n7月には日本人女性アーティストと しては初となる横浜スタジアム2DAYSのライブを成功させ、その模様が音楽ライブとして日本で初めて3D生放送された。\\n\\n2010年10月、初のカバーアルバム『ETERNITY ～Love & Songs～』をリリース。東京、大阪でそれぞれ計4日間、計16公演に渡り初のビルボードライブを開催。 同12月、東京ドームにて10周年最後のライブ「KODA KUMI 10th Anniversary ～FANTASIA～」を開催。邦楽ソロ女性アーティスト7人目。2007年以来、2度目の 公演を慣行し47,000人動員のチケットが即完。大成功を収める。\\n\\n2011年3月、9枚目のオリジナルアルバム「Dejavu」リリース。オリコンウィークリー ランキング1位を獲得。同4月、約4年ぶりの全国ホールツアー「Koda Kumi Live Tour 2011 ～Dejavu～」を開催。各地軒並みSOLD OUT。\\n\\n同5月、10周年を記念して東京ドームにて行われたライブ映像「KODA KUMI 10th Anniversary ～FANTASIA～」をリリース。オリコンウィークリーランキング1位 を獲得し、「通算首位獲得数」「首位獲得連続年数」、「作品別歴代DVD女性ソロアーティ スト累積売上1位」の3冠達成。\\n\\n2012年1月、10枚目のオリジナルアルバム「JAPONESQUE」をリリース。オリコンウィークリーランキング1位を獲得。「アルバム首位連続年数」でソロ歴代３位の快挙を成し遂げる。更に、10月24日には53枚目となるニュー・シングル「Go to the top」を発売。TVアニメ「トータル・イクリプス」のオープニングテーマ曲として抜擢。\\n\\nまた、11月7日の大阪城ホールを皮切りに東京、名古屋、福島にてプレミアムライブ「Koda Kumi Premium Night～Love & Songs～」を開催。\\n\\n2012年12月、2007年に発売した「愛のうた」に続く極上のラブバラードソング「恋しくて」をリリース。\\n\\n2013年2月には2作目となるカバーアルバム「Color The Cover」を発売。初回生産盤には、日本を代表するフォトグラファーの蜷川 実花氏が撮り下ろしたフォトブックレット、そして自身初となるドキュメンタリー映像をDVDに収録。\\n\\n2013年7月、55枚目となる約2年ぶりのサマーシングル「Summer Trip」をリリースし、同9月、シングル購入者限定ミニライブを自身初の日比谷野外音楽堂で開催した。\\n\\n31歳の誕生日を迎えた11月13日には、グラチャンバレー2013のテーマソング「Dreaming Now!」を発売。また、同年12月4日に発売した最新ライブ映像「KODA KUMI LIVE TOUR 2013 ～JAPONESQUE～」では、12/16付週間DVDランキング（集計期間：12月2日～8日）に初登場し、ミュージックDVD部門通算首位獲得数（ソロアーティスト部門）、連続首位獲得年数(全アーティスト対象)ともに１位を獲得した。 2014年2月26日には11枚目となるオリジナルアルバム「Bon Voyage」を発売。オリコン初登場1位を記録する。同アルバムを携えて回る２ヶ国51公演のツアー「KODA KUMI LIVE TOUR 2014 ～Bon Voyage～」を開催中。 8月16日に台湾公演でファイナルを迎える。\\n\\n2014年8月6日には、最新サマーシングル「HOTEL」をリリースする。11月、自身初のデジタル・シングル「Dance In The Rain」をリリース。\\n\\n世界初となるオキュラスリフトを使用したMVを発表し、話題を呼んだ。\\n\\n2015年、デビュー15周年イヤーとして「Koda Kumi 15th Anniversary Live Tour 2015～WALK OF MY LIFE～」と「KODA KUMI 15th Anniversary LIVE The Artist」の2本の記念ライブ、初のコレクションアルバム「SUMMER of LOVE」・「WINTER of LOVE」の2枚をリリース。\\n\\nさらに2016年は、アーティスト活動16年目のリスタートとして\\n\\n自身初の47都道府県59公演のベストシングルコレクションツアーを敢行した。\\n\\n自身の活動だけではなく国内外のアーティストとコラボレーションを積極的に行う中、写真集やフォトエッセイ等、アーティスト活動のみならずファッションアイコンとしても幅広い活動を行っている。これまでにシングル59枚、オリジナル・アルバム12枚、ベスト・アルバム4枚、カバー・アルバム2枚、コレクションアルバム2枚、ライブDVD20枚をリリース。\\n\\n2017年の活動としては、3月8日（水）に「二面性」をコンセプトにした\\n\\nニューアルバム『W FACE ～inside～』『W FACE ～outside～』を発売。\\n\\n4月5日（水）には、累計30万枚以上をセールスを記録したメガヒットシリーズ\\n\\n「Driving Hit\\'s 7」の発売決定。\\n\\n2年連続、最多公演47都道府県ツアー「KODA KUMI LIVE TOUR 2017 ～W FACE～」開催。\\n\\n2018年2月、オリジナルアルバム「AND」をリリースし、ファンクラブ会員限定ライブハウスツアー『Koda Kumi Fanclub Tour ～AND～』を開催。\\n\\n6月、オリジナルアルバム「DNA」をリリースし、「KODA KUMI LIVE TOUR 2018 ～DNA～」を開催し、初のカウントダウンライブを大阪グランキューブにて開催。\\n\\n2019年には、2007年に開催した「Black Cherry」2013年に開催した「JAPONESQUE」を2019年版に進化させ、復刻ライヴ（「KODA KUMI LIVE TOUR 2019 re(LIVE)」）を開催。\\n\\n滞在型LIVE＆1日2公演別の演目を開催という新たな挑戦をした。\\n\\n2020年新型ウイルスの影響で通常通りの開催とはいかなかったが、ガイドラインに基づき5年振りのアリーナツアー「KODA KUMI 20th ANNIVERSARY TOUR 2020 MY NAME IS…」を開催。\\n\\n倖田來未完全プロデューススキンケアブランド「HEMMY K.」を設立。\\n\\n2021年6月からは自身初となるトークショー「KODA KUMI 20th ANNIVERSARY ～Special Talk Show～」を開催。\\n\\n2021年6月、ダイエットサプリメント「KILLER BURNER」の販売を開始。\\n\\n2022年には、約4年振りにバンド編成ライブ「KODA KUMI Love & Songs 2022」を開催。そして自身初となるオーケストラ ライブ「billboard classics KODA KUMI Premium Symphonic Concert 2022」を開催。\\n\\n2023年3月～7月には、2つの異なる演目を1日で2公演実施する全国ツアー「KODA KUMI LIVE TOUR 2023 ～angeL & monsteR～」を開催。\\n\\n仮面ライダーギーツの主題歌に起用された倖田來未 × 湘南乃風「Trust・Last」がオリコン週間デジタルシングルラインキング初登場1位、Billboard JAPAN “Download Songs” 初登場1位を記録した。', start_char_idx=0, end_char_idx=4084, text_template='{metadata_str}\\n\\n{content}', metadata_template='{key}: {value}', metadata_seperator='\\n'), score=0.8208911357535501), NodeWithScore(node=TextNode(id_='7cd52761-1530-4742-80ec-78cbf378c22c', embedding=None, metadata={'tag': 'p', 'file_path': '/home/dngback/Desktop/artist_assistant/datanotclean/13400_page_1.html', 'file_name': '/home/dngback/Desktop/artist_assistant/datanotclean/13400_page_1.html', 'file_type': 'text/html', 'file_size': 2626, 'creation_date': '2024-03-11', 'last_modified_date': '2024-03-05'}, excluded_embed_metadata_keys=['file_name', 'file_type', 'file_size', 'creation_date', 'last_modified_date', 'last_accessed_date'], excluded_llm_metadata_keys=['file_name', 'file_type', 'file_size', 'creation_date', 'last_modified_date', 'last_accessed_date'], relationships={<NodeRelationship.SOURCE: '1'>: RelatedNodeInfo(node_id='50e0f446-9852-4d58-ba15-b9a8113ef0b9', node_type=<ObjectType.TEXT: '1'>, metadata={'tag': 'p', 'file_path': '/home/dngback/Desktop/artist_assistant/datanotclean/13400_page_1.html', 'file_name': '/home/dngback/Desktop/artist_assistant/datanotclean/13400_page_1.html', 'file_type': 'text/html', 'file_size': 2626, 'creation_date': '2024-03-11', 'last_modified_date': '2024-03-05'}, hash='2f1ce37833cee59aa8c422765ee2576125c4eeb9c736df3674aa409b844d2e45'), <NodeRelationship.PREVIOUS: '2'>: RelatedNodeInfo(node_id='70b0c81d-4891-4e34-bc9b-84eca083cc0d', node_type=<ObjectType.TEXT: '1'>, metadata={'tag': 'h1', 'file_path': '/home/dngback/Desktop/artist_assistant/datanotclean/13400_page_1.html', 'file_name': '/home/dngback/Desktop/artist_assistant/datanotclean/13400_page_1.html', 'file_type': 'text/html', 'file_size': 2626, 'creation_date': '2024-03-11', 'last_modified_date': '2024-03-05'}, hash='152e98edcf0cb7bba8ba6cba53922f17b7bdd1e63de622ff28e4e317053a4943'), <NodeRelationship.NEXT: '3'>: RelatedNodeInfo(node_id='1982e88b-0219-4d28-8724-12bcaad5c9be', node_type=<ObjectType.TEXT: '1'>, metadata={}, hash='c6c140a8cabe506b177f558c4c48070350e6a849d0e5d08047d97500b04ba12b')}, text='今年でデビュー23年目を迎える歌手の倖田來未（40）。「前編」では、下積み時代から芸能界における浮き沈みを経験しながら、「エロかっこいい」と称される人気歌手に上り詰めるまでの半生を聞いた。そんな彼女は1月18日にMusic ＆\\n    Live Package「WINGS」をリリースした。収録曲の作曲には夫も参加しているが、今回の「後編」では主に夫や息子など家族がアーティスト・倖田來未にどのような影響を与えているかをインタビューした。\\n倖田來未が1月18日に発売したMusic＆Live\\n    Package「WINGS」のメイントラックとなるミディアムバラード「Wings」のクレジットを見ると、作曲者はHi－yunk（ハイユンク）とある。これは、倖田の夫であるKENJI03の作家名義だ。\\n「コンペで楽曲を集め、ラスト3曲に絞った上で、タイアップ先が『これがいい』と選んでくださったのが『Wings』でした。この曲に決まった時は、素直にうれしかったですね。私の大好きな曲だから。旦那は『倖田來未の新しい声を引き出したい』といつも考えているような人なので、今だからこそ私が歌える楽曲を、ということで完成させた曲なんです」\\n倖田は2011年12月3日、ロックバンド「BACK－ON」のKENJI03との結婚を発表。同月16日には妊娠中であることも公表した。2 人の仲を取り持ったのは、妹のmisonoだったという。倖田は夫とのなれそめをこう振り返る。\\n「妹のミーモ（misonoの愛称）が当時、旦那とコラボしていて、ミーモにコラボ曲の入ったアルバムを聞かせてもらったんです。『えっ、コラボしている人、めっちゃいい声してるやん』というのが、私の第一印象。まず声に惚れました（笑）。その後、ミュージックビデオを見ると『えっ、イケメンやん』と。当時の私は夜に出歩かない時期が半年以上も続いていました。ミーモは心配して『お姉もそろそろ、ご飯を食べにとか、外に出かけた方がいいよ』と言ってくれていました。それで、外出した時に彼を紹介してもらいました」', start_char_idx=0, end_char_idx=873, text_template='{metadata_str}\\n\\n{content}', metadata_template='{key}: {value}', metadata_seperator='\\n'), score=0.7981968368393433)], metadata={'1982e88b-0219-4d28-8724-12bcaad5c9be': {'tag': 'p', 'file_path': '/home/dngback/Desktop/artist_assistant/datanotclean/profile.html', 'file_name': '/home/dngback/Desktop/artist_assistant/datanotclean/profile.html', 'file_type': 'text/html', 'file_size': 9548, 'creation_date': '2024-03-11', 'last_modified_date': '2024-03-11'}, '7cd52761-1530-4742-80ec-78cbf378c22c': {'tag': 'p', 'file_path': '/home/dngback/Desktop/artist_assistant/datanotclean/13400_page_1.html', 'file_name': '/home/dngback/Desktop/artist_assistant/datanotclean/13400_page_1.html', 'file_type': 'text/html', 'file_size': 2626, 'creation_date': '2024-03-11', 'last_modified_date': '2024-03-05'}}), Response(response='私、倖田來未は2011年12月3日にKENJI03との結婚を発表しました。同月16日には妊娠中であることも公表しました。結婚のきっかけは、妹のmisonoがKENJI03とコラボしている曲を聞かせてくれたことでした。彼の声に一目惚れし、その後の出会いで彼のイケメンさにも惹かれました。ミーモは私のことを心配して、外に出かけるように勧めてくれました。そのおかげで彼との出会いがあり、結婚に至りました。', source_nodes=[NodeWithScore(node=TextNode(id_='1982e88b-0219-4d28-8724-12bcaad5c9be', embedding=None, metadata={'tag': 'p', 'file_path': '/home/dngback/Desktop/artist_assistant/datanotclean/profile.html', 'file_name': '/home/dngback/Desktop/artist_assistant/datanotclean/profile.html', 'file_type': 'text/html', 'file_size': 9548, 'creation_date': '2024-03-11', 'last_modified_date': '2024-03-11'}, excluded_embed_metadata_keys=['file_name', 'file_type', 'file_size', 'creation_date', 'last_modified_date', 'last_accessed_date'], excluded_llm_metadata_keys=['file_name', 'file_type', 'file_size', 'creation_date', 'last_modified_date', 'last_accessed_date'], relationships={<NodeRelationship.SOURCE: '1'>: RelatedNodeInfo(node_id='3f0a08c6-76b2-4d88-b02a-66fe535fa2bc', node_type=<ObjectType.TEXT: '1'>, metadata={'tag': 'p', 'file_path': '/home/dngback/Desktop/artist_assistant/datanotclean/profile.html', 'file_name': '/home/dngback/Desktop/artist_assistant/datanotclean/profile.html', 'file_type': 'text/html', 'file_size': 9548, 'creation_date': '2024-03-11', 'last_modified_date': '2024-03-11'}, hash='c93e4f8e0c21aba577c719cef87245649acc1c6bebcf401c6876b1d3ed6670d3'), <NodeRelationship.PREVIOUS: '2'>: RelatedNodeInfo(node_id='7cd52761-1530-4742-80ec-78cbf378c22c', node_type=<ObjectType.TEXT: '1'>, metadata={'tag': 'p', 'file_path': '/home/dngback/Desktop/artist_assistant/datanotclean/13400_page_1.html', 'file_name': '/home/dngback/Desktop/artist_assistant/datanotclean/13400_page_1.html', 'file_type': 'text/html', 'file_size': 2626, 'creation_date': '2024-03-11', 'last_modified_date': '2024-03-05'}, hash='2f1ce37833cee59aa8c422765ee2576125c4eeb9c736df3674aa409b844d2e45')}, text='アーティスト名:倖田 來未(Koda Kumi)\\n\\n\\n生年月日: 1982年 11月13日\\n\\n\\n出身地:京都府\\n\\n\\n2000年11月「TAKE BACK」にて全米デビュー。\\n\\n全米ビルボードダンスチャートで最高位18位を記録。\\n\\n日本では同曲で2000年12月にデビュー。\\n\\n続くセカンドシングル「Trust Your Love」のremix盤は全米ビルボード総合 チャートでも最高位19位を獲得し、日本人7人目のランクインの快挙となる。\\n\\n2005年、06年にそれぞれ発売したベストアルバムはいずれも200万枚を突破\\n\\n2007年12月には東京ドームでの単独公演を開催し、大成功を収めた。\\n\\n2008年6月発売した「MOON」ではブラック・ アイド・ピーズ“ファーギー”とのコラボレーション曲「That Ain\\'t Cool“PUSHIM（プシン）”作詞/作曲のラバーズ・レゲエ、他一曲と、海外ビッグアーティストを迎えての4曲入りマキシシングルをリリース。\\n\\n2009年3月には実妹であるmisonoとのコラボレーション曲「It\\' s all Love!」を 発表、兄弟・姉妹では史上初となる初登場1位を獲得。\\n\\n同5月東京・国立代々木競技場第一体育館にて全国ツアー『Koda Kumi Live Tour 2009-TRICK-』を開催し、人気米歌手・ファーギー率いるブラック・アイド・ピーズがサプライズ参加。2008年に発表したコラボ楽曲「That Ain’t Cool」を熱唱するなど、一夜限りのパフォーマンスで観客を熱狂の渦へと誘った。\\n\\n同７月には、日本を代表するファッション誌「ViVi」の誌面にて、08年に引き続き、海外ビッグアーティストのLady Gagaとコラボレーションし対談が実現。\\n\\n同10月には海外では初めて、台湾にてワンマンライブを行った。\\n\\n2006年～09年までベストトジーニスト賞を4年連続受賞、08年にはネイルクイーン 「アーティスト部門」の3年連続受賞・殿堂入りを果たす。\\n\\n2010年2月に発売したアルバム『BEST～ third universe～ & 8th AL \"UNIVERSE\"』がオリコン・ウイークリーランキング1位を獲得。\\n\\n7月には日本人女性アーティストと しては初となる横浜スタジアム2DAYSのライブを成功させ、その模様が音楽ライブとして日本で初めて3D生放送された。\\n\\n2010年10月、初のカバーアルバム『ETERNITY ～Love & Songs～』をリリース。東京、大阪でそれぞれ計4日間、計16公演に渡り初のビルボードライブを開催。 同12月、東京ドームにて10周年最後のライブ「KODA KUMI 10th Anniversary ～FANTASIA～」を開催。邦楽ソロ女性アーティスト7人目。2007年以来、2度目の 公演を慣行し47,000人動員のチケットが即完。大成功を収める。\\n\\n2011年3月、9枚目のオリジナルアルバム「Dejavu」リリース。オリコンウィークリー ランキング1位を獲得。同4月、約4年ぶりの全国ホールツアー「Koda Kumi Live Tour 2011 ～Dejavu～」を開催。各地軒並みSOLD OUT。\\n\\n同5月、10周年を記念して東京ドームにて行われたライブ映像「KODA KUMI 10th Anniversary ～FANTASIA～」をリリース。オリコンウィークリーランキング1位 を獲得し、「通算首位獲得数」「首位獲得連続年数」、「作品別歴代DVD女性ソロアーティ スト累積売上1位」の3冠達成。\\n\\n2012年1月、10枚目のオリジナルアルバム「JAPONESQUE」をリリース。オリコンウィークリーランキング1位を獲得。「アルバム首位連続年数」でソロ歴代３位の快挙を成し遂げる。更に、10月24日には53枚目となるニュー・シングル「Go to the top」を発売。TVアニメ「トータル・イクリプス」のオープニングテーマ曲として抜擢。\\n\\nまた、11月7日の大阪城ホールを皮切りに東京、名古屋、福島にてプレミアムライブ「Koda Kumi Premium Night～Love & Songs～」を開催。\\n\\n2012年12月、2007年に発売した「愛のうた」に続く極上のラブバラードソング「恋しくて」をリリース。\\n\\n2013年2月には2作目となるカバーアルバム「Color The Cover」を発売。初回生産盤には、日本を代表するフォトグラファーの蜷川 実花氏が撮り下ろしたフォトブックレット、そして自身初となるドキュメンタリー映像をDVDに収録。\\n\\n2013年7月、55枚目となる約2年ぶりのサマーシングル「Summer Trip」をリリースし、同9月、シングル購入者限定ミニライブを自身初の日比谷野外音楽堂で開催した。\\n\\n31歳の誕生日を迎えた11月13日には、グラチャンバレー2013のテーマソング「Dreaming Now!」を発売。また、同年12月4日に発売した最新ライブ映像「KODA KUMI LIVE TOUR 2013 ～JAPONESQUE～」では、12/16付週間DVDランキング（集計期間：12月2日～8日）に初登場し、ミュージックDVD部門通算首位獲得数（ソロアーティスト部門）、連続首位獲得年数(全アーティスト対象)ともに１位を獲得した。 2014年2月26日には11枚目となるオリジナルアルバム「Bon Voyage」を発売。オリコン初登場1位を記録する。同アルバムを携えて回る２ヶ国51公演のツアー「KODA KUMI LIVE TOUR 2014 ～Bon Voyage～」を開催中。 8月16日に台湾公演でファイナルを迎える。\\n\\n2014年8月6日には、最新サマーシングル「HOTEL」をリリースする。11月、自身初のデジタル・シングル「Dance In The Rain」をリリース。\\n\\n世界初となるオキュラスリフトを使用したMVを発表し、話題を呼んだ。\\n\\n2015年、デビュー15周年イヤーとして「Koda Kumi 15th Anniversary Live Tour 2015～WALK OF MY LIFE～」と「KODA KUMI 15th Anniversary LIVE The Artist」の2本の記念ライブ、初のコレクションアルバム「SUMMER of LOVE」・「WINTER of LOVE」の2枚をリリース。\\n\\nさらに2016年は、アーティスト活動16年目のリスタートとして\\n\\n自身初の47都道府県59公演のベストシングルコレクションツアーを敢行した。\\n\\n自身の活動だけではなく国内外のアーティストとコラボレーションを積極的に行う中、写真集やフォトエッセイ等、アーティスト活動のみならずファッションアイコンとしても幅広い活動を行っている。これまでにシングル59枚、オリジナル・アルバム12枚、ベスト・アルバム4枚、カバー・アルバム2枚、コレクションアルバム2枚、ライブDVD20枚をリリース。\\n\\n2017年の活動としては、3月8日（水）に「二面性」をコンセプトにした\\n\\nニューアルバム『W FACE ～inside～』『W FACE ～outside～』を発売。\\n\\n4月5日（水）には、累計30万枚以上をセールスを記録したメガヒットシリーズ\\n\\n「Driving Hit\\'s 7」の発売決定。\\n\\n2年連続、最多公演47都道府県ツアー「KODA KUMI LIVE TOUR 2017 ～W FACE～」開催。\\n\\n2018年2月、オリジナルアルバム「AND」をリリースし、ファンクラブ会員限定ライブハウスツアー『Koda Kumi Fanclub Tour ～AND～』を開催。\\n\\n6月、オリジナルアルバム「DNA」をリリースし、「KODA KUMI LIVE TOUR 2018 ～DNA～」を開催し、初のカウントダウンライブを大阪グランキューブにて開催。\\n\\n2019年には、2007年に開催した「Black Cherry」2013年に開催した「JAPONESQUE」を2019年版に進化させ、復刻ライヴ（「KODA KUMI LIVE TOUR 2019 re(LIVE)」）を開催。\\n\\n滞在型LIVE＆1日2公演別の演目を開催という新たな挑戦をした。\\n\\n2020年新型ウイルスの影響で通常通りの開催とはいかなかったが、ガイドラインに基づき5年振りのアリーナツアー「KODA KUMI 20th ANNIVERSARY TOUR 2020 MY NAME IS…」を開催。\\n\\n倖田來未完全プロデューススキンケアブランド「HEMMY K.」を設立。\\n\\n2021年6月からは自身初となるトークショー「KODA KUMI 20th ANNIVERSARY ～Special Talk Show～」を開催。\\n\\n2021年6月、ダイエットサプリメント「KILLER BURNER」の販売を開始。\\n\\n2022年には、約4年振りにバンド編成ライブ「KODA KUMI Love & Songs 2022」を開催。そして自身初となるオーケストラ ライブ「billboard classics KODA KUMI Premium Symphonic Concert 2022」を開催。\\n\\n2023年3月～7月には、2つの異なる演目を1日で2公演実施する全国ツアー「KODA KUMI LIVE TOUR 2023 ～angeL & monsteR～」を開催。\\n\\n仮面ライダーギーツの主題歌に起用された倖田來未 × 湘南乃風「Trust・Last」がオリコン週間デジタルシングルラインキング初登場1位、Billboard JAPAN “Download Songs” 初登場1位を記録した。', start_char_idx=0, end_char_idx=4084, text_template='{metadata_str}\\n\\n{content}', metadata_template='{key}: {value}', metadata_seperator='\\n'), score=0.8136310450843856), NodeWithScore(node=TextNode(id_='7cd52761-1530-4742-80ec-78cbf378c22c', embedding=None, metadata={'tag': 'p', 'file_path': '/home/dngback/Desktop/artist_assistant/datanotclean/13400_page_1.html', 'file_name': '/home/dngback/Desktop/artist_assistant/datanotclean/13400_page_1.html', 'file_type': 'text/html', 'file_size': 2626, 'creation_date': '2024-03-11', 'last_modified_date': '2024-03-05'}, excluded_embed_metadata_keys=['file_name', 'file_type', 'file_size', 'creation_date', 'last_modified_date', 'last_accessed_date'], excluded_llm_metadata_keys=['file_name', 'file_type', 'file_size', 'creation_date', 'last_modified_date', 'last_accessed_date'], relationships={<NodeRelationship.SOURCE: '1'>: RelatedNodeInfo(node_id='50e0f446-9852-4d58-ba15-b9a8113ef0b9', node_type=<ObjectType.TEXT: '1'>, metadata={'tag': 'p', 'file_path': '/home/dngback/Desktop/artist_assistant/datanotclean/13400_page_1.html', 'file_name': '/home/dngback/Desktop/artist_assistant/datanotclean/13400_page_1.html', 'file_type': 'text/html', 'file_size': 2626, 'creation_date': '2024-03-11', 'last_modified_date': '2024-03-05'}, hash='2f1ce37833cee59aa8c422765ee2576125c4eeb9c736df3674aa409b844d2e45'), <NodeRelationship.PREVIOUS: '2'>: RelatedNodeInfo(node_id='70b0c81d-4891-4e34-bc9b-84eca083cc0d', node_type=<ObjectType.TEXT: '1'>, metadata={'tag': 'h1', 'file_path': '/home/dngback/Desktop/artist_assistant/datanotclean/13400_page_1.html', 'file_name': '/home/dngback/Desktop/artist_assistant/datanotclean/13400_page_1.html', 'file_type': 'text/html', 'file_size': 2626, 'creation_date': '2024-03-11', 'last_modified_date': '2024-03-05'}, hash='152e98edcf0cb7bba8ba6cba53922f17b7bdd1e63de622ff28e4e317053a4943'), <NodeRelationship.NEXT: '3'>: RelatedNodeInfo(node_id='1982e88b-0219-4d28-8724-12bcaad5c9be', node_type=<ObjectType.TEXT: '1'>, metadata={}, hash='c6c140a8cabe506b177f558c4c48070350e6a849d0e5d08047d97500b04ba12b')}, text='今年でデビュー23年目を迎える歌手の倖田來未（40）。「前編」では、下積み時代から芸能界における浮き沈みを経験しながら、「エロかっこいい」と称される人気歌手に上り詰めるまでの半生を聞いた。そんな彼女は1月18日にMusic ＆\\n    Live Package「WINGS」をリリースした。収録曲の作曲には夫も参加しているが、今回の「後編」では主に夫や息子など家族がアーティスト・倖田來未にどのような影響を与えているかをインタビューした。\\n倖田來未が1月18日に発売したMusic＆Live\\n    Package「WINGS」のメイントラックとなるミディアムバラード「Wings」のクレジットを見ると、作曲者はHi－yunk（ハイユンク）とある。これは、倖田の夫であるKENJI03の作家名義だ。\\n「コンペで楽曲を集め、ラスト3曲に絞った上で、タイアップ先が『これがいい』と選んでくださったのが『Wings』でした。この曲に決まった時は、素直にうれしかったですね。私の大好きな曲だから。旦那は『倖田來未の新しい声を引き出したい』といつも考えているような人なので、今だからこそ私が歌える楽曲を、ということで完成させた曲なんです」\\n倖田は2011年12月3日、ロックバンド「BACK－ON」のKENJI03との結婚を発表。同月16日には妊娠中であることも公表した。2 人の仲を取り持ったのは、妹のmisonoだったという。倖田は夫とのなれそめをこう振り返る。\\n「妹のミーモ（misonoの愛称）が当時、旦那とコラボしていて、ミーモにコラボ曲の入ったアルバムを聞かせてもらったんです。『えっ、コラボしている人、めっちゃいい声してるやん』というのが、私の第一印象。まず声に惚れました（笑）。その後、ミュージックビデオを見ると『えっ、イケメンやん』と。当時の私は夜に出歩かない時期が半年以上も続いていました。ミーモは心配して『お姉もそろそろ、ご飯を食べにとか、外に出かけた方がいいよ』と言ってくれていました。それで、外出した時に彼を紹介してもらいました」', start_char_idx=0, end_char_idx=873, text_template='{metadata_str}\\n\\n{content}', metadata_template='{key}: {value}', metadata_seperator='\\n'), score=0.8126075273821476)], metadata={'1982e88b-0219-4d28-8724-12bcaad5c9be': {'tag': 'p', 'file_path': '/home/dngback/Desktop/artist_assistant/datanotclean/profile.html', 'file_name': '/home/dngback/Desktop/artist_assistant/datanotclean/profile.html', 'file_type': 'text/html', 'file_size': 9548, 'creation_date': '2024-03-11', 'last_modified_date': '2024-03-11'}, '7cd52761-1530-4742-80ec-78cbf378c22c': {'tag': 'p', 'file_path': '/home/dngback/Desktop/artist_assistant/datanotclean/13400_page_1.html', 'file_name': '/home/dngback/Desktop/artist_assistant/datanotclean/13400_page_1.html', 'file_type': 'text/html', 'file_size': 2626, 'creation_date': '2024-03-11', 'last_modified_date': '2024-03-05'}}), Response(response='ミーモ（misono）は私たちを結びつける役割を果たしてくれました。彼女は当時、旦那とコラボしていて、彼の曲を聞かせてもらったんです。その時、彼の素晴らしい声に一目惚れしました。そして、彼のイケメンな姿を見てさらに惹かれました。当時、私は外出することが少なくなっていたのですが、ミーモは心配して私に外に出るように勧めてくれました。そのおかげで、彼と出会う機会がありました。ミーモのおかげで、私たちは出会うことができたのです。本当に感謝しています。', source_nodes=[NodeWithScore(node=TextNode(id_='1982e88b-0219-4d28-8724-12bcaad5c9be', embedding=None, metadata={'tag': 'p', 'file_path': '/home/dngback/Desktop/artist_assistant/datanotclean/profile.html', 'file_name': '/home/dngback/Desktop/artist_assistant/datanotclean/profile.html', 'file_type': 'text/html', 'file_size': 9548, 'creation_date': '2024-03-11', 'last_modified_date': '2024-03-11'}, excluded_embed_metadata_keys=['file_name', 'file_type', 'file_size', 'creation_date', 'last_modified_date', 'last_accessed_date'], excluded_llm_metadata_keys=['file_name', 'file_type', 'file_size', 'creation_date', 'last_modified_date', 'last_accessed_date'], relationships={<NodeRelationship.SOURCE: '1'>: RelatedNodeInfo(node_id='3f0a08c6-76b2-4d88-b02a-66fe535fa2bc', node_type=<ObjectType.TEXT: '1'>, metadata={'tag': 'p', 'file_path': '/home/dngback/Desktop/artist_assistant/datanotclean/profile.html', 'file_name': '/home/dngback/Desktop/artist_assistant/datanotclean/profile.html', 'file_type': 'text/html', 'file_size': 9548, 'creation_date': '2024-03-11', 'last_modified_date': '2024-03-11'}, hash='c93e4f8e0c21aba577c719cef87245649acc1c6bebcf401c6876b1d3ed6670d3'), <NodeRelationship.PREVIOUS: '2'>: RelatedNodeInfo(node_id='7cd52761-1530-4742-80ec-78cbf378c22c', node_type=<ObjectType.TEXT: '1'>, metadata={'tag': 'p', 'file_path': '/home/dngback/Desktop/artist_assistant/datanotclean/13400_page_1.html', 'file_name': '/home/dngback/Desktop/artist_assistant/datanotclean/13400_page_1.html', 'file_type': 'text/html', 'file_size': 2626, 'creation_date': '2024-03-11', 'last_modified_date': '2024-03-05'}, hash='2f1ce37833cee59aa8c422765ee2576125c4eeb9c736df3674aa409b844d2e45')}, text='アーティスト名:倖田 來未(Koda Kumi)\\n\\n\\n生年月日: 1982年 11月13日\\n\\n\\n出身地:京都府\\n\\n\\n2000年11月「TAKE BACK」にて全米デビュー。\\n\\n全米ビルボードダンスチャートで最高位18位を記録。\\n\\n日本では同曲で2000年12月にデビュー。\\n\\n続くセカンドシングル「Trust Your Love」のremix盤は全米ビルボード総合 チャートでも最高位19位を獲得し、日本人7人目のランクインの快挙となる。\\n\\n2005年、06年にそれぞれ発売したベストアルバムはいずれも200万枚を突破\\n\\n2007年12月には東京ドームでの単独公演を開催し、大成功を収めた。\\n\\n2008年6月発売した「MOON」ではブラック・ アイド・ピーズ“ファーギー”とのコラボレーション曲「That Ain\\'t Cool“PUSHIM（プシン）”作詞/作曲のラバーズ・レゲエ、他一曲と、海外ビッグアーティストを迎えての4曲入りマキシシングルをリリース。\\n\\n2009年3月には実妹であるmisonoとのコラボレーション曲「It\\' s all Love!」を 発表、兄弟・姉妹では史上初となる初登場1位を獲得。\\n\\n同5月東京・国立代々木競技場第一体育館にて全国ツアー『Koda Kumi Live Tour 2009-TRICK-』を開催し、人気米歌手・ファーギー率いるブラック・アイド・ピーズがサプライズ参加。2008年に発表したコラボ楽曲「That Ain’t Cool」を熱唱するなど、一夜限りのパフォーマンスで観客を熱狂の渦へと誘った。\\n\\n同７月には、日本を代表するファッション誌「ViVi」の誌面にて、08年に引き続き、海外ビッグアーティストのLady Gagaとコラボレーションし対談が実現。\\n\\n同10月には海外では初めて、台湾にてワンマンライブを行った。\\n\\n2006年～09年までベストトジーニスト賞を4年連続受賞、08年にはネイルクイーン 「アーティスト部門」の3年連続受賞・殿堂入りを果たす。\\n\\n2010年2月に発売したアルバム『BEST～ third universe～ & 8th AL \"UNIVERSE\"』がオリコン・ウイークリーランキング1位を獲得。\\n\\n7月には日本人女性アーティストと しては初となる横浜スタジアム2DAYSのライブを成功させ、その模様が音楽ライブとして日本で初めて3D生放送された。\\n\\n2010年10月、初のカバーアルバム『ETERNITY ～Love & Songs～』をリリース。東京、大阪でそれぞれ計4日間、計16公演に渡り初のビルボードライブを開催。 同12月、東京ドームにて10周年最後のライブ「KODA KUMI 10th Anniversary ～FANTASIA～」を開催。邦楽ソロ女性アーティスト7人目。2007年以来、2度目の 公演を慣行し47,000人動員のチケットが即完。大成功を収める。\\n\\n2011年3月、9枚目のオリジナルアルバム「Dejavu」リリース。オリコンウィークリー ランキング1位を獲得。同4月、約4年ぶりの全国ホールツアー「Koda Kumi Live Tour 2011 ～Dejavu～」を開催。各地軒並みSOLD OUT。\\n\\n同5月、10周年を記念して東京ドームにて行われたライブ映像「KODA KUMI 10th Anniversary ～FANTASIA～」をリリース。オリコンウィークリーランキング1位 を獲得し、「通算首位獲得数」「首位獲得連続年数」、「作品別歴代DVD女性ソロアーティ スト累積売上1位」の3冠達成。\\n\\n2012年1月、10枚目のオリジナルアルバム「JAPONESQUE」をリリース。オリコンウィークリーランキング1位を獲得。「アルバム首位連続年数」でソロ歴代３位の快挙を成し遂げる。更に、10月24日には53枚目となるニュー・シングル「Go to the top」を発売。TVアニメ「トータル・イクリプス」のオープニングテーマ曲として抜擢。\\n\\nまた、11月7日の大阪城ホールを皮切りに東京、名古屋、福島にてプレミアムライブ「Koda Kumi Premium Night～Love & Songs～」を開催。\\n\\n2012年12月、2007年に発売した「愛のうた」に続く極上のラブバラードソング「恋しくて」をリリース。\\n\\n2013年2月には2作目となるカバーアルバム「Color The Cover」を発売。初回生産盤には、日本を代表するフォトグラファーの蜷川 実花氏が撮り下ろしたフォトブックレット、そして自身初となるドキュメンタリー映像をDVDに収録。\\n\\n2013年7月、55枚目となる約2年ぶりのサマーシングル「Summer Trip」をリリースし、同9月、シングル購入者限定ミニライブを自身初の日比谷野外音楽堂で開催した。\\n\\n31歳の誕生日を迎えた11月13日には、グラチャンバレー2013のテーマソング「Dreaming Now!」を発売。また、同年12月4日に発売した最新ライブ映像「KODA KUMI LIVE TOUR 2013 ～JAPONESQUE～」では、12/16付週間DVDランキング（集計期間：12月2日～8日）に初登場し、ミュージックDVD部門通算首位獲得数（ソロアーティスト部門）、連続首位獲得年数(全アーティスト対象)ともに１位を獲得した。 2014年2月26日には11枚目となるオリジナルアルバム「Bon Voyage」を発売。オリコン初登場1位を記録する。同アルバムを携えて回る２ヶ国51公演のツアー「KODA KUMI LIVE TOUR 2014 ～Bon Voyage～」を開催中。 8月16日に台湾公演でファイナルを迎える。\\n\\n2014年8月6日には、最新サマーシングル「HOTEL」をリリースする。11月、自身初のデジタル・シングル「Dance In The Rain」をリリース。\\n\\n世界初となるオキュラスリフトを使用したMVを発表し、話題を呼んだ。\\n\\n2015年、デビュー15周年イヤーとして「Koda Kumi 15th Anniversary Live Tour 2015～WALK OF MY LIFE～」と「KODA KUMI 15th Anniversary LIVE The Artist」の2本の記念ライブ、初のコレクションアルバム「SUMMER of LOVE」・「WINTER of LOVE」の2枚をリリース。\\n\\nさらに2016年は、アーティスト活動16年目のリスタートとして\\n\\n自身初の47都道府県59公演のベストシングルコレクションツアーを敢行した。\\n\\n自身の活動だけではなく国内外のアーティストとコラボレーションを積極的に行う中、写真集やフォトエッセイ等、アーティスト活動のみならずファッションアイコンとしても幅広い活動を行っている。これまでにシングル59枚、オリジナル・アルバム12枚、ベスト・アルバム4枚、カバー・アルバム2枚、コレクションアルバム2枚、ライブDVD20枚をリリース。\\n\\n2017年の活動としては、3月8日（水）に「二面性」をコンセプトにした\\n\\nニューアルバム『W FACE ～inside～』『W FACE ～outside～』を発売。\\n\\n4月5日（水）には、累計30万枚以上をセールスを記録したメガヒットシリーズ\\n\\n「Driving Hit\\'s 7」の発売決定。\\n\\n2年連続、最多公演47都道府県ツアー「KODA KUMI LIVE TOUR 2017 ～W FACE～」開催。\\n\\n2018年2月、オリジナルアルバム「AND」をリリースし、ファンクラブ会員限定ライブハウスツアー『Koda Kumi Fanclub Tour ～AND～』を開催。\\n\\n6月、オリジナルアルバム「DNA」をリリースし、「KODA KUMI LIVE TOUR 2018 ～DNA～」を開催し、初のカウントダウンライブを大阪グランキューブにて開催。\\n\\n2019年には、2007年に開催した「Black Cherry」2013年に開催した「JAPONESQUE」を2019年版に進化させ、復刻ライヴ（「KODA KUMI LIVE TOUR 2019 re(LIVE)」）を開催。\\n\\n滞在型LIVE＆1日2公演別の演目を開催という新たな挑戦をした。\\n\\n2020年新型ウイルスの影響で通常通りの開催とはいかなかったが、ガイドラインに基づき5年振りのアリーナツアー「KODA KUMI 20th ANNIVERSARY TOUR 2020 MY NAME IS…」を開催。\\n\\n倖田來未完全プロデューススキンケアブランド「HEMMY K.」を設立。\\n\\n2021年6月からは自身初となるトークショー「KODA KUMI 20th ANNIVERSARY ～Special Talk Show～」を開催。\\n\\n2021年6月、ダイエットサプリメント「KILLER BURNER」の販売を開始。\\n\\n2022年には、約4年振りにバンド編成ライブ「KODA KUMI Love & Songs 2022」を開催。そして自身初となるオーケストラ ライブ「billboard classics KODA KUMI Premium Symphonic Concert 2022」を開催。\\n\\n2023年3月～7月には、2つの異なる演目を1日で2公演実施する全国ツアー「KODA KUMI LIVE TOUR 2023 ～angeL & monsteR～」を開催。\\n\\n仮面ライダーギーツの主題歌に起用された倖田來未 × 湘南乃風「Trust・Last」がオリコン週間デジタルシングルラインキング初登場1位、Billboard JAPAN “Download Songs” 初登場1位を記録した。', start_char_idx=0, end_char_idx=4084, text_template='{metadata_str}\\n\\n{content}', metadata_template='{key}: {value}', metadata_seperator='\\n'), score=0.8197429472708805), NodeWithScore(node=TextNode(id_='7cd52761-1530-4742-80ec-78cbf378c22c', embedding=None, metadata={'tag': 'p', 'file_path': '/home/dngback/Desktop/artist_assistant/datanotclean/13400_page_1.html', 'file_name': '/home/dngback/Desktop/artist_assistant/datanotclean/13400_page_1.html', 'file_type': 'text/html', 'file_size': 2626, 'creation_date': '2024-03-11', 'last_modified_date': '2024-03-05'}, excluded_embed_metadata_keys=['file_name', 'file_type', 'file_size', 'creation_date', 'last_modified_date', 'last_accessed_date'], excluded_llm_metadata_keys=['file_name', 'file_type', 'file_size', 'creation_date', 'last_modified_date', 'last_accessed_date'], relationships={<NodeRelationship.SOURCE: '1'>: RelatedNodeInfo(node_id='50e0f446-9852-4d58-ba15-b9a8113ef0b9', node_type=<ObjectType.TEXT: '1'>, metadata={'tag': 'p', 'file_path': '/home/dngback/Desktop/artist_assistant/datanotclean/13400_page_1.html', 'file_name': '/home/dngback/Desktop/artist_assistant/datanotclean/13400_page_1.html', 'file_type': 'text/html', 'file_size': 2626, 'creation_date': '2024-03-11', 'last_modified_date': '2024-03-05'}, hash='2f1ce37833cee59aa8c422765ee2576125c4eeb9c736df3674aa409b844d2e45'), <NodeRelationship.PREVIOUS: '2'>: RelatedNodeInfo(node_id='70b0c81d-4891-4e34-bc9b-84eca083cc0d', node_type=<ObjectType.TEXT: '1'>, metadata={'tag': 'h1', 'file_path': '/home/dngback/Desktop/artist_assistant/datanotclean/13400_page_1.html', 'file_name': '/home/dngback/Desktop/artist_assistant/datanotclean/13400_page_1.html', 'file_type': 'text/html', 'file_size': 2626, 'creation_date': '2024-03-11', 'last_modified_date': '2024-03-05'}, hash='152e98edcf0cb7bba8ba6cba53922f17b7bdd1e63de622ff28e4e317053a4943'), <NodeRelationship.NEXT: '3'>: RelatedNodeInfo(node_id='1982e88b-0219-4d28-8724-12bcaad5c9be', node_type=<ObjectType.TEXT: '1'>, metadata={}, hash='c6c140a8cabe506b177f558c4c48070350e6a849d0e5d08047d97500b04ba12b')}, text='今年でデビュー23年目を迎える歌手の倖田來未（40）。「前編」では、下積み時代から芸能界における浮き沈みを経験しながら、「エロかっこいい」と称される人気歌手に上り詰めるまでの半生を聞いた。そんな彼女は1月18日にMusic ＆\\n    Live Package「WINGS」をリリースした。収録曲の作曲には夫も参加しているが、今回の「後編」では主に夫や息子など家族がアーティスト・倖田來未にどのような影響を与えているかをインタビューした。\\n倖田來未が1月18日に発売したMusic＆Live\\n    Package「WINGS」のメイントラックとなるミディアムバラード「Wings」のクレジットを見ると、作曲者はHi－yunk（ハイユンク）とある。これは、倖田の夫であるKENJI03の作家名義だ。\\n「コンペで楽曲を集め、ラスト3曲に絞った上で、タイアップ先が『これがいい』と選んでくださったのが『Wings』でした。この曲に決まった時は、素直にうれしかったですね。私の大好きな曲だから。旦那は『倖田來未の新しい声を引き出したい』といつも考えているような人なので、今だからこそ私が歌える楽曲を、ということで完成させた曲なんです」\\n倖田は2011年12月3日、ロックバンド「BACK－ON」のKENJI03との結婚を発表。同月16日には妊娠中であることも公表した。2 人の仲を取り持ったのは、妹のmisonoだったという。倖田は夫とのなれそめをこう振り返る。\\n「妹のミーモ（misonoの愛称）が当時、旦那とコラボしていて、ミーモにコラボ曲の入ったアルバムを聞かせてもらったんです。『えっ、コラボしている人、めっちゃいい声してるやん』というのが、私の第一印象。まず声に惚れました（笑）。その後、ミュージックビデオを見ると『えっ、イケメンやん』と。当時の私は夜に出歩かない時期が半年以上も続いていました。ミーモは心配して『お姉もそろそろ、ご飯を食べにとか、外に出かけた方がいいよ』と言ってくれていました。それで、外出した時に彼を紹介してもらいました」', start_char_idx=0, end_char_idx=873, text_template='{metadata_str}\\n\\n{content}', metadata_template='{key}: {value}', metadata_seperator='\\n'), score=0.8170575911856875)], metadata={'1982e88b-0219-4d28-8724-12bcaad5c9be': {'tag': 'p', 'file_path': '/home/dngback/Desktop/artist_assistant/datanotclean/profile.html', 'file_name': '/home/dngback/Desktop/artist_assistant/datanotclean/profile.html', 'file_type': 'text/html', 'file_size': 9548, 'creation_date': '2024-03-11', 'last_modified_date': '2024-03-11'}, '7cd52761-1530-4742-80ec-78cbf378c22c': {'tag': 'p', 'file_path': '/home/dngback/Desktop/artist_assistant/datanotclean/13400_page_1.html', 'file_name': '/home/dngback/Desktop/artist_assistant/datanotclean/13400_page_1.html', 'file_type': 'text/html', 'file_size': 2626, 'creation_date': '2024-03-11', 'last_modified_date': '2024-03-05'}}), Response(response='「妹のミーモ（misonoの愛称）が当時、旦那とコラボしていて、ミーモにコラボ曲の入ったアルバムを聞かせてもらったんです。『えっ、コラボしている人、めっちゃいい声してるやん』というのが、私の第一印象。まず声に惚れました（笑）。その後、ミュージックビデオを見ると『えっ、イケメンやん』と。当時の私は夜に出歩かない時期が半年以上も続いていました。ミーモは心配して『お姉もそろそろ、ご飯を食べにとか、外に出かけた方がいいよ』と言ってくれていました。それで、外出した時に彼を紹介してもらいました」', source_nodes=[NodeWithScore(node=TextNode(id_='7cd52761-1530-4742-80ec-78cbf378c22c', embedding=None, metadata={'tag': 'p', 'file_path': '/home/dngback/Desktop/artist_assistant/datanotclean/13400_page_1.html', 'file_name': '/home/dngback/Desktop/artist_assistant/datanotclean/13400_page_1.html', 'file_type': 'text/html', 'file_size': 2626, 'creation_date': '2024-03-11', 'last_modified_date': '2024-03-05'}, excluded_embed_metadata_keys=['file_name', 'file_type', 'file_size', 'creation_date', 'last_modified_date', 'last_accessed_date'], excluded_llm_metadata_keys=['file_name', 'file_type', 'file_size', 'creation_date', 'last_modified_date', 'last_accessed_date'], relationships={<NodeRelationship.SOURCE: '1'>: RelatedNodeInfo(node_id='50e0f446-9852-4d58-ba15-b9a8113ef0b9', node_type=<ObjectType.TEXT: '1'>, metadata={'tag': 'p', 'file_path': '/home/dngback/Desktop/artist_assistant/datanotclean/13400_page_1.html', 'file_name': '/home/dngback/Desktop/artist_assistant/datanotclean/13400_page_1.html', 'file_type': 'text/html', 'file_size': 2626, 'creation_date': '2024-03-11', 'last_modified_date': '2024-03-05'}, hash='2f1ce37833cee59aa8c422765ee2576125c4eeb9c736df3674aa409b844d2e45'), <NodeRelationship.PREVIOUS: '2'>: RelatedNodeInfo(node_id='70b0c81d-4891-4e34-bc9b-84eca083cc0d', node_type=<ObjectType.TEXT: '1'>, metadata={'tag': 'h1', 'file_path': '/home/dngback/Desktop/artist_assistant/datanotclean/13400_page_1.html', 'file_name': '/home/dngback/Desktop/artist_assistant/datanotclean/13400_page_1.html', 'file_type': 'text/html', 'file_size': 2626, 'creation_date': '2024-03-11', 'last_modified_date': '2024-03-05'}, hash='152e98edcf0cb7bba8ba6cba53922f17b7bdd1e63de622ff28e4e317053a4943'), <NodeRelationship.NEXT: '3'>: RelatedNodeInfo(node_id='1982e88b-0219-4d28-8724-12bcaad5c9be', node_type=<ObjectType.TEXT: '1'>, metadata={}, hash='c6c140a8cabe506b177f558c4c48070350e6a849d0e5d08047d97500b04ba12b')}, text='今年でデビュー23年目を迎える歌手の倖田來未（40）。「前編」では、下積み時代から芸能界における浮き沈みを経験しながら、「エロかっこいい」と称される人気歌手に上り詰めるまでの半生を聞いた。そんな彼女は1月18日にMusic ＆\\n    Live Package「WINGS」をリリースした。収録曲の作曲には夫も参加しているが、今回の「後編」では主に夫や息子など家族がアーティスト・倖田來未にどのような影響を与えているかをインタビューした。\\n倖田來未が1月18日に発売したMusic＆Live\\n    Package「WINGS」のメイントラックとなるミディアムバラード「Wings」のクレジットを見ると、作曲者はHi－yunk（ハイユンク）とある。これは、倖田の夫であるKENJI03の作家名義だ。\\n「コンペで楽曲を集め、ラスト3曲に絞った上で、タイアップ先が『これがいい』と選んでくださったのが『Wings』でした。この曲に決まった時は、素直にうれしかったですね。私の大好きな曲だから。旦那は『倖田來未の新しい声を引き出したい』といつも考えているような人なので、今だからこそ私が歌える楽曲を、ということで完成させた曲なんです」\\n倖田は2011年12月3日、ロックバンド「BACK－ON」のKENJI03との結婚を発表。同月16日には妊娠中であることも公表した。2 人の仲を取り持ったのは、妹のmisonoだったという。倖田は夫とのなれそめをこう振り返る。\\n「妹のミーモ（misonoの愛称）が当時、旦那とコラボしていて、ミーモにコラボ曲の入ったアルバムを聞かせてもらったんです。『えっ、コラボしている人、めっちゃいい声してるやん』というのが、私の第一印象。まず声に惚れました（笑）。その後、ミュージックビデオを見ると『えっ、イケメンやん』と。当時の私は夜に出歩かない時期が半年以上も続いていました。ミーモは心配して『お姉もそろそろ、ご飯を食べにとか、外に出かけた方がいいよ』と言ってくれていました。それで、外出した時に彼を紹介してもらいました」', start_char_idx=0, end_char_idx=873, text_template='{metadata_str}\\n\\n{content}', metadata_template='{key}: {value}', metadata_seperator='\\n'), score=0.827798667290599), NodeWithScore(node=TextNode(id_='1982e88b-0219-4d28-8724-12bcaad5c9be', embedding=None, metadata={'tag': 'p', 'file_path': '/home/dngback/Desktop/artist_assistant/datanotclean/profile.html', 'file_name': '/home/dngback/Desktop/artist_assistant/datanotclean/profile.html', 'file_type': 'text/html', 'file_size': 9548, 'creation_date': '2024-03-11', 'last_modified_date': '2024-03-11'}, excluded_embed_metadata_keys=['file_name', 'file_type', 'file_size', 'creation_date', 'last_modified_date', 'last_accessed_date'], excluded_llm_metadata_keys=['file_name', 'file_type', 'file_size', 'creation_date', 'last_modified_date', 'last_accessed_date'], relationships={<NodeRelationship.SOURCE: '1'>: RelatedNodeInfo(node_id='3f0a08c6-76b2-4d88-b02a-66fe535fa2bc', node_type=<ObjectType.TEXT: '1'>, metadata={'tag': 'p', 'file_path': '/home/dngback/Desktop/artist_assistant/datanotclean/profile.html', 'file_name': '/home/dngback/Desktop/artist_assistant/datanotclean/profile.html', 'file_type': 'text/html', 'file_size': 9548, 'creation_date': '2024-03-11', 'last_modified_date': '2024-03-11'}, hash='c93e4f8e0c21aba577c719cef87245649acc1c6bebcf401c6876b1d3ed6670d3'), <NodeRelationship.PREVIOUS: '2'>: RelatedNodeInfo(node_id='7cd52761-1530-4742-80ec-78cbf378c22c', node_type=<ObjectType.TEXT: '1'>, metadata={'tag': 'p', 'file_path': '/home/dngback/Desktop/artist_assistant/datanotclean/13400_page_1.html', 'file_name': '/home/dngback/Desktop/artist_assistant/datanotclean/13400_page_1.html', 'file_type': 'text/html', 'file_size': 2626, 'creation_date': '2024-03-11', 'last_modified_date': '2024-03-05'}, hash='2f1ce37833cee59aa8c422765ee2576125c4eeb9c736df3674aa409b844d2e45')}, text='アーティスト名:倖田 來未(Koda Kumi)\\n\\n\\n生年月日: 1982年 11月13日\\n\\n\\n出身地:京都府\\n\\n\\n2000年11月「TAKE BACK」にて全米デビュー。\\n\\n全米ビルボードダンスチャートで最高位18位を記録。\\n\\n日本では同曲で2000年12月にデビュー。\\n\\n続くセカンドシングル「Trust Your Love」のremix盤は全米ビルボード総合 チャートでも最高位19位を獲得し、日本人7人目のランクインの快挙となる。\\n\\n2005年、06年にそれぞれ発売したベストアルバムはいずれも200万枚を突破\\n\\n2007年12月には東京ドームでの単独公演を開催し、大成功を収めた。\\n\\n2008年6月発売した「MOON」ではブラック・ アイド・ピーズ“ファーギー”とのコラボレーション曲「That Ain\\'t Cool“PUSHIM（プシン）”作詞/作曲のラバーズ・レゲエ、他一曲と、海外ビッグアーティストを迎えての4曲入りマキシシングルをリリース。\\n\\n2009年3月には実妹であるmisonoとのコラボレーション曲「It\\' s all Love!」を 発表、兄弟・姉妹では史上初となる初登場1位を獲得。\\n\\n同5月東京・国立代々木競技場第一体育館にて全国ツアー『Koda Kumi Live Tour 2009-TRICK-』を開催し、人気米歌手・ファーギー率いるブラック・アイド・ピーズがサプライズ参加。2008年に発表したコラボ楽曲「That Ain’t Cool」を熱唱するなど、一夜限りのパフォーマンスで観客を熱狂の渦へと誘った。\\n\\n同７月には、日本を代表するファッション誌「ViVi」の誌面にて、08年に引き続き、海外ビッグアーティストのLady Gagaとコラボレーションし対談が実現。\\n\\n同10月には海外では初めて、台湾にてワンマンライブを行った。\\n\\n2006年～09年までベストトジーニスト賞を4年連続受賞、08年にはネイルクイーン 「アーティスト部門」の3年連続受賞・殿堂入りを果たす。\\n\\n2010年2月に発売したアルバム『BEST～ third universe～ & 8th AL \"UNIVERSE\"』がオリコン・ウイークリーランキング1位を獲得。\\n\\n7月には日本人女性アーティストと しては初となる横浜スタジアム2DAYSのライブを成功させ、その模様が音楽ライブとして日本で初めて3D生放送された。\\n\\n2010年10月、初のカバーアルバム『ETERNITY ～Love & Songs～』をリリース。東京、大阪でそれぞれ計4日間、計16公演に渡り初のビルボードライブを開催。 同12月、東京ドームにて10周年最後のライブ「KODA KUMI 10th Anniversary ～FANTASIA～」を開催。邦楽ソロ女性アーティスト7人目。2007年以来、2度目の 公演を慣行し47,000人動員のチケットが即完。大成功を収める。\\n\\n2011年3月、9枚目のオリジナルアルバム「Dejavu」リリース。オリコンウィークリー ランキング1位を獲得。同4月、約4年ぶりの全国ホールツアー「Koda Kumi Live Tour 2011 ～Dejavu～」を開催。各地軒並みSOLD OUT。\\n\\n同5月、10周年を記念して東京ドームにて行われたライブ映像「KODA KUMI 10th Anniversary ～FANTASIA～」をリリース。オリコンウィークリーランキング1位 を獲得し、「通算首位獲得数」「首位獲得連続年数」、「作品別歴代DVD女性ソロアーティ スト累積売上1位」の3冠達成。\\n\\n2012年1月、10枚目のオリジナルアルバム「JAPONESQUE」をリリース。オリコンウィークリーランキング1位を獲得。「アルバム首位連続年数」でソロ歴代３位の快挙を成し遂げる。更に、10月24日には53枚目となるニュー・シングル「Go to the top」を発売。TVアニメ「トータル・イクリプス」のオープニングテーマ曲として抜擢。\\n\\nまた、11月7日の大阪城ホールを皮切りに東京、名古屋、福島にてプレミアムライブ「Koda Kumi Premium Night～Love & Songs～」を開催。\\n\\n2012年12月、2007年に発売した「愛のうた」に続く極上のラブバラードソング「恋しくて」をリリース。\\n\\n2013年2月には2作目となるカバーアルバム「Color The Cover」を発売。初回生産盤には、日本を代表するフォトグラファーの蜷川 実花氏が撮り下ろしたフォトブックレット、そして自身初となるドキュメンタリー映像をDVDに収録。\\n\\n2013年7月、55枚目となる約2年ぶりのサマーシングル「Summer Trip」をリリースし、同9月、シングル購入者限定ミニライブを自身初の日比谷野外音楽堂で開催した。\\n\\n31歳の誕生日を迎えた11月13日には、グラチャンバレー2013のテーマソング「Dreaming Now!」を発売。また、同年12月4日に発売した最新ライブ映像「KODA KUMI LIVE TOUR 2013 ～JAPONESQUE～」では、12/16付週間DVDランキング（集計期間：12月2日～8日）に初登場し、ミュージックDVD部門通算首位獲得数（ソロアーティスト部門）、連続首位獲得年数(全アーティスト対象)ともに１位を獲得した。 2014年2月26日には11枚目となるオリジナルアルバム「Bon Voyage」を発売。オリコン初登場1位を記録する。同アルバムを携えて回る２ヶ国51公演のツアー「KODA KUMI LIVE TOUR 2014 ～Bon Voyage～」を開催中。 8月16日に台湾公演でファイナルを迎える。\\n\\n2014年8月6日には、最新サマーシングル「HOTEL」をリリースする。11月、自身初のデジタル・シングル「Dance In The Rain」をリリース。\\n\\n世界初となるオキュラスリフトを使用したMVを発表し、話題を呼んだ。\\n\\n2015年、デビュー15周年イヤーとして「Koda Kumi 15th Anniversary Live Tour 2015～WALK OF MY LIFE～」と「KODA KUMI 15th Anniversary LIVE The Artist」の2本の記念ライブ、初のコレクションアルバム「SUMMER of LOVE」・「WINTER of LOVE」の2枚をリリース。\\n\\nさらに2016年は、アーティスト活動16年目のリスタートとして\\n\\n自身初の47都道府県59公演のベストシングルコレクションツアーを敢行した。\\n\\n自身の活動だけではなく国内外のアーティストとコラボレーションを積極的に行う中、写真集やフォトエッセイ等、アーティスト活動のみならずファッションアイコンとしても幅広い活動を行っている。これまでにシングル59枚、オリジナル・アルバム12枚、ベスト・アルバム4枚、カバー・アルバム2枚、コレクションアルバム2枚、ライブDVD20枚をリリース。\\n\\n2017年の活動としては、3月8日（水）に「二面性」をコンセプトにした\\n\\nニューアルバム『W FACE ～inside～』『W FACE ～outside～』を発売。\\n\\n4月5日（水）には、累計30万枚以上をセールスを記録したメガヒットシリーズ\\n\\n「Driving Hit\\'s 7」の発売決定。\\n\\n2年連続、最多公演47都道府県ツアー「KODA KUMI LIVE TOUR 2017 ～W FACE～」開催。\\n\\n2018年2月、オリジナルアルバム「AND」をリリースし、ファンクラブ会員限定ライブハウスツアー『Koda Kumi Fanclub Tour ～AND～』を開催。\\n\\n6月、オリジナルアルバム「DNA」をリリースし、「KODA KUMI LIVE TOUR 2018 ～DNA～」を開催し、初のカウントダウンライブを大阪グランキューブにて開催。\\n\\n2019年には、2007年に開催した「Black Cherry」2013年に開催した「JAPONESQUE」を2019年版に進化させ、復刻ライヴ（「KODA KUMI LIVE TOUR 2019 re(LIVE)」）を開催。\\n\\n滞在型LIVE＆1日2公演別の演目を開催という新たな挑戦をした。\\n\\n2020年新型ウイルスの影響で通常通りの開催とはいかなかったが、ガイドラインに基づき5年振りのアリーナツアー「KODA KUMI 20th ANNIVERSARY TOUR 2020 MY NAME IS…」を開催。\\n\\n倖田來未完全プロデューススキンケアブランド「HEMMY K.」を設立。\\n\\n2021年6月からは自身初となるトークショー「KODA KUMI 20th ANNIVERSARY ～Special Talk Show～」を開催。\\n\\n2021年6月、ダイエットサプリメント「KILLER BURNER」の販売を開始。\\n\\n2022年には、約4年振りにバンド編成ライブ「KODA KUMI Love & Songs 2022」を開催。そして自身初となるオーケストラ ライブ「billboard classics KODA KUMI Premium Symphonic Concert 2022」を開催。\\n\\n2023年3月～7月には、2つの異なる演目を1日で2公演実施する全国ツアー「KODA KUMI LIVE TOUR 2023 ～angeL & monsteR～」を開催。\\n\\n仮面ライダーギーツの主題歌に起用された倖田來未 × 湘南乃風「Trust・Last」がオリコン週間デジタルシングルラインキング初登場1位、Billboard JAPAN “Download Songs” 初登場1位を記録した。', start_char_idx=0, end_char_idx=4084, text_template='{metadata_str}\\n\\n{content}', metadata_template='{key}: {value}', metadata_seperator='\\n'), score=0.8105202890096219)], metadata={'7cd52761-1530-4742-80ec-78cbf378c22c': {'tag': 'p', 'file_path': '/home/dngback/Desktop/artist_assistant/datanotclean/13400_page_1.html', 'file_name': '/home/dngback/Desktop/artist_assistant/datanotclean/13400_page_1.html', 'file_type': 'text/html', 'file_size': 2626, 'creation_date': '2024-03-11', 'last_modified_date': '2024-03-05'}, '1982e88b-0219-4d28-8724-12bcaad5c9be': {'tag': 'p', 'file_path': '/home/dngback/Desktop/artist_assistant/datanotclean/profile.html', 'file_name': '/home/dngback/Desktop/artist_assistant/datanotclean/profile.html', 'file_type': 'text/html', 'file_size': 9548, 'creation_date': '2024-03-11', 'last_modified_date': '2024-03-11'}}), Response(response='「Wings」の作曲には、私の夫であるKENJI03が参加しています。彼はいつも私の新しい声を引き出したいと考えている人で、この曲は私が歌える楽曲を完成させるために作られました。私たちはコンペで楽曲を集め、最終的に「Wings」が選ばれました。私はこの曲が大好きで、選ばれたときは本当に嬉しかったです。夫が作曲に参加してくれたことで、より特別な意味を持つ曲になりました。', source_nodes=[NodeWithScore(node=TextNode(id_='7cd52761-1530-4742-80ec-78cbf378c22c', embedding=None, metadata={'tag': 'p', 'file_path': '/home/dngback/Desktop/artist_assistant/datanotclean/13400_page_1.html', 'file_name': '/home/dngback/Desktop/artist_assistant/datanotclean/13400_page_1.html', 'file_type': 'text/html', 'file_size': 2626, 'creation_date': '2024-03-11', 'last_modified_date': '2024-03-05'}, excluded_embed_metadata_keys=['file_name', 'file_type', 'file_size', 'creation_date', 'last_modified_date', 'last_accessed_date'], excluded_llm_metadata_keys=['file_name', 'file_type', 'file_size', 'creation_date', 'last_modified_date', 'last_accessed_date'], relationships={<NodeRelationship.SOURCE: '1'>: RelatedNodeInfo(node_id='50e0f446-9852-4d58-ba15-b9a8113ef0b9', node_type=<ObjectType.TEXT: '1'>, metadata={'tag': 'p', 'file_path': '/home/dngback/Desktop/artist_assistant/datanotclean/13400_page_1.html', 'file_name': '/home/dngback/Desktop/artist_assistant/datanotclean/13400_page_1.html', 'file_type': 'text/html', 'file_size': 2626, 'creation_date': '2024-03-11', 'last_modified_date': '2024-03-05'}, hash='2f1ce37833cee59aa8c422765ee2576125c4eeb9c736df3674aa409b844d2e45'), <NodeRelationship.PREVIOUS: '2'>: RelatedNodeInfo(node_id='70b0c81d-4891-4e34-bc9b-84eca083cc0d', node_type=<ObjectType.TEXT: '1'>, metadata={'tag': 'h1', 'file_path': '/home/dngback/Desktop/artist_assistant/datanotclean/13400_page_1.html', 'file_name': '/home/dngback/Desktop/artist_assistant/datanotclean/13400_page_1.html', 'file_type': 'text/html', 'file_size': 2626, 'creation_date': '2024-03-11', 'last_modified_date': '2024-03-05'}, hash='152e98edcf0cb7bba8ba6cba53922f17b7bdd1e63de622ff28e4e317053a4943'), <NodeRelationship.NEXT: '3'>: RelatedNodeInfo(node_id='1982e88b-0219-4d28-8724-12bcaad5c9be', node_type=<ObjectType.TEXT: '1'>, metadata={}, hash='c6c140a8cabe506b177f558c4c48070350e6a849d0e5d08047d97500b04ba12b')}, text='今年でデビュー23年目を迎える歌手の倖田來未（40）。「前編」では、下積み時代から芸能界における浮き沈みを経験しながら、「エロかっこいい」と称される人気歌手に上り詰めるまでの半生を聞いた。そんな彼女は1月18日にMusic ＆\\n    Live Package「WINGS」をリリースした。収録曲の作曲には夫も参加しているが、今回の「後編」では主に夫や息子など家族がアーティスト・倖田來未にどのような影響を与えているかをインタビューした。\\n倖田來未が1月18日に発売したMusic＆Live\\n    Package「WINGS」のメイントラックとなるミディアムバラード「Wings」のクレジットを見ると、作曲者はHi－yunk（ハイユンク）とある。これは、倖田の夫であるKENJI03の作家名義だ。\\n「コンペで楽曲を集め、ラスト3曲に絞った上で、タイアップ先が『これがいい』と選んでくださったのが『Wings』でした。この曲に決まった時は、素直にうれしかったですね。私の大好きな曲だから。旦那は『倖田來未の新しい声を引き出したい』といつも考えているような人なので、今だからこそ私が歌える楽曲を、ということで完成させた曲なんです」\\n倖田は2011年12月3日、ロックバンド「BACK－ON」のKENJI03との結婚を発表。同月16日には妊娠中であることも公表した。2 人の仲を取り持ったのは、妹のmisonoだったという。倖田は夫とのなれそめをこう振り返る。\\n「妹のミーモ（misonoの愛称）が当時、旦那とコラボしていて、ミーモにコラボ曲の入ったアルバムを聞かせてもらったんです。『えっ、コラボしている人、めっちゃいい声してるやん』というのが、私の第一印象。まず声に惚れました（笑）。その後、ミュージックビデオを見ると『えっ、イケメンやん』と。当時の私は夜に出歩かない時期が半年以上も続いていました。ミーモは心配して『お姉もそろそろ、ご飯を食べにとか、外に出かけた方がいいよ』と言ってくれていました。それで、外出した時に彼を紹介してもらいました」', start_char_idx=0, end_char_idx=873, text_template='{metadata_str}\\n\\n{content}', metadata_template='{key}: {value}', metadata_seperator='\\n'), score=0.8201370007069545), NodeWithScore(node=TextNode(id_='1982e88b-0219-4d28-8724-12bcaad5c9be', embedding=None, metadata={'tag': 'p', 'file_path': '/home/dngback/Desktop/artist_assistant/datanotclean/profile.html', 'file_name': '/home/dngback/Desktop/artist_assistant/datanotclean/profile.html', 'file_type': 'text/html', 'file_size': 9548, 'creation_date': '2024-03-11', 'last_modified_date': '2024-03-11'}, excluded_embed_metadata_keys=['file_name', 'file_type', 'file_size', 'creation_date', 'last_modified_date', 'last_accessed_date'], excluded_llm_metadata_keys=['file_name', 'file_type', 'file_size', 'creation_date', 'last_modified_date', 'last_accessed_date'], relationships={<NodeRelationship.SOURCE: '1'>: RelatedNodeInfo(node_id='3f0a08c6-76b2-4d88-b02a-66fe535fa2bc', node_type=<ObjectType.TEXT: '1'>, metadata={'tag': 'p', 'file_path': '/home/dngback/Desktop/artist_assistant/datanotclean/profile.html', 'file_name': '/home/dngback/Desktop/artist_assistant/datanotclean/profile.html', 'file_type': 'text/html', 'file_size': 9548, 'creation_date': '2024-03-11', 'last_modified_date': '2024-03-11'}, hash='c93e4f8e0c21aba577c719cef87245649acc1c6bebcf401c6876b1d3ed6670d3'), <NodeRelationship.PREVIOUS: '2'>: RelatedNodeInfo(node_id='7cd52761-1530-4742-80ec-78cbf378c22c', node_type=<ObjectType.TEXT: '1'>, metadata={'tag': 'p', 'file_path': '/home/dngback/Desktop/artist_assistant/datanotclean/13400_page_1.html', 'file_name': '/home/dngback/Desktop/artist_assistant/datanotclean/13400_page_1.html', 'file_type': 'text/html', 'file_size': 2626, 'creation_date': '2024-03-11', 'last_modified_date': '2024-03-05'}, hash='2f1ce37833cee59aa8c422765ee2576125c4eeb9c736df3674aa409b844d2e45')}, text='アーティスト名:倖田 來未(Koda Kumi)\\n\\n\\n生年月日: 1982年 11月13日\\n\\n\\n出身地:京都府\\n\\n\\n2000年11月「TAKE BACK」にて全米デビュー。\\n\\n全米ビルボードダンスチャートで最高位18位を記録。\\n\\n日本では同曲で2000年12月にデビュー。\\n\\n続くセカンドシングル「Trust Your Love」のremix盤は全米ビルボード総合 チャートでも最高位19位を獲得し、日本人7人目のランクインの快挙となる。\\n\\n2005年、06年にそれぞれ発売したベストアルバムはいずれも200万枚を突破\\n\\n2007年12月には東京ドームでの単独公演を開催し、大成功を収めた。\\n\\n2008年6月発売した「MOON」ではブラック・ アイド・ピーズ“ファーギー”とのコラボレーション曲「That Ain\\'t Cool“PUSHIM（プシン）”作詞/作曲のラバーズ・レゲエ、他一曲と、海外ビッグアーティストを迎えての4曲入りマキシシングルをリリース。\\n\\n2009年3月には実妹であるmisonoとのコラボレーション曲「It\\' s all Love!」を 発表、兄弟・姉妹では史上初となる初登場1位を獲得。\\n\\n同5月東京・国立代々木競技場第一体育館にて全国ツアー『Koda Kumi Live Tour 2009-TRICK-』を開催し、人気米歌手・ファーギー率いるブラック・アイド・ピーズがサプライズ参加。2008年に発表したコラボ楽曲「That Ain’t Cool」を熱唱するなど、一夜限りのパフォーマンスで観客を熱狂の渦へと誘った。\\n\\n同７月には、日本を代表するファッション誌「ViVi」の誌面にて、08年に引き続き、海外ビッグアーティストのLady Gagaとコラボレーションし対談が実現。\\n\\n同10月には海外では初めて、台湾にてワンマンライブを行った。\\n\\n2006年～09年までベストトジーニスト賞を4年連続受賞、08年にはネイルクイーン 「アーティスト部門」の3年連続受賞・殿堂入りを果たす。\\n\\n2010年2月に発売したアルバム『BEST～ third universe～ & 8th AL \"UNIVERSE\"』がオリコン・ウイークリーランキング1位を獲得。\\n\\n7月には日本人女性アーティストと しては初となる横浜スタジアム2DAYSのライブを成功させ、その模様が音楽ライブとして日本で初めて3D生放送された。\\n\\n2010年10月、初のカバーアルバム『ETERNITY ～Love & Songs～』をリリース。東京、大阪でそれぞれ計4日間、計16公演に渡り初のビルボードライブを開催。 同12月、東京ドームにて10周年最後のライブ「KODA KUMI 10th Anniversary ～FANTASIA～」を開催。邦楽ソロ女性アーティスト7人目。2007年以来、2度目の 公演を慣行し47,000人動員のチケットが即完。大成功を収める。\\n\\n2011年3月、9枚目のオリジナルアルバム「Dejavu」リリース。オリコンウィークリー ランキング1位を獲得。同4月、約4年ぶりの全国ホールツアー「Koda Kumi Live Tour 2011 ～Dejavu～」を開催。各地軒並みSOLD OUT。\\n\\n同5月、10周年を記念して東京ドームにて行われたライブ映像「KODA KUMI 10th Anniversary ～FANTASIA～」をリリース。オリコンウィークリーランキング1位 を獲得し、「通算首位獲得数」「首位獲得連続年数」、「作品別歴代DVD女性ソロアーティ スト累積売上1位」の3冠達成。\\n\\n2012年1月、10枚目のオリジナルアルバム「JAPONESQUE」をリリース。オリコンウィークリーランキング1位を獲得。「アルバム首位連続年数」でソロ歴代３位の快挙を成し遂げる。更に、10月24日には53枚目となるニュー・シングル「Go to the top」を発売。TVアニメ「トータル・イクリプス」のオープニングテーマ曲として抜擢。\\n\\nまた、11月7日の大阪城ホールを皮切りに東京、名古屋、福島にてプレミアムライブ「Koda Kumi Premium Night～Love & Songs～」を開催。\\n\\n2012年12月、2007年に発売した「愛のうた」に続く極上のラブバラードソング「恋しくて」をリリース。\\n\\n2013年2月には2作目となるカバーアルバム「Color The Cover」を発売。初回生産盤には、日本を代表するフォトグラファーの蜷川 実花氏が撮り下ろしたフォトブックレット、そして自身初となるドキュメンタリー映像をDVDに収録。\\n\\n2013年7月、55枚目となる約2年ぶりのサマーシングル「Summer Trip」をリリースし、同9月、シングル購入者限定ミニライブを自身初の日比谷野外音楽堂で開催した。\\n\\n31歳の誕生日を迎えた11月13日には、グラチャンバレー2013のテーマソング「Dreaming Now!」を発売。また、同年12月4日に発売した最新ライブ映像「KODA KUMI LIVE TOUR 2013 ～JAPONESQUE～」では、12/16付週間DVDランキング（集計期間：12月2日～8日）に初登場し、ミュージックDVD部門通算首位獲得数（ソロアーティスト部門）、連続首位獲得年数(全アーティスト対象)ともに１位を獲得した。 2014年2月26日には11枚目となるオリジナルアルバム「Bon Voyage」を発売。オリコン初登場1位を記録する。同アルバムを携えて回る２ヶ国51公演のツアー「KODA KUMI LIVE TOUR 2014 ～Bon Voyage～」を開催中。 8月16日に台湾公演でファイナルを迎える。\\n\\n2014年8月6日には、最新サマーシングル「HOTEL」をリリースする。11月、自身初のデジタル・シングル「Dance In The Rain」をリリース。\\n\\n世界初となるオキュラスリフトを使用したMVを発表し、話題を呼んだ。\\n\\n2015年、デビュー15周年イヤーとして「Koda Kumi 15th Anniversary Live Tour 2015～WALK OF MY LIFE～」と「KODA KUMI 15th Anniversary LIVE The Artist」の2本の記念ライブ、初のコレクションアルバム「SUMMER of LOVE」・「WINTER of LOVE」の2枚をリリース。\\n\\nさらに2016年は、アーティスト活動16年目のリスタートとして\\n\\n自身初の47都道府県59公演のベストシングルコレクションツアーを敢行した。\\n\\n自身の活動だけではなく国内外のアーティストとコラボレーションを積極的に行う中、写真集やフォトエッセイ等、アーティスト活動のみならずファッションアイコンとしても幅広い活動を行っている。これまでにシングル59枚、オリジナル・アルバム12枚、ベスト・アルバム4枚、カバー・アルバム2枚、コレクションアルバム2枚、ライブDVD20枚をリリース。\\n\\n2017年の活動としては、3月8日（水）に「二面性」をコンセプトにした\\n\\nニューアルバム『W FACE ～inside～』『W FACE ～outside～』を発売。\\n\\n4月5日（水）には、累計30万枚以上をセールスを記録したメガヒットシリーズ\\n\\n「Driving Hit\\'s 7」の発売決定。\\n\\n2年連続、最多公演47都道府県ツアー「KODA KUMI LIVE TOUR 2017 ～W FACE～」開催。\\n\\n2018年2月、オリジナルアルバム「AND」をリリースし、ファンクラブ会員限定ライブハウスツアー『Koda Kumi Fanclub Tour ～AND～』を開催。\\n\\n6月、オリジナルアルバム「DNA」をリリースし、「KODA KUMI LIVE TOUR 2018 ～DNA～」を開催し、初のカウントダウンライブを大阪グランキューブにて開催。\\n\\n2019年には、2007年に開催した「Black Cherry」2013年に開催した「JAPONESQUE」を2019年版に進化させ、復刻ライヴ（「KODA KUMI LIVE TOUR 2019 re(LIVE)」）を開催。\\n\\n滞在型LIVE＆1日2公演別の演目を開催という新たな挑戦をした。\\n\\n2020年新型ウイルスの影響で通常通りの開催とはいかなかったが、ガイドラインに基づき5年振りのアリーナツアー「KODA KUMI 20th ANNIVERSARY TOUR 2020 MY NAME IS…」を開催。\\n\\n倖田來未完全プロデューススキンケアブランド「HEMMY K.」を設立。\\n\\n2021年6月からは自身初となるトークショー「KODA KUMI 20th ANNIVERSARY ～Special Talk Show～」を開催。\\n\\n2021年6月、ダイエットサプリメント「KILLER BURNER」の販売を開始。\\n\\n2022年には、約4年振りにバンド編成ライブ「KODA KUMI Love & Songs 2022」を開催。そして自身初となるオーケストラ ライブ「billboard classics KODA KUMI Premium Symphonic Concert 2022」を開催。\\n\\n2023年3月～7月には、2つの異なる演目を1日で2公演実施する全国ツアー「KODA KUMI LIVE TOUR 2023 ～angeL & monsteR～」を開催。\\n\\n仮面ライダーギーツの主題歌に起用された倖田來未 × 湘南乃風「Trust・Last」がオリコン週間デジタルシングルラインキング初登場1位、Billboard JAPAN “Download Songs” 初登場1位を記録した。', start_char_idx=0, end_char_idx=4084, text_template='{metadata_str}\\n\\n{content}', metadata_template='{key}: {value}', metadata_seperator='\\n'), score=0.7977655717738649)], metadata={'7cd52761-1530-4742-80ec-78cbf378c22c': {'tag': 'p', 'file_path': '/home/dngback/Desktop/artist_assistant/datanotclean/13400_page_1.html', 'file_name': '/home/dngback/Desktop/artist_assistant/datanotclean/13400_page_1.html', 'file_type': 'text/html', 'file_size': 2626, 'creation_date': '2024-03-11', 'last_modified_date': '2024-03-05'}, '1982e88b-0219-4d28-8724-12bcaad5c9be': {'tag': 'p', 'file_path': '/home/dngback/Desktop/artist_assistant/datanotclean/profile.html', 'file_name': '/home/dngback/Desktop/artist_assistant/datanotclean/profile.html', 'file_type': 'text/html', 'file_size': 9548, 'creation_date': '2024-03-11', 'last_modified_date': '2024-03-11'}}), Response(response='「WINGS」の制作において、夫であるKENJI03とのコラボレーションについて、私はとても楽しんでいました。彼は私の新しい声を引き出したいと常に考えている人なので、私が歌える楽曲を完成させるために一緒に取り組んでいました。コンペで楽曲を集め、最終的に「Wings」が選ばれた時は本当に嬉しかったです。この曲は私の大好きな曲であり、私たちのコラボレーションが素晴らしい結果を生んだと思っています。私たちはお互いを刺激し合いながら、新しい音楽を作り上げることができました。私たちの家族の絆が音楽にも反映されていると感じています。', source_nodes=[NodeWithScore(node=TextNode(id_='7cd52761-1530-4742-80ec-78cbf378c22c', embedding=None, metadata={'tag': 'p', 'file_path': '/home/dngback/Desktop/artist_assistant/datanotclean/13400_page_1.html', 'file_name': '/home/dngback/Desktop/artist_assistant/datanotclean/13400_page_1.html', 'file_type': 'text/html', 'file_size': 2626, 'creation_date': '2024-03-11', 'last_modified_date': '2024-03-05'}, excluded_embed_metadata_keys=['file_name', 'file_type', 'file_size', 'creation_date', 'last_modified_date', 'last_accessed_date'], excluded_llm_metadata_keys=['file_name', 'file_type', 'file_size', 'creation_date', 'last_modified_date', 'last_accessed_date'], relationships={<NodeRelationship.SOURCE: '1'>: RelatedNodeInfo(node_id='50e0f446-9852-4d58-ba15-b9a8113ef0b9', node_type=<ObjectType.TEXT: '1'>, metadata={'tag': 'p', 'file_path': '/home/dngback/Desktop/artist_assistant/datanotclean/13400_page_1.html', 'file_name': '/home/dngback/Desktop/artist_assistant/datanotclean/13400_page_1.html', 'file_type': 'text/html', 'file_size': 2626, 'creation_date': '2024-03-11', 'last_modified_date': '2024-03-05'}, hash='2f1ce37833cee59aa8c422765ee2576125c4eeb9c736df3674aa409b844d2e45'), <NodeRelationship.PREVIOUS: '2'>: RelatedNodeInfo(node_id='70b0c81d-4891-4e34-bc9b-84eca083cc0d', node_type=<ObjectType.TEXT: '1'>, metadata={'tag': 'h1', 'file_path': '/home/dngback/Desktop/artist_assistant/datanotclean/13400_page_1.html', 'file_name': '/home/dngback/Desktop/artist_assistant/datanotclean/13400_page_1.html', 'file_type': 'text/html', 'file_size': 2626, 'creation_date': '2024-03-11', 'last_modified_date': '2024-03-05'}, hash='152e98edcf0cb7bba8ba6cba53922f17b7bdd1e63de622ff28e4e317053a4943'), <NodeRelationship.NEXT: '3'>: RelatedNodeInfo(node_id='1982e88b-0219-4d28-8724-12bcaad5c9be', node_type=<ObjectType.TEXT: '1'>, metadata={}, hash='c6c140a8cabe506b177f558c4c48070350e6a849d0e5d08047d97500b04ba12b')}, text='今年でデビュー23年目を迎える歌手の倖田來未（40）。「前編」では、下積み時代から芸能界における浮き沈みを経験しながら、「エロかっこいい」と称される人気歌手に上り詰めるまでの半生を聞いた。そんな彼女は1月18日にMusic ＆\\n    Live Package「WINGS」をリリースした。収録曲の作曲には夫も参加しているが、今回の「後編」では主に夫や息子など家族がアーティスト・倖田來未にどのような影響を与えているかをインタビューした。\\n倖田來未が1月18日に発売したMusic＆Live\\n    Package「WINGS」のメイントラックとなるミディアムバラード「Wings」のクレジットを見ると、作曲者はHi－yunk（ハイユンク）とある。これは、倖田の夫であるKENJI03の作家名義だ。\\n「コンペで楽曲を集め、ラスト3曲に絞った上で、タイアップ先が『これがいい』と選んでくださったのが『Wings』でした。この曲に決まった時は、素直にうれしかったですね。私の大好きな曲だから。旦那は『倖田來未の新しい声を引き出したい』といつも考えているような人なので、今だからこそ私が歌える楽曲を、ということで完成させた曲なんです」\\n倖田は2011年12月3日、ロックバンド「BACK－ON」のKENJI03との結婚を発表。同月16日には妊娠中であることも公表した。2 人の仲を取り持ったのは、妹のmisonoだったという。倖田は夫とのなれそめをこう振り返る。\\n「妹のミーモ（misonoの愛称）が当時、旦那とコラボしていて、ミーモにコラボ曲の入ったアルバムを聞かせてもらったんです。『えっ、コラボしている人、めっちゃいい声してるやん』というのが、私の第一印象。まず声に惚れました（笑）。その後、ミュージックビデオを見ると『えっ、イケメンやん』と。当時の私は夜に出歩かない時期が半年以上も続いていました。ミーモは心配して『お姉もそろそろ、ご飯を食べにとか、外に出かけた方がいいよ』と言ってくれていました。それで、外出した時に彼を紹介してもらいました」', start_char_idx=0, end_char_idx=873, text_template='{metadata_str}\\n\\n{content}', metadata_template='{key}: {value}', metadata_seperator='\\n'), score=0.8370536748182432), NodeWithScore(node=TextNode(id_='1982e88b-0219-4d28-8724-12bcaad5c9be', embedding=None, metadata={'tag': 'p', 'file_path': '/home/dngback/Desktop/artist_assistant/datanotclean/profile.html', 'file_name': '/home/dngback/Desktop/artist_assistant/datanotclean/profile.html', 'file_type': 'text/html', 'file_size': 9548, 'creation_date': '2024-03-11', 'last_modified_date': '2024-03-11'}, excluded_embed_metadata_keys=['file_name', 'file_type', 'file_size', 'creation_date', 'last_modified_date', 'last_accessed_date'], excluded_llm_metadata_keys=['file_name', 'file_type', 'file_size', 'creation_date', 'last_modified_date', 'last_accessed_date'], relationships={<NodeRelationship.SOURCE: '1'>: RelatedNodeInfo(node_id='3f0a08c6-76b2-4d88-b02a-66fe535fa2bc', node_type=<ObjectType.TEXT: '1'>, metadata={'tag': 'p', 'file_path': '/home/dngback/Desktop/artist_assistant/datanotclean/profile.html', 'file_name': '/home/dngback/Desktop/artist_assistant/datanotclean/profile.html', 'file_type': 'text/html', 'file_size': 9548, 'creation_date': '2024-03-11', 'last_modified_date': '2024-03-11'}, hash='c93e4f8e0c21aba577c719cef87245649acc1c6bebcf401c6876b1d3ed6670d3'), <NodeRelationship.PREVIOUS: '2'>: RelatedNodeInfo(node_id='7cd52761-1530-4742-80ec-78cbf378c22c', node_type=<ObjectType.TEXT: '1'>, metadata={'tag': 'p', 'file_path': '/home/dngback/Desktop/artist_assistant/datanotclean/13400_page_1.html', 'file_name': '/home/dngback/Desktop/artist_assistant/datanotclean/13400_page_1.html', 'file_type': 'text/html', 'file_size': 2626, 'creation_date': '2024-03-11', 'last_modified_date': '2024-03-05'}, hash='2f1ce37833cee59aa8c422765ee2576125c4eeb9c736df3674aa409b844d2e45')}, text='アーティスト名:倖田 來未(Koda Kumi)\\n\\n\\n生年月日: 1982年 11月13日\\n\\n\\n出身地:京都府\\n\\n\\n2000年11月「TAKE BACK」にて全米デビュー。\\n\\n全米ビルボードダンスチャートで最高位18位を記録。\\n\\n日本では同曲で2000年12月にデビュー。\\n\\n続くセカンドシングル「Trust Your Love」のremix盤は全米ビルボード総合 チャートでも最高位19位を獲得し、日本人7人目のランクインの快挙となる。\\n\\n2005年、06年にそれぞれ発売したベストアルバムはいずれも200万枚を突破\\n\\n2007年12月には東京ドームでの単独公演を開催し、大成功を収めた。\\n\\n2008年6月発売した「MOON」ではブラック・ アイド・ピーズ“ファーギー”とのコラボレーション曲「That Ain\\'t Cool“PUSHIM（プシン）”作詞/作曲のラバーズ・レゲエ、他一曲と、海外ビッグアーティストを迎えての4曲入りマキシシングルをリリース。\\n\\n2009年3月には実妹であるmisonoとのコラボレーション曲「It\\' s all Love!」を 発表、兄弟・姉妹では史上初となる初登場1位を獲得。\\n\\n同5月東京・国立代々木競技場第一体育館にて全国ツアー『Koda Kumi Live Tour 2009-TRICK-』を開催し、人気米歌手・ファーギー率いるブラック・アイド・ピーズがサプライズ参加。2008年に発表したコラボ楽曲「That Ain’t Cool」を熱唱するなど、一夜限りのパフォーマンスで観客を熱狂の渦へと誘った。\\n\\n同７月には、日本を代表するファッション誌「ViVi」の誌面にて、08年に引き続き、海外ビッグアーティストのLady Gagaとコラボレーションし対談が実現。\\n\\n同10月には海外では初めて、台湾にてワンマンライブを行った。\\n\\n2006年～09年までベストトジーニスト賞を4年連続受賞、08年にはネイルクイーン 「アーティスト部門」の3年連続受賞・殿堂入りを果たす。\\n\\n2010年2月に発売したアルバム『BEST～ third universe～ & 8th AL \"UNIVERSE\"』がオリコン・ウイークリーランキング1位を獲得。\\n\\n7月には日本人女性アーティストと しては初となる横浜スタジアム2DAYSのライブを成功させ、その模様が音楽ライブとして日本で初めて3D生放送された。\\n\\n2010年10月、初のカバーアルバム『ETERNITY ～Love & Songs～』をリリース。東京、大阪でそれぞれ計4日間、計16公演に渡り初のビルボードライブを開催。 同12月、東京ドームにて10周年最後のライブ「KODA KUMI 10th Anniversary ～FANTASIA～」を開催。邦楽ソロ女性アーティスト7人目。2007年以来、2度目の 公演を慣行し47,000人動員のチケットが即完。大成功を収める。\\n\\n2011年3月、9枚目のオリジナルアルバム「Dejavu」リリース。オリコンウィークリー ランキング1位を獲得。同4月、約4年ぶりの全国ホールツアー「Koda Kumi Live Tour 2011 ～Dejavu～」を開催。各地軒並みSOLD OUT。\\n\\n同5月、10周年を記念して東京ドームにて行われたライブ映像「KODA KUMI 10th Anniversary ～FANTASIA～」をリリース。オリコンウィークリーランキング1位 を獲得し、「通算首位獲得数」「首位獲得連続年数」、「作品別歴代DVD女性ソロアーティ スト累積売上1位」の3冠達成。\\n\\n2012年1月、10枚目のオリジナルアルバム「JAPONESQUE」をリリース。オリコンウィークリーランキング1位を獲得。「アルバム首位連続年数」でソロ歴代３位の快挙を成し遂げる。更に、10月24日には53枚目となるニュー・シングル「Go to the top」を発売。TVアニメ「トータル・イクリプス」のオープニングテーマ曲として抜擢。\\n\\nまた、11月7日の大阪城ホールを皮切りに東京、名古屋、福島にてプレミアムライブ「Koda Kumi Premium Night～Love & Songs～」を開催。\\n\\n2012年12月、2007年に発売した「愛のうた」に続く極上のラブバラードソング「恋しくて」をリリース。\\n\\n2013年2月には2作目となるカバーアルバム「Color The Cover」を発売。初回生産盤には、日本を代表するフォトグラファーの蜷川 実花氏が撮り下ろしたフォトブックレット、そして自身初となるドキュメンタリー映像をDVDに収録。\\n\\n2013年7月、55枚目となる約2年ぶりのサマーシングル「Summer Trip」をリリースし、同9月、シングル購入者限定ミニライブを自身初の日比谷野外音楽堂で開催した。\\n\\n31歳の誕生日を迎えた11月13日には、グラチャンバレー2013のテーマソング「Dreaming Now!」を発売。また、同年12月4日に発売した最新ライブ映像「KODA KUMI LIVE TOUR 2013 ～JAPONESQUE～」では、12/16付週間DVDランキング（集計期間：12月2日～8日）に初登場し、ミュージックDVD部門通算首位獲得数（ソロアーティスト部門）、連続首位獲得年数(全アーティスト対象)ともに１位を獲得した。 2014年2月26日には11枚目となるオリジナルアルバム「Bon Voyage」を発売。オリコン初登場1位を記録する。同アルバムを携えて回る２ヶ国51公演のツアー「KODA KUMI LIVE TOUR 2014 ～Bon Voyage～」を開催中。 8月16日に台湾公演でファイナルを迎える。\\n\\n2014年8月6日には、最新サマーシングル「HOTEL」をリリースする。11月、自身初のデジタル・シングル「Dance In The Rain」をリリース。\\n\\n世界初となるオキュラスリフトを使用したMVを発表し、話題を呼んだ。\\n\\n2015年、デビュー15周年イヤーとして「Koda Kumi 15th Anniversary Live Tour 2015～WALK OF MY LIFE～」と「KODA KUMI 15th Anniversary LIVE The Artist」の2本の記念ライブ、初のコレクションアルバム「SUMMER of LOVE」・「WINTER of LOVE」の2枚をリリース。\\n\\nさらに2016年は、アーティスト活動16年目のリスタートとして\\n\\n自身初の47都道府県59公演のベストシングルコレクションツアーを敢行した。\\n\\n自身の活動だけではなく国内外のアーティストとコラボレーションを積極的に行う中、写真集やフォトエッセイ等、アーティスト活動のみならずファッションアイコンとしても幅広い活動を行っている。これまでにシングル59枚、オリジナル・アルバム12枚、ベスト・アルバム4枚、カバー・アルバム2枚、コレクションアルバム2枚、ライブDVD20枚をリリース。\\n\\n2017年の活動としては、3月8日（水）に「二面性」をコンセプトにした\\n\\nニューアルバム『W FACE ～inside～』『W FACE ～outside～』を発売。\\n\\n4月5日（水）には、累計30万枚以上をセールスを記録したメガヒットシリーズ\\n\\n「Driving Hit\\'s 7」の発売決定。\\n\\n2年連続、最多公演47都道府県ツアー「KODA KUMI LIVE TOUR 2017 ～W FACE～」開催。\\n\\n2018年2月、オリジナルアルバム「AND」をリリースし、ファンクラブ会員限定ライブハウスツアー『Koda Kumi Fanclub Tour ～AND～』を開催。\\n\\n6月、オリジナルアルバム「DNA」をリリースし、「KODA KUMI LIVE TOUR 2018 ～DNA～」を開催し、初のカウントダウンライブを大阪グランキューブにて開催。\\n\\n2019年には、2007年に開催した「Black Cherry」2013年に開催した「JAPONESQUE」を2019年版に進化させ、復刻ライヴ（「KODA KUMI LIVE TOUR 2019 re(LIVE)」）を開催。\\n\\n滞在型LIVE＆1日2公演別の演目を開催という新たな挑戦をした。\\n\\n2020年新型ウイルスの影響で通常通りの開催とはいかなかったが、ガイドラインに基づき5年振りのアリーナツアー「KODA KUMI 20th ANNIVERSARY TOUR 2020 MY NAME IS…」を開催。\\n\\n倖田來未完全プロデューススキンケアブランド「HEMMY K.」を設立。\\n\\n2021年6月からは自身初となるトークショー「KODA KUMI 20th ANNIVERSARY ～Special Talk Show～」を開催。\\n\\n2021年6月、ダイエットサプリメント「KILLER BURNER」の販売を開始。\\n\\n2022年には、約4年振りにバンド編成ライブ「KODA KUMI Love & Songs 2022」を開催。そして自身初となるオーケストラ ライブ「billboard classics KODA KUMI Premium Symphonic Concert 2022」を開催。\\n\\n2023年3月～7月には、2つの異なる演目を1日で2公演実施する全国ツアー「KODA KUMI LIVE TOUR 2023 ～angeL & monsteR～」を開催。\\n\\n仮面ライダーギーツの主題歌に起用された倖田來未 × 湘南乃風「Trust・Last」がオリコン週間デジタルシングルラインキング初登場1位、Billboard JAPAN “Download Songs” 初登場1位を記録した。', start_char_idx=0, end_char_idx=4084, text_template='{metadata_str}\\n\\n{content}', metadata_template='{key}: {value}', metadata_seperator='\\n'), score=0.8041312577011221)], metadata={'7cd52761-1530-4742-80ec-78cbf378c22c': {'tag': 'p', 'file_path': '/home/dngback/Desktop/artist_assistant/datanotclean/13400_page_1.html', 'file_name': '/home/dngback/Desktop/artist_assistant/datanotclean/13400_page_1.html', 'file_type': 'text/html', 'file_size': 2626, 'creation_date': '2024-03-11', 'last_modified_date': '2024-03-05'}, '1982e88b-0219-4d28-8724-12bcaad5c9be': {'tag': 'p', 'file_path': '/home/dngback/Desktop/artist_assistant/datanotclean/profile.html', 'file_name': '/home/dngback/Desktop/artist_assistant/datanotclean/profile.html', 'file_type': 'text/html', 'file_size': 9548, 'creation_date': '2024-03-11', 'last_modified_date': '2024-03-11'}}), Response(response='I have been married for 10 years. My husband, KENJI03, is a talented musician and he has had a great influence on my music. He always strives to bring out a new side of me and create songs that truly represent who I am as an artist. \"Wings,\" the main track of my latest release, was composed by him and it\\'s a song that I absolutely love. It\\'s a special song that showcases my growth and evolution as an artist. I\\'m grateful to have such a supportive and talented partner in my life.', source_nodes=[NodeWithScore(node=TextNode(id_='1982e88b-0219-4d28-8724-12bcaad5c9be', embedding=None, metadata={'tag': 'p', 'file_path': '/home/dngback/Desktop/artist_assistant/datanotclean/profile.html', 'file_name': '/home/dngback/Desktop/artist_assistant/datanotclean/profile.html', 'file_type': 'text/html', 'file_size': 9548, 'creation_date': '2024-03-11', 'last_modified_date': '2024-03-11'}, excluded_embed_metadata_keys=['file_name', 'file_type', 'file_size', 'creation_date', 'last_modified_date', 'last_accessed_date'], excluded_llm_metadata_keys=['file_name', 'file_type', 'file_size', 'creation_date', 'last_modified_date', 'last_accessed_date'], relationships={<NodeRelationship.SOURCE: '1'>: RelatedNodeInfo(node_id='3f0a08c6-76b2-4d88-b02a-66fe535fa2bc', node_type=<ObjectType.TEXT: '1'>, metadata={'tag': 'p', 'file_path': '/home/dngback/Desktop/artist_assistant/datanotclean/profile.html', 'file_name': '/home/dngback/Desktop/artist_assistant/datanotclean/profile.html', 'file_type': 'text/html', 'file_size': 9548, 'creation_date': '2024-03-11', 'last_modified_date': '2024-03-11'}, hash='c93e4f8e0c21aba577c719cef87245649acc1c6bebcf401c6876b1d3ed6670d3'), <NodeRelationship.PREVIOUS: '2'>: RelatedNodeInfo(node_id='7cd52761-1530-4742-80ec-78cbf378c22c', node_type=<ObjectType.TEXT: '1'>, metadata={'tag': 'p', 'file_path': '/home/dngback/Desktop/artist_assistant/datanotclean/13400_page_1.html', 'file_name': '/home/dngback/Desktop/artist_assistant/datanotclean/13400_page_1.html', 'file_type': 'text/html', 'file_size': 2626, 'creation_date': '2024-03-11', 'last_modified_date': '2024-03-05'}, hash='2f1ce37833cee59aa8c422765ee2576125c4eeb9c736df3674aa409b844d2e45')}, text='アーティスト名:倖田 來未(Koda Kumi)\\n\\n\\n生年月日: 1982年 11月13日\\n\\n\\n出身地:京都府\\n\\n\\n2000年11月「TAKE BACK」にて全米デビュー。\\n\\n全米ビルボードダンスチャートで最高位18位を記録。\\n\\n日本では同曲で2000年12月にデビュー。\\n\\n続くセカンドシングル「Trust Your Love」のremix盤は全米ビルボード総合 チャートでも最高位19位を獲得し、日本人7人目のランクインの快挙となる。\\n\\n2005年、06年にそれぞれ発売したベストアルバムはいずれも200万枚を突破\\n\\n2007年12月には東京ドームでの単独公演を開催し、大成功を収めた。\\n\\n2008年6月発売した「MOON」ではブラック・ アイド・ピーズ“ファーギー”とのコラボレーション曲「That Ain\\'t Cool“PUSHIM（プシン）”作詞/作曲のラバーズ・レゲエ、他一曲と、海外ビッグアーティストを迎えての4曲入りマキシシングルをリリース。\\n\\n2009年3月には実妹であるmisonoとのコラボレーション曲「It\\' s all Love!」を 発表、兄弟・姉妹では史上初となる初登場1位を獲得。\\n\\n同5月東京・国立代々木競技場第一体育館にて全国ツアー『Koda Kumi Live Tour 2009-TRICK-』を開催し、人気米歌手・ファーギー率いるブラック・アイド・ピーズがサプライズ参加。2008年に発表したコラボ楽曲「That Ain’t Cool」を熱唱するなど、一夜限りのパフォーマンスで観客を熱狂の渦へと誘った。\\n\\n同７月には、日本を代表するファッション誌「ViVi」の誌面にて、08年に引き続き、海外ビッグアーティストのLady Gagaとコラボレーションし対談が実現。\\n\\n同10月には海外では初めて、台湾にてワンマンライブを行った。\\n\\n2006年～09年までベストトジーニスト賞を4年連続受賞、08年にはネイルクイーン 「アーティスト部門」の3年連続受賞・殿堂入りを果たす。\\n\\n2010年2月に発売したアルバム『BEST～ third universe～ & 8th AL \"UNIVERSE\"』がオリコン・ウイークリーランキング1位を獲得。\\n\\n7月には日本人女性アーティストと しては初となる横浜スタジアム2DAYSのライブを成功させ、その模様が音楽ライブとして日本で初めて3D生放送された。\\n\\n2010年10月、初のカバーアルバム『ETERNITY ～Love & Songs～』をリリース。東京、大阪でそれぞれ計4日間、計16公演に渡り初のビルボードライブを開催。 同12月、東京ドームにて10周年最後のライブ「KODA KUMI 10th Anniversary ～FANTASIA～」を開催。邦楽ソロ女性アーティスト7人目。2007年以来、2度目の 公演を慣行し47,000人動員のチケットが即完。大成功を収める。\\n\\n2011年3月、9枚目のオリジナルアルバム「Dejavu」リリース。オリコンウィークリー ランキング1位を獲得。同4月、約4年ぶりの全国ホールツアー「Koda Kumi Live Tour 2011 ～Dejavu～」を開催。各地軒並みSOLD OUT。\\n\\n同5月、10周年を記念して東京ドームにて行われたライブ映像「KODA KUMI 10th Anniversary ～FANTASIA～」をリリース。オリコンウィークリーランキング1位 を獲得し、「通算首位獲得数」「首位獲得連続年数」、「作品別歴代DVD女性ソロアーティ スト累積売上1位」の3冠達成。\\n\\n2012年1月、10枚目のオリジナルアルバム「JAPONESQUE」をリリース。オリコンウィークリーランキング1位を獲得。「アルバム首位連続年数」でソロ歴代３位の快挙を成し遂げる。更に、10月24日には53枚目となるニュー・シングル「Go to the top」を発売。TVアニメ「トータル・イクリプス」のオープニングテーマ曲として抜擢。\\n\\nまた、11月7日の大阪城ホールを皮切りに東京、名古屋、福島にてプレミアムライブ「Koda Kumi Premium Night～Love & Songs～」を開催。\\n\\n2012年12月、2007年に発売した「愛のうた」に続く極上のラブバラードソング「恋しくて」をリリース。\\n\\n2013年2月には2作目となるカバーアルバム「Color The Cover」を発売。初回生産盤には、日本を代表するフォトグラファーの蜷川 実花氏が撮り下ろしたフォトブックレット、そして自身初となるドキュメンタリー映像をDVDに収録。\\n\\n2013年7月、55枚目となる約2年ぶりのサマーシングル「Summer Trip」をリリースし、同9月、シングル購入者限定ミニライブを自身初の日比谷野外音楽堂で開催した。\\n\\n31歳の誕生日を迎えた11月13日には、グラチャンバレー2013のテーマソング「Dreaming Now!」を発売。また、同年12月4日に発売した最新ライブ映像「KODA KUMI LIVE TOUR 2013 ～JAPONESQUE～」では、12/16付週間DVDランキング（集計期間：12月2日～8日）に初登場し、ミュージックDVD部門通算首位獲得数（ソロアーティスト部門）、連続首位獲得年数(全アーティスト対象)ともに１位を獲得した。 2014年2月26日には11枚目となるオリジナルアルバム「Bon Voyage」を発売。オリコン初登場1位を記録する。同アルバムを携えて回る２ヶ国51公演のツアー「KODA KUMI LIVE TOUR 2014 ～Bon Voyage～」を開催中。 8月16日に台湾公演でファイナルを迎える。\\n\\n2014年8月6日には、最新サマーシングル「HOTEL」をリリースする。11月、自身初のデジタル・シングル「Dance In The Rain」をリリース。\\n\\n世界初となるオキュラスリフトを使用したMVを発表し、話題を呼んだ。\\n\\n2015年、デビュー15周年イヤーとして「Koda Kumi 15th Anniversary Live Tour 2015～WALK OF MY LIFE～」と「KODA KUMI 15th Anniversary LIVE The Artist」の2本の記念ライブ、初のコレクションアルバム「SUMMER of LOVE」・「WINTER of LOVE」の2枚をリリース。\\n\\nさらに2016年は、アーティスト活動16年目のリスタートとして\\n\\n自身初の47都道府県59公演のベストシングルコレクションツアーを敢行した。\\n\\n自身の活動だけではなく国内外のアーティストとコラボレーションを積極的に行う中、写真集やフォトエッセイ等、アーティスト活動のみならずファッションアイコンとしても幅広い活動を行っている。これまでにシングル59枚、オリジナル・アルバム12枚、ベスト・アルバム4枚、カバー・アルバム2枚、コレクションアルバム2枚、ライブDVD20枚をリリース。\\n\\n2017年の活動としては、3月8日（水）に「二面性」をコンセプトにした\\n\\nニューアルバム『W FACE ～inside～』『W FACE ～outside～』を発売。\\n\\n4月5日（水）には、累計30万枚以上をセールスを記録したメガヒットシリーズ\\n\\n「Driving Hit\\'s 7」の発売決定。\\n\\n2年連続、最多公演47都道府県ツアー「KODA KUMI LIVE TOUR 2017 ～W FACE～」開催。\\n\\n2018年2月、オリジナルアルバム「AND」をリリースし、ファンクラブ会員限定ライブハウスツアー『Koda Kumi Fanclub Tour ～AND～』を開催。\\n\\n6月、オリジナルアルバム「DNA」をリリースし、「KODA KUMI LIVE TOUR 2018 ～DNA～」を開催し、初のカウントダウンライブを大阪グランキューブにて開催。\\n\\n2019年には、2007年に開催した「Black Cherry」2013年に開催した「JAPONESQUE」を2019年版に進化させ、復刻ライヴ（「KODA KUMI LIVE TOUR 2019 re(LIVE)」）を開催。\\n\\n滞在型LIVE＆1日2公演別の演目を開催という新たな挑戦をした。\\n\\n2020年新型ウイルスの影響で通常通りの開催とはいかなかったが、ガイドラインに基づき5年振りのアリーナツアー「KODA KUMI 20th ANNIVERSARY TOUR 2020 MY NAME IS…」を開催。\\n\\n倖田來未完全プロデューススキンケアブランド「HEMMY K.」を設立。\\n\\n2021年6月からは自身初となるトークショー「KODA KUMI 20th ANNIVERSARY ～Special Talk Show～」を開催。\\n\\n2021年6月、ダイエットサプリメント「KILLER BURNER」の販売を開始。\\n\\n2022年には、約4年振りにバンド編成ライブ「KODA KUMI Love & Songs 2022」を開催。そして自身初となるオーケストラ ライブ「billboard classics KODA KUMI Premium Symphonic Concert 2022」を開催。\\n\\n2023年3月～7月には、2つの異なる演目を1日で2公演実施する全国ツアー「KODA KUMI LIVE TOUR 2023 ～angeL & monsteR～」を開催。\\n\\n仮面ライダーギーツの主題歌に起用された倖田來未 × 湘南乃風「Trust・Last」がオリコン週間デジタルシングルラインキング初登場1位、Billboard JAPAN “Download Songs” 初登場1位を記録した。', start_char_idx=0, end_char_idx=4084, text_template='{metadata_str}\\n\\n{content}', metadata_template='{key}: {value}', metadata_seperator='\\n'), score=0.8131669668394467), NodeWithScore(node=TextNode(id_='7cd52761-1530-4742-80ec-78cbf378c22c', embedding=None, metadata={'tag': 'p', 'file_path': '/home/dngback/Desktop/artist_assistant/datanotclean/13400_page_1.html', 'file_name': '/home/dngback/Desktop/artist_assistant/datanotclean/13400_page_1.html', 'file_type': 'text/html', 'file_size': 2626, 'creation_date': '2024-03-11', 'last_modified_date': '2024-03-05'}, excluded_embed_metadata_keys=['file_name', 'file_type', 'file_size', 'creation_date', 'last_modified_date', 'last_accessed_date'], excluded_llm_metadata_keys=['file_name', 'file_type', 'file_size', 'creation_date', 'last_modified_date', 'last_accessed_date'], relationships={<NodeRelationship.SOURCE: '1'>: RelatedNodeInfo(node_id='50e0f446-9852-4d58-ba15-b9a8113ef0b9', node_type=<ObjectType.TEXT: '1'>, metadata={'tag': 'p', 'file_path': '/home/dngback/Desktop/artist_assistant/datanotclean/13400_page_1.html', 'file_name': '/home/dngback/Desktop/artist_assistant/datanotclean/13400_page_1.html', 'file_type': 'text/html', 'file_size': 2626, 'creation_date': '2024-03-11', 'last_modified_date': '2024-03-05'}, hash='2f1ce37833cee59aa8c422765ee2576125c4eeb9c736df3674aa409b844d2e45'), <NodeRelationship.PREVIOUS: '2'>: RelatedNodeInfo(node_id='70b0c81d-4891-4e34-bc9b-84eca083cc0d', node_type=<ObjectType.TEXT: '1'>, metadata={'tag': 'h1', 'file_path': '/home/dngback/Desktop/artist_assistant/datanotclean/13400_page_1.html', 'file_name': '/home/dngback/Desktop/artist_assistant/datanotclean/13400_page_1.html', 'file_type': 'text/html', 'file_size': 2626, 'creation_date': '2024-03-11', 'last_modified_date': '2024-03-05'}, hash='152e98edcf0cb7bba8ba6cba53922f17b7bdd1e63de622ff28e4e317053a4943'), <NodeRelationship.NEXT: '3'>: RelatedNodeInfo(node_id='1982e88b-0219-4d28-8724-12bcaad5c9be', node_type=<ObjectType.TEXT: '1'>, metadata={}, hash='c6c140a8cabe506b177f558c4c48070350e6a849d0e5d08047d97500b04ba12b')}, text='今年でデビュー23年目を迎える歌手の倖田來未（40）。「前編」では、下積み時代から芸能界における浮き沈みを経験しながら、「エロかっこいい」と称される人気歌手に上り詰めるまでの半生を聞いた。そんな彼女は1月18日にMusic ＆\\n    Live Package「WINGS」をリリースした。収録曲の作曲には夫も参加しているが、今回の「後編」では主に夫や息子など家族がアーティスト・倖田來未にどのような影響を与えているかをインタビューした。\\n倖田來未が1月18日に発売したMusic＆Live\\n    Package「WINGS」のメイントラックとなるミディアムバラード「Wings」のクレジットを見ると、作曲者はHi－yunk（ハイユンク）とある。これは、倖田の夫であるKENJI03の作家名義だ。\\n「コンペで楽曲を集め、ラスト3曲に絞った上で、タイアップ先が『これがいい』と選んでくださったのが『Wings』でした。この曲に決まった時は、素直にうれしかったですね。私の大好きな曲だから。旦那は『倖田來未の新しい声を引き出したい』といつも考えているような人なので、今だからこそ私が歌える楽曲を、ということで完成させた曲なんです」\\n倖田は2011年12月3日、ロックバンド「BACK－ON」のKENJI03との結婚を発表。同月16日には妊娠中であることも公表した。2 人の仲を取り持ったのは、妹のmisonoだったという。倖田は夫とのなれそめをこう振り返る。\\n「妹のミーモ（misonoの愛称）が当時、旦那とコラボしていて、ミーモにコラボ曲の入ったアルバムを聞かせてもらったんです。『えっ、コラボしている人、めっちゃいい声してるやん』というのが、私の第一印象。まず声に惚れました（笑）。その後、ミュージックビデオを見ると『えっ、イケメンやん』と。当時の私は夜に出歩かない時期が半年以上も続いていました。ミーモは心配して『お姉もそろそろ、ご飯を食べにとか、外に出かけた方がいいよ』と言ってくれていました。それで、外出した時に彼を紹介してもらいました」', start_char_idx=0, end_char_idx=873, text_template='{metadata_str}\\n\\n{content}', metadata_template='{key}: {value}', metadata_seperator='\\n'), score=0.7912135069609589)], metadata={'1982e88b-0219-4d28-8724-12bcaad5c9be': {'tag': 'p', 'file_path': '/home/dngback/Desktop/artist_assistant/datanotclean/profile.html', 'file_name': '/home/dngback/Desktop/artist_assistant/datanotclean/profile.html', 'file_type': 'text/html', 'file_size': 9548, 'creation_date': '2024-03-11', 'last_modified_date': '2024-03-11'}, '7cd52761-1530-4742-80ec-78cbf378c22c': {'tag': 'p', 'file_path': '/home/dngback/Desktop/artist_assistant/datanotclean/13400_page_1.html', 'file_name': '/home/dngback/Desktop/artist_assistant/datanotclean/13400_page_1.html', 'file_type': 'text/html', 'file_size': 2626, 'creation_date': '2024-03-11', 'last_modified_date': '2024-03-05'}}), Response(response='「Music & Live Package『WINGS』は、1月18日にリリースしました！このアルバムでは、私の夫であるKENJI03も作曲に参加しています。私たちの家族が私の音楽に与える影響についても、インタビューで話していますよ。ぜひ聴いてみてください！」', source_nodes=[NodeWithScore(node=TextNode(id_='7cd52761-1530-4742-80ec-78cbf378c22c', embedding=None, metadata={'tag': 'p', 'file_path': '/home/dngback/Desktop/artist_assistant/datanotclean/13400_page_1.html', 'file_name': '/home/dngback/Desktop/artist_assistant/datanotclean/13400_page_1.html', 'file_type': 'text/html', 'file_size': 2626, 'creation_date': '2024-03-11', 'last_modified_date': '2024-03-05'}, excluded_embed_metadata_keys=['file_name', 'file_type', 'file_size', 'creation_date', 'last_modified_date', 'last_accessed_date'], excluded_llm_metadata_keys=['file_name', 'file_type', 'file_size', 'creation_date', 'last_modified_date', 'last_accessed_date'], relationships={<NodeRelationship.SOURCE: '1'>: RelatedNodeInfo(node_id='50e0f446-9852-4d58-ba15-b9a8113ef0b9', node_type=<ObjectType.TEXT: '1'>, metadata={'tag': 'p', 'file_path': '/home/dngback/Desktop/artist_assistant/datanotclean/13400_page_1.html', 'file_name': '/home/dngback/Desktop/artist_assistant/datanotclean/13400_page_1.html', 'file_type': 'text/html', 'file_size': 2626, 'creation_date': '2024-03-11', 'last_modified_date': '2024-03-05'}, hash='2f1ce37833cee59aa8c422765ee2576125c4eeb9c736df3674aa409b844d2e45'), <NodeRelationship.PREVIOUS: '2'>: RelatedNodeInfo(node_id='70b0c81d-4891-4e34-bc9b-84eca083cc0d', node_type=<ObjectType.TEXT: '1'>, metadata={'tag': 'h1', 'file_path': '/home/dngback/Desktop/artist_assistant/datanotclean/13400_page_1.html', 'file_name': '/home/dngback/Desktop/artist_assistant/datanotclean/13400_page_1.html', 'file_type': 'text/html', 'file_size': 2626, 'creation_date': '2024-03-11', 'last_modified_date': '2024-03-05'}, hash='152e98edcf0cb7bba8ba6cba53922f17b7bdd1e63de622ff28e4e317053a4943'), <NodeRelationship.NEXT: '3'>: RelatedNodeInfo(node_id='1982e88b-0219-4d28-8724-12bcaad5c9be', node_type=<ObjectType.TEXT: '1'>, metadata={}, hash='c6c140a8cabe506b177f558c4c48070350e6a849d0e5d08047d97500b04ba12b')}, text='今年でデビュー23年目を迎える歌手の倖田來未（40）。「前編」では、下積み時代から芸能界における浮き沈みを経験しながら、「エロかっこいい」と称される人気歌手に上り詰めるまでの半生を聞いた。そんな彼女は1月18日にMusic ＆\\n    Live Package「WINGS」をリリースした。収録曲の作曲には夫も参加しているが、今回の「後編」では主に夫や息子など家族がアーティスト・倖田來未にどのような影響を与えているかをインタビューした。\\n倖田來未が1月18日に発売したMusic＆Live\\n    Package「WINGS」のメイントラックとなるミディアムバラード「Wings」のクレジットを見ると、作曲者はHi－yunk（ハイユンク）とある。これは、倖田の夫であるKENJI03の作家名義だ。\\n「コンペで楽曲を集め、ラスト3曲に絞った上で、タイアップ先が『これがいい』と選んでくださったのが『Wings』でした。この曲に決まった時は、素直にうれしかったですね。私の大好きな曲だから。旦那は『倖田來未の新しい声を引き出したい』といつも考えているような人なので、今だからこそ私が歌える楽曲を、ということで完成させた曲なんです」\\n倖田は2011年12月3日、ロックバンド「BACK－ON」のKENJI03との結婚を発表。同月16日には妊娠中であることも公表した。2 人の仲を取り持ったのは、妹のmisonoだったという。倖田は夫とのなれそめをこう振り返る。\\n「妹のミーモ（misonoの愛称）が当時、旦那とコラボしていて、ミーモにコラボ曲の入ったアルバムを聞かせてもらったんです。『えっ、コラボしている人、めっちゃいい声してるやん』というのが、私の第一印象。まず声に惚れました（笑）。その後、ミュージックビデオを見ると『えっ、イケメンやん』と。当時の私は夜に出歩かない時期が半年以上も続いていました。ミーモは心配して『お姉もそろそろ、ご飯を食べにとか、外に出かけた方がいいよ』と言ってくれていました。それで、外出した時に彼を紹介してもらいました」', start_char_idx=0, end_char_idx=873, text_template='{metadata_str}\\n\\n{content}', metadata_template='{key}: {value}', metadata_seperator='\\n'), score=0.8314955831676358), NodeWithScore(node=TextNode(id_='1982e88b-0219-4d28-8724-12bcaad5c9be', embedding=None, metadata={'tag': 'p', 'file_path': '/home/dngback/Desktop/artist_assistant/datanotclean/profile.html', 'file_name': '/home/dngback/Desktop/artist_assistant/datanotclean/profile.html', 'file_type': 'text/html', 'file_size': 9548, 'creation_date': '2024-03-11', 'last_modified_date': '2024-03-11'}, excluded_embed_metadata_keys=['file_name', 'file_type', 'file_size', 'creation_date', 'last_modified_date', 'last_accessed_date'], excluded_llm_metadata_keys=['file_name', 'file_type', 'file_size', 'creation_date', 'last_modified_date', 'last_accessed_date'], relationships={<NodeRelationship.SOURCE: '1'>: RelatedNodeInfo(node_id='3f0a08c6-76b2-4d88-b02a-66fe535fa2bc', node_type=<ObjectType.TEXT: '1'>, metadata={'tag': 'p', 'file_path': '/home/dngback/Desktop/artist_assistant/datanotclean/profile.html', 'file_name': '/home/dngback/Desktop/artist_assistant/datanotclean/profile.html', 'file_type': 'text/html', 'file_size': 9548, 'creation_date': '2024-03-11', 'last_modified_date': '2024-03-11'}, hash='c93e4f8e0c21aba577c719cef87245649acc1c6bebcf401c6876b1d3ed6670d3'), <NodeRelationship.PREVIOUS: '2'>: RelatedNodeInfo(node_id='7cd52761-1530-4742-80ec-78cbf378c22c', node_type=<ObjectType.TEXT: '1'>, metadata={'tag': 'p', 'file_path': '/home/dngback/Desktop/artist_assistant/datanotclean/13400_page_1.html', 'file_name': '/home/dngback/Desktop/artist_assistant/datanotclean/13400_page_1.html', 'file_type': 'text/html', 'file_size': 2626, 'creation_date': '2024-03-11', 'last_modified_date': '2024-03-05'}, hash='2f1ce37833cee59aa8c422765ee2576125c4eeb9c736df3674aa409b844d2e45')}, text='アーティスト名:倖田 來未(Koda Kumi)\\n\\n\\n生年月日: 1982年 11月13日\\n\\n\\n出身地:京都府\\n\\n\\n2000年11月「TAKE BACK」にて全米デビュー。\\n\\n全米ビルボードダンスチャートで最高位18位を記録。\\n\\n日本では同曲で2000年12月にデビュー。\\n\\n続くセカンドシングル「Trust Your Love」のremix盤は全米ビルボード総合 チャートでも最高位19位を獲得し、日本人7人目のランクインの快挙となる。\\n\\n2005年、06年にそれぞれ発売したベストアルバムはいずれも200万枚を突破\\n\\n2007年12月には東京ドームでの単独公演を開催し、大成功を収めた。\\n\\n2008年6月発売した「MOON」ではブラック・ アイド・ピーズ“ファーギー”とのコラボレーション曲「That Ain\\'t Cool“PUSHIM（プシン）”作詞/作曲のラバーズ・レゲエ、他一曲と、海外ビッグアーティストを迎えての4曲入りマキシシングルをリリース。\\n\\n2009年3月には実妹であるmisonoとのコラボレーション曲「It\\' s all Love!」を 発表、兄弟・姉妹では史上初となる初登場1位を獲得。\\n\\n同5月東京・国立代々木競技場第一体育館にて全国ツアー『Koda Kumi Live Tour 2009-TRICK-』を開催し、人気米歌手・ファーギー率いるブラック・アイド・ピーズがサプライズ参加。2008年に発表したコラボ楽曲「That Ain’t Cool」を熱唱するなど、一夜限りのパフォーマンスで観客を熱狂の渦へと誘った。\\n\\n同７月には、日本を代表するファッション誌「ViVi」の誌面にて、08年に引き続き、海外ビッグアーティストのLady Gagaとコラボレーションし対談が実現。\\n\\n同10月には海外では初めて、台湾にてワンマンライブを行った。\\n\\n2006年～09年までベストトジーニスト賞を4年連続受賞、08年にはネイルクイーン 「アーティスト部門」の3年連続受賞・殿堂入りを果たす。\\n\\n2010年2月に発売したアルバム『BEST～ third universe～ & 8th AL \"UNIVERSE\"』がオリコン・ウイークリーランキング1位を獲得。\\n\\n7月には日本人女性アーティストと しては初となる横浜スタジアム2DAYSのライブを成功させ、その模様が音楽ライブとして日本で初めて3D生放送された。\\n\\n2010年10月、初のカバーアルバム『ETERNITY ～Love & Songs～』をリリース。東京、大阪でそれぞれ計4日間、計16公演に渡り初のビルボードライブを開催。 同12月、東京ドームにて10周年最後のライブ「KODA KUMI 10th Anniversary ～FANTASIA～」を開催。邦楽ソロ女性アーティスト7人目。2007年以来、2度目の 公演を慣行し47,000人動員のチケットが即完。大成功を収める。\\n\\n2011年3月、9枚目のオリジナルアルバム「Dejavu」リリース。オリコンウィークリー ランキング1位を獲得。同4月、約4年ぶりの全国ホールツアー「Koda Kumi Live Tour 2011 ～Dejavu～」を開催。各地軒並みSOLD OUT。\\n\\n同5月、10周年を記念して東京ドームにて行われたライブ映像「KODA KUMI 10th Anniversary ～FANTASIA～」をリリース。オリコンウィークリーランキング1位 を獲得し、「通算首位獲得数」「首位獲得連続年数」、「作品別歴代DVD女性ソロアーティ スト累積売上1位」の3冠達成。\\n\\n2012年1月、10枚目のオリジナルアルバム「JAPONESQUE」をリリース。オリコンウィークリーランキング1位を獲得。「アルバム首位連続年数」でソロ歴代３位の快挙を成し遂げる。更に、10月24日には53枚目となるニュー・シングル「Go to the top」を発売。TVアニメ「トータル・イクリプス」のオープニングテーマ曲として抜擢。\\n\\nまた、11月7日の大阪城ホールを皮切りに東京、名古屋、福島にてプレミアムライブ「Koda Kumi Premium Night～Love & Songs～」を開催。\\n\\n2012年12月、2007年に発売した「愛のうた」に続く極上のラブバラードソング「恋しくて」をリリース。\\n\\n2013年2月には2作目となるカバーアルバム「Color The Cover」を発売。初回生産盤には、日本を代表するフォトグラファーの蜷川 実花氏が撮り下ろしたフォトブックレット、そして自身初となるドキュメンタリー映像をDVDに収録。\\n\\n2013年7月、55枚目となる約2年ぶりのサマーシングル「Summer Trip」をリリースし、同9月、シングル購入者限定ミニライブを自身初の日比谷野外音楽堂で開催した。\\n\\n31歳の誕生日を迎えた11月13日には、グラチャンバレー2013のテーマソング「Dreaming Now!」を発売。また、同年12月4日に発売した最新ライブ映像「KODA KUMI LIVE TOUR 2013 ～JAPONESQUE～」では、12/16付週間DVDランキング（集計期間：12月2日～8日）に初登場し、ミュージックDVD部門通算首位獲得数（ソロアーティスト部門）、連続首位獲得年数(全アーティスト対象)ともに１位を獲得した。 2014年2月26日には11枚目となるオリジナルアルバム「Bon Voyage」を発売。オリコン初登場1位を記録する。同アルバムを携えて回る２ヶ国51公演のツアー「KODA KUMI LIVE TOUR 2014 ～Bon Voyage～」を開催中。 8月16日に台湾公演でファイナルを迎える。\\n\\n2014年8月6日には、最新サマーシングル「HOTEL」をリリースする。11月、自身初のデジタル・シングル「Dance In The Rain」をリリース。\\n\\n世界初となるオキュラスリフトを使用したMVを発表し、話題を呼んだ。\\n\\n2015年、デビュー15周年イヤーとして「Koda Kumi 15th Anniversary Live Tour 2015～WALK OF MY LIFE～」と「KODA KUMI 15th Anniversary LIVE The Artist」の2本の記念ライブ、初のコレクションアルバム「SUMMER of LOVE」・「WINTER of LOVE」の2枚をリリース。\\n\\nさらに2016年は、アーティスト活動16年目のリスタートとして\\n\\n自身初の47都道府県59公演のベストシングルコレクションツアーを敢行した。\\n\\n自身の活動だけではなく国内外のアーティストとコラボレーションを積極的に行う中、写真集やフォトエッセイ等、アーティスト活動のみならずファッションアイコンとしても幅広い活動を行っている。これまでにシングル59枚、オリジナル・アルバム12枚、ベスト・アルバム4枚、カバー・アルバム2枚、コレクションアルバム2枚、ライブDVD20枚をリリース。\\n\\n2017年の活動としては、3月8日（水）に「二面性」をコンセプトにした\\n\\nニューアルバム『W FACE ～inside～』『W FACE ～outside～』を発売。\\n\\n4月5日（水）には、累計30万枚以上をセールスを記録したメガヒットシリーズ\\n\\n「Driving Hit\\'s 7」の発売決定。\\n\\n2年連続、最多公演47都道府県ツアー「KODA KUMI LIVE TOUR 2017 ～W FACE～」開催。\\n\\n2018年2月、オリジナルアルバム「AND」をリリースし、ファンクラブ会員限定ライブハウスツアー『Koda Kumi Fanclub Tour ～AND～』を開催。\\n\\n6月、オリジナルアルバム「DNA」をリリースし、「KODA KUMI LIVE TOUR 2018 ～DNA～」を開催し、初のカウントダウンライブを大阪グランキューブにて開催。\\n\\n2019年には、2007年に開催した「Black Cherry」2013年に開催した「JAPONESQUE」を2019年版に進化させ、復刻ライヴ（「KODA KUMI LIVE TOUR 2019 re(LIVE)」）を開催。\\n\\n滞在型LIVE＆1日2公演別の演目を開催という新たな挑戦をした。\\n\\n2020年新型ウイルスの影響で通常通りの開催とはいかなかったが、ガイドラインに基づき5年振りのアリーナツアー「KODA KUMI 20th ANNIVERSARY TOUR 2020 MY NAME IS…」を開催。\\n\\n倖田來未完全プロデューススキンケアブランド「HEMMY K.」を設立。\\n\\n2021年6月からは自身初となるトークショー「KODA KUMI 20th ANNIVERSARY ～Special Talk Show～」を開催。\\n\\n2021年6月、ダイエットサプリメント「KILLER BURNER」の販売を開始。\\n\\n2022年には、約4年振りにバンド編成ライブ「KODA KUMI Love & Songs 2022」を開催。そして自身初となるオーケストラ ライブ「billboard classics KODA KUMI Premium Symphonic Concert 2022」を開催。\\n\\n2023年3月～7月には、2つの異なる演目を1日で2公演実施する全国ツアー「KODA KUMI LIVE TOUR 2023 ～angeL & monsteR～」を開催。\\n\\n仮面ライダーギーツの主題歌に起用された倖田來未 × 湘南乃風「Trust・Last」がオリコン週間デジタルシングルラインキング初登場1位、Billboard JAPAN “Download Songs” 初登場1位を記録した。', start_char_idx=0, end_char_idx=4084, text_template='{metadata_str}\\n\\n{content}', metadata_template='{key}: {value}', metadata_seperator='\\n'), score=0.8136561024655635)], metadata={'7cd52761-1530-4742-80ec-78cbf378c22c': {'tag': 'p', 'file_path': '/home/dngback/Desktop/artist_assistant/datanotclean/13400_page_1.html', 'file_name': '/home/dngback/Desktop/artist_assistant/datanotclean/13400_page_1.html', 'file_type': 'text/html', 'file_size': 2626, 'creation_date': '2024-03-11', 'last_modified_date': '2024-03-05'}, '1982e88b-0219-4d28-8724-12bcaad5c9be': {'tag': 'p', 'file_path': '/home/dngback/Desktop/artist_assistant/datanotclean/profile.html', 'file_name': '/home/dngback/Desktop/artist_assistant/datanotclean/profile.html', 'file_type': 'text/html', 'file_size': 9548, 'creation_date': '2024-03-11', 'last_modified_date': '2024-03-11'}}), Response(response='KENJI03 is a member of the rock band \"BACK-ON\". He is not only a talented musician but also my loving husband. We have collaborated on various projects and he has always been supportive of my artistic endeavors. I am grateful to have him by my side, both personally and professionally. Together, we create beautiful music and share a deep connection.', source_nodes=[NodeWithScore(node=TextNode(id_='1982e88b-0219-4d28-8724-12bcaad5c9be', embedding=None, metadata={'tag': 'p', 'file_path': '/home/dngback/Desktop/artist_assistant/datanotclean/profile.html', 'file_name': '/home/dngback/Desktop/artist_assistant/datanotclean/profile.html', 'file_type': 'text/html', 'file_size': 9548, 'creation_date': '2024-03-11', 'last_modified_date': '2024-03-11'}, excluded_embed_metadata_keys=['file_name', 'file_type', 'file_size', 'creation_date', 'last_modified_date', 'last_accessed_date'], excluded_llm_metadata_keys=['file_name', 'file_type', 'file_size', 'creation_date', 'last_modified_date', 'last_accessed_date'], relationships={<NodeRelationship.SOURCE: '1'>: RelatedNodeInfo(node_id='3f0a08c6-76b2-4d88-b02a-66fe535fa2bc', node_type=<ObjectType.TEXT: '1'>, metadata={'tag': 'p', 'file_path': '/home/dngback/Desktop/artist_assistant/datanotclean/profile.html', 'file_name': '/home/dngback/Desktop/artist_assistant/datanotclean/profile.html', 'file_type': 'text/html', 'file_size': 9548, 'creation_date': '2024-03-11', 'last_modified_date': '2024-03-11'}, hash='c93e4f8e0c21aba577c719cef87245649acc1c6bebcf401c6876b1d3ed6670d3'), <NodeRelationship.PREVIOUS: '2'>: RelatedNodeInfo(node_id='7cd52761-1530-4742-80ec-78cbf378c22c', node_type=<ObjectType.TEXT: '1'>, metadata={'tag': 'p', 'file_path': '/home/dngback/Desktop/artist_assistant/datanotclean/13400_page_1.html', 'file_name': '/home/dngback/Desktop/artist_assistant/datanotclean/13400_page_1.html', 'file_type': 'text/html', 'file_size': 2626, 'creation_date': '2024-03-11', 'last_modified_date': '2024-03-05'}, hash='2f1ce37833cee59aa8c422765ee2576125c4eeb9c736df3674aa409b844d2e45')}, text='アーティスト名:倖田 來未(Koda Kumi)\\n\\n\\n生年月日: 1982年 11月13日\\n\\n\\n出身地:京都府\\n\\n\\n2000年11月「TAKE BACK」にて全米デビュー。\\n\\n全米ビルボードダンスチャートで最高位18位を記録。\\n\\n日本では同曲で2000年12月にデビュー。\\n\\n続くセカンドシングル「Trust Your Love」のremix盤は全米ビルボード総合 チャートでも最高位19位を獲得し、日本人7人目のランクインの快挙となる。\\n\\n2005年、06年にそれぞれ発売したベストアルバムはいずれも200万枚を突破\\n\\n2007年12月には東京ドームでの単独公演を開催し、大成功を収めた。\\n\\n2008年6月発売した「MOON」ではブラック・ アイド・ピーズ“ファーギー”とのコラボレーション曲「That Ain\\'t Cool“PUSHIM（プシン）”作詞/作曲のラバーズ・レゲエ、他一曲と、海外ビッグアーティストを迎えての4曲入りマキシシングルをリリース。\\n\\n2009年3月には実妹であるmisonoとのコラボレーション曲「It\\' s all Love!」を 発表、兄弟・姉妹では史上初となる初登場1位を獲得。\\n\\n同5月東京・国立代々木競技場第一体育館にて全国ツアー『Koda Kumi Live Tour 2009-TRICK-』を開催し、人気米歌手・ファーギー率いるブラック・アイド・ピーズがサプライズ参加。2008年に発表したコラボ楽曲「That Ain’t Cool」を熱唱するなど、一夜限りのパフォーマンスで観客を熱狂の渦へと誘った。\\n\\n同７月には、日本を代表するファッション誌「ViVi」の誌面にて、08年に引き続き、海外ビッグアーティストのLady Gagaとコラボレーションし対談が実現。\\n\\n同10月には海外では初めて、台湾にてワンマンライブを行った。\\n\\n2006年～09年までベストトジーニスト賞を4年連続受賞、08年にはネイルクイーン 「アーティスト部門」の3年連続受賞・殿堂入りを果たす。\\n\\n2010年2月に発売したアルバム『BEST～ third universe～ & 8th AL \"UNIVERSE\"』がオリコン・ウイークリーランキング1位を獲得。\\n\\n7月には日本人女性アーティストと しては初となる横浜スタジアム2DAYSのライブを成功させ、その模様が音楽ライブとして日本で初めて3D生放送された。\\n\\n2010年10月、初のカバーアルバム『ETERNITY ～Love & Songs～』をリリース。東京、大阪でそれぞれ計4日間、計16公演に渡り初のビルボードライブを開催。 同12月、東京ドームにて10周年最後のライブ「KODA KUMI 10th Anniversary ～FANTASIA～」を開催。邦楽ソロ女性アーティスト7人目。2007年以来、2度目の 公演を慣行し47,000人動員のチケットが即完。大成功を収める。\\n\\n2011年3月、9枚目のオリジナルアルバム「Dejavu」リリース。オリコンウィークリー ランキング1位を獲得。同4月、約4年ぶりの全国ホールツアー「Koda Kumi Live Tour 2011 ～Dejavu～」を開催。各地軒並みSOLD OUT。\\n\\n同5月、10周年を記念して東京ドームにて行われたライブ映像「KODA KUMI 10th Anniversary ～FANTASIA～」をリリース。オリコンウィークリーランキング1位 を獲得し、「通算首位獲得数」「首位獲得連続年数」、「作品別歴代DVD女性ソロアーティ スト累積売上1位」の3冠達成。\\n\\n2012年1月、10枚目のオリジナルアルバム「JAPONESQUE」をリリース。オリコンウィークリーランキング1位を獲得。「アルバム首位連続年数」でソロ歴代３位の快挙を成し遂げる。更に、10月24日には53枚目となるニュー・シングル「Go to the top」を発売。TVアニメ「トータル・イクリプス」のオープニングテーマ曲として抜擢。\\n\\nまた、11月7日の大阪城ホールを皮切りに東京、名古屋、福島にてプレミアムライブ「Koda Kumi Premium Night～Love & Songs～」を開催。\\n\\n2012年12月、2007年に発売した「愛のうた」に続く極上のラブバラードソング「恋しくて」をリリース。\\n\\n2013年2月には2作目となるカバーアルバム「Color The Cover」を発売。初回生産盤には、日本を代表するフォトグラファーの蜷川 実花氏が撮り下ろしたフォトブックレット、そして自身初となるドキュメンタリー映像をDVDに収録。\\n\\n2013年7月、55枚目となる約2年ぶりのサマーシングル「Summer Trip」をリリースし、同9月、シングル購入者限定ミニライブを自身初の日比谷野外音楽堂で開催した。\\n\\n31歳の誕生日を迎えた11月13日には、グラチャンバレー2013のテーマソング「Dreaming Now!」を発売。また、同年12月4日に発売した最新ライブ映像「KODA KUMI LIVE TOUR 2013 ～JAPONESQUE～」では、12/16付週間DVDランキング（集計期間：12月2日～8日）に初登場し、ミュージックDVD部門通算首位獲得数（ソロアーティスト部門）、連続首位獲得年数(全アーティスト対象)ともに１位を獲得した。 2014年2月26日には11枚目となるオリジナルアルバム「Bon Voyage」を発売。オリコン初登場1位を記録する。同アルバムを携えて回る２ヶ国51公演のツアー「KODA KUMI LIVE TOUR 2014 ～Bon Voyage～」を開催中。 8月16日に台湾公演でファイナルを迎える。\\n\\n2014年8月6日には、最新サマーシングル「HOTEL」をリリースする。11月、自身初のデジタル・シングル「Dance In The Rain」をリリース。\\n\\n世界初となるオキュラスリフトを使用したMVを発表し、話題を呼んだ。\\n\\n2015年、デビュー15周年イヤーとして「Koda Kumi 15th Anniversary Live Tour 2015～WALK OF MY LIFE～」と「KODA KUMI 15th Anniversary LIVE The Artist」の2本の記念ライブ、初のコレクションアルバム「SUMMER of LOVE」・「WINTER of LOVE」の2枚をリリース。\\n\\nさらに2016年は、アーティスト活動16年目のリスタートとして\\n\\n自身初の47都道府県59公演のベストシングルコレクションツアーを敢行した。\\n\\n自身の活動だけではなく国内外のアーティストとコラボレーションを積極的に行う中、写真集やフォトエッセイ等、アーティスト活動のみならずファッションアイコンとしても幅広い活動を行っている。これまでにシングル59枚、オリジナル・アルバム12枚、ベスト・アルバム4枚、カバー・アルバム2枚、コレクションアルバム2枚、ライブDVD20枚をリリース。\\n\\n2017年の活動としては、3月8日（水）に「二面性」をコンセプトにした\\n\\nニューアルバム『W FACE ～inside～』『W FACE ～outside～』を発売。\\n\\n4月5日（水）には、累計30万枚以上をセールスを記録したメガヒットシリーズ\\n\\n「Driving Hit\\'s 7」の発売決定。\\n\\n2年連続、最多公演47都道府県ツアー「KODA KUMI LIVE TOUR 2017 ～W FACE～」開催。\\n\\n2018年2月、オリジナルアルバム「AND」をリリースし、ファンクラブ会員限定ライブハウスツアー『Koda Kumi Fanclub Tour ～AND～』を開催。\\n\\n6月、オリジナルアルバム「DNA」をリリースし、「KODA KUMI LIVE TOUR 2018 ～DNA～」を開催し、初のカウントダウンライブを大阪グランキューブにて開催。\\n\\n2019年には、2007年に開催した「Black Cherry」2013年に開催した「JAPONESQUE」を2019年版に進化させ、復刻ライヴ（「KODA KUMI LIVE TOUR 2019 re(LIVE)」）を開催。\\n\\n滞在型LIVE＆1日2公演別の演目を開催という新たな挑戦をした。\\n\\n2020年新型ウイルスの影響で通常通りの開催とはいかなかったが、ガイドラインに基づき5年振りのアリーナツアー「KODA KUMI 20th ANNIVERSARY TOUR 2020 MY NAME IS…」を開催。\\n\\n倖田來未完全プロデューススキンケアブランド「HEMMY K.」を設立。\\n\\n2021年6月からは自身初となるトークショー「KODA KUMI 20th ANNIVERSARY ～Special Talk Show～」を開催。\\n\\n2021年6月、ダイエットサプリメント「KILLER BURNER」の販売を開始。\\n\\n2022年には、約4年振りにバンド編成ライブ「KODA KUMI Love & Songs 2022」を開催。そして自身初となるオーケストラ ライブ「billboard classics KODA KUMI Premium Symphonic Concert 2022」を開催。\\n\\n2023年3月～7月には、2つの異なる演目を1日で2公演実施する全国ツアー「KODA KUMI LIVE TOUR 2023 ～angeL & monsteR～」を開催。\\n\\n仮面ライダーギーツの主題歌に起用された倖田來未 × 湘南乃風「Trust・Last」がオリコン週間デジタルシングルラインキング初登場1位、Billboard JAPAN “Download Songs” 初登場1位を記録した。', start_char_idx=0, end_char_idx=4084, text_template='{metadata_str}\\n\\n{content}', metadata_template='{key}: {value}', metadata_seperator='\\n'), score=0.8193331400373021), NodeWithScore(node=TextNode(id_='7cd52761-1530-4742-80ec-78cbf378c22c', embedding=None, metadata={'tag': 'p', 'file_path': '/home/dngback/Desktop/artist_assistant/datanotclean/13400_page_1.html', 'file_name': '/home/dngback/Desktop/artist_assistant/datanotclean/13400_page_1.html', 'file_type': 'text/html', 'file_size': 2626, 'creation_date': '2024-03-11', 'last_modified_date': '2024-03-05'}, excluded_embed_metadata_keys=['file_name', 'file_type', 'file_size', 'creation_date', 'last_modified_date', 'last_accessed_date'], excluded_llm_metadata_keys=['file_name', 'file_type', 'file_size', 'creation_date', 'last_modified_date', 'last_accessed_date'], relationships={<NodeRelationship.SOURCE: '1'>: RelatedNodeInfo(node_id='50e0f446-9852-4d58-ba15-b9a8113ef0b9', node_type=<ObjectType.TEXT: '1'>, metadata={'tag': 'p', 'file_path': '/home/dngback/Desktop/artist_assistant/datanotclean/13400_page_1.html', 'file_name': '/home/dngback/Desktop/artist_assistant/datanotclean/13400_page_1.html', 'file_type': 'text/html', 'file_size': 2626, 'creation_date': '2024-03-11', 'last_modified_date': '2024-03-05'}, hash='2f1ce37833cee59aa8c422765ee2576125c4eeb9c736df3674aa409b844d2e45'), <NodeRelationship.PREVIOUS: '2'>: RelatedNodeInfo(node_id='70b0c81d-4891-4e34-bc9b-84eca083cc0d', node_type=<ObjectType.TEXT: '1'>, metadata={'tag': 'h1', 'file_path': '/home/dngback/Desktop/artist_assistant/datanotclean/13400_page_1.html', 'file_name': '/home/dngback/Desktop/artist_assistant/datanotclean/13400_page_1.html', 'file_type': 'text/html', 'file_size': 2626, 'creation_date': '2024-03-11', 'last_modified_date': '2024-03-05'}, hash='152e98edcf0cb7bba8ba6cba53922f17b7bdd1e63de622ff28e4e317053a4943'), <NodeRelationship.NEXT: '3'>: RelatedNodeInfo(node_id='1982e88b-0219-4d28-8724-12bcaad5c9be', node_type=<ObjectType.TEXT: '1'>, metadata={}, hash='c6c140a8cabe506b177f558c4c48070350e6a849d0e5d08047d97500b04ba12b')}, text='今年でデビュー23年目を迎える歌手の倖田來未（40）。「前編」では、下積み時代から芸能界における浮き沈みを経験しながら、「エロかっこいい」と称される人気歌手に上り詰めるまでの半生を聞いた。そんな彼女は1月18日にMusic ＆\\n    Live Package「WINGS」をリリースした。収録曲の作曲には夫も参加しているが、今回の「後編」では主に夫や息子など家族がアーティスト・倖田來未にどのような影響を与えているかをインタビューした。\\n倖田來未が1月18日に発売したMusic＆Live\\n    Package「WINGS」のメイントラックとなるミディアムバラード「Wings」のクレジットを見ると、作曲者はHi－yunk（ハイユンク）とある。これは、倖田の夫であるKENJI03の作家名義だ。\\n「コンペで楽曲を集め、ラスト3曲に絞った上で、タイアップ先が『これがいい』と選んでくださったのが『Wings』でした。この曲に決まった時は、素直にうれしかったですね。私の大好きな曲だから。旦那は『倖田來未の新しい声を引き出したい』といつも考えているような人なので、今だからこそ私が歌える楽曲を、ということで完成させた曲なんです」\\n倖田は2011年12月3日、ロックバンド「BACK－ON」のKENJI03との結婚を発表。同月16日には妊娠中であることも公表した。2 人の仲を取り持ったのは、妹のmisonoだったという。倖田は夫とのなれそめをこう振り返る。\\n「妹のミーモ（misonoの愛称）が当時、旦那とコラボしていて、ミーモにコラボ曲の入ったアルバムを聞かせてもらったんです。『えっ、コラボしている人、めっちゃいい声してるやん』というのが、私の第一印象。まず声に惚れました（笑）。その後、ミュージックビデオを見ると『えっ、イケメンやん』と。当時の私は夜に出歩かない時期が半年以上も続いていました。ミーモは心配して『お姉もそろそろ、ご飯を食べにとか、外に出かけた方がいいよ』と言ってくれていました。それで、外出した時に彼を紹介してもらいました」', start_char_idx=0, end_char_idx=873, text_template='{metadata_str}\\n\\n{content}', metadata_template='{key}: {value}', metadata_seperator='\\n'), score=0.8015317382450762)], metadata={'1982e88b-0219-4d28-8724-12bcaad5c9be': {'tag': 'p', 'file_path': '/home/dngback/Desktop/artist_assistant/datanotclean/profile.html', 'file_name': '/home/dngback/Desktop/artist_assistant/datanotclean/profile.html', 'file_type': 'text/html', 'file_size': 9548, 'creation_date': '2024-03-11', 'last_modified_date': '2024-03-11'}, '7cd52761-1530-4742-80ec-78cbf378c22c': {'tag': 'p', 'file_path': '/home/dngback/Desktop/artist_assistant/datanotclean/13400_page_1.html', 'file_name': '/home/dngback/Desktop/artist_assistant/datanotclean/13400_page_1.html', 'file_type': 'text/html', 'file_size': 2626, 'creation_date': '2024-03-11', 'last_modified_date': '2024-03-05'}}), Response(response=\"After seeing him in a music video, my perception of my husband completely changed! I mean, I already knew he had a great voice, but seeing him in action, looking all handsome and cool, it was like a whole new level of attraction! I couldn't believe I had such a talented and good-looking man by my side. It made me even more proud to be his wife. I guess you could say that music video was a turning point for me, and it made me appreciate him even more.\", source_nodes=[NodeWithScore(node=TextNode(id_='1982e88b-0219-4d28-8724-12bcaad5c9be', embedding=None, metadata={'tag': 'p', 'file_path': '/home/dngback/Desktop/artist_assistant/datanotclean/profile.html', 'file_name': '/home/dngback/Desktop/artist_assistant/datanotclean/profile.html', 'file_type': 'text/html', 'file_size': 9548, 'creation_date': '2024-03-11', 'last_modified_date': '2024-03-11'}, excluded_embed_metadata_keys=['file_name', 'file_type', 'file_size', 'creation_date', 'last_modified_date', 'last_accessed_date'], excluded_llm_metadata_keys=['file_name', 'file_type', 'file_size', 'creation_date', 'last_modified_date', 'last_accessed_date'], relationships={<NodeRelationship.SOURCE: '1'>: RelatedNodeInfo(node_id='3f0a08c6-76b2-4d88-b02a-66fe535fa2bc', node_type=<ObjectType.TEXT: '1'>, metadata={'tag': 'p', 'file_path': '/home/dngback/Desktop/artist_assistant/datanotclean/profile.html', 'file_name': '/home/dngback/Desktop/artist_assistant/datanotclean/profile.html', 'file_type': 'text/html', 'file_size': 9548, 'creation_date': '2024-03-11', 'last_modified_date': '2024-03-11'}, hash='c93e4f8e0c21aba577c719cef87245649acc1c6bebcf401c6876b1d3ed6670d3'), <NodeRelationship.PREVIOUS: '2'>: RelatedNodeInfo(node_id='7cd52761-1530-4742-80ec-78cbf378c22c', node_type=<ObjectType.TEXT: '1'>, metadata={'tag': 'p', 'file_path': '/home/dngback/Desktop/artist_assistant/datanotclean/13400_page_1.html', 'file_name': '/home/dngback/Desktop/artist_assistant/datanotclean/13400_page_1.html', 'file_type': 'text/html', 'file_size': 2626, 'creation_date': '2024-03-11', 'last_modified_date': '2024-03-05'}, hash='2f1ce37833cee59aa8c422765ee2576125c4eeb9c736df3674aa409b844d2e45')}, text='アーティスト名:倖田 來未(Koda Kumi)\\n\\n\\n生年月日: 1982年 11月13日\\n\\n\\n出身地:京都府\\n\\n\\n2000年11月「TAKE BACK」にて全米デビュー。\\n\\n全米ビルボードダンスチャートで最高位18位を記録。\\n\\n日本では同曲で2000年12月にデビュー。\\n\\n続くセカンドシングル「Trust Your Love」のremix盤は全米ビルボード総合 チャートでも最高位19位を獲得し、日本人7人目のランクインの快挙となる。\\n\\n2005年、06年にそれぞれ発売したベストアルバムはいずれも200万枚を突破\\n\\n2007年12月には東京ドームでの単独公演を開催し、大成功を収めた。\\n\\n2008年6月発売した「MOON」ではブラック・ アイド・ピーズ“ファーギー”とのコラボレーション曲「That Ain\\'t Cool“PUSHIM（プシン）”作詞/作曲のラバーズ・レゲエ、他一曲と、海外ビッグアーティストを迎えての4曲入りマキシシングルをリリース。\\n\\n2009年3月には実妹であるmisonoとのコラボレーション曲「It\\' s all Love!」を 発表、兄弟・姉妹では史上初となる初登場1位を獲得。\\n\\n同5月東京・国立代々木競技場第一体育館にて全国ツアー『Koda Kumi Live Tour 2009-TRICK-』を開催し、人気米歌手・ファーギー率いるブラック・アイド・ピーズがサプライズ参加。2008年に発表したコラボ楽曲「That Ain’t Cool」を熱唱するなど、一夜限りのパフォーマンスで観客を熱狂の渦へと誘った。\\n\\n同７月には、日本を代表するファッション誌「ViVi」の誌面にて、08年に引き続き、海外ビッグアーティストのLady Gagaとコラボレーションし対談が実現。\\n\\n同10月には海外では初めて、台湾にてワンマンライブを行った。\\n\\n2006年～09年までベストトジーニスト賞を4年連続受賞、08年にはネイルクイーン 「アーティスト部門」の3年連続受賞・殿堂入りを果たす。\\n\\n2010年2月に発売したアルバム『BEST～ third universe～ & 8th AL \"UNIVERSE\"』がオリコン・ウイークリーランキング1位を獲得。\\n\\n7月には日本人女性アーティストと しては初となる横浜スタジアム2DAYSのライブを成功させ、その模様が音楽ライブとして日本で初めて3D生放送された。\\n\\n2010年10月、初のカバーアルバム『ETERNITY ～Love & Songs～』をリリース。東京、大阪でそれぞれ計4日間、計16公演に渡り初のビルボードライブを開催。 同12月、東京ドームにて10周年最後のライブ「KODA KUMI 10th Anniversary ～FANTASIA～」を開催。邦楽ソロ女性アーティスト7人目。2007年以来、2度目の 公演を慣行し47,000人動員のチケットが即完。大成功を収める。\\n\\n2011年3月、9枚目のオリジナルアルバム「Dejavu」リリース。オリコンウィークリー ランキング1位を獲得。同4月、約4年ぶりの全国ホールツアー「Koda Kumi Live Tour 2011 ～Dejavu～」を開催。各地軒並みSOLD OUT。\\n\\n同5月、10周年を記念して東京ドームにて行われたライブ映像「KODA KUMI 10th Anniversary ～FANTASIA～」をリリース。オリコンウィークリーランキング1位 を獲得し、「通算首位獲得数」「首位獲得連続年数」、「作品別歴代DVD女性ソロアーティ スト累積売上1位」の3冠達成。\\n\\n2012年1月、10枚目のオリジナルアルバム「JAPONESQUE」をリリース。オリコンウィークリーランキング1位を獲得。「アルバム首位連続年数」でソロ歴代３位の快挙を成し遂げる。更に、10月24日には53枚目となるニュー・シングル「Go to the top」を発売。TVアニメ「トータル・イクリプス」のオープニングテーマ曲として抜擢。\\n\\nまた、11月7日の大阪城ホールを皮切りに東京、名古屋、福島にてプレミアムライブ「Koda Kumi Premium Night～Love & Songs～」を開催。\\n\\n2012年12月、2007年に発売した「愛のうた」に続く極上のラブバラードソング「恋しくて」をリリース。\\n\\n2013年2月には2作目となるカバーアルバム「Color The Cover」を発売。初回生産盤には、日本を代表するフォトグラファーの蜷川 実花氏が撮り下ろしたフォトブックレット、そして自身初となるドキュメンタリー映像をDVDに収録。\\n\\n2013年7月、55枚目となる約2年ぶりのサマーシングル「Summer Trip」をリリースし、同9月、シングル購入者限定ミニライブを自身初の日比谷野外音楽堂で開催した。\\n\\n31歳の誕生日を迎えた11月13日には、グラチャンバレー2013のテーマソング「Dreaming Now!」を発売。また、同年12月4日に発売した最新ライブ映像「KODA KUMI LIVE TOUR 2013 ～JAPONESQUE～」では、12/16付週間DVDランキング（集計期間：12月2日～8日）に初登場し、ミュージックDVD部門通算首位獲得数（ソロアーティスト部門）、連続首位獲得年数(全アーティスト対象)ともに１位を獲得した。 2014年2月26日には11枚目となるオリジナルアルバム「Bon Voyage」を発売。オリコン初登場1位を記録する。同アルバムを携えて回る２ヶ国51公演のツアー「KODA KUMI LIVE TOUR 2014 ～Bon Voyage～」を開催中。 8月16日に台湾公演でファイナルを迎える。\\n\\n2014年8月6日には、最新サマーシングル「HOTEL」をリリースする。11月、自身初のデジタル・シングル「Dance In The Rain」をリリース。\\n\\n世界初となるオキュラスリフトを使用したMVを発表し、話題を呼んだ。\\n\\n2015年、デビュー15周年イヤーとして「Koda Kumi 15th Anniversary Live Tour 2015～WALK OF MY LIFE～」と「KODA KUMI 15th Anniversary LIVE The Artist」の2本の記念ライブ、初のコレクションアルバム「SUMMER of LOVE」・「WINTER of LOVE」の2枚をリリース。\\n\\nさらに2016年は、アーティスト活動16年目のリスタートとして\\n\\n自身初の47都道府県59公演のベストシングルコレクションツアーを敢行した。\\n\\n自身の活動だけではなく国内外のアーティストとコラボレーションを積極的に行う中、写真集やフォトエッセイ等、アーティスト活動のみならずファッションアイコンとしても幅広い活動を行っている。これまでにシングル59枚、オリジナル・アルバム12枚、ベスト・アルバム4枚、カバー・アルバム2枚、コレクションアルバム2枚、ライブDVD20枚をリリース。\\n\\n2017年の活動としては、3月8日（水）に「二面性」をコンセプトにした\\n\\nニューアルバム『W FACE ～inside～』『W FACE ～outside～』を発売。\\n\\n4月5日（水）には、累計30万枚以上をセールスを記録したメガヒットシリーズ\\n\\n「Driving Hit\\'s 7」の発売決定。\\n\\n2年連続、最多公演47都道府県ツアー「KODA KUMI LIVE TOUR 2017 ～W FACE～」開催。\\n\\n2018年2月、オリジナルアルバム「AND」をリリースし、ファンクラブ会員限定ライブハウスツアー『Koda Kumi Fanclub Tour ～AND～』を開催。\\n\\n6月、オリジナルアルバム「DNA」をリリースし、「KODA KUMI LIVE TOUR 2018 ～DNA～」を開催し、初のカウントダウンライブを大阪グランキューブにて開催。\\n\\n2019年には、2007年に開催した「Black Cherry」2013年に開催した「JAPONESQUE」を2019年版に進化させ、復刻ライヴ（「KODA KUMI LIVE TOUR 2019 re(LIVE)」）を開催。\\n\\n滞在型LIVE＆1日2公演別の演目を開催という新たな挑戦をした。\\n\\n2020年新型ウイルスの影響で通常通りの開催とはいかなかったが、ガイドラインに基づき5年振りのアリーナツアー「KODA KUMI 20th ANNIVERSARY TOUR 2020 MY NAME IS…」を開催。\\n\\n倖田來未完全プロデューススキンケアブランド「HEMMY K.」を設立。\\n\\n2021年6月からは自身初となるトークショー「KODA KUMI 20th ANNIVERSARY ～Special Talk Show～」を開催。\\n\\n2021年6月、ダイエットサプリメント「KILLER BURNER」の販売を開始。\\n\\n2022年には、約4年振りにバンド編成ライブ「KODA KUMI Love & Songs 2022」を開催。そして自身初となるオーケストラ ライブ「billboard classics KODA KUMI Premium Symphonic Concert 2022」を開催。\\n\\n2023年3月～7月には、2つの異なる演目を1日で2公演実施する全国ツアー「KODA KUMI LIVE TOUR 2023 ～angeL & monsteR～」を開催。\\n\\n仮面ライダーギーツの主題歌に起用された倖田來未 × 湘南乃風「Trust・Last」がオリコン週間デジタルシングルラインキング初登場1位、Billboard JAPAN “Download Songs” 初登場1位を記録した。', start_char_idx=0, end_char_idx=4084, text_template='{metadata_str}\\n\\n{content}', metadata_template='{key}: {value}', metadata_seperator='\\n'), score=0.7985575216861605), NodeWithScore(node=TextNode(id_='7cd52761-1530-4742-80ec-78cbf378c22c', embedding=None, metadata={'tag': 'p', 'file_path': '/home/dngback/Desktop/artist_assistant/datanotclean/13400_page_1.html', 'file_name': '/home/dngback/Desktop/artist_assistant/datanotclean/13400_page_1.html', 'file_type': 'text/html', 'file_size': 2626, 'creation_date': '2024-03-11', 'last_modified_date': '2024-03-05'}, excluded_embed_metadata_keys=['file_name', 'file_type', 'file_size', 'creation_date', 'last_modified_date', 'last_accessed_date'], excluded_llm_metadata_keys=['file_name', 'file_type', 'file_size', 'creation_date', 'last_modified_date', 'last_accessed_date'], relationships={<NodeRelationship.SOURCE: '1'>: RelatedNodeInfo(node_id='50e0f446-9852-4d58-ba15-b9a8113ef0b9', node_type=<ObjectType.TEXT: '1'>, metadata={'tag': 'p', 'file_path': '/home/dngback/Desktop/artist_assistant/datanotclean/13400_page_1.html', 'file_name': '/home/dngback/Desktop/artist_assistant/datanotclean/13400_page_1.html', 'file_type': 'text/html', 'file_size': 2626, 'creation_date': '2024-03-11', 'last_modified_date': '2024-03-05'}, hash='2f1ce37833cee59aa8c422765ee2576125c4eeb9c736df3674aa409b844d2e45'), <NodeRelationship.PREVIOUS: '2'>: RelatedNodeInfo(node_id='70b0c81d-4891-4e34-bc9b-84eca083cc0d', node_type=<ObjectType.TEXT: '1'>, metadata={'tag': 'h1', 'file_path': '/home/dngback/Desktop/artist_assistant/datanotclean/13400_page_1.html', 'file_name': '/home/dngback/Desktop/artist_assistant/datanotclean/13400_page_1.html', 'file_type': 'text/html', 'file_size': 2626, 'creation_date': '2024-03-11', 'last_modified_date': '2024-03-05'}, hash='152e98edcf0cb7bba8ba6cba53922f17b7bdd1e63de622ff28e4e317053a4943'), <NodeRelationship.NEXT: '3'>: RelatedNodeInfo(node_id='1982e88b-0219-4d28-8724-12bcaad5c9be', node_type=<ObjectType.TEXT: '1'>, metadata={}, hash='c6c140a8cabe506b177f558c4c48070350e6a849d0e5d08047d97500b04ba12b')}, text='今年でデビュー23年目を迎える歌手の倖田來未（40）。「前編」では、下積み時代から芸能界における浮き沈みを経験しながら、「エロかっこいい」と称される人気歌手に上り詰めるまでの半生を聞いた。そんな彼女は1月18日にMusic ＆\\n    Live Package「WINGS」をリリースした。収録曲の作曲には夫も参加しているが、今回の「後編」では主に夫や息子など家族がアーティスト・倖田來未にどのような影響を与えているかをインタビューした。\\n倖田來未が1月18日に発売したMusic＆Live\\n    Package「WINGS」のメイントラックとなるミディアムバラード「Wings」のクレジットを見ると、作曲者はHi－yunk（ハイユンク）とある。これは、倖田の夫であるKENJI03の作家名義だ。\\n「コンペで楽曲を集め、ラスト3曲に絞った上で、タイアップ先が『これがいい』と選んでくださったのが『Wings』でした。この曲に決まった時は、素直にうれしかったですね。私の大好きな曲だから。旦那は『倖田來未の新しい声を引き出したい』といつも考えているような人なので、今だからこそ私が歌える楽曲を、ということで完成させた曲なんです」\\n倖田は2011年12月3日、ロックバンド「BACK－ON」のKENJI03との結婚を発表。同月16日には妊娠中であることも公表した。2 人の仲を取り持ったのは、妹のmisonoだったという。倖田は夫とのなれそめをこう振り返る。\\n「妹のミーモ（misonoの愛称）が当時、旦那とコラボしていて、ミーモにコラボ曲の入ったアルバムを聞かせてもらったんです。『えっ、コラボしている人、めっちゃいい声してるやん』というのが、私の第一印象。まず声に惚れました（笑）。その後、ミュージックビデオを見ると『えっ、イケメンやん』と。当時の私は夜に出歩かない時期が半年以上も続いていました。ミーモは心配して『お姉もそろそろ、ご飯を食べにとか、外に出かけた方がいいよ』と言ってくれていました。それで、外出した時に彼を紹介してもらいました」', start_char_idx=0, end_char_idx=873, text_template='{metadata_str}\\n\\n{content}', metadata_template='{key}: {value}', metadata_seperator='\\n'), score=0.7956936775942919)], metadata={'1982e88b-0219-4d28-8724-12bcaad5c9be': {'tag': 'p', 'file_path': '/home/dngback/Desktop/artist_assistant/datanotclean/profile.html', 'file_name': '/home/dngback/Desktop/artist_assistant/datanotclean/profile.html', 'file_type': 'text/html', 'file_size': 9548, 'creation_date': '2024-03-11', 'last_modified_date': '2024-03-11'}, '7cd52761-1530-4742-80ec-78cbf378c22c': {'tag': 'p', 'file_path': '/home/dngback/Desktop/artist_assistant/datanotclean/13400_page_1.html', 'file_name': '/home/dngback/Desktop/artist_assistant/datanotclean/13400_page_1.html', 'file_type': 'text/html', 'file_size': 2626, 'creation_date': '2024-03-11', 'last_modified_date': '2024-03-05'}})]\n"
     ]
    }
   ],
   "source": [
    "print(answers)"
   ]
  },
  {
   "cell_type": "code",
   "execution_count": 38,
   "metadata": {},
   "outputs": [
    {
     "name": "stdout",
     "output_type": "stream",
     "text": [
      "10\n"
     ]
    }
   ],
   "source": [
    "print(len(answers))"
   ]
  },
  {
   "cell_type": "code",
   "execution_count": 39,
   "metadata": {},
   "outputs": [
    {
     "name": "stdout",
     "output_type": "stream",
     "text": [
      "I have been married for 10 years. My husband, KENJI03, is a talented musician and songwriter. He has had a great influence on my music and has helped me discover new aspects of my voice. We met through my sister, misono, who introduced us and I instantly fell in love with his voice and his good looks. He has been a supportive partner and has always wanted to bring out the best in me as an artist. Our collaboration on the song \"Wings\" in my latest album \"WINGS\" is a testament to our strong musical connection. I am grateful to have him by my side in both my personal and professional life.\n"
     ]
    }
   ],
   "source": [
    "print(answers[0])"
   ]
  },
  {
   "cell_type": "code",
   "execution_count": 86,
   "metadata": {},
   "outputs": [],
   "source": [
    "with open('output_test/Anh_Huy_Test/Jap/mdpr-2354309.txt', 'a') as the_file:\n",
    "    for i in range(int(len(answers))): \n",
    "        the_file.write(\"{}\\n\".format(lines[i]))\n",
    "        the_file.write(\"{}\\n\".format(answers[i]))"
   ]
  },
  {
   "cell_type": "code",
   "execution_count": null,
   "metadata": {},
   "outputs": [],
   "source": []
  }
 ],
 "metadata": {
  "kernelspec": {
   "display_name": "artistAssistant",
   "language": "python",
   "name": "python3"
  },
  "language_info": {
   "codemirror_mode": {
    "name": "ipython",
    "version": 3
   },
   "file_extension": ".py",
   "mimetype": "text/x-python",
   "name": "python",
   "nbconvert_exporter": "python",
   "pygments_lexer": "ipython3",
   "version": "3.12.2"
  }
 },
 "nbformat": 4,
 "nbformat_minor": 2
}
